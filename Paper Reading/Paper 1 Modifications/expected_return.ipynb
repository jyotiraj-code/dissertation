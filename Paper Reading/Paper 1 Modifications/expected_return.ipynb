{
 "cells": [
  {
   "cell_type": "code",
   "execution_count": 3,
   "metadata": {},
   "outputs": [],
   "source": [
    "#Installations\n",
    "!pip install kaggle --quiet\n",
    "!pip install pandas --quiet"
   ]
  },
  {
   "cell_type": "code",
   "execution_count": 4,
   "metadata": {},
   "outputs": [
    {
     "name": "stdout",
     "output_type": "stream",
     "text": [
      "Dataset URL: https://www.kaggle.com/datasets/soumendraprasad/nifty50-stocks\n"
     ]
    }
   ],
   "source": [
    "import kaggle\n",
    "kaggle.api.authenticate()\n",
    "kaggle.api.dataset_download_files(\"soumendraprasad/nifty50-stocks\", unzip=True, path = '.')"
   ]
  },
  {
   "cell_type": "markdown",
   "metadata": {},
   "source": [
    "Finding the expectation value for the required stocks:"
   ]
  },
  {
   "cell_type": "code",
   "execution_count": 6,
   "metadata": {},
   "outputs": [
    {
     "name": "stdout",
     "output_type": "stream",
     "text": [
      "Looking for file: C:\\\\Users\\\\jrnat\\\\Documents\\\\GitHub\\\\dissertation-new\\\\dissertation\\\\Paper Reading\\\\Paper 1 Modifications\\\\NIFTY50_Stocks\\\\NIFTY50\\TCS.NS.csv\n",
      "Looking for file: C:\\\\Users\\\\jrnat\\\\Documents\\\\GitHub\\\\dissertation-new\\\\dissertation\\\\Paper Reading\\\\Paper 1 Modifications\\\\NIFTY50_Stocks\\\\NIFTY50\\LT.NS.csv\n",
      "Looking for file: C:\\\\Users\\\\jrnat\\\\Documents\\\\GitHub\\\\dissertation-new\\\\dissertation\\\\Paper Reading\\\\Paper 1 Modifications\\\\NIFTY50_Stocks\\\\NIFTY50\\SBIN.NS.csv\n",
      "TCS     0.155957\n",
      "LT      0.214459\n",
      "SBIN    0.257062\n",
      "Name: mkt, dtype: float64\n"
     ]
    }
   ],
   "source": [
    "import mv\n",
    "\n",
    "if __name__ == \"__main__\":\n",
    "    stocks = [\"TCS\", \"LT\", \"SBIN\"]\n",
    "    start_date = \"2020-01-01\"\n",
    "    end_date = \"2023-02-01\"\n",
    "    \n",
    "    # Set the correct path for your data_dir\n",
    "    data_dir = r\"C:\\\\Users\\\\jrnat\\\\Documents\\\\GitHub\\\\dissertation-new\\\\dissertation\\\\Paper Reading\\\\Paper 1 Modifications\\\\NIFTY50_Stocks\\\\NIFTY50\"\n",
    "    \n",
    "    # Pass the correct data_dir to the MeanVarianceOptimization class\n",
    "    mvo = mv.MeanVarianceOptimization(stocks, start_date, end_date, data_dir=data_dir)\n",
    "    er = mvo.expected_returns()\n",
    "    print(er)\n"
   ]
  },
  {
   "cell_type": "code",
   "execution_count": null,
   "metadata": {},
   "outputs": [],
   "source": []
  }
 ],
 "metadata": {
  "kernelspec": {
   "display_name": "base",
   "language": "python",
   "name": "python3"
  },
  "language_info": {
   "codemirror_mode": {
    "name": "ipython",
    "version": 3
   },
   "file_extension": ".py",
   "mimetype": "text/x-python",
   "name": "python",
   "nbconvert_exporter": "python",
   "pygments_lexer": "ipython3",
   "version": "3.12.3"
  }
 },
 "nbformat": 4,
 "nbformat_minor": 2
}
