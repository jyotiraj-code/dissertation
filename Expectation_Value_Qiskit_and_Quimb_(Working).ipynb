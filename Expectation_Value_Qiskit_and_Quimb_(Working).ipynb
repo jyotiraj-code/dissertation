{
  "nbformat": 4,
  "nbformat_minor": 0,
  "metadata": {
    "colab": {
      "provenance": [],
      "collapsed_sections": [
        "xEEMyjoc4Xd1",
        "UwWAXV0GdOFX",
        "kFEp8n6LIOR3"
      ],
      "authorship_tag": "ABX9TyNYQGdxnYoh7HzqIegM70q8",
      "include_colab_link": true
    },
    "kernelspec": {
      "name": "python3",
      "display_name": "Python 3"
    },
    "language_info": {
      "name": "python"
    }
  },
  "cells": [
    {
      "cell_type": "markdown",
      "metadata": {
        "id": "view-in-github",
        "colab_type": "text"
      },
      "source": [
        "<a href=\"https://colab.research.google.com/github/jyotiraj-code/dissertation/blob/main/Expectation_Value_Qiskit_and_Quimb_(Working).ipynb\" target=\"_parent\"><img src=\"https://colab.research.google.com/assets/colab-badge.svg\" alt=\"Open In Colab\"/></a>"
      ]
    },
    {
      "cell_type": "code",
      "execution_count": 2,
      "metadata": {
        "colab": {
          "base_uri": "https://localhost:8080/"
        },
        "id": "cs1Y-KnzoZaa",
        "outputId": "daaa9c2b-1175-4a41-eaec-d64e54589421"
      },
      "outputs": [
        {
          "output_type": "stream",
          "name": "stdout",
          "text": [
            "\u001b[2K   \u001b[90m━━━━━━━━━━━━━━━━━━━━━━━━━━━━━━━━━━━━━━━━\u001b[0m \u001b[32m4.8/4.8 MB\u001b[0m \u001b[31m28.0 MB/s\u001b[0m eta \u001b[36m0:00:00\u001b[0m\n",
            "\u001b[2K   \u001b[90m━━━━━━━━━━━━━━━━━━━━━━━━━━━━━━━━━━━━━━━━\u001b[0m \u001b[32m116.3/116.3 kB\u001b[0m \u001b[31m4.9 MB/s\u001b[0m eta \u001b[36m0:00:00\u001b[0m\n",
            "\u001b[2K   \u001b[90m━━━━━━━━━━━━━━━━━━━━━━━━━━━━━━━━━━━━━━━━\u001b[0m \u001b[32m2.0/2.0 MB\u001b[0m \u001b[31m27.2 MB/s\u001b[0m eta \u001b[36m0:00:00\u001b[0m\n",
            "\u001b[2K   \u001b[90m━━━━━━━━━━━━━━━━━━━━━━━━━━━━━━━━━━━━━━━━\u001b[0m \u001b[32m49.7/49.7 kB\u001b[0m \u001b[31m2.0 MB/s\u001b[0m eta \u001b[36m0:00:00\u001b[0m\n",
            "\u001b[2K   \u001b[90m━━━━━━━━━━━━━━━━━━━━━━━━━━━━━━━━━━━━━━━━\u001b[0m \u001b[32m39.4/39.4 MB\u001b[0m \u001b[31m12.2 MB/s\u001b[0m eta \u001b[36m0:00:00\u001b[0m\n",
            "\u001b[2K   \u001b[90m━━━━━━━━━━━━━━━━━━━━━━━━━━━━━━━━━━━━━━━━\u001b[0m \u001b[32m108.5/108.5 kB\u001b[0m \u001b[31m5.8 MB/s\u001b[0m eta \u001b[36m0:00:00\u001b[0m\n",
            "\u001b[?25h"
          ]
        }
      ],
      "source": [
        "!pip install qiskit --quiet"
      ]
    },
    {
      "cell_type": "code",
      "source": [
        "!pip install qiskit_aer --quiet\n",
        "!pip install qiskit_ibm_runtime --quiet"
      ],
      "metadata": {
        "colab": {
          "base_uri": "https://localhost:8080/"
        },
        "id": "EMav14PZ5fVF",
        "outputId": "df32aa7b-f4c8-42b4-f13c-c54cff5f6634"
      },
      "execution_count": 3,
      "outputs": [
        {
          "output_type": "stream",
          "name": "stdout",
          "text": [
            "\u001b[2K   \u001b[90m━━━━━━━━━━━━━━━━━━━━━━━━━━━━━━━━━━━━━━━━\u001b[0m \u001b[32m12.3/12.3 MB\u001b[0m \u001b[31m24.4 MB/s\u001b[0m eta \u001b[36m0:00:00\u001b[0m\n",
            "\u001b[2K   \u001b[90m━━━━━━━━━━━━━━━━━━━━━━━━━━━━━━━━━━━━━━━━\u001b[0m \u001b[32m2.9/2.9 MB\u001b[0m \u001b[31m15.4 MB/s\u001b[0m eta \u001b[36m0:00:00\u001b[0m\n",
            "\u001b[2K   \u001b[90m━━━━━━━━━━━━━━━━━━━━━━━━━━━━━━━━━━━━━━━━\u001b[0m \u001b[32m343.3/343.3 kB\u001b[0m \u001b[31m10.6 MB/s\u001b[0m eta \u001b[36m0:00:00\u001b[0m\n",
            "\u001b[2K   \u001b[90m━━━━━━━━━━━━━━━━━━━━━━━━━━━━━━━━━━━━━━━━\u001b[0m \u001b[32m60.7/60.7 kB\u001b[0m \u001b[31m3.3 MB/s\u001b[0m eta \u001b[36m0:00:00\u001b[0m\n",
            "\u001b[2K   \u001b[90m━━━━━━━━━━━━━━━━━━━━━━━━━━━━━━━━━━━━━━━━\u001b[0m \u001b[32m121.4/121.4 kB\u001b[0m \u001b[31m6.5 MB/s\u001b[0m eta \u001b[36m0:00:00\u001b[0m\n",
            "\u001b[2K   \u001b[90m━━━━━━━━━━━━━━━━━━━━━━━━━━━━━━━━━━━━━━━━\u001b[0m \u001b[32m130.5/130.5 kB\u001b[0m \u001b[31m3.7 MB/s\u001b[0m eta \u001b[36m0:00:00\u001b[0m\n",
            "\u001b[?25h"
          ]
        }
      ]
    },
    {
      "cell_type": "markdown",
      "source": [
        "#Generate the num_qubits and the random_state"
      ],
      "metadata": {
        "id": "pWHYmqyPmPtg"
      }
    },
    {
      "cell_type": "code",
      "source": [
        "import random\n",
        "\n",
        "def generate_qubits_number():\n",
        "    return random.choice([i for i in range(1,15) if i % 2 == 0])\n",
        "\n",
        "num_qubits = generate_qubits_number()\n",
        "print(f\"The generated even number is: {num_qubits}\")\n"
      ],
      "metadata": {
        "colab": {
          "base_uri": "https://localhost:8080/"
        },
        "id": "ChejH8IzmZEZ",
        "outputId": "a796bbd6-37e3-4eb5-d46f-bd45cb0af3de"
      },
      "execution_count": 5,
      "outputs": [
        {
          "output_type": "stream",
          "name": "stdout",
          "text": [
            "The generated even number is: 8\n"
          ]
        }
      ]
    },
    {
      "cell_type": "code",
      "source": [
        "def generate_random_binary(length):\n",
        "    return ''.join(random.choice(['0', '1']) for _ in range(length))\n",
        "\n",
        "state_length = num_qubits\n",
        "random_state = generate_random_binary(state_length)\n",
        "print(f\"The generated random state is: {random_state}\")\n",
        "print()\n"
      ],
      "metadata": {
        "colab": {
          "base_uri": "https://localhost:8080/"
        },
        "id": "IZw-QulnmZkb",
        "outputId": "738f3105-73db-44f1-cb74-d826d9e1cafc"
      },
      "execution_count": 6,
      "outputs": [
        {
          "output_type": "stream",
          "name": "stdout",
          "text": [
            "The generated random state is: 01001010\n",
            "\n"
          ]
        }
      ]
    },
    {
      "cell_type": "markdown",
      "source": [
        "# Qiskit"
      ],
      "metadata": {
        "id": "q7D7-yr_lk24"
      }
    },
    {
      "cell_type": "markdown",
      "source": [
        "### Doing the QFT for the range of all the qubits"
      ],
      "metadata": {
        "id": "alHpAHyYok4-"
      }
    },
    {
      "cell_type": "code",
      "source": [
        "import qiskit\n",
        "from qiskit import QuantumCircuit, QuantumRegister, ClassicalRegister, transpile\n",
        "from qiskit_aer import Aer\n",
        "from math import pi"
      ],
      "metadata": {
        "id": "vdC7bB0J45ZY"
      },
      "execution_count": 7,
      "outputs": []
    },
    {
      "cell_type": "code",
      "source": [
        "def qft_rotations(circuit, n):\n",
        "    \"\"\"Performs qft on the first n qubits in circuit (without swaps)\"\"\"\n",
        "    if n == 0:\n",
        "        return circuit\n",
        "    n -= 1\n",
        "    circuit.h(n)\n",
        "    for qubit in range(n):\n",
        "        circuit.cp(pi/2**(n-qubit), qubit, n)\n",
        "    # At the end of our function, we call the same function again on\n",
        "    # the next qubits (we reduced n by one earlier in the function)\n",
        "    qft_rotations(circuit, n)\n",
        "\n",
        "\n",
        "def swap_registers(circuit, n):\n",
        "    for qubit in range(n//2):\n",
        "        circuit.swap(qubit, n-qubit-1)\n",
        "    return circuit\n",
        "\n",
        "def qft(circuit, n):\n",
        "    \"\"\"QFT on the first n qubits in circuit\"\"\"\n",
        "    qft_rotations(circuit, n)\n",
        "    swap_registers(circuit, n)\n",
        "    return circuit\n",
        "\n",
        "def qft_rotations_reverse(circuit, n):\n",
        "    \"\"\"Performs qft on the first n qubits in reverse order (without swaps)\"\"\"\n",
        "    if n == 0:\n",
        "        return circuit\n",
        "    n -= 1\n",
        "    # Apply controlled phase gates first in reverse order\n",
        "    for qubit in range(n):\n",
        "        circuit.cp(pi/2**(n-qubit), qubit, n)\n",
        "    # Apply the Hadamard gate after the controlled phase gates\n",
        "    circuit.h(n)\n",
        "    # Call the function recursively on the next qubits\n",
        "    qft_rotations_reverse(circuit, n)\n",
        "\n",
        "def swap_registers(circuit, n):\n",
        "    for qubit in range(n//2):\n",
        "        circuit.swap(qubit, n-qubit-1)\n",
        "    return circuit\n",
        "\n",
        "def qft_reverse(circuit, n):\n",
        "    \"\"\"QFT on the first n qubits in reverse order\"\"\"\n",
        "    qft_rotations_reverse(circuit, n)\n",
        "    swap_registers(circuit, n)\n",
        "    return circuit\n"
      ],
      "metadata": {
        "id": "KEga5Tm6ojk2"
      },
      "execution_count": 8,
      "outputs": []
    },
    {
      "cell_type": "markdown",
      "source": [
        "### Getting State, Encoding, Applying Direct QFT, define Estimators and transpile conditions, doing expectation value calculation"
      ],
      "metadata": {
        "id": "xEEMyjoc4Xd1"
      }
    },
    {
      "cell_type": "code",
      "source": [
        "from qiskit.circuit.library import QFT\n",
        "# Number of qubits and the initial state\n",
        "qubit_no = num_qubits  # This can be changed based on tensor network results\n",
        "state = random_state\n",
        "\n",
        "# Create the quantum circuit\n",
        "qc = QuantumCircuit(qubit_no)\n",
        "\n",
        "# Apply the X gate where the state has '1'\n",
        "for i, number in enumerate(state):\n",
        "    if number == '1':\n",
        "        qc.x(i)\n",
        "# print(qc.draw())\n",
        "\n",
        "\n",
        "#APPLY QFT (TO CHECK AGAIN THIS PORTION)\n",
        "qft(qc, qubit_no)\n",
        "# print(qc.draw())"
      ],
      "metadata": {
        "colab": {
          "base_uri": "https://localhost:8080/"
        },
        "id": "LBmpf75F4iq1",
        "outputId": "30dfa266-9070-437e-c4e1-7421cb39c666"
      },
      "execution_count": 81,
      "outputs": [
        {
          "output_type": "execute_result",
          "data": {
            "text/plain": [
              "<qiskit.circuit.quantumcircuit.QuantumCircuit at 0x7c395afc4880>"
            ]
          },
          "metadata": {},
          "execution_count": 81
        }
      ]
    },
    {
      "cell_type": "markdown",
      "source": [
        "## The Estimators (Currently Not Working)"
      ],
      "metadata": {
        "id": "dg6fdCL8S9af"
      }
    },
    {
      "cell_type": "code",
      "source": [
        "from qiskit_ibm_runtime import EstimatorV2 as Estimator\n",
        "from qiskit_ibm_runtime.fake_provider import FakeManilaV2\n",
        "\n",
        "# Run the sampler job locally using FakeManilaV2\n",
        "fake_manila = FakeManilaV2()\n",
        "\n",
        "# You can use a fixed seed to get fixed results.\n",
        "options = {\"simulator\": {\"seed_simulator\": 42}}\n",
        "\n",
        "# Define Estimator\n",
        "estimator = Estimator(mode=fake_manila, options=options)"
      ],
      "metadata": {
        "id": "GID7epmtKEAU"
      },
      "execution_count": 34,
      "outputs": []
    },
    {
      "cell_type": "markdown",
      "source": [
        "Checking the expectation value regarding the circuit"
      ],
      "metadata": {
        "id": "kzhYspgLTuAG"
      }
    },
    {
      "cell_type": "code",
      "source": [
        "from qiskit.quantum_info.operators import Operator, Pauli, SparsePauliOp\n",
        "op = Pauli(\"ZZ\"*)\n",
        "job = estimator.run([(qc, op)])\n",
        "result = job.result()\n",
        "print(result)"
      ],
      "metadata": {
        "colab": {
          "base_uri": "https://localhost:8080/",
          "height": 373
        },
        "id": "6feXCG4DNdGT",
        "outputId": "fb1afe03-afec-47f5-bca7-6482ba9c9d34"
      },
      "execution_count": 66,
      "outputs": [
        {
          "output_type": "error",
          "ename": "IBMInputValueError",
          "evalue": "'The circuit has 8 qubits but the target system requires 5 qubits. Circuits that do not match the target hardware definition are no longer supported after March 4, 2024. See the transpilation documentation (https://docs.quantum.ibm.com/guides/transpile) for instructions to transform circuits and the primitive examples (https://docs.quantum.ibm.com/guides/primitives-examples) to see this coupled with operator transformations.'",
          "traceback": [
            "\u001b[0;31m---------------------------------------------------------------------------\u001b[0m",
            "\u001b[0;31mIBMInputValueError\u001b[0m                        Traceback (most recent call last)",
            "\u001b[0;32m<ipython-input-66-7043c4291cef>\u001b[0m in \u001b[0;36m<cell line: 3>\u001b[0;34m()\u001b[0m\n\u001b[1;32m      1\u001b[0m \u001b[0;32mfrom\u001b[0m \u001b[0mqiskit\u001b[0m\u001b[0;34m.\u001b[0m\u001b[0mquantum_info\u001b[0m\u001b[0;34m.\u001b[0m\u001b[0moperators\u001b[0m \u001b[0;32mimport\u001b[0m \u001b[0mOperator\u001b[0m\u001b[0;34m,\u001b[0m \u001b[0mPauli\u001b[0m\u001b[0;34m,\u001b[0m \u001b[0mSparsePauliOp\u001b[0m\u001b[0;34m\u001b[0m\u001b[0;34m\u001b[0m\u001b[0m\n\u001b[1;32m      2\u001b[0m \u001b[0mop\u001b[0m \u001b[0;34m=\u001b[0m \u001b[0mPauli\u001b[0m\u001b[0;34m(\u001b[0m\u001b[0;34m\"ZZ\"\u001b[0m\u001b[0;34m*\u001b[0m\u001b[0;36m4\u001b[0m\u001b[0;34m)\u001b[0m\u001b[0;34m\u001b[0m\u001b[0;34m\u001b[0m\u001b[0m\n\u001b[0;32m----> 3\u001b[0;31m \u001b[0mjob\u001b[0m \u001b[0;34m=\u001b[0m \u001b[0mestimator\u001b[0m\u001b[0;34m.\u001b[0m\u001b[0mrun\u001b[0m\u001b[0;34m(\u001b[0m\u001b[0;34m[\u001b[0m\u001b[0;34m(\u001b[0m\u001b[0mqc\u001b[0m\u001b[0;34m,\u001b[0m \u001b[0mop\u001b[0m\u001b[0;34m)\u001b[0m\u001b[0;34m]\u001b[0m\u001b[0;34m)\u001b[0m\u001b[0;34m\u001b[0m\u001b[0;34m\u001b[0m\u001b[0m\n\u001b[0m\u001b[1;32m      4\u001b[0m \u001b[0mresult\u001b[0m \u001b[0;34m=\u001b[0m \u001b[0mjob\u001b[0m\u001b[0;34m.\u001b[0m\u001b[0mresult\u001b[0m\u001b[0;34m(\u001b[0m\u001b[0;34m)\u001b[0m\u001b[0;34m\u001b[0m\u001b[0;34m\u001b[0m\u001b[0m\n\u001b[1;32m      5\u001b[0m \u001b[0mprint\u001b[0m\u001b[0;34m(\u001b[0m\u001b[0mresult\u001b[0m\u001b[0;34m)\u001b[0m\u001b[0;34m\u001b[0m\u001b[0;34m\u001b[0m\u001b[0m\n",
            "\u001b[0;32m/usr/local/lib/python3.10/dist-packages/qiskit_ibm_runtime/estimator.py\u001b[0m in \u001b[0;36mrun\u001b[0;34m(self, pubs, precision)\u001b[0m\n\u001b[1;32m    191\u001b[0m         \u001b[0mcoerced_pubs\u001b[0m \u001b[0;34m=\u001b[0m \u001b[0;34m[\u001b[0m\u001b[0mEstimatorPub\u001b[0m\u001b[0;34m.\u001b[0m\u001b[0mcoerce\u001b[0m\u001b[0;34m(\u001b[0m\u001b[0mpub\u001b[0m\u001b[0;34m,\u001b[0m \u001b[0mprecision\u001b[0m\u001b[0;34m)\u001b[0m \u001b[0;32mfor\u001b[0m \u001b[0mpub\u001b[0m \u001b[0;32min\u001b[0m \u001b[0mpubs\u001b[0m\u001b[0;34m]\u001b[0m\u001b[0;34m\u001b[0m\u001b[0;34m\u001b[0m\u001b[0m\n\u001b[1;32m    192\u001b[0m         \u001b[0mvalidate_estimator_pubs\u001b[0m\u001b[0;34m(\u001b[0m\u001b[0mcoerced_pubs\u001b[0m\u001b[0;34m)\u001b[0m\u001b[0;34m\u001b[0m\u001b[0;34m\u001b[0m\u001b[0m\n\u001b[0;32m--> 193\u001b[0;31m         \u001b[0;32mreturn\u001b[0m \u001b[0mself\u001b[0m\u001b[0;34m.\u001b[0m\u001b[0m_run\u001b[0m\u001b[0;34m(\u001b[0m\u001b[0mcoerced_pubs\u001b[0m\u001b[0;34m)\u001b[0m  \u001b[0;31m# type: ignore[arg-type]\u001b[0m\u001b[0;34m\u001b[0m\u001b[0;34m\u001b[0m\u001b[0m\n\u001b[0m\u001b[1;32m    194\u001b[0m \u001b[0;34m\u001b[0m\u001b[0m\n\u001b[1;32m    195\u001b[0m     \u001b[0;32mdef\u001b[0m \u001b[0m_validate_options\u001b[0m\u001b[0;34m(\u001b[0m\u001b[0mself\u001b[0m\u001b[0;34m,\u001b[0m \u001b[0moptions\u001b[0m\u001b[0;34m:\u001b[0m \u001b[0mdict\u001b[0m\u001b[0;34m)\u001b[0m \u001b[0;34m->\u001b[0m \u001b[0;32mNone\u001b[0m\u001b[0;34m:\u001b[0m\u001b[0;34m\u001b[0m\u001b[0;34m\u001b[0m\u001b[0m\n",
            "\u001b[0;32m/usr/local/lib/python3.10/dist-packages/qiskit_ibm_runtime/base_primitive.py\u001b[0m in \u001b[0;36m_run\u001b[0;34m(self, pubs)\u001b[0m\n\u001b[1;32m    166\u001b[0m             \u001b[0;32mfor\u001b[0m \u001b[0mpub\u001b[0m \u001b[0;32min\u001b[0m \u001b[0mpubs\u001b[0m\u001b[0;34m:\u001b[0m\u001b[0;34m\u001b[0m\u001b[0;34m\u001b[0m\u001b[0m\n\u001b[1;32m    167\u001b[0m                 \u001b[0;32mif\u001b[0m \u001b[0mgetattr\u001b[0m\u001b[0;34m(\u001b[0m\u001b[0mself\u001b[0m\u001b[0;34m.\u001b[0m\u001b[0m_backend\u001b[0m\u001b[0;34m,\u001b[0m \u001b[0;34m\"target\"\u001b[0m\u001b[0;34m,\u001b[0m \u001b[0;32mNone\u001b[0m\u001b[0;34m)\u001b[0m \u001b[0;32mand\u001b[0m \u001b[0;32mnot\u001b[0m \u001b[0mis_simulator\u001b[0m\u001b[0;34m(\u001b[0m\u001b[0mself\u001b[0m\u001b[0;34m.\u001b[0m\u001b[0m_backend\u001b[0m\u001b[0;34m)\u001b[0m\u001b[0;34m:\u001b[0m\u001b[0;34m\u001b[0m\u001b[0;34m\u001b[0m\u001b[0m\n\u001b[0;32m--> 168\u001b[0;31m                     \u001b[0mvalidate_isa_circuits\u001b[0m\u001b[0;34m(\u001b[0m\u001b[0;34m[\u001b[0m\u001b[0mpub\u001b[0m\u001b[0;34m.\u001b[0m\u001b[0mcircuit\u001b[0m\u001b[0;34m]\u001b[0m\u001b[0;34m,\u001b[0m \u001b[0mself\u001b[0m\u001b[0;34m.\u001b[0m\u001b[0m_backend\u001b[0m\u001b[0;34m.\u001b[0m\u001b[0mtarget\u001b[0m\u001b[0;34m)\u001b[0m\u001b[0;34m\u001b[0m\u001b[0;34m\u001b[0m\u001b[0m\n\u001b[0m\u001b[1;32m    169\u001b[0m \u001b[0;34m\u001b[0m\u001b[0m\n\u001b[1;32m    170\u001b[0m                 \u001b[0;32mif\u001b[0m \u001b[0misinstance\u001b[0m\u001b[0;34m(\u001b[0m\u001b[0mself\u001b[0m\u001b[0;34m.\u001b[0m\u001b[0m_backend\u001b[0m\u001b[0;34m,\u001b[0m \u001b[0mIBMBackend\u001b[0m\u001b[0;34m)\u001b[0m\u001b[0;34m:\u001b[0m\u001b[0;34m\u001b[0m\u001b[0;34m\u001b[0m\u001b[0m\n",
            "\u001b[0;32m/usr/local/lib/python3.10/dist-packages/qiskit_ibm_runtime/utils/validations.py\u001b[0m in \u001b[0;36mvalidate_isa_circuits\u001b[0;34m(circuits, target)\u001b[0m\n\u001b[1;32m     87\u001b[0m         \u001b[0mmessage\u001b[0m \u001b[0;34m=\u001b[0m \u001b[0mis_isa_circuit\u001b[0m\u001b[0;34m(\u001b[0m\u001b[0mcircuit\u001b[0m\u001b[0;34m,\u001b[0m \u001b[0mtarget\u001b[0m\u001b[0;34m)\u001b[0m\u001b[0;34m\u001b[0m\u001b[0;34m\u001b[0m\u001b[0m\n\u001b[1;32m     88\u001b[0m         \u001b[0;32mif\u001b[0m \u001b[0mmessage\u001b[0m\u001b[0;34m:\u001b[0m\u001b[0;34m\u001b[0m\u001b[0;34m\u001b[0m\u001b[0m\n\u001b[0;32m---> 89\u001b[0;31m             raise IBMInputValueError(\n\u001b[0m\u001b[1;32m     90\u001b[0m                 \u001b[0mmessage\u001b[0m\u001b[0;34m\u001b[0m\u001b[0;34m\u001b[0m\u001b[0m\n\u001b[1;32m     91\u001b[0m                 \u001b[0;34m+\u001b[0m \u001b[0;34m\" Circuits that do not match the target hardware definition are no longer \"\u001b[0m\u001b[0;34m\u001b[0m\u001b[0;34m\u001b[0m\u001b[0m\n",
            "\u001b[0;31mIBMInputValueError\u001b[0m: 'The circuit has 8 qubits but the target system requires 5 qubits. Circuits that do not match the target hardware definition are no longer supported after March 4, 2024. See the transpilation documentation (https://docs.quantum.ibm.com/guides/transpile) for instructions to transform circuits and the primitive examples (https://docs.quantum.ibm.com/guides/primitives-examples) to see this coupled with operator transformations.'"
          ]
        }
      ]
    },
    {
      "cell_type": "code",
      "source": [
        "SparsePauliOp([\"ZZ\"])\n",
        "print()"
      ],
      "metadata": {
        "id": "lORglA5UUwJy"
      },
      "execution_count": null,
      "outputs": []
    },
    {
      "cell_type": "markdown",
      "source": [
        "## Not deprecated Estimator method"
      ],
      "metadata": {
        "id": "BEumjr_fwIFi"
      }
    },
    {
      "cell_type": "code",
      "source": [
        "import numpy as np\n",
        "from qiskit.circuit.library import IQP\n",
        "from qiskit.transpiler.preset_passmanagers import generate_preset_pass_manager\n",
        "from qiskit.quantum_info import SparsePauliOp, random_hermitian\n",
        "from qiskit_ibm_runtime import QiskitRuntimeService, EstimatorV2 as Estimator\n",
        "\n",
        "\n",
        "from qiskit_ibm_runtime import EstimatorV2 as Estimator\n",
        "from qiskit_ibm_runtime.fake_provider import FakeManilaV2\n",
        "\n",
        "import numpy as np\n",
        "from qiskit.quantum_info import SparsePauliOp\n",
        "\n",
        "matrix = np.array([[1.67757815e-05+0.j, 0.00000000e+00+0.j, 0.00000000e+00+0.j,\n",
        "        0.00000000e+00+0.j],\n",
        "       [0.00000000e+00+0.j, 5.96097415e+04+0.j, 0.00000000e+00+0.j,\n",
        "        0.00000000e+00+0.j],\n",
        "       [0.00000000e+00+0.j, 0.00000000e+00+0.j, 5.96097415e+04+0.j,\n",
        "        0.00000000e+00+0.j],\n",
        "       [0.00000000e+00+0.j, 0.00000000e+00+0.j, 0.00000000e+00+0.j,\n",
        "        1.67757815e-05+0.j]])\n",
        "\n",
        "observable = SparsePauliOp.from_operator(matrix)\n",
        "print(observable)\n",
        "\n",
        "backend = FakeManilaV2()\n",
        "options = {\"simulator\": {\"seed_simulator\": 42}}\n",
        "estimator = Estimator(mode=fake_manila, options=options)\n",
        "\n",
        "\n",
        "job = estimator.run([(qc, observable)])\n",
        "result = job.result()\n",
        "print(result)"
      ],
      "metadata": {
        "colab": {
          "base_uri": "https://localhost:8080/",
          "height": 367
        },
        "id": "V9j4Ho0Ywa9x",
        "outputId": "9143e839-c4d2-4762-98f0-8526c1645a46"
      },
      "execution_count": 96,
      "outputs": [
        {
          "output_type": "stream",
          "name": "stdout",
          "text": [
            "SparsePauliOp(['I', 'Z'],\n",
            "              coeffs=[ 29804.87075839+0.j, -29804.87074161+0.j])\n"
          ]
        },
        {
          "output_type": "error",
          "ename": "TypeError",
          "evalue": "object of type 'int' has no len()",
          "traceback": [
            "\u001b[0;31m---------------------------------------------------------------------------\u001b[0m",
            "\u001b[0;31mTypeError\u001b[0m                                 Traceback (most recent call last)",
            "\u001b[0;32m<ipython-input-96-430dbfd55e99>\u001b[0m in \u001b[0;36m<cell line: 19>\u001b[0;34m()\u001b[0m\n\u001b[1;32m     17\u001b[0m \u001b[0mqc\u001b[0m\u001b[0;34m.\u001b[0m\u001b[0mh\u001b[0m\u001b[0;34m(\u001b[0m\u001b[0;36m0\u001b[0m\u001b[0;34m)\u001b[0m\u001b[0;34m\u001b[0m\u001b[0;34m\u001b[0m\u001b[0m\n\u001b[1;32m     18\u001b[0m \u001b[0mqc\u001b[0m\u001b[0;34m.\u001b[0m\u001b[0mcx\u001b[0m\u001b[0;34m(\u001b[0m\u001b[0;36m0\u001b[0m\u001b[0;34m,\u001b[0m \u001b[0;36m1\u001b[0m\u001b[0;34m)\u001b[0m\u001b[0;34m\u001b[0m\u001b[0;34m\u001b[0m\u001b[0m\n\u001b[0;32m---> 19\u001b[0;31m \u001b[0mqc\u001b[0m\u001b[0;34m.\u001b[0m\u001b[0mappend\u001b[0m\u001b[0;34m(\u001b[0m\u001b[0mIQP\u001b[0m\u001b[0;34m(\u001b[0m\u001b[0;36m2\u001b[0m\u001b[0;34m)\u001b[0m\u001b[0;34m,\u001b[0m \u001b[0;34m[\u001b[0m\u001b[0;36m0\u001b[0m\u001b[0;34m,\u001b[0m \u001b[0;36m1\u001b[0m\u001b[0;34m]\u001b[0m\u001b[0;34m)\u001b[0m\u001b[0;34m\u001b[0m\u001b[0;34m\u001b[0m\u001b[0m\n\u001b[0m\u001b[1;32m     20\u001b[0m \u001b[0;34m\u001b[0m\u001b[0m\n\u001b[1;32m     21\u001b[0m \u001b[0;31m# Setup the backend and estimator\u001b[0m\u001b[0;34m\u001b[0m\u001b[0;34m\u001b[0m\u001b[0m\n",
            "\u001b[0;32m/usr/local/lib/python3.10/dist-packages/qiskit/circuit/library/iqp.py\u001b[0m in \u001b[0;36m__init__\u001b[0;34m(self, interactions)\u001b[0m\n\u001b[1;32m     70\u001b[0m             \u001b[0mCircuitError\u001b[0m\u001b[0;34m:\u001b[0m \u001b[0;32mif\u001b[0m \u001b[0mthe\u001b[0m \u001b[0minputs\u001b[0m \u001b[0;32mis\u001b[0m \u001b[0;32mnot\u001b[0m \u001b[0;32mas\u001b[0m \u001b[0msymmetric\u001b[0m \u001b[0mmatrix\u001b[0m\u001b[0;34m.\u001b[0m\u001b[0;34m\u001b[0m\u001b[0;34m\u001b[0m\u001b[0m\n\u001b[1;32m     71\u001b[0m         \"\"\"\n\u001b[0;32m---> 72\u001b[0;31m         \u001b[0mnum_qubits\u001b[0m \u001b[0;34m=\u001b[0m \u001b[0mlen\u001b[0m\u001b[0;34m(\u001b[0m\u001b[0minteractions\u001b[0m\u001b[0;34m)\u001b[0m\u001b[0;34m\u001b[0m\u001b[0;34m\u001b[0m\u001b[0m\n\u001b[0m\u001b[1;32m     73\u001b[0m         \u001b[0minteractions\u001b[0m \u001b[0;34m=\u001b[0m \u001b[0mnp\u001b[0m\u001b[0;34m.\u001b[0m\u001b[0marray\u001b[0m\u001b[0;34m(\u001b[0m\u001b[0minteractions\u001b[0m\u001b[0;34m)\u001b[0m\u001b[0;34m\u001b[0m\u001b[0;34m\u001b[0m\u001b[0m\n\u001b[1;32m     74\u001b[0m         \u001b[0;32mif\u001b[0m \u001b[0;32mnot\u001b[0m \u001b[0mnp\u001b[0m\u001b[0;34m.\u001b[0m\u001b[0mallclose\u001b[0m\u001b[0;34m(\u001b[0m\u001b[0minteractions\u001b[0m\u001b[0;34m,\u001b[0m \u001b[0minteractions\u001b[0m\u001b[0;34m.\u001b[0m\u001b[0mtranspose\u001b[0m\u001b[0;34m(\u001b[0m\u001b[0;34m)\u001b[0m\u001b[0;34m)\u001b[0m\u001b[0;34m:\u001b[0m\u001b[0;34m\u001b[0m\u001b[0;34m\u001b[0m\u001b[0m\n",
            "\u001b[0;31mTypeError\u001b[0m: object of type 'int' has no len()"
          ]
        }
      ]
    },
    {
      "cell_type": "markdown",
      "source": [
        "Doing some debugging stuff (can delete later)"
      ],
      "metadata": {
        "id": "zcd3digqrnMb"
      }
    },
    {
      "cell_type": "code",
      "source": [
        "import numpy as np\n",
        "from qiskit.quantum_info import SparsePauliOp\n",
        "num_qubits = 8\n",
        "random_state = '11101001'\n",
        "\n",
        "from qiskit import QuantumCircuit, QuantumRegister, ClassicalRegister\n",
        "# Number of qubits and the initial state\n",
        "qubit_no = num_qubits  # This can be changed based on tensor network results\n",
        "state = random_state\n",
        "\n",
        "# Create the quantum circuit\n",
        "qc = QuantumCircuit(qubit_no)\n",
        "\n",
        "# Apply the X gate where the state has '1'\n",
        "for i, number in enumerate(state):\n",
        "    if number == '1':\n",
        "        qc.x(i)\n",
        "# print(qc.draw())\n",
        "\n",
        "\n",
        "#APPLY QFT (TO CHECK AGAIN THIS PORTION)\n",
        "qft(qc, qubit_no)\n",
        "# print(qc.draw())\n",
        "\n",
        "matrix = np.array([[1.67757815e-05+0.j, 0.00000000e+00+0.j, 0.00000000e+00+0.j,\n",
        "        0.00000000e+00+0.j],\n",
        "       [0.00000000e+00+0.j, 5.96097415e+04+0.j, 0.00000000e+00+0.j,\n",
        "        0.00000000e+00+0.j],\n",
        "       [0.00000000e+00+0.j, 0.00000000e+00+0.j, 5.96097415e+04+0.j,\n",
        "        0.00000000e+00+0.j],\n",
        "       [0.00000000e+00+0.j, 0.00000000e+00+0.j, 0.00000000e+00+0.j,\n",
        "        1.67757815e-05+0.j]])\n",
        "\n",
        "\n",
        "observable = SparsePauliOp(['ZZ'], coeffs=[-29804.87074161+0.j])\n",
        "# observable = SparsePauliOp.from_operator(matrix)\n",
        "# print(observable)\n",
        "\n",
        "from qiskit.primitives import Estimator\n",
        "estimator = Estimator()\n",
        "\n",
        "expectation_value = estimator.run(qc, observable).result().values[0]\n",
        "print(expectation_value)\n"
      ],
      "metadata": {
        "colab": {
          "base_uri": "https://localhost:8080/",
          "height": 393
        },
        "id": "PpjyxxvZqsN-",
        "outputId": "fc194667-acd2-4876-88c3-5d904be46c9a"
      },
      "execution_count": 10,
      "outputs": [
        {
          "output_type": "stream",
          "name": "stderr",
          "text": [
            "<ipython-input-10-c32ed370888c>:40: DeprecationWarning: The class ``qiskit.primitives.estimator.Estimator`` is deprecated as of qiskit 1.2. It will be removed no earlier than 3 months after the release date. All implementations of the `BaseEstimatorV1` interface have been deprecated in favor of their V2 counterparts. The V2 alternative for the `Estimator` class is `StatevectorEstimator`.\n",
            "  estimator = Estimator()\n"
          ]
        },
        {
          "output_type": "error",
          "ename": "ValueError",
          "evalue": "The number of qubits of the 0-th circuit (8) does not match the number of qubits of the 0-th observable (2).",
          "traceback": [
            "\u001b[0;31m---------------------------------------------------------------------------\u001b[0m",
            "\u001b[0;31mValueError\u001b[0m                                Traceback (most recent call last)",
            "\u001b[0;32m<ipython-input-10-c32ed370888c>\u001b[0m in \u001b[0;36m<cell line: 42>\u001b[0;34m()\u001b[0m\n\u001b[1;32m     40\u001b[0m \u001b[0mestimator\u001b[0m \u001b[0;34m=\u001b[0m \u001b[0mEstimator\u001b[0m\u001b[0;34m(\u001b[0m\u001b[0;34m)\u001b[0m\u001b[0;34m\u001b[0m\u001b[0;34m\u001b[0m\u001b[0m\n\u001b[1;32m     41\u001b[0m \u001b[0;34m\u001b[0m\u001b[0m\n\u001b[0;32m---> 42\u001b[0;31m \u001b[0mexpectation_value\u001b[0m \u001b[0;34m=\u001b[0m \u001b[0mestimator\u001b[0m\u001b[0;34m.\u001b[0m\u001b[0mrun\u001b[0m\u001b[0;34m(\u001b[0m\u001b[0mqc\u001b[0m\u001b[0;34m,\u001b[0m \u001b[0mobservable\u001b[0m\u001b[0;34m)\u001b[0m\u001b[0;34m.\u001b[0m\u001b[0mresult\u001b[0m\u001b[0;34m(\u001b[0m\u001b[0;34m)\u001b[0m\u001b[0;34m.\u001b[0m\u001b[0mvalues\u001b[0m\u001b[0;34m[\u001b[0m\u001b[0;36m0\u001b[0m\u001b[0;34m]\u001b[0m\u001b[0;34m\u001b[0m\u001b[0;34m\u001b[0m\u001b[0m\n\u001b[0m\u001b[1;32m     43\u001b[0m \u001b[0mprint\u001b[0m\u001b[0;34m(\u001b[0m\u001b[0mexpectation_value\u001b[0m\u001b[0;34m)\u001b[0m\u001b[0;34m\u001b[0m\u001b[0;34m\u001b[0m\u001b[0m\n",
            "\u001b[0;32m/usr/local/lib/python3.10/dist-packages/qiskit/primitives/base/base_estimator.py\u001b[0m in \u001b[0;36mrun\u001b[0;34m(self, circuits, observables, parameter_values, **run_options)\u001b[0m\n\u001b[1;32m    163\u001b[0m         \"\"\"\n\u001b[1;32m    164\u001b[0m         \u001b[0;31m# Validation\u001b[0m\u001b[0;34m\u001b[0m\u001b[0;34m\u001b[0m\u001b[0m\n\u001b[0;32m--> 165\u001b[0;31m         circuits, observables, parameter_values = validation._validate_estimator_args(\n\u001b[0m\u001b[1;32m    166\u001b[0m             \u001b[0mcircuits\u001b[0m\u001b[0;34m,\u001b[0m \u001b[0mobservables\u001b[0m\u001b[0;34m,\u001b[0m \u001b[0mparameter_values\u001b[0m\u001b[0;34m\u001b[0m\u001b[0;34m\u001b[0m\u001b[0m\n\u001b[1;32m    167\u001b[0m         )\n",
            "\u001b[0;32m/usr/local/lib/python3.10/dist-packages/qiskit/primitives/base/validation.py\u001b[0m in \u001b[0;36m_validate_estimator_args\u001b[0;34m(circuits, observables, parameter_values)\u001b[0m\n\u001b[1;32m     62\u001b[0m     \u001b[0;31m# Cross-validation\u001b[0m\u001b[0;34m\u001b[0m\u001b[0;34m\u001b[0m\u001b[0m\n\u001b[1;32m     63\u001b[0m     \u001b[0m_cross_validate_circuits_parameter_values\u001b[0m\u001b[0;34m(\u001b[0m\u001b[0mcircuits\u001b[0m\u001b[0;34m,\u001b[0m \u001b[0mparameter_values\u001b[0m\u001b[0;34m)\u001b[0m\u001b[0;34m\u001b[0m\u001b[0;34m\u001b[0m\u001b[0m\n\u001b[0;32m---> 64\u001b[0;31m     \u001b[0m_cross_validate_circuits_observables\u001b[0m\u001b[0;34m(\u001b[0m\u001b[0mcircuits\u001b[0m\u001b[0;34m,\u001b[0m \u001b[0mobservables\u001b[0m\u001b[0;34m)\u001b[0m\u001b[0;34m\u001b[0m\u001b[0;34m\u001b[0m\u001b[0m\n\u001b[0m\u001b[1;32m     65\u001b[0m \u001b[0;34m\u001b[0m\u001b[0m\n\u001b[1;32m     66\u001b[0m     \u001b[0;32mreturn\u001b[0m \u001b[0mcircuits\u001b[0m\u001b[0;34m,\u001b[0m \u001b[0mobservables\u001b[0m\u001b[0;34m,\u001b[0m \u001b[0mparameter_values\u001b[0m\u001b[0;34m\u001b[0m\u001b[0;34m\u001b[0m\u001b[0m\n",
            "\u001b[0;32m/usr/local/lib/python3.10/dist-packages/qiskit/primitives/base/validation.py\u001b[0m in \u001b[0;36m_cross_validate_circuits_observables\u001b[0;34m(circuits, observables)\u001b[0m\n\u001b[1;32m    202\u001b[0m     \u001b[0;32mfor\u001b[0m \u001b[0mi\u001b[0m\u001b[0;34m,\u001b[0m \u001b[0;34m(\u001b[0m\u001b[0mcircuit\u001b[0m\u001b[0;34m,\u001b[0m \u001b[0mobservable\u001b[0m\u001b[0;34m)\u001b[0m \u001b[0;32min\u001b[0m \u001b[0menumerate\u001b[0m\u001b[0;34m(\u001b[0m\u001b[0mzip\u001b[0m\u001b[0;34m(\u001b[0m\u001b[0mcircuits\u001b[0m\u001b[0;34m,\u001b[0m \u001b[0mobservables\u001b[0m\u001b[0;34m)\u001b[0m\u001b[0;34m)\u001b[0m\u001b[0;34m:\u001b[0m\u001b[0;34m\u001b[0m\u001b[0;34m\u001b[0m\u001b[0m\n\u001b[1;32m    203\u001b[0m         \u001b[0;32mif\u001b[0m \u001b[0mcircuit\u001b[0m\u001b[0;34m.\u001b[0m\u001b[0mnum_qubits\u001b[0m \u001b[0;34m!=\u001b[0m \u001b[0mobservable\u001b[0m\u001b[0;34m.\u001b[0m\u001b[0mnum_qubits\u001b[0m\u001b[0;34m:\u001b[0m\u001b[0;34m\u001b[0m\u001b[0;34m\u001b[0m\u001b[0m\n\u001b[0;32m--> 204\u001b[0;31m             raise ValueError(\n\u001b[0m\u001b[1;32m    205\u001b[0m                 \u001b[0;34mf\"The number of qubits of the {i}-th circuit ({circuit.num_qubits}) does \"\u001b[0m\u001b[0;34m\u001b[0m\u001b[0;34m\u001b[0m\u001b[0m\n\u001b[1;32m    206\u001b[0m                 \u001b[0;34mf\"not match the number of qubits of the {i}-th observable \"\u001b[0m\u001b[0;34m\u001b[0m\u001b[0;34m\u001b[0m\u001b[0m\n",
            "\u001b[0;31mValueError\u001b[0m: The number of qubits of the 0-th circuit (8) does not match the number of qubits of the 0-th observable (2)."
          ]
        }
      ]
    },
    {
      "cell_type": "code",
      "source": [
        "from math import exp, pi\n",
        "from qiskit.quantum_info.operators import Operator\n",
        "theta = pi/4\n",
        "ZZ = Operator(\n",
        "    np.array(\n",
        "        [\n",
        "                [exp(-i*theta), 0, 0, 0],\n",
        "                [0, exp(i*theta), 0, 0],\n",
        "                [0, 0, exp(i*theta), 0],\n",
        "                [0, 0, 0, exp(-i*theta)],\n",
        "            ]\n",
        "    )\n",
        ")\n",
        "ZZ.data\n"
      ],
      "metadata": {
        "colab": {
          "base_uri": "https://localhost:8080/"
        },
        "id": "DhG7xvyc4bcY",
        "outputId": "553c27d1-2908-4081-d8ac-96115f10a19e"
      },
      "execution_count": 40,
      "outputs": [
        {
          "output_type": "execute_result",
          "data": {
            "text/plain": [
              "array([[ 0.09478022+0.j,  0.        +0.j,  0.        +0.j,\n",
              "         0.        +0.j],\n",
              "       [ 0.        +0.j, 10.55072407+0.j,  0.        +0.j,\n",
              "         0.        +0.j],\n",
              "       [ 0.        +0.j,  0.        +0.j, 10.55072407+0.j,\n",
              "         0.        +0.j],\n",
              "       [ 0.        +0.j,  0.        +0.j,  0.        +0.j,\n",
              "         0.09478022+0.j]])"
            ]
          },
          "metadata": {},
          "execution_count": 40
        }
      ]
    },
    {
      "cell_type": "code",
      "source": [
        "import numpy as np\n",
        "from qiskit.quantum_info import SparsePauliOp\n",
        "\n",
        "matrix = np.array([[ 0.09478022+0.j,  0.        +0.j,  0.        +0.j,\n",
        "         0.        +0.j],\n",
        "       [ 0.        +0.j, 10.55072407+0.j,  0.        +0.j,\n",
        "         0.        +0.j],\n",
        "       [ 0.        +0.j,  0.        +0.j, 10.55072407+0.j,\n",
        "         0.        +0.j],\n",
        "       [ 0.        +0.j,  0.        +0.j,  0.        +0.j,\n",
        "         0.09478022+0.j]])\n",
        "\n",
        "observable = SparsePauliOp.from_operator(matrix)\n",
        "print(observable)"
      ],
      "metadata": {
        "colab": {
          "base_uri": "https://localhost:8080/"
        },
        "id": "BQ9TDvkC6tlF",
        "outputId": "53a59b10-3c8e-48ab-eca1-c5fc4fe09c4f"
      },
      "execution_count": 1,
      "outputs": [
        {
          "output_type": "stream",
          "name": "stdout",
          "text": [
            "SparsePauliOp(['II', 'ZZ'],\n",
            "              coeffs=[ 5.32275214+0.j, -5.22797192+0.j])\n"
          ]
        }
      ]
    },
    {
      "cell_type": "code",
      "source": [
        "from qiskit import QuantumCircuit\n",
        "from qiskit.quantum_info import SparsePauliOp\n",
        "import numpy as np\n",
        "from math import pi\n",
        "\n",
        "\n",
        "#Defining the oeprator in the matrix form\n",
        "# matrix = np.array([[ 0.09478022+0.j,  0.        +0.j,  0.        +0.j,\n",
        "#          0.        +0.j],\n",
        "#        [ 0.        +0.j, 10.55072407+0.j,  0.        +0.j,\n",
        "#          0.        +0.j],\n",
        "#        [ 0.        +0.j,  0.        +0.j, 10.55072407+0.j,\n",
        "#          0.        +0.j],\n",
        "#        [ 0.        +0.j,  0.        +0.j,  0.        +0.j,\n",
        "#          0.09478022+0.j]])\n",
        "# op = SparsePauliOp.from_operator(matrix)\n",
        "# print(op)\n",
        "# Step 1: Define operator\n",
        "op = SparsePauliOp.from_list(\n",
        "    [\n",
        "        (\"ZZ\"*i, -5.22797192+0.j),\n",
        "    ]\n",
        ")\n",
        "\n",
        "# Step 2: Define quantum state\n",
        "\n",
        "from qiskit import QuantumCircuit, QuantumRegister, ClassicalRegister\n",
        "# Number of qubits and the initial state\n",
        "qubit_no = num_qubits  # This can be changed based on tensor network results\n",
        "state = random_state\n",
        "\n",
        "# Create the quantum circuit\n",
        "qc = QuantumCircuit(qubit_no)\n",
        "\n",
        "# Apply the X gate where the state has '1'\n",
        "for i, number in enumerate(state):\n",
        "    if number == '1':\n",
        "        qc.x(i)\n",
        "# print(qc.draw())\n",
        "\n",
        "\n",
        "#APPLY QFT (TO CHECK AGAIN THIS PORTION)\n",
        "qft(qc, qubit_no)\n",
        "\n",
        "\n",
        "# Define a local backend\n",
        "from qiskit_ibm_runtime.fake_provider import FakeOsaka\n",
        "backend = FakeOsaka()\n",
        "\n",
        "# Or define a real backend\n",
        "# from qiskit_ibm_runtime import QiskitRuntimeService\n",
        "# service = QiskitRuntimeService()\n",
        "# backend = service.least_busy(operational=True, simulator=False)\n",
        "\n",
        "# Circuits and parameters must obey the Instruction Set Architecture (ISA) of a particular backend.\n",
        "from qiskit.transpiler.preset_passmanagers import generate_preset_pass_manager\n",
        "\n",
        "pm = generate_preset_pass_manager(backend=backend, optimization_level=1)\n",
        "isa_circuit = pm.run(qc)\n",
        "\n",
        "isa_observable = op.apply_layout(isa_circuit.layout)\n",
        "\n",
        "from qiskit_ibm_runtime import EstimatorV2 as Estimator\n",
        "\n",
        "estimator = Estimator(backend, options={\"default_shots\": int(1e4)})\n",
        "job = estimator.run([(isa_circuit, isa_observable)])\n",
        "\n",
        "\n",
        "\n",
        "# Get results for the first (and only) PUB\n",
        "pub_result = job.result()[0]\n",
        "\n",
        "print(f\">>> Expectation value: {pub_result.data.evs}\")"
      ],
      "metadata": {
        "colab": {
          "base_uri": "https://localhost:8080/"
        },
        "id": "V7lfDYhMS9b4",
        "outputId": "66e423ba-c70a-44db-ed84-63ac04e752ee"
      },
      "execution_count": 9,
      "outputs": [
        {
          "output_type": "stream",
          "name": "stdout",
          "text": [
            ">>> Expectation value: -0.037641397824\n"
          ]
        }
      ]
    },
    {
      "cell_type": "markdown",
      "source": [
        "# Quimb"
      ],
      "metadata": {
        "id": "VfbfWX_8loE4"
      }
    },
    {
      "cell_type": "code",
      "source": [
        "#Imports and Installations\n",
        "\n",
        "!pip install -U git+https://github.com/jcmgray/quimb.git --quiet\n",
        "\n",
        "%config InlineBackend.figure_formats = ['svg']\n",
        "import quimb as qu\n",
        "import quimb.tensor as qtn\n",
        "import numpy as np\n",
        "from math import pi\n"
      ],
      "metadata": {
        "colab": {
          "base_uri": "https://localhost:8080/"
        },
        "id": "KqwJpNZplpMe",
        "outputId": "9401d62e-19a1-4a32-e1ea-f75b223f8923"
      },
      "execution_count": 9,
      "outputs": [
        {
          "output_type": "stream",
          "name": "stdout",
          "text": [
            "  Installing build dependencies ... \u001b[?25l\u001b[?25hdone\n",
            "  Getting requirements to build wheel ... \u001b[?25l\u001b[?25hdone\n",
            "  Preparing metadata (pyproject.toml) ... \u001b[?25l\u001b[?25hdone\n",
            "\u001b[2K   \u001b[90m━━━━━━━━━━━━━━━━━━━━━━━━━━━━━━━━━━━━━━━━\u001b[0m \u001b[32m51.0/51.0 kB\u001b[0m \u001b[31m1.9 MB/s\u001b[0m eta \u001b[36m0:00:00\u001b[0m\n",
            "\u001b[2K   \u001b[90m━━━━━━━━━━━━━━━━━━━━━━━━━━━━━━━━━━━━━━━━\u001b[0m \u001b[32m177.8/177.8 kB\u001b[0m \u001b[31m6.6 MB/s\u001b[0m eta \u001b[36m0:00:00\u001b[0m\n",
            "\u001b[2K   \u001b[90m━━━━━━━━━━━━━━━━━━━━━━━━━━━━━━━━━━━━━━━━\u001b[0m \u001b[32m2.0/2.0 MB\u001b[0m \u001b[31m34.4 MB/s\u001b[0m eta \u001b[36m0:00:00\u001b[0m\n",
            "\u001b[?25h  Building wheel for quimb (pyproject.toml) ... \u001b[?25l\u001b[?25hdone\n"
          ]
        },
        {
          "output_type": "stream",
          "name": "stderr",
          "text": [
            "/usr/local/lib/python3.10/dist-packages/cotengra/hyperoptimizers/hyper.py:33: UserWarning: Couldn't import `kahypar` - skipping from default hyper optimizer and using basic `labels` method instead.\n",
            "  warnings.warn(\n"
          ]
        }
      ]
    },
    {
      "cell_type": "code",
      "source": [
        "# def qft_rotations(circuit, qubits):\n",
        "#     for i in range(len(qubits)):\n",
        "#         circuit.apply_gate('H', qubits[i], 'contract', False)\n",
        "#         for j in range(i+1, len(qubits)):\n",
        "#             lamda = np.pi / 2**(j - i)\n",
        "#             circuit.apply_gate('CPHASE', lamda, qubits[i], qubits[j])\n",
        "\n",
        "from quimb.tensor.circuit import Circuit\n",
        "#Encoding the states\n",
        "\n",
        "#First let us create the circuit so that we can store the states in their particular order\n",
        "qc = qtn.Circuit(num_qubits)\n",
        "#Getting the registers\n",
        "regs = list(range(num_qubits))\n",
        "#Encoding the values\n",
        "for i, number in enumerate(random_state):\n",
        "  if number =='1':\n",
        "    qc.apply_gate('X', regs[i])\n",
        "# print(regs)\n",
        "\n",
        "qc.psi.draw()\n",
        "# Drawing the circuit\n",
        "# qc.psi.to_dense()\n",
        "depth = 1\n",
        "\n",
        "\n",
        "\n",
        "\n",
        "def circ_qft(num_qubits, random_state, depth,\n",
        "    **circuit_opts,\n",
        "):\n",
        "\n",
        "    circuit_opts.setdefault('gate_opts', {})\n",
        "    circuit_opts['gate_opts'].setdefault('contract', False)\n",
        "\n",
        "    n = num_qubits\n",
        "    gates = []\n",
        "    qubits=np.arange(n)\n",
        "    for i, number in enumerate(random_state):\n",
        "            gates.append(('X', qubits[i]))\n",
        "\n",
        "    #QFT\n",
        "    for d in range(depth):\n",
        "        for i in range(num_qubits):\n",
        "            gates.append((d, 'h', i)) #H gate\n",
        "            for j in range(i+1, num_qubits):\n",
        "                lamda = np.pi / 2**(j - i)\n",
        "                gates.append((d, 'CPHASE', lamda, qubits[i], qubits[j]))#Cphase\n",
        "\n",
        "            for i in range(num_qubits//2):\n",
        "                gates.append((d, 'CNOT', qubits[i], qubits[len(qubits)-i-1]))\n",
        "                gates.append((d, 'CNOT', qubits[len(qubits)-i-1], qubits[i]))\n",
        "                gates.append((d, 'CNOT', qubits[i], qubits[len(qubits)-i-1]))\n",
        "\n",
        "\n",
        "\n",
        "\n",
        "\n",
        "    circ = Circuit(n, **circuit_opts)\n",
        "    circ.apply_gates(gates)\n",
        "\n",
        "\n",
        "    return circ\n",
        "\n",
        "qubits=np.arange(num_qubits)\n",
        "# for i in range(num_qubits//2):\n",
        "#    print(i, len(qubits)-i-1)\n",
        "\n",
        "\n",
        "qc= circ_qft(num_qubits, random_state, depth)\n",
        "\n",
        "import networkx as nx\n",
        "import random\n",
        "\n",
        "# Define the number of nodes\n",
        "num_nodes = num_qubits\n",
        "\n",
        "# Calculate the number of edges based on the 2:1 node-to-edge ratio\n",
        "num_edges = num_nodes // 2\n",
        "\n",
        "# Create an empty graph\n",
        "G = nx.Graph(seed = '666')\n",
        "# nx.draw(G)\n",
        "\n",
        "# Add nodes to the graph\n",
        "G.add_nodes_from(range(num_nodes))\n",
        "\n",
        "# Randomly add edges until the desired number of edges is reached\n",
        "while G.number_of_edges() < num_edges:\n",
        "    # Pick two random nodes to connect with an edge\n",
        "    u, v = random.sample(range(num_nodes), 2)\n",
        "    # Add the edge if it doesn't already exist\n",
        "    if not G.has_edge(u, v):\n",
        "        G.add_edge(u, v)\n",
        "\n",
        "\n",
        "reg = 3\n",
        "n = num_qubits\n",
        "seed = 666\n",
        "F = nx.random_regular_graph(reg, n, seed=seed)\n",
        "\n",
        "terms = {(i, j): 1 for i, j in F.edges}\n",
        "#nx.draw(F, with_labels = True)\n",
        "# Draw the graph\n",
        "nx.draw(G, with_labels=True)\n",
        "# display(nx.edges(G))\n",
        "G.edges()\n",
        "\n",
        "import cotengra as ctg\n",
        "import tqdm\n",
        "\n",
        "opt = ctg.ReusableHyperOptimizer(\n",
        "    methods=['greedy'],\n",
        "    reconf_opts={},\n",
        "    max_repeats=32,\n",
        "    max_time=\"rate:1e6\",\n",
        "    parallel=True,\n",
        "    # use the following for persistently cached paths\n",
        "    # directory=True,\n",
        ")\n",
        "# edge=(0,2)\n",
        "\n",
        "terms = {(i, j): 1 for i, j in G.edges}\n",
        "theta = np.pi/4\n",
        "\n",
        "RZZ =qu.pauli('Z') & qu.pauli('Z')\n",
        "\n",
        "local_exp_rehs = [qc.local_expectation_rehearse(ZZ, edge, optimize=opt) for edge, weight in tqdm.tqdm(list(terms.items()))]\n",
        "\n",
        "local_exp_rehs"
      ],
      "metadata": {
        "colab": {
          "base_uri": "https://localhost:8080/",
          "height": 1000
        },
        "id": "tNRtPM4LltT6",
        "outputId": "0ba5f69e-0930-4875-a869-a53183bc2fe9"
      },
      "execution_count": 20,
      "outputs": [
        {
          "output_type": "display_data",
          "data": {
            "text/plain": [
              "<Figure size 600x600 with 1 Axes>"
            ],
            "image/png": "[encoded data removed]"
          },
          "metadata": {
            "needs_background": "light"
          }
        },
        {
          "output_type": "stream",
          "name": "stderr",
          "text": [
            "100%|██████████| 5/5 [00:01<00:00,  2.61it/s]\n"
          ]
        },
        {
          "output_type": "execute_result",
          "data": {
            "text/plain": [
              "[{'tn': TensorNetwork(tensors=1, indices=0),\n",
              "  'tree': <ContractionTree(N=1)>,\n",
              "  'W': 1,\n",
              "  'C': 0.0},\n",
              " {'tn': TensorNetwork(tensors=10, indices=6),\n",
              "  'tree': <ContractionTree(N=10)>,\n",
              "  'W': 3.0,\n",
              "  'C': 1.9637878273455553},\n",
              " {'tn': TensorNetwork(tensors=1, indices=0),\n",
              "  'tree': <ContractionTree(N=1)>,\n",
              "  'W': 1,\n",
              "  'C': 0.0},\n",
              " {'tn': TensorNetwork(tensors=1, indices=0),\n",
              "  'tree': <ContractionTree(N=1)>,\n",
              "  'W': 1,\n",
              "  'C': 0.0},\n",
              " {'tn': TensorNetwork(tensors=1, indices=0),\n",
              "  'tree': <ContractionTree(N=1)>,\n",
              "  'W': 1,\n",
              "  'C': 0.0}]"
            ]
          },
          "metadata": {},
          "execution_count": 20
        },
        {
          "output_type": "display_data",
          "data": {
            "text/plain": [
              "<Figure size 640x480 with 1 Axes>"
            ],
            "image/png": "[encoded data removed]"
          },
          "metadata": {}
        }
      ]
    },
    {
      "cell_type": "code",
      "source": [
        "local_exp_rehs = [qc.local_expectation(weight * ZZ, edge, optimize=opt) for edge, weight in tqdm.tqdm(list(terms.items()))]"
      ],
      "metadata": {
        "colab": {
          "base_uri": "https://localhost:8080/"
        },
        "id": "puPcoUScotgu",
        "outputId": "9e7a17a0-c025-4fee-b72a-dc974bd2d192"
      },
      "execution_count": 21,
      "outputs": [
        {
          "output_type": "stream",
          "name": "stderr",
          "text": [
            "100%|██████████| 5/5 [00:00<00:00, 163.80it/s]\n"
          ]
        }
      ]
    },
    {
      "cell_type": "code",
      "source": [
        "sum(local_exp_rehs)"
      ],
      "metadata": {
        "colab": {
          "base_uri": "https://localhost:8080/"
        },
        "id": "gJZQ3_LIpPnz",
        "outputId": "8148046f-e7bb-4f9b-8092-b9964a8083fb"
      },
      "execution_count": 22,
      "outputs": [
        {
          "output_type": "execute_result",
          "data": {
            "text/plain": [
              "(-0.744250952773529-3.095195308882206e-17j)"
            ]
          },
          "metadata": {},
          "execution_count": 22
        }
      ]
    },
    {
      "cell_type": "markdown",
      "source": [
        "# Theoretical data and the comparision (Problematic and Giving Errors)"
      ],
      "metadata": {
        "id": "UwWAXV0GdOFX"
      }
    },
    {
      "cell_type": "code",
      "source": [
        "\n",
        "import matplotlib.pyplot as plt\n",
        "\n",
        "qiskit_expectation_values = []\n",
        "quimb_expectation_values = []\n",
        "qubits_range = list(range(6, 12, 2))\n",
        "theta = pi/4\n",
        "\n",
        "\n",
        "for num_qubits in range(6,12,2):\n",
        "    def generate_random_binary(length):\n",
        "      return ''.join(random.choice(['0', '1']) for _ in range(length))\n",
        "\n",
        "    state_length = num_qubits\n",
        "    random_state = generate_random_binary(state_length)\n",
        "    print(f\"The generated random state is: {random_state}\")\n",
        "    print()\n",
        "\n",
        "    def qft_rotations(circuit, n):\n",
        "        \"\"\"Performs qft on the first n qubits in circuit (without swaps)\"\"\"\n",
        "        if n == 0:\n",
        "            return circuit\n",
        "        n -= 1\n",
        "        circuit.h(n)\n",
        "        for qubit in range(n):\n",
        "            circuit.cp(pi/2**(n-qubit), qubit, n)\n",
        "        # At the end of our function, we call the same function again on\n",
        "        # the next qubits (we reduced n by one earlier in the function)\n",
        "        qft_rotations(circuit, n)\n",
        "\n",
        "\n",
        "    def swap_registers(circuit, n):\n",
        "        for qubit in range(n//2):\n",
        "            circuit.swap(qubit, n-qubit-1)\n",
        "        return circuit\n",
        "\n",
        "    def qft(circuit, n):\n",
        "        \"\"\"QFT on the first n qubits in circuit\"\"\"\n",
        "        qft_rotations(circuit, n)\n",
        "        swap_registers(circuit, n)\n",
        "        return circuit\n",
        "\n",
        "    def qft_rotations_reverse(circuit, n):\n",
        "        \"\"\"Performs qft on the first n qubits in reverse order (without swaps)\"\"\"\n",
        "        if n == 0:\n",
        "            return circuit\n",
        "        n -= 1\n",
        "        # Apply controlled phase gates first in reverse order\n",
        "        for qubit in range(n):\n",
        "            circuit.cp(pi/2**(n-qubit), qubit, n)\n",
        "        # Apply the Hadamard gate after the controlled phase gates\n",
        "        circuit.h(n)\n",
        "        # Call the function recursively on the next qubits\n",
        "        qft_rotations_reverse(circuit, n)\n",
        "\n",
        "    def swap_registers(circuit, n):\n",
        "        for qubit in range(n//2):\n",
        "            circuit.swap(qubit, n-qubit-1)\n",
        "        return circuit\n",
        "\n",
        "    def qft_reverse(circuit, n):\n",
        "        \"\"\"QFT on the first n qubits in reverse order\"\"\"\n",
        "        qft_rotations_reverse(circuit, n)\n",
        "        swap_registers(circuit, n)\n",
        "        return circuit\n",
        "\n",
        "    from qiskit import QuantumCircuit\n",
        "    from qiskit.quantum_info import SparsePauliOp\n",
        "    import numpy as np\n",
        "    from math import pi\n",
        "\n",
        "\n",
        "    #Defining the oeprator in the matrix form\n",
        "    # matrix = np.array([[ 0.09478022+0.j,  0.        +0.j,  0.        +0.j,\n",
        "    #          0.        +0.j],\n",
        "    #        [ 0.        +0.j, 10.55072407+0.j,  0.        +0.j,\n",
        "    #          0.        +0.j],\n",
        "    #        [ 0.        +0.j,  0.        +0.j, 10.55072407+0.j,\n",
        "    #          0.        +0.j],\n",
        "    #        [ 0.        +0.j,  0.        +0.j,  0.        +0.j,\n",
        "    #          0.09478022+0.j]])\n",
        "    # op = SparsePauliOp.from_operator(matrix)\n",
        "    # print(op)\n",
        "    # Step 1: Define operator\n",
        "    op = SparsePauliOp.from_list(\n",
        "        [\n",
        "            (\"ZZ\"*int(num_qubits/2), -5.22797192+0.j),\n",
        "        ]\n",
        "    )\n",
        "\n",
        "    # Step 2: Define quantum state\n",
        "\n",
        "    from qiskit import QuantumCircuit, QuantumRegister, ClassicalRegister\n",
        "    # Number of qubits and the initial state\n",
        "    qubit_no = num_qubits  # This can be changed based on tensor network results\n",
        "    state = random_state\n",
        "\n",
        "    # Create the quantum circuit\n",
        "    qc = QuantumCircuit(qubit_no)\n",
        "\n",
        "    # Apply the X gate where the state has '1'\n",
        "    for i, number in enumerate(state):\n",
        "        if number == '1':\n",
        "            qc.x(i)\n",
        "    # print(qc.draw())\n",
        "\n",
        "\n",
        "    #APPLY QFT (TO CHECK AGAIN THIS PORTION)\n",
        "    qft(qc, qubit_no)\n",
        "\n",
        "\n",
        "    # Define a local backend\n",
        "    from qiskit_ibm_runtime.fake_provider import FakeOsaka\n",
        "    backend = FakeOsaka()\n",
        "\n",
        "    # Or define a real backend\n",
        "    # from qiskit_ibm_runtime import QiskitRuntimeService\n",
        "    # service = QiskitRuntimeService()\n",
        "    # backend = service.least_busy(operational=True, simulator=False)\n",
        "\n",
        "    # Circuits and parameters must obey the Instruction Set Architecture (ISA) of a particular backend.\n",
        "    from qiskit.transpiler.preset_passmanagers import generate_preset_pass_manager\n",
        "\n",
        "    pm = generate_preset_pass_manager(backend=backend, optimization_level=1)\n",
        "    isa_circuit = pm.run(qc)\n",
        "\n",
        "    isa_observable = op.apply_layout(isa_circuit.layout)\n",
        "\n",
        "    from qiskit_ibm_runtime import EstimatorV2 as Estimator\n",
        "\n",
        "    estimator = Estimator(backend, options={\"default_shots\": int(1e4)})\n",
        "    job = estimator.run([(isa_circuit, isa_observable)])\n",
        "\n",
        "\n",
        "\n",
        "    # Get results for the first (and only) PUB\n",
        "    pub_result = job.result()[0]\n",
        "\n",
        "    print(f\">>> Expectation value from qiskit: {pub_result.data.evs}\")\n",
        "    qiskit_expectation_values.append(pub_result.data.evs)\n",
        "\n",
        "    #QUIMB CODE\n",
        "    from quimb.tensor.circuit import Circuit\n",
        "    #Encoding the states\n",
        "\n",
        "    #First let us create the circuit so that we can store the states in their particular order\n",
        "    qc = qtn.Circuit(num_qubits)\n",
        "    #Getting the registers\n",
        "    regs = list(range(num_qubits))\n",
        "    #Encoding the values\n",
        "    for i, number in enumerate(random_state):\n",
        "      if number =='1':\n",
        "        qc.apply_gate('X', regs[i])\n",
        "    # print(regs)\n",
        "\n",
        "    qc.psi.draw()\n",
        "    # Drawing the circuit\n",
        "    # qc.psi.to_dense()\n",
        "    depth = 1\n",
        "\n",
        "\n",
        "\n",
        "\n",
        "    def circ_qft(num_qubits, random_state, depth,\n",
        "        **circuit_opts,\n",
        "    ):\n",
        "\n",
        "        circuit_opts.setdefault('gate_opts', {})\n",
        "        circuit_opts['gate_opts'].setdefault('contract', False)\n",
        "\n",
        "        n = num_qubits\n",
        "        gates = []\n",
        "        qubits=np.arange(n)\n",
        "        for i, number in enumerate(random_state):\n",
        "                gates.append(('X', qubits[i]))\n",
        "\n",
        "        #QFT\n",
        "        for d in range(depth):\n",
        "            for i in range(num_qubits):\n",
        "                gates.append((d, 'h', i)) #H gate\n",
        "                for j in range(i+1, num_qubits):\n",
        "                    lamda = np.pi / 2**(j - i)\n",
        "                    gates.append((d, 'CPHASE', lamda, qubits[i], qubits[j]))#Cphase\n",
        "\n",
        "                for i in range(num_qubits//2):\n",
        "                    gates.append((d, 'CNOT', qubits[i], qubits[len(qubits)-i-1]))\n",
        "                    gates.append((d, 'CNOT', qubits[len(qubits)-i-1], qubits[i]))\n",
        "                    gates.append((d, 'CNOT', qubits[i], qubits[len(qubits)-i-1]))\n",
        "\n",
        "\n",
        "\n",
        "\n",
        "\n",
        "        circ = Circuit(n, **circuit_opts)\n",
        "        circ.apply_gates(gates)\n",
        "\n",
        "\n",
        "        return circ\n",
        "\n",
        "    qubits=np.arange(num_qubits)\n",
        "    # for i in range(num_qubits//2):\n",
        "    #    print(i, len(qubits)-i-1)\n",
        "\n",
        "\n",
        "    qc= circ_qft(num_qubits, random_state, depth)\n",
        "\n",
        "    import networkx as nx\n",
        "    import random\n",
        "\n",
        "    # Define the number of nodes\n",
        "    num_nodes = num_qubits\n",
        "\n",
        "    # Calculate the number of edges based on the 2:1 node-to-edge ratio\n",
        "    num_edges = num_nodes // 2\n",
        "\n",
        "    # Create an empty graph\n",
        "    G = nx.Graph(seed = '666')\n",
        "    # nx.draw(G)\n",
        "\n",
        "    # Add nodes to the graph\n",
        "    G.add_nodes_from(range(num_nodes))\n",
        "\n",
        "    # Randomly add edges until the desired number of edges is reached\n",
        "    while G.number_of_edges() < num_edges:\n",
        "        # Pick two random nodes to connect with an edge\n",
        "        u, v = random.sample(range(num_nodes), 2)\n",
        "        # Add the edge if it doesn't already exist\n",
        "        if not G.has_edge(u, v):\n",
        "            G.add_edge(u, v)\n",
        "\n",
        "\n",
        "    reg = 3\n",
        "    n = num_qubits\n",
        "    seed = 666\n",
        "    F = nx.random_regular_graph(reg, n, seed=seed)\n",
        "\n",
        "    terms = {(i, j): 1 for i, j in F.edges}\n",
        "    #nx.draw(F, with_labels = True)\n",
        "    # Draw the graph\n",
        "    # nx.draw(G, with_labels=True)\n",
        "    # # display(nx.edges(G))\n",
        "    # G.edges()\n",
        "\n",
        "    import cotengra as ctg\n",
        "    import tqdm\n",
        "\n",
        "    opt = ctg.ReusableHyperOptimizer(\n",
        "        methods=['greedy'],\n",
        "        reconf_opts={},\n",
        "        max_repeats=32,\n",
        "        max_time=\"rate:1e6\",\n",
        "        parallel=True,\n",
        "        # use the following for persistently cached paths\n",
        "        # directory=True,\n",
        "    )\n",
        "    # edge=(0,2)\n",
        "\n",
        "    terms = {(i, j): 1 for i, j in G.edges}\n",
        "\n",
        "    ZZ =-1*i*(theta/2)*qu.pauli('Z') & qu.pauli('Z')\n",
        "\n",
        "    local_exp_rehs = [qc.local_expectation_rehearse(ZZ, edge, optimize=opt) for edge, weight in tqdm.tqdm(list(terms.items()))]\n",
        "\n",
        "    local_exp_rehs\n",
        "    local_exp_rehs = [qc.local_expectation(weight * ZZ, edge, optimize=opt) for edge, weight in tqdm.tqdm(list(terms.items()))]\n",
        "    print(f\">>> Expectation value from qiskit: {pub_result.data.evs}\")\n",
        "    print()\n",
        "    print(f\">>> Expectation value from quimb: {sum(local_exp_rehs)}\")\n",
        "    quimb_expectation_values.append(sum(local_exp_rehs))\n",
        "    print()\n",
        "\n",
        "\n",
        "\n",
        "plt.figure(figsize=(10, 6))\n",
        "plt.plot(qubits_range, qiskit_expectation_values, label='Qiskit Expectation Value', marker='o')\n",
        "plt.plot(qubits_range, quimb_expectation_values, label='Quimb Expectation Value', marker='x')\n",
        "plt.xlabel('Number of Qubits')\n",
        "plt.ylabel('Expectation Value')\n",
        "plt.title('Comparison of Qiskit vs Quimb Expectation Values')\n",
        "plt.legend()\n",
        "plt.grid(True)\n",
        "plt.show()\n"
      ],
      "metadata": {
        "colab": {
          "base_uri": "https://localhost:8080/",
          "height": 1000
        },
        "id": "YoaayA2tpSRH",
        "outputId": "f68aa737-8739-4961-827e-8b1439b917bf"
      },
      "execution_count": 13,
      "outputs": [
        {
          "output_type": "stream",
          "name": "stdout",
          "text": [
            "The generated random state is: 110011\n",
            "\n",
            ">>> Expectation value from qiskit: 0.072146012496\n"
          ]
        },
        {
          "output_type": "display_data",
          "data": {
            "text/plain": [
              "<Figure size 600x600 with 1 Axes>"
            ],
            "image/svg+xml": "<?xml version=\"1.0\" encoding=\"utf-8\" standalone=\"no\"?>\n<!DOCTYPE svg PUBLIC \"-//W3C//DTD SVG 1.1//EN\"\n  \"http://www.w3.org/Graphics/SVG/1.1/DTD/svg11.dtd\">\n<svg xmlns:xlink=\"http://www.w3.org/1999/xlink\" width=\"402.646456pt\" height=\"193.044151pt\" viewBox=\"0 0 402.646456 193.044151\" xmlns=\"http://www.w3.org/2000/svg\" version=\"1.1\">\n <metadata>\n  <rdf:RDF xmlns:dc=\"http://purl.org/dc/elements/1.1/\" xmlns:cc=\"http://creativecommons.org/ns#\" xmlns:rdf=\"http://www.w3.org/1999/02/22-rdf-syntax-ns#\">\n   <cc:Work>\n    <dc:type rdf:resource=\"http://purl.org/dc/dcmitype/StillImage\"/>\n    <dc:date>2024-09-05T06:49:32.325107</dc:date>\n    <dc:format>image/svg+xml</dc:format>\n    <dc:creator>\n     <cc:Agent>\n      <dc:title>Matplotlib v3.7.1, https://matplotlib.org/</dc:title>\n     </cc:Agent>\n    </dc:creator>\n   </cc:Work>\n  </rdf:RDF>\n </metadata>\n <defs>\n  <style type=\"text/css\">*{stroke-linejoin: round; stroke-linecap: butt}</style>\n </defs>\n <g id=\"figure_1\">\n  <g id=\"patch_1\">\n   <path d=\"M 0 193.044151 \nL 402.646456 193.044151 \nL 402.646456 -0 \nL 0 -0 \nL 0 193.044151 \nz\n\" style=\"fill: none; opacity: 0\"/>\n  </g>\n  <g id=\"axes_1\">\n   <g id=\"line2d_1\">\n    <path d=\"M 252.290951 24.63066 \nL 252.256887 21.497677 \n\" clip-path=\"url(#pcd217bd1ad)\" style=\"fill: none; stroke: #737880; stroke-opacity: 0.5; stroke-linecap: round\"/>\n   </g>\n   <g id=\"line2d_2\">\n    <path d=\"M 143.362124 31.660829 \nL 143.596336 34.785663 \n\" clip-path=\"url(#pcd217bd1ad)\" style=\"fill: none; stroke: #737880; stroke-opacity: 0.5; stroke-linecap: round\"/>\n   </g>\n   <g id=\"line2d_3\">\n    <path d=\"M 46.7409 19.920592 \nL 46.414605 20.324159 \nL 46.16758 19.867745 \n\" clip-path=\"url(#pcd217bd1ad)\" style=\"fill: none; stroke: #737880; stroke-opacity: 0.5; stroke-linecap: round\"/>\n   </g>\n   <g id=\"line2d_4\">\n    <path d=\"M 46.662325 17.636719 \nL 46.332031 21.219972 \n\" clip-path=\"url(#pcd217bd1ad)\" style=\"fill: none; stroke: #737880; stroke-opacity: 0.5; stroke-linecap: round\"/>\n   </g>\n   <g id=\"line2d_5\">\n    <path d=\"M 46.332031 21.219972 \nL 45.203475 24.621855 \n\" clip-path=\"url(#pcd217bd1ad)\" style=\"fill: none; stroke: #737880; stroke-opacity: 0.5; stroke-linecap: round\"/>\n   </g>\n   <g id=\"line2d_6\">\n    <path d=\"M 159.116114 170.3234 \nL 158.935715 169.838609 \nL 159.452598 169.858544 \n\" clip-path=\"url(#pcd217bd1ad)\" style=\"fill: none; stroke: #737880; stroke-opacity: 0.5; stroke-linecap: round\"/>\n   </g>\n   <g id=\"line2d_7\">\n    <path d=\"M 161.114726 171.415879 \nL 158.209377 169.312852 \n\" clip-path=\"url(#pcd217bd1ad)\" style=\"fill: none; stroke: #737880; stroke-opacity: 0.5; stroke-linecap: round\"/>\n   </g>\n   <g id=\"line2d_8\">\n    <path d=\"M 158.209377 169.312852 \nL 154.957844 167.800511 \n\" clip-path=\"url(#pcd217bd1ad)\" style=\"fill: none; stroke: #737880; stroke-opacity: 0.5; stroke-linecap: round\"/>\n   </g>\n   <g id=\"line2d_9\">\n    <path d=\"M 301.50887 173.680437 \nL 302.020286 173.604764 \nL 301.893439 174.105945 \n\" clip-path=\"url(#pcd217bd1ad)\" style=\"fill: none; stroke: #737880; stroke-opacity: 0.5; stroke-linecap: round\"/>\n   </g>\n   <g id=\"line2d_10\">\n    <path d=\"M 300.025714 175.407432 \nL 302.685143 173.003875 \n\" clip-path=\"url(#pcd217bd1ad)\" style=\"fill: none; stroke: #737880; stroke-opacity: 0.5; stroke-linecap: round\"/>\n   </g>\n   <g id=\"line2d_11\">\n    <path d=\"M 302.685143 173.003875 \nL 305.780408 171.184781 \n\" clip-path=\"url(#pcd217bd1ad)\" style=\"fill: none; stroke: #737880; stroke-opacity: 0.5; stroke-linecap: round\"/>\n   </g>\n   <g id=\"line2d_12\">\n    <path d=\"M 356.363747 21.640613 \nL 356.534997 21.154343 \nL 356.917997 21.499447 \n\" clip-path=\"url(#pcd217bd1ad)\" style=\"fill: none; stroke: #737880; stroke-opacity: 0.5; stroke-linecap: round\"/>\n   </g>\n   <g id=\"line2d_13\">\n    <path d=\"M 357.196714 23.752386 \nL 356.314425 20.288328 \n\" clip-path=\"url(#pcd217bd1ad)\" style=\"fill: none; stroke: #737880; stroke-opacity: 0.5; stroke-linecap: round\"/>\n   </g>\n   <g id=\"line2d_14\">\n    <path d=\"M 356.314425 20.288328 \nL 356.194329 16.684507 \n\" clip-path=\"url(#pcd217bd1ad)\" style=\"fill: none; stroke: #737880; stroke-opacity: 0.5; stroke-linecap: round\"/>\n   </g>\n   <g id=\"patch_2\">\n    <path d=\"M 252.256887 21.497677 \nC 252.256887 21.497677 252.256887 21.497677 252.256887 21.497677 \nC 252.256887 21.497677 252.256887 21.497677 252.256887 21.497677 \nC 252.256887 21.497677 252.256887 21.497677 252.256887 21.497677 \nC 252.256887 21.497677 252.256887 21.497677 252.256887 21.497677 \nC 252.256887 21.497677 252.256887 21.497677 252.256887 21.497677 \nC 252.256887 21.497677 252.256887 21.497677 252.256887 21.497677 \nC 252.256887 21.497677 252.256887 21.497677 252.256887 21.497677 \nC 252.256887 21.497677 252.256887 21.497677 252.256887 21.497677 \nz\n\" clip-path=\"url(#pcd217bd1ad)\" style=\"fill: #ffffff\"/>\n   </g>\n   <g id=\"patch_3\">\n    <path d=\"M 143.596336 34.785663 \nC 143.596336 34.785663 143.596336 34.785663 143.596336 34.785663 \nC 143.596336 34.785663 143.596336 34.785663 143.596336 34.785663 \nC 143.596336 34.785663 143.596336 34.785663 143.596336 34.785663 \nC 143.596336 34.785663 143.596336 34.785663 143.596336 34.785663 \nC 143.596336 34.785663 143.596336 34.785663 143.596336 34.785663 \nC 143.596336 34.785663 143.596336 34.785663 143.596336 34.785663 \nC 143.596336 34.785663 143.596336 34.785663 143.596336 34.785663 \nC 143.596336 34.785663 143.596336 34.785663 143.596336 34.785663 \nz\n\" clip-path=\"url(#pcd217bd1ad)\" style=\"fill: #ffffff\"/>\n   </g>\n   <g id=\"patch_4\">\n    <path d=\"M 45.203475 24.621855 \nC 45.203475 24.621855 45.203475 24.621855 45.203475 24.621855 \nC 45.203475 24.621855 45.203475 24.621855 45.203475 24.621855 \nC 45.203475 24.621855 45.203475 24.621855 45.203475 24.621855 \nC 45.203475 24.621855 45.203475 24.621855 45.203475 24.621855 \nC 45.203475 24.621855 45.203475 24.621855 45.203475 24.621855 \nC 45.203475 24.621855 45.203475 24.621855 45.203475 24.621855 \nC 45.203475 24.621855 45.203475 24.621855 45.203475 24.621855 \nC 45.203475 24.621855 45.203475 24.621855 45.203475 24.621855 \nz\n\" clip-path=\"url(#pcd217bd1ad)\" style=\"fill: #ffffff\"/>\n   </g>\n   <g id=\"patch_5\">\n    <path d=\"M 154.957844 167.800511 \nC 154.957844 167.800511 154.957844 167.800511 154.957844 167.800511 \nC 154.957844 167.800511 154.957844 167.800511 154.957844 167.800511 \nC 154.957844 167.800511 154.957844 167.800511 154.957844 167.800511 \nC 154.957844 167.800511 154.957844 167.800511 154.957844 167.800511 \nC 154.957844 167.800511 154.957844 167.800511 154.957844 167.800511 \nC 154.957844 167.800511 154.957844 167.800511 154.957844 167.800511 \nC 154.957844 167.800511 154.957844 167.800511 154.957844 167.800511 \nC 154.957844 167.800511 154.957844 167.800511 154.957844 167.800511 \nz\n\" clip-path=\"url(#pcd217bd1ad)\" style=\"fill: #ffffff\"/>\n   </g>\n   <g id=\"patch_6\">\n    <path d=\"M 305.780408 171.184781 \nC 305.780408 171.184781 305.780408 171.184781 305.780408 171.184781 \nC 305.780408 171.184781 305.780408 171.184781 305.780408 171.184781 \nC 305.780408 171.184781 305.780408 171.184781 305.780408 171.184781 \nC 305.780408 171.184781 305.780408 171.184781 305.780408 171.184781 \nC 305.780408 171.184781 305.780408 171.184781 305.780408 171.184781 \nC 305.780408 171.184781 305.780408 171.184781 305.780408 171.184781 \nC 305.780408 171.184781 305.780408 171.184781 305.780408 171.184781 \nC 305.780408 171.184781 305.780408 171.184781 305.780408 171.184781 \nz\n\" clip-path=\"url(#pcd217bd1ad)\" style=\"fill: #ffffff\"/>\n   </g>\n   <g id=\"patch_7\">\n    <path d=\"M 356.194329 16.684507 \nC 356.194329 16.684507 356.194329 16.684507 356.194329 16.684507 \nC 356.194329 16.684507 356.194329 16.684507 356.194329 16.684507 \nC 356.194329 16.684507 356.194329 16.684507 356.194329 16.684507 \nC 356.194329 16.684507 356.194329 16.684507 356.194329 16.684507 \nC 356.194329 16.684507 356.194329 16.684507 356.194329 16.684507 \nC 356.194329 16.684507 356.194329 16.684507 356.194329 16.684507 \nC 356.194329 16.684507 356.194329 16.684507 356.194329 16.684507 \nC 356.194329 16.684507 356.194329 16.684507 356.194329 16.684507 \nz\n\" clip-path=\"url(#pcd217bd1ad)\" style=\"fill: #ffffff\"/>\n   </g>\n   <g id=\"patch_8\">\n    <path d=\"M 46.662325 25.532451 \nC 48.756298 25.532451 50.764788 24.700507 52.245451 23.219845 \nC 53.726113 21.739182 54.558057 19.730692 54.558057 17.636719 \nC 54.558057 15.542746 53.726113 13.534255 52.245451 12.053593 \nC 50.764788 10.572931 48.756298 9.740986 46.662325 9.740986 \nC 44.568352 9.740986 42.559861 10.572931 41.079199 12.053593 \nC 39.598537 13.534255 38.766592 15.542746 38.766592 17.636719 \nC 38.766592 19.730692 39.598537 21.739182 41.079199 23.219845 \nC 42.559861 24.700507 44.568352 25.532451 46.662325 25.532451 \nz\n\" clip-path=\"url(#pcd217bd1ad)\" style=\"fill: #737880; stroke: #5d6167; stroke-width: 1.37413; stroke-linejoin: miter\"/>\n   </g>\n   <g id=\"patch_9\">\n    <path d=\"M 161.114726 179.311611 \nC 163.208699 179.311611 165.217189 178.479667 166.697852 176.999005 \nC 168.178514 175.518342 169.010458 173.509851 169.010458 171.415879 \nC 169.010458 169.321906 168.178514 167.313415 166.697852 165.832753 \nC 165.217189 164.352091 163.208699 163.520146 161.114726 163.520146 \nC 159.020753 163.520146 157.012262 164.352091 155.5316 165.832753 \nC 154.050938 167.313415 153.218993 169.321906 153.218993 171.415879 \nC 153.218993 173.509851 154.050938 175.518342 155.5316 176.999005 \nC 157.012262 178.479667 159.020753 179.311611 161.114726 179.311611 \nz\n\" clip-path=\"url(#pcd217bd1ad)\" style=\"fill: #737880; stroke: #5d6167; stroke-width: 1.37413; stroke-linejoin: miter\"/>\n   </g>\n   <g id=\"patch_10\">\n    <path d=\"M 252.290951 32.526392 \nC 254.384923 32.526392 256.393414 31.694448 257.874076 30.213786 \nC 259.354739 28.733124 260.186683 26.724633 260.186683 24.63066 \nC 260.186683 22.536687 259.354739 20.528196 257.874076 19.047534 \nC 256.393414 17.566872 254.384923 16.734928 252.290951 16.734928 \nC 250.196978 16.734928 248.188487 17.566872 246.707825 19.047534 \nC 245.227162 20.528196 244.395218 22.536687 244.395218 24.63066 \nC 244.395218 26.724633 245.227162 28.733124 246.707825 30.213786 \nC 248.188487 31.694448 250.196978 32.526392 252.290951 32.526392 \nz\n\" clip-path=\"url(#pcd217bd1ad)\" style=\"fill: #737880; stroke: #5d6167; stroke-width: 1.37413; stroke-linejoin: miter\"/>\n   </g>\n   <g id=\"patch_11\">\n    <path d=\"M 143.362124 39.556562 \nC 145.456097 39.556562 147.464588 38.724618 148.94525 37.243955 \nC 150.425912 35.763293 151.257857 33.754802 151.257857 31.660829 \nC 151.257857 29.566857 150.425912 27.558366 148.94525 26.077704 \nC 147.464588 24.597041 145.456097 23.765097 143.362124 23.765097 \nC 141.268152 23.765097 139.259661 24.597041 137.778998 26.077704 \nC 136.298336 27.558366 135.466392 29.566857 135.466392 31.660829 \nC 135.466392 33.754802 136.298336 35.763293 137.778998 37.243955 \nC 139.259661 38.724618 141.268152 39.556562 143.362124 39.556562 \nz\n\" clip-path=\"url(#pcd217bd1ad)\" style=\"fill: #737880; stroke: #5d6167; stroke-width: 1.37413; stroke-linejoin: miter\"/>\n   </g>\n   <g id=\"patch_12\">\n    <path d=\"M 300.025714 183.303164 \nC 302.119687 183.303164 304.128178 182.47122 305.60884 180.990558 \nC 307.089502 179.509896 307.921447 177.501405 307.921447 175.407432 \nC 307.921447 173.313459 307.089502 171.304968 305.60884 169.824306 \nC 304.128178 168.343644 302.119687 167.5117 300.025714 167.5117 \nC 297.931741 167.5117 295.923251 168.343644 294.442588 169.824306 \nC 292.961926 171.304968 292.129982 173.313459 292.129982 175.407432 \nC 292.129982 177.501405 292.961926 179.509896 294.442588 180.990558 \nC 295.923251 182.47122 297.931741 183.303164 300.025714 183.303164 \nz\n\" clip-path=\"url(#pcd217bd1ad)\" style=\"fill: #737880; stroke: #5d6167; stroke-width: 1.37413; stroke-linejoin: miter\"/>\n   </g>\n   <g id=\"patch_13\">\n    <path d=\"M 357.196714 31.648119 \nC 359.290687 31.648119 361.299178 30.816175 362.77984 29.335512 \nC 364.260502 27.85485 365.092446 25.846359 365.092446 23.752386 \nC 365.092446 21.658414 364.260502 19.649923 362.77984 18.16926 \nC 361.299178 16.688598 359.290687 15.856654 357.196714 15.856654 \nC 355.102741 15.856654 353.09425 16.688598 351.613588 18.16926 \nC 350.132926 19.649923 349.300982 21.658414 349.300982 23.752386 \nC 349.300982 25.846359 350.132926 27.85485 351.613588 29.335512 \nC 353.09425 30.816175 355.102741 31.648119 357.196714 31.648119 \nz\n\" clip-path=\"url(#pcd217bd1ad)\" style=\"fill: #737880; stroke: #5d6167; stroke-width: 1.37413; stroke-linejoin: miter\"/>\n   </g>\n   <g id=\"patch_14\">\n    <path d=\"M 46.332031 29.115705 \nC 48.426004 29.115705 50.434495 28.283761 51.915157 26.803098 \nC 53.395819 25.322436 54.227764 23.313945 54.227764 21.219972 \nC 54.227764 19.126 53.395819 17.117509 51.915157 15.636846 \nC 50.434495 14.156184 48.426004 13.32424 46.332031 13.32424 \nC 44.238059 13.32424 42.229568 14.156184 40.748905 15.636846 \nC 39.268243 17.117509 38.436299 19.126 38.436299 21.219972 \nC 38.436299 23.313945 39.268243 25.322436 40.748905 26.803098 \nC 42.229568 28.283761 44.238059 29.115705 46.332031 29.115705 \nz\n\" clip-path=\"url(#pcd217bd1ad)\" style=\"fill: #737880; stroke: #5d6167; stroke-width: 1.37413; stroke-linejoin: miter\"/>\n   </g>\n   <g id=\"patch_15\">\n    <path d=\"M 158.209377 177.208585 \nC 160.30335 177.208585 162.311841 176.376641 163.792503 174.895978 \nC 165.273166 173.415316 166.10511 171.406825 166.10511 169.312852 \nC 166.10511 167.21888 165.273166 165.210389 163.792503 163.729726 \nC 162.311841 162.249064 160.30335 161.41712 158.209377 161.41712 \nC 156.115405 161.41712 154.106914 162.249064 152.626252 163.729726 \nC 151.145589 165.210389 150.313645 167.21888 150.313645 169.312852 \nC 150.313645 171.406825 151.145589 173.415316 152.626252 174.895978 \nC 154.106914 176.376641 156.115405 177.208585 158.209377 177.208585 \nz\n\" clip-path=\"url(#pcd217bd1ad)\" style=\"fill: #737880; stroke: #5d6167; stroke-width: 1.37413; stroke-linejoin: miter\"/>\n   </g>\n   <g id=\"patch_16\">\n    <path d=\"M 302.685143 180.899608 \nC 304.779116 180.899608 306.787607 180.067663 308.268269 178.587001 \nC 309.748932 177.106339 310.580876 175.097848 310.580876 173.003875 \nC 310.580876 170.909902 309.748932 168.901411 308.268269 167.420749 \nC 306.787607 165.940087 304.779116 165.108143 302.685143 165.108143 \nC 300.591171 165.108143 298.58268 165.940087 297.102017 167.420749 \nC 295.621355 168.901411 294.789411 170.909902 294.789411 173.003875 \nC 294.789411 175.097848 295.621355 177.106339 297.102017 178.587001 \nC 298.58268 180.067663 300.591171 180.899608 302.685143 180.899608 \nz\n\" clip-path=\"url(#pcd217bd1ad)\" style=\"fill: #737880; stroke: #5d6167; stroke-width: 1.37413; stroke-linejoin: miter\"/>\n   </g>\n   <g id=\"patch_17\">\n    <path d=\"M 356.314425 28.184061 \nC 358.408398 28.184061 360.416889 27.352117 361.897551 25.871454 \nC 363.378213 24.390792 364.210158 22.382301 364.210158 20.288328 \nC 364.210158 18.194356 363.378213 16.185865 361.897551 14.705203 \nC 360.416889 13.22454 358.408398 12.392596 356.314425 12.392596 \nC 354.220452 12.392596 352.211962 13.22454 350.731299 14.705203 \nC 349.250637 16.185865 348.418693 18.194356 348.418693 20.288328 \nC 348.418693 22.382301 349.250637 24.390792 350.731299 25.871454 \nC 352.211962 27.352117 354.220452 28.184061 356.314425 28.184061 \nz\n\" clip-path=\"url(#pcd217bd1ad)\" style=\"fill: #737880; stroke: #5d6167; stroke-width: 1.37413; stroke-linejoin: miter\"/>\n   </g>\n   <g id=\"text_1\">\n    <!-- k2 -->\n    <g style=\"fill: #545759\" transform=\"translate(248.042668 23.447834) scale(0.07 -0.07)\">\n     <defs>\n      <path id=\"DejaVuSansMono-6b\" d=\"M 738 4863 \nL 1331 4863 \nL 1331 2047 \nL 2841 3500 \nL 3541 3500 \nL 2163 2181 \nL 3756 0 \nL 3053 0 \nL 1759 1806 \nL 1331 1403 \nL 1331 0 \nL 738 0 \nL 738 4863 \nz\n\" transform=\"scale(0.015625)\"/>\n      <path id=\"DejaVuSansMono-32\" d=\"M 1166 531 \nL 3309 531 \nL 3309 0 \nL 475 0 \nL 475 531 \nQ 1059 1147 1496 1619 \nQ 1934 2091 2100 2284 \nQ 2413 2666 2522 2902 \nQ 2631 3138 2631 3384 \nQ 2631 3775 2401 3997 \nQ 2172 4219 1772 4219 \nQ 1488 4219 1175 4116 \nQ 863 4013 513 3803 \nL 513 4441 \nQ 834 4594 1145 4672 \nQ 1456 4750 1759 4750 \nQ 2444 4750 2861 4386 \nQ 3278 4022 3278 3431 \nQ 3278 3131 3139 2831 \nQ 3000 2531 2688 2169 \nQ 2513 1966 2180 1606 \nQ 1847 1247 1166 531 \nz\n\" transform=\"scale(0.015625)\"/>\n     </defs>\n     <use xlink:href=\"#DejaVuSansMono-6b\"/>\n     <use xlink:href=\"#DejaVuSansMono-32\" x=\"60.205078\"/>\n    </g>\n   </g>\n   <g id=\"text_2\">\n    <!-- k3 -->\n    <g style=\"fill: #545759\" transform=\"translate(139.382117 36.735819) scale(0.07 -0.07)\">\n     <defs>\n      <path id=\"DejaVuSansMono-33\" d=\"M 2425 2497 \nQ 2884 2375 3128 2064 \nQ 3372 1753 3372 1288 \nQ 3372 644 2939 276 \nQ 2506 -91 1741 -91 \nQ 1419 -91 1084 -31 \nQ 750 28 428 141 \nL 428 769 \nQ 747 603 1056 522 \nQ 1366 441 1672 441 \nQ 2191 441 2469 675 \nQ 2747 909 2747 1350 \nQ 2747 1756 2469 1995 \nQ 2191 2234 1716 2234 \nL 1234 2234 \nL 1234 2753 \nL 1716 2753 \nQ 2150 2753 2394 2943 \nQ 2638 3134 2638 3475 \nQ 2638 3834 2411 4026 \nQ 2184 4219 1766 4219 \nQ 1488 4219 1191 4156 \nQ 894 4094 569 3969 \nL 569 4550 \nQ 947 4650 1242 4700 \nQ 1538 4750 1766 4750 \nQ 2447 4750 2855 4408 \nQ 3263 4066 3263 3500 \nQ 3263 3116 3048 2859 \nQ 2834 2603 2425 2497 \nz\n\" transform=\"scale(0.015625)\"/>\n     </defs>\n     <use xlink:href=\"#DejaVuSansMono-6b\"/>\n     <use xlink:href=\"#DejaVuSansMono-33\" x=\"60.205078\"/>\n    </g>\n   </g>\n   <g id=\"text_3\">\n    <!-- k0 -->\n    <g style=\"fill: #545759\" transform=\"translate(40.989256 26.572011) scale(0.07 -0.07)\">\n     <defs>\n      <path id=\"DejaVuSansMono-30\" d=\"M 1509 2344 \nQ 1509 2516 1629 2641 \nQ 1750 2766 1919 2766 \nQ 2094 2766 2219 2641 \nQ 2344 2516 2344 2344 \nQ 2344 2169 2220 2047 \nQ 2097 1925 1919 1925 \nQ 1744 1925 1626 2044 \nQ 1509 2163 1509 2344 \nz\nM 1925 4250 \nQ 1484 4250 1267 3775 \nQ 1050 3300 1050 2328 \nQ 1050 1359 1267 884 \nQ 1484 409 1925 409 \nQ 2369 409 2586 884 \nQ 2803 1359 2803 2328 \nQ 2803 3300 2586 3775 \nQ 2369 4250 1925 4250 \nz\nM 1925 4750 \nQ 2672 4750 3055 4137 \nQ 3438 3525 3438 2328 \nQ 3438 1134 3055 521 \nQ 2672 -91 1925 -91 \nQ 1178 -91 797 521 \nQ 416 1134 416 2328 \nQ 416 3525 797 4137 \nQ 1178 4750 1925 4750 \nz\n\" transform=\"scale(0.015625)\"/>\n     </defs>\n     <use xlink:href=\"#DejaVuSansMono-6b\"/>\n     <use xlink:href=\"#DejaVuSansMono-30\" x=\"60.205078\"/>\n    </g>\n   </g>\n   <g id=\"text_4\">\n    <!-- k1 -->\n    <g style=\"fill: #545759\" transform=\"translate(150.743625 169.750668) scale(0.07 -0.07)\">\n     <defs>\n      <path id=\"DejaVuSansMono-31\" d=\"M 844 531 \nL 1825 531 \nL 1825 4097 \nL 769 3859 \nL 769 4434 \nL 1819 4666 \nL 2450 4666 \nL 2450 531 \nL 3419 531 \nL 3419 0 \nL 844 0 \nL 844 531 \nz\n\" transform=\"scale(0.015625)\"/>\n     </defs>\n     <use xlink:href=\"#DejaVuSansMono-6b\"/>\n     <use xlink:href=\"#DejaVuSansMono-31\" x=\"60.205078\"/>\n    </g>\n   </g>\n   <g id=\"text_5\">\n    <!-- k4 -->\n    <g style=\"fill: #545759\" transform=\"translate(301.566189 173.134937) scale(0.07 -0.07)\">\n     <defs>\n      <path id=\"DejaVuSansMono-34\" d=\"M 2297 4091 \nL 825 1625 \nL 2297 1625 \nL 2297 4091 \nz\nM 2194 4666 \nL 2925 4666 \nL 2925 1625 \nL 3547 1625 \nL 3547 1113 \nL 2925 1113 \nL 2925 0 \nL 2297 0 \nL 2297 1113 \nL 319 1113 \nL 319 1709 \nL 2194 4666 \nz\n\" transform=\"scale(0.015625)\"/>\n     </defs>\n     <use xlink:href=\"#DejaVuSansMono-6b\"/>\n     <use xlink:href=\"#DejaVuSansMono-34\" x=\"60.205078\"/>\n    </g>\n   </g>\n   <g id=\"text_6\">\n    <!-- k5 -->\n    <g style=\"fill: #545759\" transform=\"translate(351.98011 18.634663) scale(0.07 -0.07)\">\n     <defs>\n      <path id=\"DejaVuSansMono-35\" d=\"M 647 4666 \nL 3009 4666 \nL 3009 4134 \nL 1222 4134 \nL 1222 2988 \nQ 1356 3038 1492 3061 \nQ 1628 3084 1766 3084 \nQ 2491 3084 2916 2656 \nQ 3341 2228 3341 1497 \nQ 3341 759 2895 334 \nQ 2450 -91 1678 -91 \nQ 1306 -91 998 -41 \nQ 691 9 447 109 \nL 447 750 \nQ 734 594 1025 517 \nQ 1316 441 1619 441 \nQ 2141 441 2423 716 \nQ 2706 991 2706 1497 \nQ 2706 1997 2414 2275 \nQ 2122 2553 1600 2553 \nQ 1347 2553 1106 2495 \nQ 866 2438 647 2322 \nL 647 4666 \nz\n\" transform=\"scale(0.015625)\"/>\n     </defs>\n     <use xlink:href=\"#DejaVuSansMono-6b\"/>\n     <use xlink:href=\"#DejaVuSansMono-35\" x=\"60.205078\"/>\n    </g>\n   </g>\n   <g id=\"text_7\">\n    <!-- I0, PSI0 -->\n    <g style=\"fill: #545759\" transform=\"translate(22.581075 20.422656) scale(0.1 -0.1)\">\n     <defs>\n      <path id=\"DejaVuSansMono-49\" d=\"M 628 4666 \nL 3219 4666 \nL 3219 4134 \nL 2241 4134 \nL 2241 531 \nL 3219 531 \nL 3219 0 \nL 628 0 \nL 628 531 \nL 1606 531 \nL 1606 4134 \nL 628 4134 \nL 628 4666 \nz\n\" transform=\"scale(0.015625)\"/>\n      <path id=\"DejaVuSansMono-2c\" d=\"M 1569 947 \nL 2356 947 \nL 2356 300 \nL 1741 -897 \nL 1259 -897 \nL 1569 300 \nL 1569 947 \nz\n\" transform=\"scale(0.015625)\"/>\n      <path id=\"DejaVuSansMono-20\" transform=\"scale(0.015625)\"/>\n      <path id=\"DejaVuSansMono-50\" d=\"M 1247 4147 \nL 1247 2394 \nL 1978 2394 \nQ 2416 2394 2661 2625 \nQ 2906 2856 2906 3272 \nQ 2906 3688 2662 3917 \nQ 2419 4147 1978 4147 \nL 1247 4147 \nz\nM 616 4666 \nL 1978 4666 \nQ 2759 4666 3162 4311 \nQ 3566 3956 3566 3272 \nQ 3566 2581 3164 2228 \nQ 2763 1875 1978 1875 \nL 1247 1875 \nL 1247 0 \nL 616 0 \nL 616 4666 \nz\n\" transform=\"scale(0.015625)\"/>\n      <path id=\"DejaVuSansMono-53\" d=\"M 3163 4506 \nL 3163 3866 \nQ 2875 4050 2586 4144 \nQ 2297 4238 2003 4238 \nQ 1556 4238 1297 4030 \nQ 1038 3822 1038 3469 \nQ 1038 3159 1208 2996 \nQ 1378 2834 1844 2725 \nL 2175 2650 \nQ 2831 2497 3131 2169 \nQ 3431 1841 3431 1275 \nQ 3431 609 3018 259 \nQ 2606 -91 1819 -91 \nQ 1491 -91 1159 -20 \nQ 828 50 494 191 \nL 494 863 \nQ 853 634 1173 528 \nQ 1494 422 1819 422 \nQ 2297 422 2562 636 \nQ 2828 850 2828 1234 \nQ 2828 1584 2645 1768 \nQ 2463 1953 2009 2053 \nL 1672 2131 \nQ 1022 2278 728 2575 \nQ 434 2872 434 3372 \nQ 434 3997 854 4373 \nQ 1275 4750 1972 4750 \nQ 2241 4750 2537 4689 \nQ 2834 4628 3163 4506 \nz\n\" transform=\"scale(0.015625)\"/>\n     </defs>\n     <use xlink:href=\"#DejaVuSansMono-49\"/>\n     <use xlink:href=\"#DejaVuSansMono-30\" x=\"60.205078\"/>\n     <use xlink:href=\"#DejaVuSansMono-2c\" x=\"120.410156\"/>\n     <use xlink:href=\"#DejaVuSansMono-20\" x=\"180.615234\"/>\n     <use xlink:href=\"#DejaVuSansMono-50\" x=\"240.820312\"/>\n     <use xlink:href=\"#DejaVuSansMono-53\" x=\"301.025391\"/>\n     <use xlink:href=\"#DejaVuSansMono-49\" x=\"361.230469\"/>\n     <use xlink:href=\"#DejaVuSansMono-30\" x=\"421.435547\"/>\n    </g>\n   </g>\n   <g id=\"text_8\">\n    <!-- I1, PSI0 -->\n    <g style=\"fill: #545759\" transform=\"translate(137.033476 174.201816) scale(0.1 -0.1)\">\n     <use xlink:href=\"#DejaVuSansMono-49\"/>\n     <use xlink:href=\"#DejaVuSansMono-31\" x=\"60.205078\"/>\n     <use xlink:href=\"#DejaVuSansMono-2c\" x=\"120.410156\"/>\n     <use xlink:href=\"#DejaVuSansMono-20\" x=\"180.615234\"/>\n     <use xlink:href=\"#DejaVuSansMono-50\" x=\"240.820312\"/>\n     <use xlink:href=\"#DejaVuSansMono-53\" x=\"301.025391\"/>\n     <use xlink:href=\"#DejaVuSansMono-49\" x=\"361.230469\"/>\n     <use xlink:href=\"#DejaVuSansMono-30\" x=\"421.435547\"/>\n    </g>\n   </g>\n   <g id=\"text_9\">\n    <!-- I2, PSI0 -->\n    <g style=\"fill: #545759\" transform=\"translate(228.209701 27.416598) scale(0.1 -0.1)\">\n     <use xlink:href=\"#DejaVuSansMono-49\"/>\n     <use xlink:href=\"#DejaVuSansMono-32\" x=\"60.205078\"/>\n     <use xlink:href=\"#DejaVuSansMono-2c\" x=\"120.410156\"/>\n     <use xlink:href=\"#DejaVuSansMono-20\" x=\"180.615234\"/>\n     <use xlink:href=\"#DejaVuSansMono-50\" x=\"240.820312\"/>\n     <use xlink:href=\"#DejaVuSansMono-53\" x=\"301.025391\"/>\n     <use xlink:href=\"#DejaVuSansMono-49\" x=\"361.230469\"/>\n     <use xlink:href=\"#DejaVuSansMono-30\" x=\"421.435547\"/>\n    </g>\n   </g>\n   <g id=\"text_10\">\n    <!-- I3, PSI0 -->\n    <g style=\"fill: #545759\" transform=\"translate(119.280874 34.446767) scale(0.1 -0.1)\">\n     <use xlink:href=\"#DejaVuSansMono-49\"/>\n     <use xlink:href=\"#DejaVuSansMono-33\" x=\"60.205078\"/>\n     <use xlink:href=\"#DejaVuSansMono-2c\" x=\"120.410156\"/>\n     <use xlink:href=\"#DejaVuSansMono-20\" x=\"180.615234\"/>\n     <use xlink:href=\"#DejaVuSansMono-50\" x=\"240.820312\"/>\n     <use xlink:href=\"#DejaVuSansMono-53\" x=\"301.025391\"/>\n     <use xlink:href=\"#DejaVuSansMono-49\" x=\"361.230469\"/>\n     <use xlink:href=\"#DejaVuSansMono-30\" x=\"421.435547\"/>\n    </g>\n   </g>\n   <g id=\"text_11\">\n    <!-- I4, PSI0 -->\n    <g style=\"fill: #545759\" transform=\"translate(275.944464 178.193369) scale(0.1 -0.1)\">\n     <use xlink:href=\"#DejaVuSansMono-49\"/>\n     <use xlink:href=\"#DejaVuSansMono-34\" x=\"60.205078\"/>\n     <use xlink:href=\"#DejaVuSansMono-2c\" x=\"120.410156\"/>\n     <use xlink:href=\"#DejaVuSansMono-20\" x=\"180.615234\"/>\n     <use xlink:href=\"#DejaVuSansMono-50\" x=\"240.820312\"/>\n     <use xlink:href=\"#DejaVuSansMono-53\" x=\"301.025391\"/>\n     <use xlink:href=\"#DejaVuSansMono-49\" x=\"361.230469\"/>\n     <use xlink:href=\"#DejaVuSansMono-30\" x=\"421.435547\"/>\n    </g>\n   </g>\n   <g id=\"text_12\">\n    <!-- I5, PSI0 -->\n    <g style=\"fill: #545759\" transform=\"translate(333.115464 26.538324) scale(0.1 -0.1)\">\n     <use xlink:href=\"#DejaVuSansMono-49\"/>\n     <use xlink:href=\"#DejaVuSansMono-35\" x=\"60.205078\"/>\n     <use xlink:href=\"#DejaVuSansMono-2c\" x=\"120.410156\"/>\n     <use xlink:href=\"#DejaVuSansMono-20\" x=\"180.615234\"/>\n     <use xlink:href=\"#DejaVuSansMono-50\" x=\"240.820312\"/>\n     <use xlink:href=\"#DejaVuSansMono-53\" x=\"301.025391\"/>\n     <use xlink:href=\"#DejaVuSansMono-49\" x=\"361.230469\"/>\n     <use xlink:href=\"#DejaVuSansMono-30\" x=\"421.435547\"/>\n    </g>\n   </g>\n   <g id=\"text_13\">\n    <!-- GATE_0, X, I0 -->\n    <g style=\"fill: #545759\" transform=\"translate(7.2 23.752004) scale(0.1 -0.1)\">\n     <defs>\n      <path id=\"DejaVuSansMono-47\" d=\"M 3450 384 \nQ 3197 150 2880 29 \nQ 2563 -91 2194 -91 \nQ 1306 -91 812 545 \nQ 319 1181 319 2328 \nQ 319 3472 819 4111 \nQ 1319 4750 2209 4750 \nQ 2503 4750 2772 4667 \nQ 3041 4584 3291 4416 \nL 3291 3769 \nQ 3038 4009 2772 4123 \nQ 2506 4238 2209 4238 \nQ 1594 4238 1286 3761 \nQ 978 3284 978 2328 \nQ 978 1356 1276 889 \nQ 1575 422 2194 422 \nQ 2403 422 2561 470 \nQ 2719 519 2847 622 \nL 2847 1875 \nL 2169 1875 \nL 2169 2394 \nL 3450 2394 \nL 3450 384 \nz\n\" transform=\"scale(0.015625)\"/>\n      <path id=\"DejaVuSansMono-41\" d=\"M 1925 4109 \nL 1259 1722 \nL 2591 1722 \nL 1925 4109 \nz\nM 1544 4666 \nL 2309 4666 \nL 3738 0 \nL 3084 0 \nL 2741 1216 \nL 1106 1216 \nL 769 0 \nL 116 0 \nL 1544 4666 \nz\n\" transform=\"scale(0.015625)\"/>\n      <path id=\"DejaVuSansMono-54\" d=\"M 147 4666 \nL 3706 4666 \nL 3706 4134 \nL 2247 4134 \nL 2247 0 \nL 1613 0 \nL 1613 4134 \nL 147 4134 \nL 147 4666 \nz\n\" transform=\"scale(0.015625)\"/>\n      <path id=\"DejaVuSansMono-45\" d=\"M 616 4666 \nL 3384 4666 \nL 3384 4134 \nL 1247 4134 \nL 1247 2753 \nL 3291 2753 \nL 3291 2222 \nL 1247 2222 \nL 1247 531 \nL 3444 531 \nL 3444 0 \nL 616 0 \nL 616 4666 \nz\n\" transform=\"scale(0.015625)\"/>\n      <path id=\"DejaVuSansMono-5f\" d=\"M 3853 -1259 \nL 3853 -1509 \nL 0 -1509 \nL 0 -1259 \nL 3853 -1259 \nz\n\" transform=\"scale(0.015625)\"/>\n      <path id=\"DejaVuSansMono-58\" d=\"M 269 4666 \nL 947 4666 \nL 1972 2906 \nL 3016 4666 \nL 3694 4666 \nL 2297 2472 \nL 3794 0 \nL 3116 0 \nL 1972 2009 \nL 738 0 \nL 56 0 \nL 1619 2472 \nL 269 4666 \nz\n\" transform=\"scale(0.015625)\"/>\n     </defs>\n     <use xlink:href=\"#DejaVuSansMono-47\"/>\n     <use xlink:href=\"#DejaVuSansMono-41\" x=\"60.205078\"/>\n     <use xlink:href=\"#DejaVuSansMono-54\" x=\"120.410156\"/>\n     <use xlink:href=\"#DejaVuSansMono-45\" x=\"180.615234\"/>\n     <use xlink:href=\"#DejaVuSansMono-5f\" x=\"240.820312\"/>\n     <use xlink:href=\"#DejaVuSansMono-30\" x=\"301.025391\"/>\n     <use xlink:href=\"#DejaVuSansMono-2c\" x=\"361.230469\"/>\n     <use xlink:href=\"#DejaVuSansMono-20\" x=\"421.435547\"/>\n     <use xlink:href=\"#DejaVuSansMono-58\" x=\"481.640625\"/>\n     <use xlink:href=\"#DejaVuSansMono-2c\" x=\"541.845703\"/>\n     <use xlink:href=\"#DejaVuSansMono-20\" x=\"602.050781\"/>\n     <use xlink:href=\"#DejaVuSansMono-49\" x=\"662.255859\"/>\n     <use xlink:href=\"#DejaVuSansMono-30\" x=\"722.460938\"/>\n    </g>\n   </g>\n   <g id=\"text_14\">\n    <!-- GATE_1, X, I1 -->\n    <g style=\"fill: #545759\" transform=\"translate(119.077346 171.844884) scale(0.1 -0.1)\">\n     <use xlink:href=\"#DejaVuSansMono-47\"/>\n     <use xlink:href=\"#DejaVuSansMono-41\" x=\"60.205078\"/>\n     <use xlink:href=\"#DejaVuSansMono-54\" x=\"120.410156\"/>\n     <use xlink:href=\"#DejaVuSansMono-45\" x=\"180.615234\"/>\n     <use xlink:href=\"#DejaVuSansMono-5f\" x=\"240.820312\"/>\n     <use xlink:href=\"#DejaVuSansMono-31\" x=\"301.025391\"/>\n     <use xlink:href=\"#DejaVuSansMono-2c\" x=\"361.230469\"/>\n     <use xlink:href=\"#DejaVuSansMono-20\" x=\"421.435547\"/>\n     <use xlink:href=\"#DejaVuSansMono-58\" x=\"481.640625\"/>\n     <use xlink:href=\"#DejaVuSansMono-2c\" x=\"541.845703\"/>\n     <use xlink:href=\"#DejaVuSansMono-20\" x=\"602.050781\"/>\n     <use xlink:href=\"#DejaVuSansMono-49\" x=\"662.255859\"/>\n     <use xlink:href=\"#DejaVuSansMono-31\" x=\"722.460938\"/>\n    </g>\n   </g>\n   <g id=\"text_15\">\n    <!-- GATE_2, X, I4 -->\n    <g style=\"fill: #545759\" transform=\"translate(263.553112 175.535906) scale(0.1 -0.1)\">\n     <use xlink:href=\"#DejaVuSansMono-47\"/>\n     <use xlink:href=\"#DejaVuSansMono-41\" x=\"60.205078\"/>\n     <use xlink:href=\"#DejaVuSansMono-54\" x=\"120.410156\"/>\n     <use xlink:href=\"#DejaVuSansMono-45\" x=\"180.615234\"/>\n     <use xlink:href=\"#DejaVuSansMono-5f\" x=\"240.820312\"/>\n     <use xlink:href=\"#DejaVuSansMono-32\" x=\"301.025391\"/>\n     <use xlink:href=\"#DejaVuSansMono-2c\" x=\"361.230469\"/>\n     <use xlink:href=\"#DejaVuSansMono-20\" x=\"421.435547\"/>\n     <use xlink:href=\"#DejaVuSansMono-58\" x=\"481.640625\"/>\n     <use xlink:href=\"#DejaVuSansMono-2c\" x=\"541.845703\"/>\n     <use xlink:href=\"#DejaVuSansMono-20\" x=\"602.050781\"/>\n     <use xlink:href=\"#DejaVuSansMono-49\" x=\"662.255859\"/>\n     <use xlink:href=\"#DejaVuSansMono-34\" x=\"722.460938\"/>\n    </g>\n   </g>\n   <g id=\"text_16\">\n    <!-- GATE_3, X, I5 -->\n    <g style=\"fill: #545759\" transform=\"translate(317.182394 22.82036) scale(0.1 -0.1)\">\n     <use xlink:href=\"#DejaVuSansMono-47\"/>\n     <use xlink:href=\"#DejaVuSansMono-41\" x=\"60.205078\"/>\n     <use xlink:href=\"#DejaVuSansMono-54\" x=\"120.410156\"/>\n     <use xlink:href=\"#DejaVuSansMono-45\" x=\"180.615234\"/>\n     <use xlink:href=\"#DejaVuSansMono-5f\" x=\"240.820312\"/>\n     <use xlink:href=\"#DejaVuSansMono-33\" x=\"301.025391\"/>\n     <use xlink:href=\"#DejaVuSansMono-2c\" x=\"361.230469\"/>\n     <use xlink:href=\"#DejaVuSansMono-20\" x=\"421.435547\"/>\n     <use xlink:href=\"#DejaVuSansMono-58\" x=\"481.640625\"/>\n     <use xlink:href=\"#DejaVuSansMono-2c\" x=\"541.845703\"/>\n     <use xlink:href=\"#DejaVuSansMono-20\" x=\"602.050781\"/>\n     <use xlink:href=\"#DejaVuSansMono-49\" x=\"662.255859\"/>\n     <use xlink:href=\"#DejaVuSansMono-35\" x=\"722.460938\"/>\n    </g>\n   </g>\n  </g>\n </g>\n <defs>\n  <clipPath id=\"pcd217bd1ad\">\n   <rect x=\"34.364373\" y=\"7.2\" width=\"334.8\" height=\"178.644151\"/>\n  </clipPath>\n </defs>\n</svg>\n"
          },
          "metadata": {
            "needs_background": "light"
          }
        },
        {
          "output_type": "stream",
          "name": "stderr",
          "text": [
            "100%|██████████| 3/3 [00:32<00:00, 10.97s/it]\n",
            "100%|██████████| 3/3 [00:00<00:00, 476.30it/s]\n"
          ]
        },
        {
          "output_type": "stream",
          "name": "stdout",
          "text": [
            ">>> Expectation value from qiskit: 0.072146012496\n",
            "\n",
            ">>> Expectation value from quimb: (4.438665592473617+1.249000902703301e-16j)\n",
            "\n",
            "The generated random state is: 01011111\n",
            "\n",
            ">>> Expectation value from qiskit: -0.10978741032\n"
          ]
        },
        {
          "output_type": "display_data",
          "data": {
            "text/plain": [
              "<Figure size 600x600 with 1 Axes>"
            ],
            "image/svg+xml": "<?xml version=\"1.0\" encoding=\"utf-8\" standalone=\"no\"?>\n<!DOCTYPE svg PUBLIC \"-//W3C//DTD SVG 1.1//EN\"\n  \"http://www.w3.org/Graphics/SVG/1.1/DTD/svg11.dtd\">\n<svg xmlns:xlink=\"http://www.w3.org/1999/xlink\" width=\"401.801466pt\" height=\"265.333979pt\" viewBox=\"0 0 401.801466 265.333979\" xmlns=\"http://www.w3.org/2000/svg\" version=\"1.1\">\n <metadata>\n  <rdf:RDF xmlns:dc=\"http://purl.org/dc/elements/1.1/\" xmlns:cc=\"http://creativecommons.org/ns#\" xmlns:rdf=\"http://www.w3.org/1999/02/22-rdf-syntax-ns#\">\n   <cc:Work>\n    <dc:type rdf:resource=\"http://purl.org/dc/dcmitype/StillImage\"/>\n    <dc:date>2024-09-05T06:50:13.585267</dc:date>\n    <dc:format>image/svg+xml</dc:format>\n    <dc:creator>\n     <cc:Agent>\n      <dc:title>Matplotlib v3.7.1, https://matplotlib.org/</dc:title>\n     </cc:Agent>\n    </dc:creator>\n   </cc:Work>\n  </rdf:RDF>\n </metadata>\n <defs>\n  <style type=\"text/css\">*{stroke-linejoin: round; stroke-linecap: butt}</style>\n </defs>\n <g id=\"figure_1\">\n  <g id=\"patch_1\">\n   <path d=\"M 0 265.333979 \nL 401.801466 265.333979 \nL 401.801466 0 \nL 0 0 \nL 0 265.333979 \nz\n\" style=\"fill: none; opacity: 0\"/>\n  </g>\n  <g id=\"axes_1\">\n   <g id=\"line2d_1\">\n    <path d=\"M 268.957669 32.689792 \nL 268.241781 35.159529 \n\" clip-path=\"url(#p4aa800bffb)\" style=\"fill: none; stroke: #737880; stroke-opacity: 0.5; stroke-linecap: round\"/>\n   </g>\n   <g id=\"line2d_2\">\n    <path d=\"M 197.068285 18.64429 \nL 196.426967 16.122079 \n\" clip-path=\"url(#p4aa800bffb)\" style=\"fill: none; stroke: #737880; stroke-opacity: 0.5; stroke-linecap: round\"/>\n   </g>\n   <g id=\"line2d_3\">\n    <path d=\"M 46.115622 65.252584 \nL 46.343855 64.897939 \nL 46.583438 65.245017 \n\" clip-path=\"url(#p4aa800bffb)\" style=\"fill: none; stroke: #737880; stroke-opacity: 0.5; stroke-linecap: round\"/>\n   </g>\n   <g id=\"line2d_4\">\n    <path d=\"M 46.379325 67.090825 \nL 46.332031 64.166977 \n\" clip-path=\"url(#p4aa800bffb)\" style=\"fill: none; stroke: #737880; stroke-opacity: 0.5; stroke-linecap: round\"/>\n   </g>\n   <g id=\"line2d_5\">\n    <path d=\"M 46.332031 64.166977 \nL 45.559496 61.302366 \n\" clip-path=\"url(#p4aa800bffb)\" style=\"fill: none; stroke: #737880; stroke-opacity: 0.5; stroke-linecap: round\"/>\n   </g>\n   <g id=\"line2d_6\">\n    <path d=\"M 152.956574 96.996491 \nL 153.159967 96.625405 \nL 153.42428 96.955878 \n\" clip-path=\"url(#p4aa800bffb)\" style=\"fill: none; stroke: #737880; stroke-opacity: 0.5; stroke-linecap: round\"/>\n   </g>\n   <g id=\"line2d_7\">\n    <path d=\"M 153.350342 98.817778 \nL 153.096508 95.894614 \n\" clip-path=\"url(#p4aa800bffb)\" style=\"fill: none; stroke: #737880; stroke-opacity: 0.5; stroke-linecap: round\"/>\n   </g>\n   <g id=\"line2d_8\">\n    <path d=\"M 153.096508 95.894614 \nL 152.4359 93.023163 \n\" clip-path=\"url(#p4aa800bffb)\" style=\"fill: none; stroke: #737880; stroke-opacity: 0.5; stroke-linecap: round\"/>\n   </g>\n   <g id=\"line2d_9\">\n    <path d=\"M 139.228193 243.582077 \nL 139.366045 243.981894 \nL 138.943963 243.955367 \n\" clip-path=\"url(#p4aa800bffb)\" style=\"fill: none; stroke: #737880; stroke-opacity: 0.5; stroke-linecap: round\"/>\n   </g>\n   <g id=\"line2d_10\">\n    <path d=\"M 137.616249 242.649564 \nL 139.949311 244.426004 \n\" clip-path=\"url(#p4aa800bffb)\" style=\"fill: none; stroke: #737880; stroke-opacity: 0.5; stroke-linecap: round\"/>\n   </g>\n   <g id=\"line2d_11\">\n    <path d=\"M 139.949311 244.426004 \nL 141.802721 246.727004 \n\" clip-path=\"url(#p4aa800bffb)\" style=\"fill: none; stroke: #737880; stroke-opacity: 0.5; stroke-linecap: round\"/>\n   </g>\n   <g id=\"line2d_12\">\n    <path d=\"M 304.778211 245.211452 \nL 305.194717 245.128258 \nL 305.111316 245.544722 \n\" clip-path=\"url(#p4aa800bffb)\" style=\"fill: none; stroke: #737880; stroke-opacity: 0.5; stroke-linecap: round\"/>\n   </g>\n   <g id=\"line2d_13\">\n    <path d=\"M 303.632512 246.689689 \nL 305.715452 244.607781 \n\" clip-path=\"url(#p4aa800bffb)\" style=\"fill: none; stroke: #737880; stroke-opacity: 0.5; stroke-linecap: round\"/>\n   </g>\n   <g id=\"line2d_14\">\n    <path d=\"M 305.715452 244.607781 \nL 308.258716 243.125225 \n\" clip-path=\"url(#p4aa800bffb)\" style=\"fill: none; stroke: #737880; stroke-opacity: 0.5; stroke-linecap: round\"/>\n   </g>\n   <g id=\"line2d_15\">\n    <path d=\"M 247.674014 139.143484 \nL 247.250563 139.170421 \nL 247.388564 138.769182 \n\" clip-path=\"url(#p4aa800bffb)\" style=\"fill: none; stroke: #737880; stroke-opacity: 0.5; stroke-linecap: round\"/>\n   </g>\n   <g id=\"line2d_16\">\n    <path d=\"M 249.0051 137.832372 \nL 246.665717 139.616437 \n\" clip-path=\"url(#p4aa800bffb)\" style=\"fill: none; stroke: #737880; stroke-opacity: 0.5; stroke-linecap: round\"/>\n   </g>\n   <g id=\"line2d_17\">\n    <path d=\"M 246.665717 139.616437 \nL 244.563984 141.668083 \n\" clip-path=\"url(#p4aa800bffb)\" style=\"fill: none; stroke: #737880; stroke-opacity: 0.5; stroke-linecap: round\"/>\n   </g>\n   <g id=\"line2d_18\">\n    <path d=\"M 356.108247 31.069652 \nL 355.751831 31.310584 \nL 355.666515 30.888918 \n\" clip-path=\"url(#p4aa800bffb)\" style=\"fill: none; stroke: #737880; stroke-opacity: 0.5; stroke-linecap: round\"/>\n   </g>\n   <g id=\"line2d_19\">\n    <path d=\"M 356.599019 29.239966 \nL 355.469435 32.00079 \n\" clip-path=\"url(#p4aa800bffb)\" style=\"fill: none; stroke: #737880; stroke-opacity: 0.5; stroke-linecap: round\"/>\n   </g>\n   <g id=\"line2d_20\">\n    <path d=\"M 355.469435 32.00079 \nL 354.980209 34.870185 \n\" clip-path=\"url(#p4aa800bffb)\" style=\"fill: none; stroke: #737880; stroke-opacity: 0.5; stroke-linecap: round\"/>\n   </g>\n   <g id=\"patch_2\">\n    <path d=\"M 268.241781 35.159529 \nC 268.241781 35.159529 268.241781 35.159529 268.241781 35.159529 \nC 268.241781 35.159529 268.241781 35.159529 268.241781 35.159529 \nC 268.241781 35.159529 268.241781 35.159529 268.241781 35.159529 \nC 268.241781 35.159529 268.241781 35.159529 268.241781 35.159529 \nC 268.241781 35.159529 268.241781 35.159529 268.241781 35.159529 \nC 268.241781 35.159529 268.241781 35.159529 268.241781 35.159529 \nC 268.241781 35.159529 268.241781 35.159529 268.241781 35.159529 \nC 268.241781 35.159529 268.241781 35.159529 268.241781 35.159529 \nz\n\" clip-path=\"url(#p4aa800bffb)\" style=\"fill: #ffffff\"/>\n   </g>\n   <g id=\"patch_3\">\n    <path d=\"M 196.426967 16.122079 \nC 196.426967 16.122079 196.426967 16.122079 196.426967 16.122079 \nC 196.426967 16.122079 196.426967 16.122079 196.426967 16.122079 \nC 196.426967 16.122079 196.426967 16.122079 196.426967 16.122079 \nC 196.426967 16.122079 196.426967 16.122079 196.426967 16.122079 \nC 196.426967 16.122079 196.426967 16.122079 196.426967 16.122079 \nC 196.426967 16.122079 196.426967 16.122079 196.426967 16.122079 \nC 196.426967 16.122079 196.426967 16.122079 196.426967 16.122079 \nC 196.426967 16.122079 196.426967 16.122079 196.426967 16.122079 \nz\n\" clip-path=\"url(#p4aa800bffb)\" style=\"fill: #ffffff\"/>\n   </g>\n   <g id=\"patch_4\">\n    <path d=\"M 45.559496 61.302366 \nC 45.559496 61.302366 45.559496 61.302366 45.559496 61.302366 \nC 45.559496 61.302366 45.559496 61.302366 45.559496 61.302366 \nC 45.559496 61.302366 45.559496 61.302366 45.559496 61.302366 \nC 45.559496 61.302366 45.559496 61.302366 45.559496 61.302366 \nC 45.559496 61.302366 45.559496 61.302366 45.559496 61.302366 \nC 45.559496 61.302366 45.559496 61.302366 45.559496 61.302366 \nC 45.559496 61.302366 45.559496 61.302366 45.559496 61.302366 \nC 45.559496 61.302366 45.559496 61.302366 45.559496 61.302366 \nz\n\" clip-path=\"url(#p4aa800bffb)\" style=\"fill: #ffffff\"/>\n   </g>\n   <g id=\"patch_5\">\n    <path d=\"M 152.4359 93.023163 \nC 152.4359 93.023163 152.4359 93.023163 152.4359 93.023163 \nC 152.4359 93.023163 152.4359 93.023163 152.4359 93.023163 \nC 152.4359 93.023163 152.4359 93.023163 152.4359 93.023163 \nC 152.4359 93.023163 152.4359 93.023163 152.4359 93.023163 \nC 152.4359 93.023163 152.4359 93.023163 152.4359 93.023163 \nC 152.4359 93.023163 152.4359 93.023163 152.4359 93.023163 \nC 152.4359 93.023163 152.4359 93.023163 152.4359 93.023163 \nC 152.4359 93.023163 152.4359 93.023163 152.4359 93.023163 \nz\n\" clip-path=\"url(#p4aa800bffb)\" style=\"fill: #ffffff\"/>\n   </g>\n   <g id=\"patch_6\">\n    <path d=\"M 141.802721 246.727004 \nC 141.802721 246.727004 141.802721 246.727004 141.802721 246.727004 \nC 141.802721 246.727004 141.802721 246.727004 141.802721 246.727004 \nC 141.802721 246.727004 141.802721 246.727004 141.802721 246.727004 \nC 141.802721 246.727004 141.802721 246.727004 141.802721 246.727004 \nC 141.802721 246.727004 141.802721 246.727004 141.802721 246.727004 \nC 141.802721 246.727004 141.802721 246.727004 141.802721 246.727004 \nC 141.802721 246.727004 141.802721 246.727004 141.802721 246.727004 \nC 141.802721 246.727004 141.802721 246.727004 141.802721 246.727004 \nz\n\" clip-path=\"url(#p4aa800bffb)\" style=\"fill: #ffffff\"/>\n   </g>\n   <g id=\"patch_7\">\n    <path d=\"M 308.258716 243.125225 \nC 308.258716 243.125225 308.258716 243.125225 308.258716 243.125225 \nC 308.258716 243.125225 308.258716 243.125225 308.258716 243.125225 \nC 308.258716 243.125225 308.258716 243.125225 308.258716 243.125225 \nC 308.258716 243.125225 308.258716 243.125225 308.258716 243.125225 \nC 308.258716 243.125225 308.258716 243.125225 308.258716 243.125225 \nC 308.258716 243.125225 308.258716 243.125225 308.258716 243.125225 \nC 308.258716 243.125225 308.258716 243.125225 308.258716 243.125225 \nC 308.258716 243.125225 308.258716 243.125225 308.258716 243.125225 \nz\n\" clip-path=\"url(#p4aa800bffb)\" style=\"fill: #ffffff\"/>\n   </g>\n   <g id=\"patch_8\">\n    <path d=\"M 244.563984 141.668083 \nC 244.563984 141.668083 244.563984 141.668083 244.563984 141.668083 \nC 244.563984 141.668083 244.563984 141.668083 244.563984 141.668083 \nC 244.563984 141.668083 244.563984 141.668083 244.563984 141.668083 \nC 244.563984 141.668083 244.563984 141.668083 244.563984 141.668083 \nC 244.563984 141.668083 244.563984 141.668083 244.563984 141.668083 \nC 244.563984 141.668083 244.563984 141.668083 244.563984 141.668083 \nC 244.563984 141.668083 244.563984 141.668083 244.563984 141.668083 \nC 244.563984 141.668083 244.563984 141.668083 244.563984 141.668083 \nz\n\" clip-path=\"url(#p4aa800bffb)\" style=\"fill: #ffffff\"/>\n   </g>\n   <g id=\"patch_9\">\n    <path d=\"M 354.980209 34.870185 \nC 354.980209 34.870185 354.980209 34.870185 354.980209 34.870185 \nC 354.980209 34.870185 354.980209 34.870185 354.980209 34.870185 \nC 354.980209 34.870185 354.980209 34.870185 354.980209 34.870185 \nC 354.980209 34.870185 354.980209 34.870185 354.980209 34.870185 \nC 354.980209 34.870185 354.980209 34.870185 354.980209 34.870185 \nC 354.980209 34.870185 354.980209 34.870185 354.980209 34.870185 \nC 354.980209 34.870185 354.980209 34.870185 354.980209 34.870185 \nC 354.980209 34.870185 354.980209 34.870185 354.980209 34.870185 \nz\n\" clip-path=\"url(#p4aa800bffb)\" style=\"fill: #ffffff\"/>\n   </g>\n   <g id=\"patch_10\">\n    <path d=\"M 268.957669 40.857204 \nC 271.123691 40.857204 273.201291 39.996634 274.732901 38.465024 \nC 276.26451 36.933415 277.12508 34.855815 277.12508 32.689792 \nC 277.12508 30.523769 276.26451 28.446169 274.732901 26.914559 \nC 273.201291 25.38295 271.123691 24.52238 268.957669 24.52238 \nC 266.791646 24.52238 264.714046 25.38295 263.182436 26.914559 \nC 261.650827 28.446169 260.790257 30.523769 260.790257 32.689792 \nC 260.790257 34.855815 261.650827 36.933415 263.182436 38.465024 \nC 264.714046 39.996634 266.791646 40.857204 268.957669 40.857204 \nz\n\" clip-path=\"url(#p4aa800bffb)\" style=\"fill: #737880; stroke: #5d6167; stroke-width: 1.373575; stroke-linejoin: miter\"/>\n   </g>\n   <g id=\"patch_11\">\n    <path d=\"M 46.379325 75.258237 \nC 48.545348 75.258237 50.622948 74.397667 52.154557 72.866058 \nC 53.686167 71.334448 54.546737 69.256848 54.546737 67.090825 \nC 54.546737 64.924802 53.686167 62.847202 52.154557 61.315593 \nC 50.622948 59.783983 48.545348 58.923413 46.379325 58.923413 \nC 44.213302 58.923413 42.135702 59.783983 40.604092 61.315593 \nC 39.072483 62.847202 38.211913 64.924802 38.211913 67.090825 \nC 38.211913 69.256848 39.072483 71.334448 40.604092 72.866058 \nC 42.135702 74.397667 44.213302 75.258237 46.379325 75.258237 \nz\n\" clip-path=\"url(#p4aa800bffb)\" style=\"fill: #737880; stroke: #5d6167; stroke-width: 1.373575; stroke-linejoin: miter\"/>\n   </g>\n   <g id=\"patch_12\">\n    <path d=\"M 197.068285 26.811702 \nC 199.234308 26.811702 201.311907 25.951132 202.843517 24.419523 \nC 204.375126 22.887913 205.235697 20.810313 205.235697 18.64429 \nC 205.235697 16.478267 204.375126 14.400667 202.843517 12.869058 \nC 201.311907 11.337448 199.234308 10.476878 197.068285 10.476878 \nC 194.902262 10.476878 192.824662 11.337448 191.293052 12.869058 \nC 189.761443 14.400667 188.900873 16.478267 188.900873 18.64429 \nC 188.900873 20.810313 189.761443 22.887913 191.293052 24.419523 \nC 192.824662 25.951132 194.902262 26.811702 197.068285 26.811702 \nz\n\" clip-path=\"url(#p4aa800bffb)\" style=\"fill: #737880; stroke: #5d6167; stroke-width: 1.373575; stroke-linejoin: miter\"/>\n   </g>\n   <g id=\"patch_13\">\n    <path d=\"M 153.350342 106.98519 \nC 155.516365 106.98519 157.593965 106.12462 159.125575 104.593011 \nC 160.657184 103.061401 161.517754 100.983801 161.517754 98.817778 \nC 161.517754 96.651755 160.657184 94.574155 159.125575 93.042546 \nC 157.593965 91.510936 155.516365 90.650366 153.350342 90.650366 \nC 151.184319 90.650366 149.10672 91.510936 147.57511 93.042546 \nC 146.0435 94.574155 145.18293 96.651755 145.18293 98.817778 \nC 145.18293 100.983801 146.0435 103.061401 147.57511 104.593011 \nC 149.10672 106.12462 151.184319 106.98519 153.350342 106.98519 \nz\n\" clip-path=\"url(#p4aa800bffb)\" style=\"fill: #737880; stroke: #5d6167; stroke-width: 1.373575; stroke-linejoin: miter\"/>\n   </g>\n   <g id=\"patch_14\">\n    <path d=\"M 137.616249 250.816976 \nC 139.782272 250.816976 141.859871 249.956406 143.391481 248.424797 \nC 144.92309 246.893187 145.78366 244.815587 145.78366 242.649564 \nC 145.78366 240.483541 144.92309 238.405942 143.391481 236.874332 \nC 141.859871 235.342723 139.782272 234.482152 137.616249 234.482152 \nC 135.450226 234.482152 133.372626 235.342723 131.841016 236.874332 \nC 130.309407 238.405942 129.448837 240.483541 129.448837 242.649564 \nC 129.448837 244.815587 130.309407 246.893187 131.841016 248.424797 \nC 133.372626 249.956406 135.450226 250.816976 137.616249 250.816976 \nz\n\" clip-path=\"url(#p4aa800bffb)\" style=\"fill: #737880; stroke: #5d6167; stroke-width: 1.373575; stroke-linejoin: miter\"/>\n   </g>\n   <g id=\"patch_15\">\n    <path d=\"M 303.632512 254.857101 \nC 305.798535 254.857101 307.876134 253.996531 309.407744 252.464921 \nC 310.939354 250.933312 311.799924 248.855712 311.799924 246.689689 \nC 311.799924 244.523666 310.939354 242.446066 309.407744 240.914457 \nC 307.876134 239.382847 305.798535 238.522277 303.632512 238.522277 \nC 301.466489 238.522277 299.388889 239.382847 297.857279 240.914457 \nC 296.32567 242.446066 295.4651 244.523666 295.4651 246.689689 \nC 295.4651 248.855712 296.32567 250.933312 297.857279 252.464921 \nC 299.388889 253.996531 301.466489 254.857101 303.632512 254.857101 \nz\n\" clip-path=\"url(#p4aa800bffb)\" style=\"fill: #737880; stroke: #5d6167; stroke-width: 1.373575; stroke-linejoin: miter\"/>\n   </g>\n   <g id=\"patch_16\">\n    <path d=\"M 249.0051 145.999784 \nC 251.171123 145.999784 253.248723 145.139214 254.780333 143.607604 \nC 256.311942 142.075995 257.172512 139.998395 257.172512 137.832372 \nC 257.172512 135.666349 256.311942 133.588749 254.780333 132.05714 \nC 253.248723 130.52553 251.171123 129.66496 249.0051 129.66496 \nC 246.839077 129.66496 244.761478 130.52553 243.229868 132.05714 \nC 241.698259 133.588749 240.837688 135.666349 240.837688 137.832372 \nC 240.837688 139.998395 241.698259 142.075995 243.229868 143.607604 \nC 244.761478 145.139214 246.839077 145.999784 249.0051 145.999784 \nz\n\" clip-path=\"url(#p4aa800bffb)\" style=\"fill: #737880; stroke: #5d6167; stroke-width: 1.373575; stroke-linejoin: miter\"/>\n   </g>\n   <g id=\"patch_17\">\n    <path d=\"M 356.599019 37.407378 \nC 358.765042 37.407378 360.842642 36.546808 362.374251 35.015198 \nC 363.905861 33.483589 364.766431 31.405989 364.766431 29.239966 \nC 364.766431 27.073943 363.905861 24.996343 362.374251 23.464733 \nC 360.842642 21.933124 358.765042 21.072554 356.599019 21.072554 \nC 354.432996 21.072554 352.355396 21.933124 350.823787 23.464733 \nC 349.292177 24.996343 348.431607 27.073943 348.431607 29.239966 \nC 348.431607 31.405989 349.292177 33.483589 350.823787 35.015198 \nC 352.355396 36.546808 354.432996 37.407378 356.599019 37.407378 \nz\n\" clip-path=\"url(#p4aa800bffb)\" style=\"fill: #737880; stroke: #5d6167; stroke-width: 1.373575; stroke-linejoin: miter\"/>\n   </g>\n   <g id=\"patch_18\">\n    <path d=\"M 46.332031 72.334389 \nC 48.498054 72.334389 50.575654 71.473819 52.107264 69.942209 \nC 53.638873 68.4106 54.499443 66.333 54.499443 64.166977 \nC 54.499443 62.000954 53.638873 59.923354 52.107264 58.391744 \nC 50.575654 56.860135 48.498054 55.999565 46.332031 55.999565 \nC 44.166008 55.999565 42.088408 56.860135 40.556799 58.391744 \nC 39.025189 59.923354 38.164619 62.000954 38.164619 64.166977 \nC 38.164619 66.333 39.025189 68.4106 40.556799 69.942209 \nC 42.088408 71.473819 44.166008 72.334389 46.332031 72.334389 \nz\n\" clip-path=\"url(#p4aa800bffb)\" style=\"fill: #737880; stroke: #5d6167; stroke-width: 1.373575; stroke-linejoin: miter\"/>\n   </g>\n   <g id=\"patch_19\">\n    <path d=\"M 153.096508 104.062026 \nC 155.262531 104.062026 157.340131 103.201456 158.871741 101.669846 \nC 160.40335 100.138237 161.26392 98.060637 161.26392 95.894614 \nC 161.26392 93.728591 160.40335 91.650991 158.871741 90.119381 \nC 157.340131 88.587772 155.262531 87.727202 153.096508 87.727202 \nC 150.930485 87.727202 148.852886 88.587772 147.321276 90.119381 \nC 145.789666 91.650991 144.929096 93.728591 144.929096 95.894614 \nC 144.929096 98.060637 145.789666 100.138237 147.321276 101.669846 \nC 148.852886 103.201456 150.930485 104.062026 153.096508 104.062026 \nz\n\" clip-path=\"url(#p4aa800bffb)\" style=\"fill: #737880; stroke: #5d6167; stroke-width: 1.373575; stroke-linejoin: miter\"/>\n   </g>\n   <g id=\"patch_20\">\n    <path d=\"M 139.949311 252.593416 \nC 142.115334 252.593416 144.192934 251.732846 145.724543 250.201237 \nC 147.256153 248.669627 148.116723 246.592027 148.116723 244.426004 \nC 148.116723 242.259981 147.256153 240.182382 145.724543 238.650772 \nC 144.192934 237.119162 142.115334 236.258592 139.949311 236.258592 \nC 137.783288 236.258592 135.705688 237.119162 134.174078 238.650772 \nC 132.642469 240.182382 131.781899 242.259981 131.781899 244.426004 \nC 131.781899 246.592027 132.642469 248.669627 134.174078 250.201237 \nC 135.705688 251.732846 137.783288 252.593416 139.949311 252.593416 \nz\n\" clip-path=\"url(#p4aa800bffb)\" style=\"fill: #737880; stroke: #5d6167; stroke-width: 1.373575; stroke-linejoin: miter\"/>\n   </g>\n   <g id=\"patch_21\">\n    <path d=\"M 305.715452 252.775193 \nC 307.881475 252.775193 309.959074 251.914623 311.490684 250.383013 \nC 313.022294 248.851404 313.882864 246.773804 313.882864 244.607781 \nC 313.882864 242.441758 313.022294 240.364158 311.490684 238.832549 \nC 309.959074 237.300939 307.881475 236.440369 305.715452 236.440369 \nC 303.549429 236.440369 301.471829 237.300939 299.940219 238.832549 \nC 298.40861 240.364158 297.54804 242.441758 297.54804 244.607781 \nC 297.54804 246.773804 298.40861 248.851404 299.940219 250.383013 \nC 301.471829 251.914623 303.549429 252.775193 305.715452 252.775193 \nz\n\" clip-path=\"url(#p4aa800bffb)\" style=\"fill: #737880; stroke: #5d6167; stroke-width: 1.373575; stroke-linejoin: miter\"/>\n   </g>\n   <g id=\"patch_22\">\n    <path d=\"M 246.665717 147.783849 \nC 248.83174 147.783849 250.90934 146.923279 252.440949 145.39167 \nC 253.972559 143.86006 254.833129 141.78246 254.833129 139.616437 \nC 254.833129 137.450414 253.972559 135.372815 252.440949 133.841205 \nC 250.90934 132.309596 248.83174 131.449025 246.665717 131.449025 \nC 244.499694 131.449025 242.422094 132.309596 240.890485 133.841205 \nC 239.358875 135.372815 238.498305 137.450414 238.498305 139.616437 \nC 238.498305 141.78246 239.358875 143.86006 240.890485 145.39167 \nC 242.422094 146.923279 244.499694 147.783849 246.665717 147.783849 \nz\n\" clip-path=\"url(#p4aa800bffb)\" style=\"fill: #737880; stroke: #5d6167; stroke-width: 1.373575; stroke-linejoin: miter\"/>\n   </g>\n   <g id=\"patch_23\">\n    <path d=\"M 355.469435 40.168202 \nC 357.635458 40.168202 359.713058 39.307632 361.244667 37.776023 \nC 362.776277 36.244413 363.636847 34.166813 363.636847 32.00079 \nC 363.636847 29.834767 362.776277 27.757167 361.244667 26.225558 \nC 359.713058 24.693948 357.635458 23.833378 355.469435 23.833378 \nC 353.303412 23.833378 351.225812 24.693948 349.694202 26.225558 \nC 348.162593 27.757167 347.302023 29.834767 347.302023 32.00079 \nC 347.302023 34.166813 348.162593 36.244413 349.694202 37.776023 \nC 351.225812 39.307632 353.303412 40.168202 355.469435 40.168202 \nz\n\" clip-path=\"url(#p4aa800bffb)\" style=\"fill: #737880; stroke: #5d6167; stroke-width: 1.373575; stroke-linejoin: miter\"/>\n   </g>\n   <g id=\"text_1\">\n    <!-- k0 -->\n    <g style=\"fill: #545759\" transform=\"translate(264.027562 37.109686) scale(0.07 -0.07)\">\n     <defs>\n      <path id=\"DejaVuSansMono-6b\" d=\"M 738 4863 \nL 1331 4863 \nL 1331 2047 \nL 2841 3500 \nL 3541 3500 \nL 2163 2181 \nL 3756 0 \nL 3053 0 \nL 1759 1806 \nL 1331 1403 \nL 1331 0 \nL 738 0 \nL 738 4863 \nz\n\" transform=\"scale(0.015625)\"/>\n      <path id=\"DejaVuSansMono-30\" d=\"M 1509 2344 \nQ 1509 2516 1629 2641 \nQ 1750 2766 1919 2766 \nQ 2094 2766 2219 2641 \nQ 2344 2516 2344 2344 \nQ 2344 2169 2220 2047 \nQ 2097 1925 1919 1925 \nQ 1744 1925 1626 2044 \nQ 1509 2163 1509 2344 \nz\nM 1925 4250 \nQ 1484 4250 1267 3775 \nQ 1050 3300 1050 2328 \nQ 1050 1359 1267 884 \nQ 1484 409 1925 409 \nQ 2369 409 2586 884 \nQ 2803 1359 2803 2328 \nQ 2803 3300 2586 3775 \nQ 2369 4250 1925 4250 \nz\nM 1925 4750 \nQ 2672 4750 3055 4137 \nQ 3438 3525 3438 2328 \nQ 3438 1134 3055 521 \nQ 2672 -91 1925 -91 \nQ 1178 -91 797 521 \nQ 416 1134 416 2328 \nQ 416 3525 797 4137 \nQ 1178 4750 1925 4750 \nz\n\" transform=\"scale(0.015625)\"/>\n     </defs>\n     <use xlink:href=\"#DejaVuSansMono-6b\"/>\n     <use xlink:href=\"#DejaVuSansMono-30\" x=\"60.205078\"/>\n    </g>\n   </g>\n   <g id=\"text_2\">\n    <!-- k2 -->\n    <g style=\"fill: #545759\" transform=\"translate(192.212748 18.072235) scale(0.07 -0.07)\">\n     <defs>\n      <path id=\"DejaVuSansMono-32\" d=\"M 1166 531 \nL 3309 531 \nL 3309 0 \nL 475 0 \nL 475 531 \nQ 1059 1147 1496 1619 \nQ 1934 2091 2100 2284 \nQ 2413 2666 2522 2902 \nQ 2631 3138 2631 3384 \nQ 2631 3775 2401 3997 \nQ 2172 4219 1772 4219 \nQ 1488 4219 1175 4116 \nQ 863 4013 513 3803 \nL 513 4441 \nQ 834 4594 1145 4672 \nQ 1456 4750 1759 4750 \nQ 2444 4750 2861 4386 \nQ 3278 4022 3278 3431 \nQ 3278 3131 3139 2831 \nQ 3000 2531 2688 2169 \nQ 2513 1966 2180 1606 \nQ 1847 1247 1166 531 \nz\n\" transform=\"scale(0.015625)\"/>\n     </defs>\n     <use xlink:href=\"#DejaVuSansMono-6b\"/>\n     <use xlink:href=\"#DejaVuSansMono-32\" x=\"60.205078\"/>\n    </g>\n   </g>\n   <g id=\"text_3\">\n    <!-- k1 -->\n    <g style=\"fill: #545759\" transform=\"translate(41.345277 63.252522) scale(0.07 -0.07)\">\n     <defs>\n      <path id=\"DejaVuSansMono-31\" d=\"M 844 531 \nL 1825 531 \nL 1825 4097 \nL 769 3859 \nL 769 4434 \nL 1819 4666 \nL 2450 4666 \nL 2450 531 \nL 3419 531 \nL 3419 0 \nL 844 0 \nL 844 531 \nz\n\" transform=\"scale(0.015625)\"/>\n     </defs>\n     <use xlink:href=\"#DejaVuSansMono-6b\"/>\n     <use xlink:href=\"#DejaVuSansMono-31\" x=\"60.205078\"/>\n    </g>\n   </g>\n   <g id=\"text_4\">\n    <!-- k3 -->\n    <g style=\"fill: #545759\" transform=\"translate(148.221682 94.973319) scale(0.07 -0.07)\">\n     <defs>\n      <path id=\"DejaVuSansMono-33\" d=\"M 2425 2497 \nQ 2884 2375 3128 2064 \nQ 3372 1753 3372 1288 \nQ 3372 644 2939 276 \nQ 2506 -91 1741 -91 \nQ 1419 -91 1084 -31 \nQ 750 28 428 141 \nL 428 769 \nQ 747 603 1056 522 \nQ 1366 441 1672 441 \nQ 2191 441 2469 675 \nQ 2747 909 2747 1350 \nQ 2747 1756 2469 1995 \nQ 2191 2234 1716 2234 \nL 1234 2234 \nL 1234 2753 \nL 1716 2753 \nQ 2150 2753 2394 2943 \nQ 2638 3134 2638 3475 \nQ 2638 3834 2411 4026 \nQ 2184 4219 1766 4219 \nQ 1488 4219 1191 4156 \nQ 894 4094 569 3969 \nL 569 4550 \nQ 947 4650 1242 4700 \nQ 1538 4750 1766 4750 \nQ 2447 4750 2855 4408 \nQ 3263 4066 3263 3500 \nQ 3263 3116 3048 2859 \nQ 2834 2603 2425 2497 \nz\n\" transform=\"scale(0.015625)\"/>\n     </defs>\n     <use xlink:href=\"#DejaVuSansMono-6b\"/>\n     <use xlink:href=\"#DejaVuSansMono-33\" x=\"60.205078\"/>\n    </g>\n   </g>\n   <g id=\"text_5\">\n    <!-- k4 -->\n    <g style=\"fill: #545759\" transform=\"translate(137.588502 248.67716) scale(0.07 -0.07)\">\n     <defs>\n      <path id=\"DejaVuSansMono-34\" d=\"M 2297 4091 \nL 825 1625 \nL 2297 1625 \nL 2297 4091 \nz\nM 2194 4666 \nL 2925 4666 \nL 2925 1625 \nL 3547 1625 \nL 3547 1113 \nL 2925 1113 \nL 2925 0 \nL 2297 0 \nL 2297 1113 \nL 319 1113 \nL 319 1709 \nL 2194 4666 \nz\n\" transform=\"scale(0.015625)\"/>\n     </defs>\n     <use xlink:href=\"#DejaVuSansMono-6b\"/>\n     <use xlink:href=\"#DejaVuSansMono-34\" x=\"60.205078\"/>\n    </g>\n   </g>\n   <g id=\"text_6\">\n    <!-- k5 -->\n    <g style=\"fill: #545759\" transform=\"translate(304.044498 245.075381) scale(0.07 -0.07)\">\n     <defs>\n      <path id=\"DejaVuSansMono-35\" d=\"M 647 4666 \nL 3009 4666 \nL 3009 4134 \nL 1222 4134 \nL 1222 2988 \nQ 1356 3038 1492 3061 \nQ 1628 3084 1766 3084 \nQ 2491 3084 2916 2656 \nQ 3341 2228 3341 1497 \nQ 3341 759 2895 334 \nQ 2450 -91 1678 -91 \nQ 1306 -91 998 -41 \nQ 691 9 447 109 \nL 447 750 \nQ 734 594 1025 517 \nQ 1316 441 1619 441 \nQ 2141 441 2423 716 \nQ 2706 991 2706 1497 \nQ 2706 1997 2414 2275 \nQ 2122 2553 1600 2553 \nQ 1347 2553 1106 2495 \nQ 866 2438 647 2322 \nL 647 4666 \nz\n\" transform=\"scale(0.015625)\"/>\n     </defs>\n     <use xlink:href=\"#DejaVuSansMono-6b\"/>\n     <use xlink:href=\"#DejaVuSansMono-35\" x=\"60.205078\"/>\n    </g>\n   </g>\n   <g id=\"text_7\">\n    <!-- k6 -->\n    <g style=\"fill: #545759\" transform=\"translate(240.349765 143.618239) scale(0.07 -0.07)\">\n     <defs>\n      <path id=\"DejaVuSansMono-36\" d=\"M 3097 4563 \nL 3097 3981 \nQ 2900 4097 2678 4158 \nQ 2456 4219 2216 4219 \nQ 1616 4219 1306 3767 \nQ 997 3316 997 2438 \nQ 1147 2750 1412 2917 \nQ 1678 3084 2022 3084 \nQ 2697 3084 3067 2670 \nQ 3438 2256 3438 1497 \nQ 3438 741 3056 325 \nQ 2675 -91 1984 -91 \nQ 1172 -91 794 492 \nQ 416 1075 416 2328 \nQ 416 3509 870 4129 \nQ 1325 4750 2188 4750 \nQ 2419 4750 2650 4701 \nQ 2881 4653 3097 4563 \nz\nM 1972 2591 \nQ 1569 2591 1337 2300 \nQ 1106 2009 1106 1497 \nQ 1106 984 1337 693 \nQ 1569 403 1972 403 \nQ 2391 403 2603 679 \nQ 2816 956 2816 1497 \nQ 2816 2041 2603 2316 \nQ 2391 2591 1972 2591 \nz\n\" transform=\"scale(0.015625)\"/>\n     </defs>\n     <use xlink:href=\"#DejaVuSansMono-6b\"/>\n     <use xlink:href=\"#DejaVuSansMono-36\" x=\"60.205078\"/>\n    </g>\n   </g>\n   <g id=\"text_8\">\n    <!-- k7 -->\n    <g style=\"fill: #545759\" transform=\"translate(350.76599 36.820341) scale(0.07 -0.07)\">\n     <defs>\n      <path id=\"DejaVuSansMono-37\" d=\"M 434 4666 \nL 3372 4666 \nL 3372 4397 \nL 1703 0 \nL 1044 0 \nL 2669 4134 \nL 434 4134 \nL 434 4666 \nz\n\" transform=\"scale(0.015625)\"/>\n     </defs>\n     <use xlink:href=\"#DejaVuSansMono-6b\"/>\n     <use xlink:href=\"#DejaVuSansMono-37\" x=\"60.205078\"/>\n    </g>\n   </g>\n   <g id=\"text_9\">\n    <!-- I0, PSI0 -->\n    <g style=\"fill: #545759\" transform=\"translate(244.876419 35.475729) scale(0.1 -0.1)\">\n     <defs>\n      <path id=\"DejaVuSansMono-49\" d=\"M 628 4666 \nL 3219 4666 \nL 3219 4134 \nL 2241 4134 \nL 2241 531 \nL 3219 531 \nL 3219 0 \nL 628 0 \nL 628 531 \nL 1606 531 \nL 1606 4134 \nL 628 4134 \nL 628 4666 \nz\n\" transform=\"scale(0.015625)\"/>\n      <path id=\"DejaVuSansMono-2c\" d=\"M 1569 947 \nL 2356 947 \nL 2356 300 \nL 1741 -897 \nL 1259 -897 \nL 1569 300 \nL 1569 947 \nz\n\" transform=\"scale(0.015625)\"/>\n      <path id=\"DejaVuSansMono-20\" transform=\"scale(0.015625)\"/>\n      <path id=\"DejaVuSansMono-50\" d=\"M 1247 4147 \nL 1247 2394 \nL 1978 2394 \nQ 2416 2394 2661 2625 \nQ 2906 2856 2906 3272 \nQ 2906 3688 2662 3917 \nQ 2419 4147 1978 4147 \nL 1247 4147 \nz\nM 616 4666 \nL 1978 4666 \nQ 2759 4666 3162 4311 \nQ 3566 3956 3566 3272 \nQ 3566 2581 3164 2228 \nQ 2763 1875 1978 1875 \nL 1247 1875 \nL 1247 0 \nL 616 0 \nL 616 4666 \nz\n\" transform=\"scale(0.015625)\"/>\n      <path id=\"DejaVuSansMono-53\" d=\"M 3163 4506 \nL 3163 3866 \nQ 2875 4050 2586 4144 \nQ 2297 4238 2003 4238 \nQ 1556 4238 1297 4030 \nQ 1038 3822 1038 3469 \nQ 1038 3159 1208 2996 \nQ 1378 2834 1844 2725 \nL 2175 2650 \nQ 2831 2497 3131 2169 \nQ 3431 1841 3431 1275 \nQ 3431 609 3018 259 \nQ 2606 -91 1819 -91 \nQ 1491 -91 1159 -20 \nQ 828 50 494 191 \nL 494 863 \nQ 853 634 1173 528 \nQ 1494 422 1819 422 \nQ 2297 422 2562 636 \nQ 2828 850 2828 1234 \nQ 2828 1584 2645 1768 \nQ 2463 1953 2009 2053 \nL 1672 2131 \nQ 1022 2278 728 2575 \nQ 434 2872 434 3372 \nQ 434 3997 854 4373 \nQ 1275 4750 1972 4750 \nQ 2241 4750 2537 4689 \nQ 2834 4628 3163 4506 \nz\n\" transform=\"scale(0.015625)\"/>\n     </defs>\n     <use xlink:href=\"#DejaVuSansMono-49\"/>\n     <use xlink:href=\"#DejaVuSansMono-30\" x=\"60.205078\"/>\n     <use xlink:href=\"#DejaVuSansMono-2c\" x=\"120.410156\"/>\n     <use xlink:href=\"#DejaVuSansMono-20\" x=\"180.615234\"/>\n     <use xlink:href=\"#DejaVuSansMono-50\" x=\"240.820312\"/>\n     <use xlink:href=\"#DejaVuSansMono-53\" x=\"301.025391\"/>\n     <use xlink:href=\"#DejaVuSansMono-49\" x=\"361.230469\"/>\n     <use xlink:href=\"#DejaVuSansMono-30\" x=\"421.435547\"/>\n    </g>\n   </g>\n   <g id=\"text_10\">\n    <!-- I1, PSI0 -->\n    <g style=\"fill: #545759\" transform=\"translate(22.298075 69.876763) scale(0.1 -0.1)\">\n     <use xlink:href=\"#DejaVuSansMono-49\"/>\n     <use xlink:href=\"#DejaVuSansMono-31\" x=\"60.205078\"/>\n     <use xlink:href=\"#DejaVuSansMono-2c\" x=\"120.410156\"/>\n     <use xlink:href=\"#DejaVuSansMono-20\" x=\"180.615234\"/>\n     <use xlink:href=\"#DejaVuSansMono-50\" x=\"240.820312\"/>\n     <use xlink:href=\"#DejaVuSansMono-53\" x=\"301.025391\"/>\n     <use xlink:href=\"#DejaVuSansMono-49\" x=\"361.230469\"/>\n     <use xlink:href=\"#DejaVuSansMono-30\" x=\"421.435547\"/>\n    </g>\n   </g>\n   <g id=\"text_11\">\n    <!-- I2, PSI0 -->\n    <g style=\"fill: #545759\" transform=\"translate(172.987035 21.430228) scale(0.1 -0.1)\">\n     <use xlink:href=\"#DejaVuSansMono-49\"/>\n     <use xlink:href=\"#DejaVuSansMono-32\" x=\"60.205078\"/>\n     <use xlink:href=\"#DejaVuSansMono-2c\" x=\"120.410156\"/>\n     <use xlink:href=\"#DejaVuSansMono-20\" x=\"180.615234\"/>\n     <use xlink:href=\"#DejaVuSansMono-50\" x=\"240.820312\"/>\n     <use xlink:href=\"#DejaVuSansMono-53\" x=\"301.025391\"/>\n     <use xlink:href=\"#DejaVuSansMono-49\" x=\"361.230469\"/>\n     <use xlink:href=\"#DejaVuSansMono-30\" x=\"421.435547\"/>\n    </g>\n   </g>\n   <g id=\"text_12\">\n    <!-- I3, PSI0 -->\n    <g style=\"fill: #545759\" transform=\"translate(129.269092 101.603716) scale(0.1 -0.1)\">\n     <use xlink:href=\"#DejaVuSansMono-49\"/>\n     <use xlink:href=\"#DejaVuSansMono-33\" x=\"60.205078\"/>\n     <use xlink:href=\"#DejaVuSansMono-2c\" x=\"120.410156\"/>\n     <use xlink:href=\"#DejaVuSansMono-20\" x=\"180.615234\"/>\n     <use xlink:href=\"#DejaVuSansMono-50\" x=\"240.820312\"/>\n     <use xlink:href=\"#DejaVuSansMono-53\" x=\"301.025391\"/>\n     <use xlink:href=\"#DejaVuSansMono-49\" x=\"361.230469\"/>\n     <use xlink:href=\"#DejaVuSansMono-30\" x=\"421.435547\"/>\n    </g>\n   </g>\n   <g id=\"text_13\">\n    <!-- I4, PSI0 -->\n    <g style=\"fill: #545759\" transform=\"translate(113.534999 245.435502) scale(0.1 -0.1)\">\n     <use xlink:href=\"#DejaVuSansMono-49\"/>\n     <use xlink:href=\"#DejaVuSansMono-34\" x=\"60.205078\"/>\n     <use xlink:href=\"#DejaVuSansMono-2c\" x=\"120.410156\"/>\n     <use xlink:href=\"#DejaVuSansMono-20\" x=\"180.615234\"/>\n     <use xlink:href=\"#DejaVuSansMono-50\" x=\"240.820312\"/>\n     <use xlink:href=\"#DejaVuSansMono-53\" x=\"301.025391\"/>\n     <use xlink:href=\"#DejaVuSansMono-49\" x=\"361.230469\"/>\n     <use xlink:href=\"#DejaVuSansMono-30\" x=\"421.435547\"/>\n    </g>\n   </g>\n   <g id=\"text_14\">\n    <!-- I5, PSI0 -->\n    <g style=\"fill: #545759\" transform=\"translate(279.551262 249.475627) scale(0.1 -0.1)\">\n     <use xlink:href=\"#DejaVuSansMono-49\"/>\n     <use xlink:href=\"#DejaVuSansMono-35\" x=\"60.205078\"/>\n     <use xlink:href=\"#DejaVuSansMono-2c\" x=\"120.410156\"/>\n     <use xlink:href=\"#DejaVuSansMono-20\" x=\"180.615234\"/>\n     <use xlink:href=\"#DejaVuSansMono-50\" x=\"240.820312\"/>\n     <use xlink:href=\"#DejaVuSansMono-53\" x=\"301.025391\"/>\n     <use xlink:href=\"#DejaVuSansMono-49\" x=\"361.230469\"/>\n     <use xlink:href=\"#DejaVuSansMono-30\" x=\"421.435547\"/>\n    </g>\n   </g>\n   <g id=\"text_15\">\n    <!-- I6, PSI0 -->\n    <g style=\"fill: #545759\" transform=\"translate(224.92385 140.618309) scale(0.1 -0.1)\">\n     <use xlink:href=\"#DejaVuSansMono-49\"/>\n     <use xlink:href=\"#DejaVuSansMono-36\" x=\"60.205078\"/>\n     <use xlink:href=\"#DejaVuSansMono-2c\" x=\"120.410156\"/>\n     <use xlink:href=\"#DejaVuSansMono-20\" x=\"180.615234\"/>\n     <use xlink:href=\"#DejaVuSansMono-50\" x=\"240.820312\"/>\n     <use xlink:href=\"#DejaVuSansMono-53\" x=\"301.025391\"/>\n     <use xlink:href=\"#DejaVuSansMono-49\" x=\"361.230469\"/>\n     <use xlink:href=\"#DejaVuSansMono-30\" x=\"421.435547\"/>\n    </g>\n   </g>\n   <g id=\"text_16\">\n    <!-- I7, PSI0 -->\n    <g style=\"fill: #545759\" transform=\"translate(332.517769 32.025903) scale(0.1 -0.1)\">\n     <use xlink:href=\"#DejaVuSansMono-49\"/>\n     <use xlink:href=\"#DejaVuSansMono-37\" x=\"60.205078\"/>\n     <use xlink:href=\"#DejaVuSansMono-2c\" x=\"120.410156\"/>\n     <use xlink:href=\"#DejaVuSansMono-20\" x=\"180.615234\"/>\n     <use xlink:href=\"#DejaVuSansMono-50\" x=\"240.820312\"/>\n     <use xlink:href=\"#DejaVuSansMono-53\" x=\"301.025391\"/>\n     <use xlink:href=\"#DejaVuSansMono-49\" x=\"361.230469\"/>\n     <use xlink:href=\"#DejaVuSansMono-30\" x=\"421.435547\"/>\n    </g>\n   </g>\n   <g id=\"text_17\">\n    <!-- GATE_0, X, I1 -->\n    <g style=\"fill: #545759\" transform=\"translate(7.2 66.699008) scale(0.1 -0.1)\">\n     <defs>\n      <path id=\"DejaVuSansMono-47\" d=\"M 3450 384 \nQ 3197 150 2880 29 \nQ 2563 -91 2194 -91 \nQ 1306 -91 812 545 \nQ 319 1181 319 2328 \nQ 319 3472 819 4111 \nQ 1319 4750 2209 4750 \nQ 2503 4750 2772 4667 \nQ 3041 4584 3291 4416 \nL 3291 3769 \nQ 3038 4009 2772 4123 \nQ 2506 4238 2209 4238 \nQ 1594 4238 1286 3761 \nQ 978 3284 978 2328 \nQ 978 1356 1276 889 \nQ 1575 422 2194 422 \nQ 2403 422 2561 470 \nQ 2719 519 2847 622 \nL 2847 1875 \nL 2169 1875 \nL 2169 2394 \nL 3450 2394 \nL 3450 384 \nz\n\" transform=\"scale(0.015625)\"/>\n      <path id=\"DejaVuSansMono-41\" d=\"M 1925 4109 \nL 1259 1722 \nL 2591 1722 \nL 1925 4109 \nz\nM 1544 4666 \nL 2309 4666 \nL 3738 0 \nL 3084 0 \nL 2741 1216 \nL 1106 1216 \nL 769 0 \nL 116 0 \nL 1544 4666 \nz\n\" transform=\"scale(0.015625)\"/>\n      <path id=\"DejaVuSansMono-54\" d=\"M 147 4666 \nL 3706 4666 \nL 3706 4134 \nL 2247 4134 \nL 2247 0 \nL 1613 0 \nL 1613 4134 \nL 147 4134 \nL 147 4666 \nz\n\" transform=\"scale(0.015625)\"/>\n      <path id=\"DejaVuSansMono-45\" d=\"M 616 4666 \nL 3384 4666 \nL 3384 4134 \nL 1247 4134 \nL 1247 2753 \nL 3291 2753 \nL 3291 2222 \nL 1247 2222 \nL 1247 531 \nL 3444 531 \nL 3444 0 \nL 616 0 \nL 616 4666 \nz\n\" transform=\"scale(0.015625)\"/>\n      <path id=\"DejaVuSansMono-5f\" d=\"M 3853 -1259 \nL 3853 -1509 \nL 0 -1509 \nL 0 -1259 \nL 3853 -1259 \nz\n\" transform=\"scale(0.015625)\"/>\n      <path id=\"DejaVuSansMono-58\" d=\"M 269 4666 \nL 947 4666 \nL 1972 2906 \nL 3016 4666 \nL 3694 4666 \nL 2297 2472 \nL 3794 0 \nL 3116 0 \nL 1972 2009 \nL 738 0 \nL 56 0 \nL 1619 2472 \nL 269 4666 \nz\n\" transform=\"scale(0.015625)\"/>\n     </defs>\n     <use xlink:href=\"#DejaVuSansMono-47\"/>\n     <use xlink:href=\"#DejaVuSansMono-41\" x=\"60.205078\"/>\n     <use xlink:href=\"#DejaVuSansMono-54\" x=\"120.410156\"/>\n     <use xlink:href=\"#DejaVuSansMono-45\" x=\"180.615234\"/>\n     <use xlink:href=\"#DejaVuSansMono-5f\" x=\"240.820312\"/>\n     <use xlink:href=\"#DejaVuSansMono-30\" x=\"301.025391\"/>\n     <use xlink:href=\"#DejaVuSansMono-2c\" x=\"361.230469\"/>\n     <use xlink:href=\"#DejaVuSansMono-20\" x=\"421.435547\"/>\n     <use xlink:href=\"#DejaVuSansMono-58\" x=\"481.640625\"/>\n     <use xlink:href=\"#DejaVuSansMono-2c\" x=\"541.845703\"/>\n     <use xlink:href=\"#DejaVuSansMono-20\" x=\"602.050781\"/>\n     <use xlink:href=\"#DejaVuSansMono-49\" x=\"662.255859\"/>\n     <use xlink:href=\"#DejaVuSansMono-31\" x=\"722.460938\"/>\n    </g>\n   </g>\n   <g id=\"text_18\">\n    <!-- GATE_1, X, I3 -->\n    <g style=\"fill: #545759\" transform=\"translate(113.964477 98.426645) scale(0.1 -0.1)\">\n     <use xlink:href=\"#DejaVuSansMono-47\"/>\n     <use xlink:href=\"#DejaVuSansMono-41\" x=\"60.205078\"/>\n     <use xlink:href=\"#DejaVuSansMono-54\" x=\"120.410156\"/>\n     <use xlink:href=\"#DejaVuSansMono-45\" x=\"180.615234\"/>\n     <use xlink:href=\"#DejaVuSansMono-5f\" x=\"240.820312\"/>\n     <use xlink:href=\"#DejaVuSansMono-31\" x=\"301.025391\"/>\n     <use xlink:href=\"#DejaVuSansMono-2c\" x=\"361.230469\"/>\n     <use xlink:href=\"#DejaVuSansMono-20\" x=\"421.435547\"/>\n     <use xlink:href=\"#DejaVuSansMono-58\" x=\"481.640625\"/>\n     <use xlink:href=\"#DejaVuSansMono-2c\" x=\"541.845703\"/>\n     <use xlink:href=\"#DejaVuSansMono-20\" x=\"602.050781\"/>\n     <use xlink:href=\"#DejaVuSansMono-49\" x=\"662.255859\"/>\n     <use xlink:href=\"#DejaVuSansMono-33\" x=\"722.460938\"/>\n    </g>\n   </g>\n   <g id=\"text_19\">\n    <!-- GATE_2, X, I4 -->\n    <g style=\"fill: #545759\" transform=\"translate(100.81728 246.958036) scale(0.1 -0.1)\">\n     <use xlink:href=\"#DejaVuSansMono-47\"/>\n     <use xlink:href=\"#DejaVuSansMono-41\" x=\"60.205078\"/>\n     <use xlink:href=\"#DejaVuSansMono-54\" x=\"120.410156\"/>\n     <use xlink:href=\"#DejaVuSansMono-45\" x=\"180.615234\"/>\n     <use xlink:href=\"#DejaVuSansMono-5f\" x=\"240.820312\"/>\n     <use xlink:href=\"#DejaVuSansMono-32\" x=\"301.025391\"/>\n     <use xlink:href=\"#DejaVuSansMono-2c\" x=\"361.230469\"/>\n     <use xlink:href=\"#DejaVuSansMono-20\" x=\"421.435547\"/>\n     <use xlink:href=\"#DejaVuSansMono-58\" x=\"481.640625\"/>\n     <use xlink:href=\"#DejaVuSansMono-2c\" x=\"541.845703\"/>\n     <use xlink:href=\"#DejaVuSansMono-20\" x=\"602.050781\"/>\n     <use xlink:href=\"#DejaVuSansMono-49\" x=\"662.255859\"/>\n     <use xlink:href=\"#DejaVuSansMono-34\" x=\"722.460938\"/>\n    </g>\n   </g>\n   <g id=\"text_20\">\n    <!-- GATE_3, X, I5 -->\n    <g style=\"fill: #545759\" transform=\"translate(266.58342 247.139812) scale(0.1 -0.1)\">\n     <use xlink:href=\"#DejaVuSansMono-47\"/>\n     <use xlink:href=\"#DejaVuSansMono-41\" x=\"60.205078\"/>\n     <use xlink:href=\"#DejaVuSansMono-54\" x=\"120.410156\"/>\n     <use xlink:href=\"#DejaVuSansMono-45\" x=\"180.615234\"/>\n     <use xlink:href=\"#DejaVuSansMono-5f\" x=\"240.820312\"/>\n     <use xlink:href=\"#DejaVuSansMono-33\" x=\"301.025391\"/>\n     <use xlink:href=\"#DejaVuSansMono-2c\" x=\"361.230469\"/>\n     <use xlink:href=\"#DejaVuSansMono-20\" x=\"421.435547\"/>\n     <use xlink:href=\"#DejaVuSansMono-58\" x=\"481.640625\"/>\n     <use xlink:href=\"#DejaVuSansMono-2c\" x=\"541.845703\"/>\n     <use xlink:href=\"#DejaVuSansMono-20\" x=\"602.050781\"/>\n     <use xlink:href=\"#DejaVuSansMono-49\" x=\"662.255859\"/>\n     <use xlink:href=\"#DejaVuSansMono-35\" x=\"722.460938\"/>\n    </g>\n   </g>\n   <g id=\"text_21\">\n    <!-- GATE_4, X, I6 -->\n    <g style=\"fill: #545759\" transform=\"translate(207.533686 142.148469) scale(0.1 -0.1)\">\n     <use xlink:href=\"#DejaVuSansMono-47\"/>\n     <use xlink:href=\"#DejaVuSansMono-41\" x=\"60.205078\"/>\n     <use xlink:href=\"#DejaVuSansMono-54\" x=\"120.410156\"/>\n     <use xlink:href=\"#DejaVuSansMono-45\" x=\"180.615234\"/>\n     <use xlink:href=\"#DejaVuSansMono-5f\" x=\"240.820312\"/>\n     <use xlink:href=\"#DejaVuSansMono-34\" x=\"301.025391\"/>\n     <use xlink:href=\"#DejaVuSansMono-2c\" x=\"361.230469\"/>\n     <use xlink:href=\"#DejaVuSansMono-20\" x=\"421.435547\"/>\n     <use xlink:href=\"#DejaVuSansMono-58\" x=\"481.640625\"/>\n     <use xlink:href=\"#DejaVuSansMono-2c\" x=\"541.845703\"/>\n     <use xlink:href=\"#DejaVuSansMono-20\" x=\"602.050781\"/>\n     <use xlink:href=\"#DejaVuSansMono-49\" x=\"662.255859\"/>\n     <use xlink:href=\"#DejaVuSansMono-36\" x=\"722.460938\"/>\n    </g>\n   </g>\n   <g id=\"text_22\">\n    <!-- GATE_5, X, I7 -->\n    <g style=\"fill: #545759\" transform=\"translate(316.337404 34.532821) scale(0.1 -0.1)\">\n     <use xlink:href=\"#DejaVuSansMono-47\"/>\n     <use xlink:href=\"#DejaVuSansMono-41\" x=\"60.205078\"/>\n     <use xlink:href=\"#DejaVuSansMono-54\" x=\"120.410156\"/>\n     <use xlink:href=\"#DejaVuSansMono-45\" x=\"180.615234\"/>\n     <use xlink:href=\"#DejaVuSansMono-5f\" x=\"240.820312\"/>\n     <use xlink:href=\"#DejaVuSansMono-35\" x=\"301.025391\"/>\n     <use xlink:href=\"#DejaVuSansMono-2c\" x=\"361.230469\"/>\n     <use xlink:href=\"#DejaVuSansMono-20\" x=\"421.435547\"/>\n     <use xlink:href=\"#DejaVuSansMono-58\" x=\"481.640625\"/>\n     <use xlink:href=\"#DejaVuSansMono-2c\" x=\"541.845703\"/>\n     <use xlink:href=\"#DejaVuSansMono-20\" x=\"602.050781\"/>\n     <use xlink:href=\"#DejaVuSansMono-49\" x=\"662.255859\"/>\n     <use xlink:href=\"#DejaVuSansMono-37\" x=\"722.460938\"/>\n    </g>\n   </g>\n  </g>\n </g>\n <defs>\n  <clipPath id=\"p4aa800bffb\">\n   <rect x=\"34.065525\" y=\"7.2\" width=\"334.8\" height=\"250.933979\"/>\n  </clipPath>\n </defs>\n</svg>\n"
          },
          "metadata": {
            "needs_background": "light"
          }
        },
        {
          "output_type": "stream",
          "name": "stderr",
          "text": [
            "\r  0%|          | 0/4 [00:00<?, ?it/s]/usr/local/lib/python3.10/dist-packages/cotengra/hyperoptimizers/hyper.py:54: UserWarning: Couldn't find `optuna`, `baytune (btb)`, `chocolate`, `nevergrad` or `skopt` so will use completely random sampling in place of hyper-optimization.\n",
            "  warnings.warn(\n",
            "100%|██████████| 4/4 [00:00<00:00,  4.52it/s]\n",
            "100%|██████████| 4/4 [00:00<00:00, 146.58it/s]\n"
          ]
        },
        {
          "output_type": "stream",
          "name": "stdout",
          "text": [
            ">>> Expectation value from qiskit: -0.10978741032\n",
            "\n",
            ">>> Expectation value from quimb: (-0.5858728270950246+1.0681597275151434e-15j)\n",
            "\n",
            "The generated random state is: 1010000101\n",
            "\n",
            ">>> Expectation value from qiskit: 0.060644474271999996\n"
          ]
        },
        {
          "output_type": "display_data",
          "data": {
            "text/plain": [
              "<Figure size 600x600 with 1 Axes>"
            ],
            "image/svg+xml": "<?xml version=\"1.0\" encoding=\"utf-8\" standalone=\"no\"?>\n<!DOCTYPE svg PUBLIC \"-//W3C//DTD SVG 1.1//EN\"\n  \"http://www.w3.org/Graphics/SVG/1.1/DTD/svg11.dtd\">\n<svg xmlns:xlink=\"http://www.w3.org/1999/xlink\" width=\"403.333688pt\" height=\"229.625042pt\" viewBox=\"0 0 403.333688 229.625042\" xmlns=\"http://www.w3.org/2000/svg\" version=\"1.1\">\n <metadata>\n  <rdf:RDF xmlns:dc=\"http://purl.org/dc/elements/1.1/\" xmlns:cc=\"http://creativecommons.org/ns#\" xmlns:rdf=\"http://www.w3.org/1999/02/22-rdf-syntax-ns#\">\n   <cc:Work>\n    <dc:type rdf:resource=\"http://purl.org/dc/dcmitype/StillImage\"/>\n    <dc:date>2024-09-05T06:50:30.708898</dc:date>\n    <dc:format>image/svg+xml</dc:format>\n    <dc:creator>\n     <cc:Agent>\n      <dc:title>Matplotlib v3.7.1, https://matplotlib.org/</dc:title>\n     </cc:Agent>\n    </dc:creator>\n   </cc:Work>\n  </rdf:RDF>\n </metadata>\n <defs>\n  <style type=\"text/css\">*{stroke-linejoin: round; stroke-linecap: butt}</style>\n </defs>\n <g id=\"figure_1\">\n  <g id=\"patch_1\">\n   <path d=\"M 0 229.625042 \nL 403.333688 229.625042 \nL 403.333688 0 \nL 0 0 \nL 0 229.625042 \nz\n\" style=\"fill: none; opacity: 0\"/>\n  </g>\n  <g id=\"axes_1\">\n   <g id=\"line2d_1\">\n    <path d=\"M 166.810022 55.769423 \nL 167.490043 57.959226 \n\" clip-path=\"url(#p85510c5427)\" style=\"fill: none; stroke: #737880; stroke-opacity: 0.5; stroke-linecap: round\"/>\n   </g>\n   <g id=\"line2d_2\">\n    <path d=\"M 165.912424 100.75778 \nL 163.723963 100.349877 \n\" clip-path=\"url(#p85510c5427)\" style=\"fill: none; stroke: #737880; stroke-opacity: 0.5; stroke-linecap: round\"/>\n   </g>\n   <g id=\"line2d_3\">\n    <path d=\"M 153.114817 155.329829 \nL 150.911066 155.750699 \n\" clip-path=\"url(#p85510c5427)\" style=\"fill: none; stroke: #737880; stroke-opacity: 0.5; stroke-linecap: round\"/>\n   </g>\n   <g id=\"line2d_4\">\n    <path d=\"M 142.646818 208.881358 \nL 144.166054 207.15661 \n\" clip-path=\"url(#p85510c5427)\" style=\"fill: none; stroke: #737880; stroke-opacity: 0.5; stroke-linecap: round\"/>\n   </g>\n   <g id=\"line2d_5\">\n    <path d=\"M 196.484194 212.027923 \nL 196.285235 209.768624 \n\" clip-path=\"url(#p85510c5427)\" style=\"fill: none; stroke: #737880; stroke-opacity: 0.5; stroke-linecap: round\"/>\n   </g>\n   <g id=\"line2d_6\">\n    <path d=\"M 288.046883 152.526318 \nL 290.336559 152.567849 \n\" clip-path=\"url(#p85510c5427)\" style=\"fill: none; stroke: #737880; stroke-opacity: 0.5; stroke-linecap: round\"/>\n   </g>\n   <g id=\"line2d_7\">\n    <path d=\"M 356.202365 209.276081 \nL 356.559516 209.20018 \nL 356.492212 209.559051 \n\" clip-path=\"url(#p85510c5427)\" style=\"fill: none; stroke: #737880; stroke-opacity: 0.5; stroke-linecap: round\"/>\n   </g>\n   <g id=\"line2d_8\">\n    <path d=\"M 355.233095 210.558839 \nL 357.001656 208.747294 \n\" clip-path=\"url(#p85510c5427)\" style=\"fill: none; stroke: #737880; stroke-opacity: 0.5; stroke-linecap: round\"/>\n   </g>\n   <g id=\"line2d_9\">\n    <path d=\"M 357.001656 208.747294 \nL 359.222797 207.452159 \n\" clip-path=\"url(#p85510c5427)\" style=\"fill: none; stroke: #737880; stroke-opacity: 0.5; stroke-linecap: round\"/>\n   </g>\n   <g id=\"line2d_10\">\n    <path d=\"M 235.373691 152.11518 \nL 235.156885 152.410784 \nL 234.967407 152.096962 \n\" clip-path=\"url(#p85510c5427)\" style=\"fill: none; stroke: #737880; stroke-opacity: 0.5; stroke-linecap: round\"/>\n   </g>\n   <g id=\"line2d_11\">\n    <path d=\"M 235.242281 150.506328 \nL 235.12842 153.045603 \n\" clip-path=\"url(#p85510c5427)\" style=\"fill: none; stroke: #737880; stroke-opacity: 0.5; stroke-linecap: round\"/>\n   </g>\n   <g id=\"line2d_12\">\n    <path d=\"M 235.12842 153.045603 \nL 235.257819 155.594557 \n\" clip-path=\"url(#p85510c5427)\" style=\"fill: none; stroke: #737880; stroke-opacity: 0.5; stroke-linecap: round\"/>\n   </g>\n   <g id=\"line2d_13\">\n    <path d=\"M 257.819372 18.239814 \nL 257.464969 18.125708 \nL 257.706607 17.842454 \n\" clip-path=\"url(#p85510c5427)\" style=\"fill: none; stroke: #737880; stroke-opacity: 0.5; stroke-linecap: round\"/>\n   </g>\n   <g id=\"line2d_14\">\n    <path d=\"M 259.327595 17.59712 \nL 256.844094 18.301905 \n\" clip-path=\"url(#p85510c5427)\" style=\"fill: none; stroke: #737880; stroke-opacity: 0.5; stroke-linecap: round\"/>\n   </g>\n   <g id=\"line2d_15\">\n    <path d=\"M 256.844094 18.301905 \nL 254.325273 18.377688 \n\" clip-path=\"url(#p85510c5427)\" style=\"fill: none; stroke: #737880; stroke-opacity: 0.5; stroke-linecap: round\"/>\n   </g>\n   <g id=\"line2d_16\">\n    <path d=\"M 45.777652 64.587889 \nL 46.084149 64.385942 \nL 46.152679 64.746534 \n\" clip-path=\"url(#p85510c5427)\" style=\"fill: none; stroke: #737880; stroke-opacity: 0.5; stroke-linecap: round\"/>\n   </g>\n   <g id=\"line2d_17\">\n    <path d=\"M 45.340503 66.14388 \nL 46.332031 63.799962 \n\" clip-path=\"url(#p85510c5427)\" style=\"fill: none; stroke: #737880; stroke-opacity: 0.5; stroke-linecap: round\"/>\n   </g>\n   <g id=\"line2d_18\">\n    <path d=\"M 46.332031 63.799962 \nL 46.640402 61.262743 \n\" clip-path=\"url(#p85510c5427)\" style=\"fill: none; stroke: #737880; stroke-opacity: 0.5; stroke-linecap: round\"/>\n   </g>\n   <g id=\"patch_2\">\n    <path d=\"M 167.490043 57.959226 \nC 167.490043 57.959226 167.490043 57.959226 167.490043 57.959226 \nC 167.490043 57.959226 167.490043 57.959226 167.490043 57.959226 \nC 167.490043 57.959226 167.490043 57.959226 167.490043 57.959226 \nC 167.490043 57.959226 167.490043 57.959226 167.490043 57.959226 \nC 167.490043 57.959226 167.490043 57.959226 167.490043 57.959226 \nC 167.490043 57.959226 167.490043 57.959226 167.490043 57.959226 \nC 167.490043 57.959226 167.490043 57.959226 167.490043 57.959226 \nC 167.490043 57.959226 167.490043 57.959226 167.490043 57.959226 \nz\n\" clip-path=\"url(#p85510c5427)\" style=\"fill: #ffffff\"/>\n   </g>\n   <g id=\"patch_3\">\n    <path d=\"M 163.723963 100.349877 \nC 163.723963 100.349877 163.723963 100.349877 163.723963 100.349877 \nC 163.723963 100.349877 163.723963 100.349877 163.723963 100.349877 \nC 163.723963 100.349877 163.723963 100.349877 163.723963 100.349877 \nC 163.723963 100.349877 163.723963 100.349877 163.723963 100.349877 \nC 163.723963 100.349877 163.723963 100.349877 163.723963 100.349877 \nC 163.723963 100.349877 163.723963 100.349877 163.723963 100.349877 \nC 163.723963 100.349877 163.723963 100.349877 163.723963 100.349877 \nC 163.723963 100.349877 163.723963 100.349877 163.723963 100.349877 \nz\n\" clip-path=\"url(#p85510c5427)\" style=\"fill: #ffffff\"/>\n   </g>\n   <g id=\"patch_4\">\n    <path d=\"M 150.911066 155.750699 \nC 150.911066 155.750699 150.911066 155.750699 150.911066 155.750699 \nC 150.911066 155.750699 150.911066 155.750699 150.911066 155.750699 \nC 150.911066 155.750699 150.911066 155.750699 150.911066 155.750699 \nC 150.911066 155.750699 150.911066 155.750699 150.911066 155.750699 \nC 150.911066 155.750699 150.911066 155.750699 150.911066 155.750699 \nC 150.911066 155.750699 150.911066 155.750699 150.911066 155.750699 \nC 150.911066 155.750699 150.911066 155.750699 150.911066 155.750699 \nC 150.911066 155.750699 150.911066 155.750699 150.911066 155.750699 \nz\n\" clip-path=\"url(#p85510c5427)\" style=\"fill: #ffffff\"/>\n   </g>\n   <g id=\"patch_5\">\n    <path d=\"M 144.166054 207.15661 \nC 144.166054 207.15661 144.166054 207.15661 144.166054 207.15661 \nC 144.166054 207.15661 144.166054 207.15661 144.166054 207.15661 \nC 144.166054 207.15661 144.166054 207.15661 144.166054 207.15661 \nC 144.166054 207.15661 144.166054 207.15661 144.166054 207.15661 \nC 144.166054 207.15661 144.166054 207.15661 144.166054 207.15661 \nC 144.166054 207.15661 144.166054 207.15661 144.166054 207.15661 \nC 144.166054 207.15661 144.166054 207.15661 144.166054 207.15661 \nC 144.166054 207.15661 144.166054 207.15661 144.166054 207.15661 \nz\n\" clip-path=\"url(#p85510c5427)\" style=\"fill: #ffffff\"/>\n   </g>\n   <g id=\"patch_6\">\n    <path d=\"M 196.285235 209.768624 \nC 196.285235 209.768624 196.285235 209.768624 196.285235 209.768624 \nC 196.285235 209.768624 196.285235 209.768624 196.285235 209.768624 \nC 196.285235 209.768624 196.285235 209.768624 196.285235 209.768624 \nC 196.285235 209.768624 196.285235 209.768624 196.285235 209.768624 \nC 196.285235 209.768624 196.285235 209.768624 196.285235 209.768624 \nC 196.285235 209.768624 196.285235 209.768624 196.285235 209.768624 \nC 196.285235 209.768624 196.285235 209.768624 196.285235 209.768624 \nC 196.285235 209.768624 196.285235 209.768624 196.285235 209.768624 \nz\n\" clip-path=\"url(#p85510c5427)\" style=\"fill: #ffffff\"/>\n   </g>\n   <g id=\"patch_7\">\n    <path d=\"M 290.336559 152.567849 \nC 290.336559 152.567849 290.336559 152.567849 290.336559 152.567849 \nC 290.336559 152.567849 290.336559 152.567849 290.336559 152.567849 \nC 290.336559 152.567849 290.336559 152.567849 290.336559 152.567849 \nC 290.336559 152.567849 290.336559 152.567849 290.336559 152.567849 \nC 290.336559 152.567849 290.336559 152.567849 290.336559 152.567849 \nC 290.336559 152.567849 290.336559 152.567849 290.336559 152.567849 \nC 290.336559 152.567849 290.336559 152.567849 290.336559 152.567849 \nC 290.336559 152.567849 290.336559 152.567849 290.336559 152.567849 \nz\n\" clip-path=\"url(#p85510c5427)\" style=\"fill: #ffffff\"/>\n   </g>\n   <g id=\"patch_8\">\n    <path d=\"M 359.222797 207.452159 \nC 359.222797 207.452159 359.222797 207.452159 359.222797 207.452159 \nC 359.222797 207.452159 359.222797 207.452159 359.222797 207.452159 \nC 359.222797 207.452159 359.222797 207.452159 359.222797 207.452159 \nC 359.222797 207.452159 359.222797 207.452159 359.222797 207.452159 \nC 359.222797 207.452159 359.222797 207.452159 359.222797 207.452159 \nC 359.222797 207.452159 359.222797 207.452159 359.222797 207.452159 \nC 359.222797 207.452159 359.222797 207.452159 359.222797 207.452159 \nC 359.222797 207.452159 359.222797 207.452159 359.222797 207.452159 \nz\n\" clip-path=\"url(#p85510c5427)\" style=\"fill: #ffffff\"/>\n   </g>\n   <g id=\"patch_9\">\n    <path d=\"M 235.257819 155.594557 \nC 235.257819 155.594557 235.257819 155.594557 235.257819 155.594557 \nC 235.257819 155.594557 235.257819 155.594557 235.257819 155.594557 \nC 235.257819 155.594557 235.257819 155.594557 235.257819 155.594557 \nC 235.257819 155.594557 235.257819 155.594557 235.257819 155.594557 \nC 235.257819 155.594557 235.257819 155.594557 235.257819 155.594557 \nC 235.257819 155.594557 235.257819 155.594557 235.257819 155.594557 \nC 235.257819 155.594557 235.257819 155.594557 235.257819 155.594557 \nC 235.257819 155.594557 235.257819 155.594557 235.257819 155.594557 \nz\n\" clip-path=\"url(#p85510c5427)\" style=\"fill: #ffffff\"/>\n   </g>\n   <g id=\"patch_10\">\n    <path d=\"M 254.325273 18.377688 \nC 254.325273 18.377688 254.325273 18.377688 254.325273 18.377688 \nC 254.325273 18.377688 254.325273 18.377688 254.325273 18.377688 \nC 254.325273 18.377688 254.325273 18.377688 254.325273 18.377688 \nC 254.325273 18.377688 254.325273 18.377688 254.325273 18.377688 \nC 254.325273 18.377688 254.325273 18.377688 254.325273 18.377688 \nC 254.325273 18.377688 254.325273 18.377688 254.325273 18.377688 \nC 254.325273 18.377688 254.325273 18.377688 254.325273 18.377688 \nC 254.325273 18.377688 254.325273 18.377688 254.325273 18.377688 \nz\n\" clip-path=\"url(#p85510c5427)\" style=\"fill: #ffffff\"/>\n   </g>\n   <g id=\"patch_11\">\n    <path d=\"M 46.640402 61.262743 \nC 46.640402 61.262743 46.640402 61.262743 46.640402 61.262743 \nC 46.640402 61.262743 46.640402 61.262743 46.640402 61.262743 \nC 46.640402 61.262743 46.640402 61.262743 46.640402 61.262743 \nC 46.640402 61.262743 46.640402 61.262743 46.640402 61.262743 \nC 46.640402 61.262743 46.640402 61.262743 46.640402 61.262743 \nC 46.640402 61.262743 46.640402 61.262743 46.640402 61.262743 \nC 46.640402 61.262743 46.640402 61.262743 46.640402 61.262743 \nC 46.640402 61.262743 46.640402 61.262743 46.640402 61.262743 \nz\n\" clip-path=\"url(#p85510c5427)\" style=\"fill: #ffffff\"/>\n   </g>\n   <g id=\"patch_12\">\n    <path d=\"M 355.233095 218.092539 \nC 357.231056 218.092539 359.147454 217.298741 360.560225 215.885969 \nC 361.972997 214.473198 362.766795 212.556799 362.766795 210.558839 \nC 362.766795 208.560878 361.972997 206.64448 360.560225 205.231708 \nC 359.147454 203.818937 357.231056 203.025139 355.233095 203.025139 \nC 353.235134 203.025139 351.318736 203.818937 349.905965 205.231708 \nC 348.493193 206.64448 347.699395 208.560878 347.699395 210.558839 \nC 347.699395 212.556799 348.493193 214.473198 349.905965 215.885969 \nC 351.318736 217.298741 353.235134 218.092539 355.233095 218.092539 \nz\n\" clip-path=\"url(#p85510c5427)\" style=\"fill: #737880; stroke: #5d6167; stroke-width: 1.253835; stroke-linejoin: miter\"/>\n   </g>\n   <g id=\"patch_13\">\n    <path d=\"M 166.810022 63.303123 \nC 168.807982 63.303123 170.724381 62.509325 172.137152 61.096553 \nC 173.549924 59.683782 174.343722 57.767383 174.343722 55.769423 \nC 174.343722 53.771462 173.549924 51.855064 172.137152 50.442292 \nC 170.724381 49.029521 168.807982 48.235723 166.810022 48.235723 \nC 164.812061 48.235723 162.895663 49.029521 161.482891 50.442292 \nC 160.07012 51.855064 159.276322 53.771462 159.276322 55.769423 \nC 159.276322 57.767383 160.07012 59.683782 161.482891 61.096553 \nC 162.895663 62.509325 164.812061 63.303123 166.810022 63.303123 \nz\n\" clip-path=\"url(#p85510c5427)\" style=\"fill: #737880; stroke: #5d6167; stroke-width: 1.253835; stroke-linejoin: miter\"/>\n   </g>\n   <g id=\"patch_14\">\n    <path d=\"M 235.242281 158.040028 \nC 237.240241 158.040028 239.15664 157.24623 240.569411 155.833459 \nC 241.982183 154.420687 242.775981 152.504289 242.775981 150.506328 \nC 242.775981 148.508368 241.982183 146.591969 240.569411 145.179198 \nC 239.15664 143.766426 237.240241 142.972628 235.242281 142.972628 \nC 233.24432 142.972628 231.327922 143.766426 229.91515 145.179198 \nC 228.502379 146.591969 227.70858 148.508368 227.70858 150.506328 \nC 227.70858 152.504289 228.502379 154.420687 229.91515 155.833459 \nC 231.327922 157.24623 233.24432 158.040028 235.242281 158.040028 \nz\n\" clip-path=\"url(#p85510c5427)\" style=\"fill: #737880; stroke: #5d6167; stroke-width: 1.253835; stroke-linejoin: miter\"/>\n   </g>\n   <g id=\"patch_15\">\n    <path d=\"M 165.912424 108.291481 \nC 167.910385 108.291481 169.826783 107.497682 171.239555 106.084911 \nC 172.652326 104.672139 173.446124 102.755741 173.446124 100.75778 \nC 173.446124 98.75982 172.652326 96.843421 171.239555 95.43065 \nC 169.826783 94.017878 167.910385 93.22408 165.912424 93.22408 \nC 163.914464 93.22408 161.998065 94.017878 160.585294 95.43065 \nC 159.172522 96.843421 158.378724 98.75982 158.378724 100.75778 \nC 158.378724 102.755741 159.172522 104.672139 160.585294 106.084911 \nC 161.998065 107.497682 163.914464 108.291481 165.912424 108.291481 \nz\n\" clip-path=\"url(#p85510c5427)\" style=\"fill: #737880; stroke: #5d6167; stroke-width: 1.253835; stroke-linejoin: miter\"/>\n   </g>\n   <g id=\"patch_16\">\n    <path d=\"M 153.114817 162.86353 \nC 155.112778 162.86353 157.029176 162.069731 158.441948 160.65696 \nC 159.854719 159.244188 160.648517 157.32779 160.648517 155.329829 \nC 160.648517 153.331869 159.854719 151.415471 158.441948 150.002699 \nC 157.029176 148.589928 155.112778 147.796129 153.114817 147.796129 \nC 151.116857 147.796129 149.200458 148.589928 147.787687 150.002699 \nC 146.374915 151.415471 145.581117 153.331869 145.581117 155.329829 \nC 145.581117 157.32779 146.374915 159.244188 147.787687 160.65696 \nC 149.200458 162.069731 151.116857 162.86353 153.114817 162.86353 \nz\n\" clip-path=\"url(#p85510c5427)\" style=\"fill: #737880; stroke: #5d6167; stroke-width: 1.253835; stroke-linejoin: miter\"/>\n   </g>\n   <g id=\"patch_17\">\n    <path d=\"M 142.646818 216.415058 \nC 144.644779 216.415058 146.561177 215.62126 147.973949 214.208488 \nC 149.38672 212.795717 150.180518 210.879319 150.180518 208.881358 \nC 150.180518 206.883397 149.38672 204.966999 147.973949 203.554227 \nC 146.561177 202.141456 144.644779 201.347658 142.646818 201.347658 \nC 140.648858 201.347658 138.732459 202.141456 137.319688 203.554227 \nC 135.906916 204.966999 135.113118 206.883397 135.113118 208.881358 \nC 135.113118 210.879319 135.906916 212.795717 137.319688 214.208488 \nC 138.732459 215.62126 140.648858 216.415058 142.646818 216.415058 \nz\n\" clip-path=\"url(#p85510c5427)\" style=\"fill: #737880; stroke: #5d6167; stroke-width: 1.253835; stroke-linejoin: miter\"/>\n   </g>\n   <g id=\"patch_18\">\n    <path d=\"M 196.484194 219.561623 \nC 198.482155 219.561623 200.398553 218.767825 201.811325 217.355053 \nC 203.224096 215.942282 204.017895 214.025883 204.017895 212.027923 \nC 204.017895 210.029962 203.224096 208.113564 201.811325 206.700792 \nC 200.398553 205.288021 198.482155 204.494223 196.484194 204.494223 \nC 194.486234 204.494223 192.569835 205.288021 191.157064 206.700792 \nC 189.744292 208.113564 188.950494 210.029962 188.950494 212.027923 \nC 188.950494 214.025883 189.744292 215.942282 191.157064 217.355053 \nC 192.569835 218.767825 194.486234 219.561623 196.484194 219.561623 \nz\n\" clip-path=\"url(#p85510c5427)\" style=\"fill: #737880; stroke: #5d6167; stroke-width: 1.253835; stroke-linejoin: miter\"/>\n   </g>\n   <g id=\"patch_19\">\n    <path d=\"M 259.327595 25.13082 \nC 261.325556 25.13082 263.241954 24.337021 264.654726 22.92425 \nC 266.067497 21.511478 266.861296 19.59508 266.861296 17.59712 \nC 266.861296 15.599159 266.067497 13.682761 264.654726 12.269989 \nC 263.241954 10.857218 261.325556 10.063419 259.327595 10.063419 \nC 257.329635 10.063419 255.413237 10.857218 254.000465 12.269989 \nC 252.587694 13.682761 251.793895 15.599159 251.793895 17.59712 \nC 251.793895 19.59508 252.587694 21.511478 254.000465 22.92425 \nC 255.413237 24.337021 257.329635 25.13082 259.327595 25.13082 \nz\n\" clip-path=\"url(#p85510c5427)\" style=\"fill: #737880; stroke: #5d6167; stroke-width: 1.253835; stroke-linejoin: miter\"/>\n   </g>\n   <g id=\"patch_20\">\n    <path d=\"M 288.046883 160.060018 \nC 290.044843 160.060018 291.961242 159.26622 293.374013 157.853449 \nC 294.786785 156.440677 295.580583 154.524279 295.580583 152.526318 \nC 295.580583 150.528358 294.786785 148.611959 293.374013 147.199188 \nC 291.961242 145.786416 290.044843 144.992618 288.046883 144.992618 \nC 286.048922 144.992618 284.132524 145.786416 282.719752 147.199188 \nC 281.306981 148.611959 280.513183 150.528358 280.513183 152.526318 \nC 280.513183 154.524279 281.306981 156.440677 282.719752 157.853449 \nC 284.132524 159.26622 286.048922 160.060018 288.046883 160.060018 \nz\n\" clip-path=\"url(#p85510c5427)\" style=\"fill: #737880; stroke: #5d6167; stroke-width: 1.253835; stroke-linejoin: miter\"/>\n   </g>\n   <g id=\"patch_21\">\n    <path d=\"M 45.340503 73.67758 \nC 47.338463 73.67758 49.254862 72.883782 50.667633 71.47101 \nC 52.080405 70.058239 52.874203 68.14184 52.874203 66.14388 \nC 52.874203 64.145919 52.080405 62.229521 50.667633 60.816749 \nC 49.254862 59.403978 47.338463 58.61018 45.340503 58.61018 \nC 43.342542 58.61018 41.426144 59.403978 40.013372 60.816749 \nC 38.600601 62.229521 37.806802 64.145919 37.806802 66.14388 \nC 37.806802 68.14184 38.600601 70.058239 40.013372 71.47101 \nC 41.426144 72.883782 43.342542 73.67758 45.340503 73.67758 \nz\n\" clip-path=\"url(#p85510c5427)\" style=\"fill: #737880; stroke: #5d6167; stroke-width: 1.253835; stroke-linejoin: miter\"/>\n   </g>\n   <g id=\"patch_22\">\n    <path d=\"M 357.001656 216.280994 \nC 358.999617 216.280994 360.916015 215.487196 362.328787 214.074425 \nC 363.741558 212.661653 364.535357 210.745255 364.535357 208.747294 \nC 364.535357 206.749334 363.741558 204.832935 362.328787 203.420164 \nC 360.916015 202.007392 358.999617 201.213594 357.001656 201.213594 \nC 355.003696 201.213594 353.087298 202.007392 351.674526 203.420164 \nC 350.261755 204.832935 349.467956 206.749334 349.467956 208.747294 \nC 349.467956 210.745255 350.261755 212.661653 351.674526 214.074425 \nC 353.087298 215.487196 355.003696 216.280994 357.001656 216.280994 \nz\n\" clip-path=\"url(#p85510c5427)\" style=\"fill: #737880; stroke: #5d6167; stroke-width: 1.253835; stroke-linejoin: miter\"/>\n   </g>\n   <g id=\"patch_23\">\n    <path d=\"M 235.12842 160.579303 \nC 237.126381 160.579303 239.042779 159.785505 240.455551 158.372733 \nC 241.868322 156.959962 242.66212 155.043563 242.66212 153.045603 \nC 242.66212 151.047642 241.868322 149.131244 240.455551 147.718472 \nC 239.042779 146.305701 237.126381 145.511903 235.12842 145.511903 \nC 233.13046 145.511903 231.214061 146.305701 229.80129 147.718472 \nC 228.388518 149.131244 227.59472 151.047642 227.59472 153.045603 \nC 227.59472 155.043563 228.388518 156.959962 229.80129 158.372733 \nC 231.214061 159.785505 233.13046 160.579303 235.12842 160.579303 \nz\n\" clip-path=\"url(#p85510c5427)\" style=\"fill: #737880; stroke: #5d6167; stroke-width: 1.253835; stroke-linejoin: miter\"/>\n   </g>\n   <g id=\"patch_24\">\n    <path d=\"M 256.844094 25.835605 \nC 258.842054 25.835605 260.758453 25.041807 262.171224 23.629035 \nC 263.583996 22.216264 264.377794 20.299865 264.377794 18.301905 \nC 264.377794 16.303944 263.583996 14.387546 262.171224 12.974774 \nC 260.758453 11.562003 258.842054 10.768205 256.844094 10.768205 \nC 254.846133 10.768205 252.929735 11.562003 251.516963 12.974774 \nC 250.104192 14.387546 249.310394 16.303944 249.310394 18.301905 \nC 249.310394 20.299865 250.104192 22.216264 251.516963 23.629035 \nC 252.929735 25.041807 254.846133 25.835605 256.844094 25.835605 \nz\n\" clip-path=\"url(#p85510c5427)\" style=\"fill: #737880; stroke: #5d6167; stroke-width: 1.253835; stroke-linejoin: miter\"/>\n   </g>\n   <g id=\"patch_25\">\n    <path d=\"M 46.332031 71.333662 \nC 48.329992 71.333662 50.24639 70.539864 51.659162 69.127093 \nC 53.071933 67.714321 53.865731 65.797923 53.865731 63.799962 \nC 53.865731 61.802002 53.071933 59.885603 51.659162 58.472832 \nC 50.24639 57.06006 48.329992 56.266262 46.332031 56.266262 \nC 44.334071 56.266262 42.417672 57.06006 41.004901 58.472832 \nC 39.592129 59.885603 38.798331 61.802002 38.798331 63.799962 \nC 38.798331 65.797923 39.592129 67.714321 41.004901 69.127093 \nC 42.417672 70.539864 44.334071 71.333662 46.332031 71.333662 \nz\n\" clip-path=\"url(#p85510c5427)\" style=\"fill: #737880; stroke: #5d6167; stroke-width: 1.253835; stroke-linejoin: miter\"/>\n   </g>\n   <g id=\"text_1\">\n    <!-- k1 -->\n    <g style=\"fill: #545759\" transform=\"translate(163.275825 59.909382) scale(0.07 -0.07)\">\n     <defs>\n      <path id=\"DejaVuSansMono-6b\" d=\"M 738 4863 \nL 1331 4863 \nL 1331 2047 \nL 2841 3500 \nL 3541 3500 \nL 2163 2181 \nL 3756 0 \nL 3053 0 \nL 1759 1806 \nL 1331 1403 \nL 1331 0 \nL 738 0 \nL 738 4863 \nz\n\" transform=\"scale(0.015625)\"/>\n      <path id=\"DejaVuSansMono-31\" d=\"M 844 531 \nL 1825 531 \nL 1825 4097 \nL 769 3859 \nL 769 4434 \nL 1819 4666 \nL 2450 4666 \nL 2450 531 \nL 3419 531 \nL 3419 0 \nL 844 0 \nL 844 531 \nz\n\" transform=\"scale(0.015625)\"/>\n     </defs>\n     <use xlink:href=\"#DejaVuSansMono-6b\"/>\n     <use xlink:href=\"#DejaVuSansMono-31\" x=\"60.205078\"/>\n    </g>\n   </g>\n   <g id=\"text_2\">\n    <!-- k3 -->\n    <g style=\"fill: #545759\" transform=\"translate(159.509744 102.300034) scale(0.07 -0.07)\">\n     <defs>\n      <path id=\"DejaVuSansMono-33\" d=\"M 2425 2497 \nQ 2884 2375 3128 2064 \nQ 3372 1753 3372 1288 \nQ 3372 644 2939 276 \nQ 2506 -91 1741 -91 \nQ 1419 -91 1084 -31 \nQ 750 28 428 141 \nL 428 769 \nQ 747 603 1056 522 \nQ 1366 441 1672 441 \nQ 2191 441 2469 675 \nQ 2747 909 2747 1350 \nQ 2747 1756 2469 1995 \nQ 2191 2234 1716 2234 \nL 1234 2234 \nL 1234 2753 \nL 1716 2753 \nQ 2150 2753 2394 2943 \nQ 2638 3134 2638 3475 \nQ 2638 3834 2411 4026 \nQ 2184 4219 1766 4219 \nQ 1488 4219 1191 4156 \nQ 894 4094 569 3969 \nL 569 4550 \nQ 947 4650 1242 4700 \nQ 1538 4750 1766 4750 \nQ 2447 4750 2855 4408 \nQ 3263 4066 3263 3500 \nQ 3263 3116 3048 2859 \nQ 2834 2603 2425 2497 \nz\n\" transform=\"scale(0.015625)\"/>\n     </defs>\n     <use xlink:href=\"#DejaVuSansMono-6b\"/>\n     <use xlink:href=\"#DejaVuSansMono-33\" x=\"60.205078\"/>\n    </g>\n   </g>\n   <g id=\"text_3\">\n    <!-- k4 -->\n    <g style=\"fill: #545759\" transform=\"translate(146.696847 157.700855) scale(0.07 -0.07)\">\n     <defs>\n      <path id=\"DejaVuSansMono-34\" d=\"M 2297 4091 \nL 825 1625 \nL 2297 1625 \nL 2297 4091 \nz\nM 2194 4666 \nL 2925 4666 \nL 2925 1625 \nL 3547 1625 \nL 3547 1113 \nL 2925 1113 \nL 2925 0 \nL 2297 0 \nL 2297 1113 \nL 319 1113 \nL 319 1709 \nL 2194 4666 \nz\n\" transform=\"scale(0.015625)\"/>\n     </defs>\n     <use xlink:href=\"#DejaVuSansMono-6b\"/>\n     <use xlink:href=\"#DejaVuSansMono-34\" x=\"60.205078\"/>\n    </g>\n   </g>\n   <g id=\"text_4\">\n    <!-- k5 -->\n    <g style=\"fill: #545759\" transform=\"translate(139.951835 209.106766) scale(0.07 -0.07)\">\n     <defs>\n      <path id=\"DejaVuSansMono-35\" d=\"M 647 4666 \nL 3009 4666 \nL 3009 4134 \nL 1222 4134 \nL 1222 2988 \nQ 1356 3038 1492 3061 \nQ 1628 3084 1766 3084 \nQ 2491 3084 2916 2656 \nQ 3341 2228 3341 1497 \nQ 3341 759 2895 334 \nQ 2450 -91 1678 -91 \nQ 1306 -91 998 -41 \nQ 691 9 447 109 \nL 447 750 \nQ 734 594 1025 517 \nQ 1316 441 1619 441 \nQ 2141 441 2423 716 \nQ 2706 991 2706 1497 \nQ 2706 1997 2414 2275 \nQ 2122 2553 1600 2553 \nQ 1347 2553 1106 2495 \nQ 866 2438 647 2322 \nL 647 4666 \nz\n\" transform=\"scale(0.015625)\"/>\n     </defs>\n     <use xlink:href=\"#DejaVuSansMono-6b\"/>\n     <use xlink:href=\"#DejaVuSansMono-35\" x=\"60.205078\"/>\n    </g>\n   </g>\n   <g id=\"text_5\">\n    <!-- k6 -->\n    <g style=\"fill: #545759\" transform=\"translate(192.071017 211.718781) scale(0.07 -0.07)\">\n     <defs>\n      <path id=\"DejaVuSansMono-36\" d=\"M 3097 4563 \nL 3097 3981 \nQ 2900 4097 2678 4158 \nQ 2456 4219 2216 4219 \nQ 1616 4219 1306 3767 \nQ 997 3316 997 2438 \nQ 1147 2750 1412 2917 \nQ 1678 3084 2022 3084 \nQ 2697 3084 3067 2670 \nQ 3438 2256 3438 1497 \nQ 3438 741 3056 325 \nQ 2675 -91 1984 -91 \nQ 1172 -91 794 492 \nQ 416 1075 416 2328 \nQ 416 3509 870 4129 \nQ 1325 4750 2188 4750 \nQ 2419 4750 2650 4701 \nQ 2881 4653 3097 4563 \nz\nM 1972 2591 \nQ 1569 2591 1337 2300 \nQ 1106 2009 1106 1497 \nQ 1106 984 1337 693 \nQ 1569 403 1972 403 \nQ 2391 403 2603 679 \nQ 2816 956 2816 1497 \nQ 2816 2041 2603 2316 \nQ 2391 2591 1972 2591 \nz\n\" transform=\"scale(0.015625)\"/>\n     </defs>\n     <use xlink:href=\"#DejaVuSansMono-6b\"/>\n     <use xlink:href=\"#DejaVuSansMono-36\" x=\"60.205078\"/>\n    </g>\n   </g>\n   <g id=\"text_6\">\n    <!-- k8 -->\n    <g style=\"fill: #545759\" transform=\"translate(286.12234 154.518005) scale(0.07 -0.07)\">\n     <defs>\n      <path id=\"DejaVuSansMono-38\" d=\"M 1925 2216 \nQ 1503 2216 1273 1980 \nQ 1044 1744 1044 1313 \nQ 1044 881 1276 642 \nQ 1509 403 1925 403 \nQ 2350 403 2579 639 \nQ 2809 875 2809 1313 \nQ 2809 1741 2576 1978 \nQ 2344 2216 1925 2216 \nz\nM 1375 2478 \nQ 972 2581 745 2862 \nQ 519 3144 519 3541 \nQ 519 4097 897 4423 \nQ 1275 4750 1925 4750 \nQ 2578 4750 2956 4423 \nQ 3334 4097 3334 3541 \nQ 3334 3144 3107 2862 \nQ 2881 2581 2478 2478 \nQ 2947 2375 3195 2062 \nQ 3444 1750 3444 1253 \nQ 3444 622 3041 265 \nQ 2638 -91 1925 -91 \nQ 1213 -91 811 264 \nQ 409 619 409 1247 \nQ 409 1747 657 2061 \nQ 906 2375 1375 2478 \nz\nM 1147 3481 \nQ 1147 3106 1347 2909 \nQ 1547 2713 1925 2713 \nQ 2306 2713 2506 2909 \nQ 2706 3106 2706 3481 \nQ 2706 3863 2507 4063 \nQ 2309 4263 1925 4263 \nQ 1547 4263 1347 4061 \nQ 1147 3859 1147 3481 \nz\n\" transform=\"scale(0.015625)\"/>\n     </defs>\n     <use xlink:href=\"#DejaVuSansMono-6b\"/>\n     <use xlink:href=\"#DejaVuSansMono-38\" x=\"60.205078\"/>\n    </g>\n   </g>\n   <g id=\"text_7\">\n    <!-- k0 -->\n    <g style=\"fill: #545759\" transform=\"translate(355.008579 209.402316) scale(0.07 -0.07)\">\n     <defs>\n      <path id=\"DejaVuSansMono-30\" d=\"M 1509 2344 \nQ 1509 2516 1629 2641 \nQ 1750 2766 1919 2766 \nQ 2094 2766 2219 2641 \nQ 2344 2516 2344 2344 \nQ 2344 2169 2220 2047 \nQ 2097 1925 1919 1925 \nQ 1744 1925 1626 2044 \nQ 1509 2163 1509 2344 \nz\nM 1925 4250 \nQ 1484 4250 1267 3775 \nQ 1050 3300 1050 2328 \nQ 1050 1359 1267 884 \nQ 1484 409 1925 409 \nQ 2369 409 2586 884 \nQ 2803 1359 2803 2328 \nQ 2803 3300 2586 3775 \nQ 2369 4250 1925 4250 \nz\nM 1925 4750 \nQ 2672 4750 3055 4137 \nQ 3438 3525 3438 2328 \nQ 3438 1134 3055 521 \nQ 2672 -91 1925 -91 \nQ 1178 -91 797 521 \nQ 416 1134 416 2328 \nQ 416 3525 797 4137 \nQ 1178 4750 1925 4750 \nz\n\" transform=\"scale(0.015625)\"/>\n     </defs>\n     <use xlink:href=\"#DejaVuSansMono-6b\"/>\n     <use xlink:href=\"#DejaVuSansMono-30\" x=\"60.205078\"/>\n    </g>\n   </g>\n   <g id=\"text_8\">\n    <!-- k2 -->\n    <g style=\"fill: #545759\" transform=\"translate(231.0436 157.544713) scale(0.07 -0.07)\">\n     <defs>\n      <path id=\"DejaVuSansMono-32\" d=\"M 1166 531 \nL 3309 531 \nL 3309 0 \nL 475 0 \nL 475 531 \nQ 1059 1147 1496 1619 \nQ 1934 2091 2100 2284 \nQ 2413 2666 2522 2902 \nQ 2631 3138 2631 3384 \nQ 2631 3775 2401 3997 \nQ 2172 4219 1772 4219 \nQ 1488 4219 1175 4116 \nQ 863 4013 513 3803 \nL 513 4441 \nQ 834 4594 1145 4672 \nQ 1456 4750 1759 4750 \nQ 2444 4750 2861 4386 \nQ 3278 4022 3278 3431 \nQ 3278 3131 3139 2831 \nQ 3000 2531 2688 2169 \nQ 2513 1966 2180 1606 \nQ 1847 1247 1166 531 \nz\n\" transform=\"scale(0.015625)\"/>\n     </defs>\n     <use xlink:href=\"#DejaVuSansMono-6b\"/>\n     <use xlink:href=\"#DejaVuSansMono-32\" x=\"60.205078\"/>\n    </g>\n   </g>\n   <g id=\"text_9\">\n    <!-- k7 -->\n    <g style=\"fill: #545759\" transform=\"translate(250.111054 20.327844) scale(0.07 -0.07)\">\n     <defs>\n      <path id=\"DejaVuSansMono-37\" d=\"M 434 4666 \nL 3372 4666 \nL 3372 4397 \nL 1703 0 \nL 1044 0 \nL 2669 4134 \nL 434 4134 \nL 434 4666 \nz\n\" transform=\"scale(0.015625)\"/>\n     </defs>\n     <use xlink:href=\"#DejaVuSansMono-6b\"/>\n     <use xlink:href=\"#DejaVuSansMono-37\" x=\"60.205078\"/>\n    </g>\n   </g>\n   <g id=\"text_10\">\n    <!-- k9 -->\n    <g style=\"fill: #545759\" transform=\"translate(42.426183 63.212899) scale(0.07 -0.07)\">\n     <defs>\n      <path id=\"DejaVuSansMono-39\" d=\"M 1863 2069 \nQ 2266 2069 2495 2359 \nQ 2725 2650 2725 3163 \nQ 2725 3675 2495 3965 \nQ 2266 4256 1863 4256 \nQ 1444 4256 1231 3979 \nQ 1019 3703 1019 3163 \nQ 1019 2619 1230 2344 \nQ 1441 2069 1863 2069 \nz\nM 738 97 \nL 738 678 \nQ 934 563 1156 502 \nQ 1378 441 1619 441 \nQ 2219 441 2526 892 \nQ 2834 1344 2834 2222 \nQ 2688 1909 2422 1742 \nQ 2156 1575 1813 1575 \nQ 1138 1575 767 1990 \nQ 397 2406 397 3169 \nQ 397 3922 776 4336 \nQ 1156 4750 1850 4750 \nQ 2663 4750 3041 4165 \nQ 3419 3581 3419 2328 \nQ 3419 1150 2964 529 \nQ 2509 -91 1644 -91 \nQ 1416 -91 1184 -42 \nQ 953 6 738 97 \nz\n\" transform=\"scale(0.015625)\"/>\n     </defs>\n     <use xlink:href=\"#DejaVuSansMono-6b\"/>\n     <use xlink:href=\"#DejaVuSansMono-39\" x=\"60.205078\"/>\n    </g>\n   </g>\n   <g id=\"text_11\">\n    <!-- I0, PSI0 -->\n    <g style=\"fill: #545759\" transform=\"translate(331.151845 213.344776) scale(0.1 -0.1)\">\n     <defs>\n      <path id=\"DejaVuSansMono-49\" d=\"M 628 4666 \nL 3219 4666 \nL 3219 4134 \nL 2241 4134 \nL 2241 531 \nL 3219 531 \nL 3219 0 \nL 628 0 \nL 628 531 \nL 1606 531 \nL 1606 4134 \nL 628 4134 \nL 628 4666 \nz\n\" transform=\"scale(0.015625)\"/>\n      <path id=\"DejaVuSansMono-2c\" d=\"M 1569 947 \nL 2356 947 \nL 2356 300 \nL 1741 -897 \nL 1259 -897 \nL 1569 300 \nL 1569 947 \nz\n\" transform=\"scale(0.015625)\"/>\n      <path id=\"DejaVuSansMono-20\" transform=\"scale(0.015625)\"/>\n      <path id=\"DejaVuSansMono-50\" d=\"M 1247 4147 \nL 1247 2394 \nL 1978 2394 \nQ 2416 2394 2661 2625 \nQ 2906 2856 2906 3272 \nQ 2906 3688 2662 3917 \nQ 2419 4147 1978 4147 \nL 1247 4147 \nz\nM 616 4666 \nL 1978 4666 \nQ 2759 4666 3162 4311 \nQ 3566 3956 3566 3272 \nQ 3566 2581 3164 2228 \nQ 2763 1875 1978 1875 \nL 1247 1875 \nL 1247 0 \nL 616 0 \nL 616 4666 \nz\n\" transform=\"scale(0.015625)\"/>\n      <path id=\"DejaVuSansMono-53\" d=\"M 3163 4506 \nL 3163 3866 \nQ 2875 4050 2586 4144 \nQ 2297 4238 2003 4238 \nQ 1556 4238 1297 4030 \nQ 1038 3822 1038 3469 \nQ 1038 3159 1208 2996 \nQ 1378 2834 1844 2725 \nL 2175 2650 \nQ 2831 2497 3131 2169 \nQ 3431 1841 3431 1275 \nQ 3431 609 3018 259 \nQ 2606 -91 1819 -91 \nQ 1491 -91 1159 -20 \nQ 828 50 494 191 \nL 494 863 \nQ 853 634 1173 528 \nQ 1494 422 1819 422 \nQ 2297 422 2562 636 \nQ 2828 850 2828 1234 \nQ 2828 1584 2645 1768 \nQ 2463 1953 2009 2053 \nL 1672 2131 \nQ 1022 2278 728 2575 \nQ 434 2872 434 3372 \nQ 434 3997 854 4373 \nQ 1275 4750 1972 4750 \nQ 2241 4750 2537 4689 \nQ 2834 4628 3163 4506 \nz\n\" transform=\"scale(0.015625)\"/>\n     </defs>\n     <use xlink:href=\"#DejaVuSansMono-49\"/>\n     <use xlink:href=\"#DejaVuSansMono-30\" x=\"60.205078\"/>\n     <use xlink:href=\"#DejaVuSansMono-2c\" x=\"120.410156\"/>\n     <use xlink:href=\"#DejaVuSansMono-20\" x=\"180.615234\"/>\n     <use xlink:href=\"#DejaVuSansMono-50\" x=\"240.820312\"/>\n     <use xlink:href=\"#DejaVuSansMono-53\" x=\"301.025391\"/>\n     <use xlink:href=\"#DejaVuSansMono-49\" x=\"361.230469\"/>\n     <use xlink:href=\"#DejaVuSansMono-30\" x=\"421.435547\"/>\n    </g>\n   </g>\n   <g id=\"text_12\">\n    <!-- I1, PSI0 -->\n    <g style=\"fill: #545759\" transform=\"translate(142.728772 58.55536) scale(0.1 -0.1)\">\n     <use xlink:href=\"#DejaVuSansMono-49\"/>\n     <use xlink:href=\"#DejaVuSansMono-31\" x=\"60.205078\"/>\n     <use xlink:href=\"#DejaVuSansMono-2c\" x=\"120.410156\"/>\n     <use xlink:href=\"#DejaVuSansMono-20\" x=\"180.615234\"/>\n     <use xlink:href=\"#DejaVuSansMono-50\" x=\"240.820312\"/>\n     <use xlink:href=\"#DejaVuSansMono-53\" x=\"301.025391\"/>\n     <use xlink:href=\"#DejaVuSansMono-49\" x=\"361.230469\"/>\n     <use xlink:href=\"#DejaVuSansMono-30\" x=\"421.435547\"/>\n    </g>\n   </g>\n   <g id=\"text_13\">\n    <!-- I2, PSI0 -->\n    <g style=\"fill: #545759\" transform=\"translate(211.161031 153.292266) scale(0.1 -0.1)\">\n     <use xlink:href=\"#DejaVuSansMono-49\"/>\n     <use xlink:href=\"#DejaVuSansMono-32\" x=\"60.205078\"/>\n     <use xlink:href=\"#DejaVuSansMono-2c\" x=\"120.410156\"/>\n     <use xlink:href=\"#DejaVuSansMono-20\" x=\"180.615234\"/>\n     <use xlink:href=\"#DejaVuSansMono-50\" x=\"240.820312\"/>\n     <use xlink:href=\"#DejaVuSansMono-53\" x=\"301.025391\"/>\n     <use xlink:href=\"#DejaVuSansMono-49\" x=\"361.230469\"/>\n     <use xlink:href=\"#DejaVuSansMono-30\" x=\"421.435547\"/>\n    </g>\n   </g>\n   <g id=\"text_14\">\n    <!-- I3, PSI0 -->\n    <g style=\"fill: #545759\" transform=\"translate(141.831174 103.543718) scale(0.1 -0.1)\">\n     <use xlink:href=\"#DejaVuSansMono-49\"/>\n     <use xlink:href=\"#DejaVuSansMono-33\" x=\"60.205078\"/>\n     <use xlink:href=\"#DejaVuSansMono-2c\" x=\"120.410156\"/>\n     <use xlink:href=\"#DejaVuSansMono-20\" x=\"180.615234\"/>\n     <use xlink:href=\"#DejaVuSansMono-50\" x=\"240.820312\"/>\n     <use xlink:href=\"#DejaVuSansMono-53\" x=\"301.025391\"/>\n     <use xlink:href=\"#DejaVuSansMono-49\" x=\"361.230469\"/>\n     <use xlink:href=\"#DejaVuSansMono-30\" x=\"421.435547\"/>\n    </g>\n   </g>\n   <g id=\"text_15\">\n    <!-- I4, PSI0 -->\n    <g style=\"fill: #545759\" transform=\"translate(129.033567 158.115767) scale(0.1 -0.1)\">\n     <use xlink:href=\"#DejaVuSansMono-49\"/>\n     <use xlink:href=\"#DejaVuSansMono-34\" x=\"60.205078\"/>\n     <use xlink:href=\"#DejaVuSansMono-2c\" x=\"120.410156\"/>\n     <use xlink:href=\"#DejaVuSansMono-20\" x=\"180.615234\"/>\n     <use xlink:href=\"#DejaVuSansMono-50\" x=\"240.820312\"/>\n     <use xlink:href=\"#DejaVuSansMono-53\" x=\"301.025391\"/>\n     <use xlink:href=\"#DejaVuSansMono-49\" x=\"361.230469\"/>\n     <use xlink:href=\"#DejaVuSansMono-30\" x=\"421.435547\"/>\n    </g>\n   </g>\n   <g id=\"text_16\">\n    <!-- I5, PSI0 -->\n    <g style=\"fill: #545759\" transform=\"translate(118.565568 211.667295) scale(0.1 -0.1)\">\n     <use xlink:href=\"#DejaVuSansMono-49\"/>\n     <use xlink:href=\"#DejaVuSansMono-35\" x=\"60.205078\"/>\n     <use xlink:href=\"#DejaVuSansMono-2c\" x=\"120.410156\"/>\n     <use xlink:href=\"#DejaVuSansMono-20\" x=\"180.615234\"/>\n     <use xlink:href=\"#DejaVuSansMono-50\" x=\"240.820312\"/>\n     <use xlink:href=\"#DejaVuSansMono-53\" x=\"301.025391\"/>\n     <use xlink:href=\"#DejaVuSansMono-49\" x=\"361.230469\"/>\n     <use xlink:href=\"#DejaVuSansMono-30\" x=\"421.435547\"/>\n    </g>\n   </g>\n   <g id=\"text_17\">\n    <!-- I6, PSI0 -->\n    <g style=\"fill: #545759\" transform=\"translate(172.402944 214.81386) scale(0.1 -0.1)\">\n     <use xlink:href=\"#DejaVuSansMono-49\"/>\n     <use xlink:href=\"#DejaVuSansMono-36\" x=\"60.205078\"/>\n     <use xlink:href=\"#DejaVuSansMono-2c\" x=\"120.410156\"/>\n     <use xlink:href=\"#DejaVuSansMono-20\" x=\"180.615234\"/>\n     <use xlink:href=\"#DejaVuSansMono-50\" x=\"240.820312\"/>\n     <use xlink:href=\"#DejaVuSansMono-53\" x=\"301.025391\"/>\n     <use xlink:href=\"#DejaVuSansMono-49\" x=\"361.230469\"/>\n     <use xlink:href=\"#DejaVuSansMono-30\" x=\"421.435547\"/>\n    </g>\n   </g>\n   <g id=\"text_18\">\n    <!-- I7, PSI0 -->\n    <g style=\"fill: #545759\" transform=\"translate(235.246345 20.383057) scale(0.1 -0.1)\">\n     <use xlink:href=\"#DejaVuSansMono-49\"/>\n     <use xlink:href=\"#DejaVuSansMono-37\" x=\"60.205078\"/>\n     <use xlink:href=\"#DejaVuSansMono-2c\" x=\"120.410156\"/>\n     <use xlink:href=\"#DejaVuSansMono-20\" x=\"180.615234\"/>\n     <use xlink:href=\"#DejaVuSansMono-50\" x=\"240.820312\"/>\n     <use xlink:href=\"#DejaVuSansMono-53\" x=\"301.025391\"/>\n     <use xlink:href=\"#DejaVuSansMono-49\" x=\"361.230469\"/>\n     <use xlink:href=\"#DejaVuSansMono-30\" x=\"421.435547\"/>\n    </g>\n   </g>\n   <g id=\"text_19\">\n    <!-- I8, PSI0 -->\n    <g style=\"fill: #545759\" transform=\"translate(263.965633 155.312256) scale(0.1 -0.1)\">\n     <use xlink:href=\"#DejaVuSansMono-49\"/>\n     <use xlink:href=\"#DejaVuSansMono-38\" x=\"60.205078\"/>\n     <use xlink:href=\"#DejaVuSansMono-2c\" x=\"120.410156\"/>\n     <use xlink:href=\"#DejaVuSansMono-20\" x=\"180.615234\"/>\n     <use xlink:href=\"#DejaVuSansMono-50\" x=\"240.820312\"/>\n     <use xlink:href=\"#DejaVuSansMono-53\" x=\"301.025391\"/>\n     <use xlink:href=\"#DejaVuSansMono-49\" x=\"361.230469\"/>\n     <use xlink:href=\"#DejaVuSansMono-30\" x=\"421.435547\"/>\n    </g>\n   </g>\n   <g id=\"text_20\">\n    <!-- I9, PSI0 -->\n    <g style=\"fill: #545759\" transform=\"translate(21.259253 68.929817) scale(0.1 -0.1)\">\n     <use xlink:href=\"#DejaVuSansMono-49\"/>\n     <use xlink:href=\"#DejaVuSansMono-39\" x=\"60.205078\"/>\n     <use xlink:href=\"#DejaVuSansMono-2c\" x=\"120.410156\"/>\n     <use xlink:href=\"#DejaVuSansMono-20\" x=\"180.615234\"/>\n     <use xlink:href=\"#DejaVuSansMono-50\" x=\"240.820312\"/>\n     <use xlink:href=\"#DejaVuSansMono-53\" x=\"301.025391\"/>\n     <use xlink:href=\"#DejaVuSansMono-49\" x=\"361.230469\"/>\n     <use xlink:href=\"#DejaVuSansMono-30\" x=\"421.435547\"/>\n    </g>\n   </g>\n   <g id=\"text_21\">\n    <!-- GATE_0, X, I0 -->\n    <g style=\"fill: #545759\" transform=\"translate(317.869625 211.279325) scale(0.1 -0.1)\">\n     <defs>\n      <path id=\"DejaVuSansMono-47\" d=\"M 3450 384 \nQ 3197 150 2880 29 \nQ 2563 -91 2194 -91 \nQ 1306 -91 812 545 \nQ 319 1181 319 2328 \nQ 319 3472 819 4111 \nQ 1319 4750 2209 4750 \nQ 2503 4750 2772 4667 \nQ 3041 4584 3291 4416 \nL 3291 3769 \nQ 3038 4009 2772 4123 \nQ 2506 4238 2209 4238 \nQ 1594 4238 1286 3761 \nQ 978 3284 978 2328 \nQ 978 1356 1276 889 \nQ 1575 422 2194 422 \nQ 2403 422 2561 470 \nQ 2719 519 2847 622 \nL 2847 1875 \nL 2169 1875 \nL 2169 2394 \nL 3450 2394 \nL 3450 384 \nz\n\" transform=\"scale(0.015625)\"/>\n      <path id=\"DejaVuSansMono-41\" d=\"M 1925 4109 \nL 1259 1722 \nL 2591 1722 \nL 1925 4109 \nz\nM 1544 4666 \nL 2309 4666 \nL 3738 0 \nL 3084 0 \nL 2741 1216 \nL 1106 1216 \nL 769 0 \nL 116 0 \nL 1544 4666 \nz\n\" transform=\"scale(0.015625)\"/>\n      <path id=\"DejaVuSansMono-54\" d=\"M 147 4666 \nL 3706 4666 \nL 3706 4134 \nL 2247 4134 \nL 2247 0 \nL 1613 0 \nL 1613 4134 \nL 147 4134 \nL 147 4666 \nz\n\" transform=\"scale(0.015625)\"/>\n      <path id=\"DejaVuSansMono-45\" d=\"M 616 4666 \nL 3384 4666 \nL 3384 4134 \nL 1247 4134 \nL 1247 2753 \nL 3291 2753 \nL 3291 2222 \nL 1247 2222 \nL 1247 531 \nL 3444 531 \nL 3444 0 \nL 616 0 \nL 616 4666 \nz\n\" transform=\"scale(0.015625)\"/>\n      <path id=\"DejaVuSansMono-5f\" d=\"M 3853 -1259 \nL 3853 -1509 \nL 0 -1509 \nL 0 -1259 \nL 3853 -1259 \nz\n\" transform=\"scale(0.015625)\"/>\n      <path id=\"DejaVuSansMono-58\" d=\"M 269 4666 \nL 947 4666 \nL 1972 2906 \nL 3016 4666 \nL 3694 4666 \nL 2297 2472 \nL 3794 0 \nL 3116 0 \nL 1972 2009 \nL 738 0 \nL 56 0 \nL 1619 2472 \nL 269 4666 \nz\n\" transform=\"scale(0.015625)\"/>\n     </defs>\n     <use xlink:href=\"#DejaVuSansMono-47\"/>\n     <use xlink:href=\"#DejaVuSansMono-41\" x=\"60.205078\"/>\n     <use xlink:href=\"#DejaVuSansMono-54\" x=\"120.410156\"/>\n     <use xlink:href=\"#DejaVuSansMono-45\" x=\"180.615234\"/>\n     <use xlink:href=\"#DejaVuSansMono-5f\" x=\"240.820312\"/>\n     <use xlink:href=\"#DejaVuSansMono-30\" x=\"301.025391\"/>\n     <use xlink:href=\"#DejaVuSansMono-2c\" x=\"361.230469\"/>\n     <use xlink:href=\"#DejaVuSansMono-20\" x=\"421.435547\"/>\n     <use xlink:href=\"#DejaVuSansMono-58\" x=\"481.640625\"/>\n     <use xlink:href=\"#DejaVuSansMono-2c\" x=\"541.845703\"/>\n     <use xlink:href=\"#DejaVuSansMono-20\" x=\"602.050781\"/>\n     <use xlink:href=\"#DejaVuSansMono-49\" x=\"662.255859\"/>\n     <use xlink:href=\"#DejaVuSansMono-30\" x=\"722.460938\"/>\n    </g>\n   </g>\n   <g id=\"text_22\">\n    <!-- GATE_1, X, I2 -->\n    <g style=\"fill: #545759\" transform=\"translate(195.996389 155.577634) scale(0.1 -0.1)\">\n     <use xlink:href=\"#DejaVuSansMono-47\"/>\n     <use xlink:href=\"#DejaVuSansMono-41\" x=\"60.205078\"/>\n     <use xlink:href=\"#DejaVuSansMono-54\" x=\"120.410156\"/>\n     <use xlink:href=\"#DejaVuSansMono-45\" x=\"180.615234\"/>\n     <use xlink:href=\"#DejaVuSansMono-5f\" x=\"240.820312\"/>\n     <use xlink:href=\"#DejaVuSansMono-31\" x=\"301.025391\"/>\n     <use xlink:href=\"#DejaVuSansMono-2c\" x=\"361.230469\"/>\n     <use xlink:href=\"#DejaVuSansMono-20\" x=\"421.435547\"/>\n     <use xlink:href=\"#DejaVuSansMono-58\" x=\"481.640625\"/>\n     <use xlink:href=\"#DejaVuSansMono-2c\" x=\"541.845703\"/>\n     <use xlink:href=\"#DejaVuSansMono-20\" x=\"602.050781\"/>\n     <use xlink:href=\"#DejaVuSansMono-49\" x=\"662.255859\"/>\n     <use xlink:href=\"#DejaVuSansMono-32\" x=\"722.460938\"/>\n    </g>\n   </g>\n   <g id=\"text_23\">\n    <!-- GATE_2, X, I7 -->\n    <g style=\"fill: #545759\" transform=\"translate(217.712062 20.833936) scale(0.1 -0.1)\">\n     <use xlink:href=\"#DejaVuSansMono-47\"/>\n     <use xlink:href=\"#DejaVuSansMono-41\" x=\"60.205078\"/>\n     <use xlink:href=\"#DejaVuSansMono-54\" x=\"120.410156\"/>\n     <use xlink:href=\"#DejaVuSansMono-45\" x=\"180.615234\"/>\n     <use xlink:href=\"#DejaVuSansMono-5f\" x=\"240.820312\"/>\n     <use xlink:href=\"#DejaVuSansMono-32\" x=\"301.025391\"/>\n     <use xlink:href=\"#DejaVuSansMono-2c\" x=\"361.230469\"/>\n     <use xlink:href=\"#DejaVuSansMono-20\" x=\"421.435547\"/>\n     <use xlink:href=\"#DejaVuSansMono-58\" x=\"481.640625\"/>\n     <use xlink:href=\"#DejaVuSansMono-2c\" x=\"541.845703\"/>\n     <use xlink:href=\"#DejaVuSansMono-20\" x=\"602.050781\"/>\n     <use xlink:href=\"#DejaVuSansMono-49\" x=\"662.255859\"/>\n     <use xlink:href=\"#DejaVuSansMono-37\" x=\"722.460938\"/>\n    </g>\n   </g>\n   <g id=\"text_24\">\n    <!-- GATE_3, X, I9 -->\n    <g style=\"fill: #545759\" transform=\"translate(7.2 66.331993) scale(0.1 -0.1)\">\n     <use xlink:href=\"#DejaVuSansMono-47\"/>\n     <use xlink:href=\"#DejaVuSansMono-41\" x=\"60.205078\"/>\n     <use xlink:href=\"#DejaVuSansMono-54\" x=\"120.410156\"/>\n     <use xlink:href=\"#DejaVuSansMono-45\" x=\"180.615234\"/>\n     <use xlink:href=\"#DejaVuSansMono-5f\" x=\"240.820312\"/>\n     <use xlink:href=\"#DejaVuSansMono-33\" x=\"301.025391\"/>\n     <use xlink:href=\"#DejaVuSansMono-2c\" x=\"361.230469\"/>\n     <use xlink:href=\"#DejaVuSansMono-20\" x=\"421.435547\"/>\n     <use xlink:href=\"#DejaVuSansMono-58\" x=\"481.640625\"/>\n     <use xlink:href=\"#DejaVuSansMono-2c\" x=\"541.845703\"/>\n     <use xlink:href=\"#DejaVuSansMono-20\" x=\"602.050781\"/>\n     <use xlink:href=\"#DejaVuSansMono-49\" x=\"662.255859\"/>\n     <use xlink:href=\"#DejaVuSansMono-39\" x=\"722.460938\"/>\n    </g>\n   </g>\n  </g>\n </g>\n <defs>\n  <clipPath id=\"p85510c5427\">\n   <rect x=\"33.77108\" y=\"7.2\" width=\"334.8\" height=\"215.225042\"/>\n  </clipPath>\n </defs>\n</svg>\n"
          },
          "metadata": {
            "needs_background": "light"
          }
        },
        {
          "output_type": "stream",
          "name": "stderr",
          "text": [
            "100%|██████████| 5/5 [00:02<00:00,  2.18it/s]\n",
            "100%|██████████| 5/5 [00:00<00:00, 162.29it/s]\n",
            "/usr/local/lib/python3.10/dist-packages/matplotlib/cbook/__init__.py:1335: ComplexWarning: Casting complex values to real discards the imaginary part\n",
            "  return np.asarray(x, float)\n"
          ]
        },
        {
          "output_type": "stream",
          "name": "stdout",
          "text": [
            ">>> Expectation value from qiskit: 0.060644474271999996\n",
            "\n",
            ">>> Expectation value from quimb: (-3.936095628053532+1.0790593165714205e-15j)\n",
            "\n"
          ]
        },
        {
          "output_type": "display_data",
          "data": {
            "text/plain": [
              "<Figure size 1000x600 with 1 Axes>"
            ],
            "image/svg+xml": "<?xml version=\"1.0\" encoding=\"utf-8\" standalone=\"no\"?>\n<!DOCTYPE svg PUBLIC \"-//W3C//DTD SVG 1.1//EN\"\n  \"http://www.w3.org/Graphics/SVG/1.1/DTD/svg11.dtd\">\n<svg xmlns:xlink=\"http://www.w3.org/1999/xlink\" width=\"607.820312pt\" height=\"392.514375pt\" viewBox=\"0 0 607.820312 392.514375\" xmlns=\"http://www.w3.org/2000/svg\" version=\"1.1\">\n <metadata>\n  <rdf:RDF xmlns:dc=\"http://purl.org/dc/elements/1.1/\" xmlns:cc=\"http://creativecommons.org/ns#\" xmlns:rdf=\"http://www.w3.org/1999/02/22-rdf-syntax-ns#\">\n   <cc:Work>\n    <dc:type rdf:resource=\"http://purl.org/dc/dcmitype/StillImage\"/>\n    <dc:date>2024-09-05T06:50:33.374798</dc:date>\n    <dc:format>image/svg+xml</dc:format>\n    <dc:creator>\n     <cc:Agent>\n      <dc:title>Matplotlib v3.7.1, https://matplotlib.org/</dc:title>\n     </cc:Agent>\n    </dc:creator>\n   </cc:Work>\n  </rdf:RDF>\n </metadata>\n <defs>\n  <style type=\"text/css\">*{stroke-linejoin: round; stroke-linecap: butt}</style>\n </defs>\n <g id=\"figure_1\">\n  <g id=\"patch_1\">\n   <path d=\"M 0 392.514375 \nL 607.820312 392.514375 \nL 607.820312 0 \nL 0 0 \nz\n\" style=\"fill: #ffffff\"/>\n  </g>\n  <g id=\"axes_1\">\n   <g id=\"patch_2\">\n    <path d=\"M 42.620313 354.958125 \nL 600.620312 354.958125 \nL 600.620312 22.318125 \nL 42.620313 22.318125 \nz\n\" style=\"fill: #ffffff\"/>\n   </g>\n   <g id=\"matplotlib.axis_1\">\n    <g id=\"xtick_1\">\n     <g id=\"line2d_1\">\n      <path d=\"M 67.983949 354.958125 \nL 67.983949 22.318125 \n\" clip-path=\"url(#pf122c7a4c7)\" style=\"fill: none; stroke: #b0b0b0; stroke-width: 0.8; stroke-linecap: square\"/>\n     </g>\n     <g id=\"line2d_2\">\n      <defs>\n       <path id=\"mc6bcac3a3a\" d=\"M 0 0 \nL 0 3.5 \n\" style=\"stroke: #000000; stroke-width: 0.8\"/>\n      </defs>\n      <g>\n       <use xlink:href=\"#mc6bcac3a3a\" x=\"67.983949\" y=\"354.958125\" style=\"stroke: #000000; stroke-width: 0.8\"/>\n      </g>\n     </g>\n     <g id=\"text_1\">\n      <!-- 6.0 -->\n      <g transform=\"translate(60.032386 369.556562) scale(0.1 -0.1)\">\n       <defs>\n        <path id=\"DejaVuSans-36\" d=\"M 2113 2584 \nQ 1688 2584 1439 2293 \nQ 1191 2003 1191 1497 \nQ 1191 994 1439 701 \nQ 1688 409 2113 409 \nQ 2538 409 2786 701 \nQ 3034 994 3034 1497 \nQ 3034 2003 2786 2293 \nQ 2538 2584 2113 2584 \nz\nM 3366 4563 \nL 3366 3988 \nQ 3128 4100 2886 4159 \nQ 2644 4219 2406 4219 \nQ 1781 4219 1451 3797 \nQ 1122 3375 1075 2522 \nQ 1259 2794 1537 2939 \nQ 1816 3084 2150 3084 \nQ 2853 3084 3261 2657 \nQ 3669 2231 3669 1497 \nQ 3669 778 3244 343 \nQ 2819 -91 2113 -91 \nQ 1303 -91 875 529 \nQ 447 1150 447 2328 \nQ 447 3434 972 4092 \nQ 1497 4750 2381 4750 \nQ 2619 4750 2861 4703 \nQ 3103 4656 3366 4563 \nz\n\" transform=\"scale(0.015625)\"/>\n        <path id=\"DejaVuSans-2e\" d=\"M 684 794 \nL 1344 794 \nL 1344 0 \nL 684 0 \nL 684 794 \nz\n\" transform=\"scale(0.015625)\"/>\n        <path id=\"DejaVuSans-30\" d=\"M 2034 4250 \nQ 1547 4250 1301 3770 \nQ 1056 3291 1056 2328 \nQ 1056 1369 1301 889 \nQ 1547 409 2034 409 \nQ 2525 409 2770 889 \nQ 3016 1369 3016 2328 \nQ 3016 3291 2770 3770 \nQ 2525 4250 2034 4250 \nz\nM 2034 4750 \nQ 2819 4750 3233 4129 \nQ 3647 3509 3647 2328 \nQ 3647 1150 3233 529 \nQ 2819 -91 2034 -91 \nQ 1250 -91 836 529 \nQ 422 1150 422 2328 \nQ 422 3509 836 4129 \nQ 1250 4750 2034 4750 \nz\n\" transform=\"scale(0.015625)\"/>\n       </defs>\n       <use xlink:href=\"#DejaVuSans-36\"/>\n       <use xlink:href=\"#DejaVuSans-2e\" x=\"63.623047\"/>\n       <use xlink:href=\"#DejaVuSans-30\" x=\"95.410156\"/>\n      </g>\n     </g>\n    </g>\n    <g id=\"xtick_2\">\n     <g id=\"line2d_3\">\n      <path d=\"M 131.39304 354.958125 \nL 131.39304 22.318125 \n\" clip-path=\"url(#pf122c7a4c7)\" style=\"fill: none; stroke: #b0b0b0; stroke-width: 0.8; stroke-linecap: square\"/>\n     </g>\n     <g id=\"line2d_4\">\n      <g>\n       <use xlink:href=\"#mc6bcac3a3a\" x=\"131.39304\" y=\"354.958125\" style=\"stroke: #000000; stroke-width: 0.8\"/>\n      </g>\n     </g>\n     <g id=\"text_2\">\n      <!-- 6.5 -->\n      <g transform=\"translate(123.441477 369.556562) scale(0.1 -0.1)\">\n       <defs>\n        <path id=\"DejaVuSans-35\" d=\"M 691 4666 \nL 3169 4666 \nL 3169 4134 \nL 1269 4134 \nL 1269 2991 \nQ 1406 3038 1543 3061 \nQ 1681 3084 1819 3084 \nQ 2600 3084 3056 2656 \nQ 3513 2228 3513 1497 \nQ 3513 744 3044 326 \nQ 2575 -91 1722 -91 \nQ 1428 -91 1123 -41 \nQ 819 9 494 109 \nL 494 744 \nQ 775 591 1075 516 \nQ 1375 441 1709 441 \nQ 2250 441 2565 725 \nQ 2881 1009 2881 1497 \nQ 2881 1984 2565 2268 \nQ 2250 2553 1709 2553 \nQ 1456 2553 1204 2497 \nQ 953 2441 691 2322 \nL 691 4666 \nz\n\" transform=\"scale(0.015625)\"/>\n       </defs>\n       <use xlink:href=\"#DejaVuSans-36\"/>\n       <use xlink:href=\"#DejaVuSans-2e\" x=\"63.623047\"/>\n       <use xlink:href=\"#DejaVuSans-35\" x=\"95.410156\"/>\n      </g>\n     </g>\n    </g>\n    <g id=\"xtick_3\">\n     <g id=\"line2d_5\">\n      <path d=\"M 194.802131 354.958125 \nL 194.802131 22.318125 \n\" clip-path=\"url(#pf122c7a4c7)\" style=\"fill: none; stroke: #b0b0b0; stroke-width: 0.8; stroke-linecap: square\"/>\n     </g>\n     <g id=\"line2d_6\">\n      <g>\n       <use xlink:href=\"#mc6bcac3a3a\" x=\"194.802131\" y=\"354.958125\" style=\"stroke: #000000; stroke-width: 0.8\"/>\n      </g>\n     </g>\n     <g id=\"text_3\">\n      <!-- 7.0 -->\n      <g transform=\"translate(186.850568 369.556562) scale(0.1 -0.1)\">\n       <defs>\n        <path id=\"DejaVuSans-37\" d=\"M 525 4666 \nL 3525 4666 \nL 3525 4397 \nL 1831 0 \nL 1172 0 \nL 2766 4134 \nL 525 4134 \nL 525 4666 \nz\n\" transform=\"scale(0.015625)\"/>\n       </defs>\n       <use xlink:href=\"#DejaVuSans-37\"/>\n       <use xlink:href=\"#DejaVuSans-2e\" x=\"63.623047\"/>\n       <use xlink:href=\"#DejaVuSans-30\" x=\"95.410156\"/>\n      </g>\n     </g>\n    </g>\n    <g id=\"xtick_4\">\n     <g id=\"line2d_7\">\n      <path d=\"M 258.211222 354.958125 \nL 258.211222 22.318125 \n\" clip-path=\"url(#pf122c7a4c7)\" style=\"fill: none; stroke: #b0b0b0; stroke-width: 0.8; stroke-linecap: square\"/>\n     </g>\n     <g id=\"line2d_8\">\n      <g>\n       <use xlink:href=\"#mc6bcac3a3a\" x=\"258.211222\" y=\"354.958125\" style=\"stroke: #000000; stroke-width: 0.8\"/>\n      </g>\n     </g>\n     <g id=\"text_4\">\n      <!-- 7.5 -->\n      <g transform=\"translate(250.259659 369.556562) scale(0.1 -0.1)\">\n       <use xlink:href=\"#DejaVuSans-37\"/>\n       <use xlink:href=\"#DejaVuSans-2e\" x=\"63.623047\"/>\n       <use xlink:href=\"#DejaVuSans-35\" x=\"95.410156\"/>\n      </g>\n     </g>\n    </g>\n    <g id=\"xtick_5\">\n     <g id=\"line2d_9\">\n      <path d=\"M 321.620313 354.958125 \nL 321.620313 22.318125 \n\" clip-path=\"url(#pf122c7a4c7)\" style=\"fill: none; stroke: #b0b0b0; stroke-width: 0.8; stroke-linecap: square\"/>\n     </g>\n     <g id=\"line2d_10\">\n      <g>\n       <use xlink:href=\"#mc6bcac3a3a\" x=\"321.620313\" y=\"354.958125\" style=\"stroke: #000000; stroke-width: 0.8\"/>\n      </g>\n     </g>\n     <g id=\"text_5\">\n      <!-- 8.0 -->\n      <g transform=\"translate(313.66875 369.556562) scale(0.1 -0.1)\">\n       <defs>\n        <path id=\"DejaVuSans-38\" d=\"M 2034 2216 \nQ 1584 2216 1326 1975 \nQ 1069 1734 1069 1313 \nQ 1069 891 1326 650 \nQ 1584 409 2034 409 \nQ 2484 409 2743 651 \nQ 3003 894 3003 1313 \nQ 3003 1734 2745 1975 \nQ 2488 2216 2034 2216 \nz\nM 1403 2484 \nQ 997 2584 770 2862 \nQ 544 3141 544 3541 \nQ 544 4100 942 4425 \nQ 1341 4750 2034 4750 \nQ 2731 4750 3128 4425 \nQ 3525 4100 3525 3541 \nQ 3525 3141 3298 2862 \nQ 3072 2584 2669 2484 \nQ 3125 2378 3379 2068 \nQ 3634 1759 3634 1313 \nQ 3634 634 3220 271 \nQ 2806 -91 2034 -91 \nQ 1263 -91 848 271 \nQ 434 634 434 1313 \nQ 434 1759 690 2068 \nQ 947 2378 1403 2484 \nz\nM 1172 3481 \nQ 1172 3119 1398 2916 \nQ 1625 2713 2034 2713 \nQ 2441 2713 2670 2916 \nQ 2900 3119 2900 3481 \nQ 2900 3844 2670 4047 \nQ 2441 4250 2034 4250 \nQ 1625 4250 1398 4047 \nQ 1172 3844 1172 3481 \nz\n\" transform=\"scale(0.015625)\"/>\n       </defs>\n       <use xlink:href=\"#DejaVuSans-38\"/>\n       <use xlink:href=\"#DejaVuSans-2e\" x=\"63.623047\"/>\n       <use xlink:href=\"#DejaVuSans-30\" x=\"95.410156\"/>\n      </g>\n     </g>\n    </g>\n    <g id=\"xtick_6\">\n     <g id=\"line2d_11\">\n      <path d=\"M 385.029403 354.958125 \nL 385.029403 22.318125 \n\" clip-path=\"url(#pf122c7a4c7)\" style=\"fill: none; stroke: #b0b0b0; stroke-width: 0.8; stroke-linecap: square\"/>\n     </g>\n     <g id=\"line2d_12\">\n      <g>\n       <use xlink:href=\"#mc6bcac3a3a\" x=\"385.029403\" y=\"354.958125\" style=\"stroke: #000000; stroke-width: 0.8\"/>\n      </g>\n     </g>\n     <g id=\"text_6\">\n      <!-- 8.5 -->\n      <g transform=\"translate(377.077841 369.556562) scale(0.1 -0.1)\">\n       <use xlink:href=\"#DejaVuSans-38\"/>\n       <use xlink:href=\"#DejaVuSans-2e\" x=\"63.623047\"/>\n       <use xlink:href=\"#DejaVuSans-35\" x=\"95.410156\"/>\n      </g>\n     </g>\n    </g>\n    <g id=\"xtick_7\">\n     <g id=\"line2d_13\">\n      <path d=\"M 448.438494 354.958125 \nL 448.438494 22.318125 \n\" clip-path=\"url(#pf122c7a4c7)\" style=\"fill: none; stroke: #b0b0b0; stroke-width: 0.8; stroke-linecap: square\"/>\n     </g>\n     <g id=\"line2d_14\">\n      <g>\n       <use xlink:href=\"#mc6bcac3a3a\" x=\"448.438494\" y=\"354.958125\" style=\"stroke: #000000; stroke-width: 0.8\"/>\n      </g>\n     </g>\n     <g id=\"text_7\">\n      <!-- 9.0 -->\n      <g transform=\"translate(440.486932 369.556562) scale(0.1 -0.1)\">\n       <defs>\n        <path id=\"DejaVuSans-39\" d=\"M 703 97 \nL 703 672 \nQ 941 559 1184 500 \nQ 1428 441 1663 441 \nQ 2288 441 2617 861 \nQ 2947 1281 2994 2138 \nQ 2813 1869 2534 1725 \nQ 2256 1581 1919 1581 \nQ 1219 1581 811 2004 \nQ 403 2428 403 3163 \nQ 403 3881 828 4315 \nQ 1253 4750 1959 4750 \nQ 2769 4750 3195 4129 \nQ 3622 3509 3622 2328 \nQ 3622 1225 3098 567 \nQ 2575 -91 1691 -91 \nQ 1453 -91 1209 -44 \nQ 966 3 703 97 \nz\nM 1959 2075 \nQ 2384 2075 2632 2365 \nQ 2881 2656 2881 3163 \nQ 2881 3666 2632 3958 \nQ 2384 4250 1959 4250 \nQ 1534 4250 1286 3958 \nQ 1038 3666 1038 3163 \nQ 1038 2656 1286 2365 \nQ 1534 2075 1959 2075 \nz\n\" transform=\"scale(0.015625)\"/>\n       </defs>\n       <use xlink:href=\"#DejaVuSans-39\"/>\n       <use xlink:href=\"#DejaVuSans-2e\" x=\"63.623047\"/>\n       <use xlink:href=\"#DejaVuSans-30\" x=\"95.410156\"/>\n      </g>\n     </g>\n    </g>\n    <g id=\"xtick_8\">\n     <g id=\"line2d_15\">\n      <path d=\"M 511.847585 354.958125 \nL 511.847585 22.318125 \n\" clip-path=\"url(#pf122c7a4c7)\" style=\"fill: none; stroke: #b0b0b0; stroke-width: 0.8; stroke-linecap: square\"/>\n     </g>\n     <g id=\"line2d_16\">\n      <g>\n       <use xlink:href=\"#mc6bcac3a3a\" x=\"511.847585\" y=\"354.958125\" style=\"stroke: #000000; stroke-width: 0.8\"/>\n      </g>\n     </g>\n     <g id=\"text_8\">\n      <!-- 9.5 -->\n      <g transform=\"translate(503.896023 369.556562) scale(0.1 -0.1)\">\n       <use xlink:href=\"#DejaVuSans-39\"/>\n       <use xlink:href=\"#DejaVuSans-2e\" x=\"63.623047\"/>\n       <use xlink:href=\"#DejaVuSans-35\" x=\"95.410156\"/>\n      </g>\n     </g>\n    </g>\n    <g id=\"xtick_9\">\n     <g id=\"line2d_17\">\n      <path d=\"M 575.256676 354.958125 \nL 575.256676 22.318125 \n\" clip-path=\"url(#pf122c7a4c7)\" style=\"fill: none; stroke: #b0b0b0; stroke-width: 0.8; stroke-linecap: square\"/>\n     </g>\n     <g id=\"line2d_18\">\n      <g>\n       <use xlink:href=\"#mc6bcac3a3a\" x=\"575.256676\" y=\"354.958125\" style=\"stroke: #000000; stroke-width: 0.8\"/>\n      </g>\n     </g>\n     <g id=\"text_9\">\n      <!-- 10.0 -->\n      <g transform=\"translate(564.123864 369.556562) scale(0.1 -0.1)\">\n       <defs>\n        <path id=\"DejaVuSans-31\" d=\"M 794 531 \nL 1825 531 \nL 1825 4091 \nL 703 3866 \nL 703 4441 \nL 1819 4666 \nL 2450 4666 \nL 2450 531 \nL 3481 531 \nL 3481 0 \nL 794 0 \nL 794 531 \nz\n\" transform=\"scale(0.015625)\"/>\n       </defs>\n       <use xlink:href=\"#DejaVuSans-31\"/>\n       <use xlink:href=\"#DejaVuSans-30\" x=\"63.623047\"/>\n       <use xlink:href=\"#DejaVuSans-2e\" x=\"127.246094\"/>\n       <use xlink:href=\"#DejaVuSans-30\" x=\"159.033203\"/>\n      </g>\n     </g>\n    </g>\n    <g id=\"text_10\">\n     <!-- Number of Qubits -->\n     <g transform=\"translate(277.303906 383.234687) scale(0.1 -0.1)\">\n      <defs>\n       <path id=\"DejaVuSans-4e\" d=\"M 628 4666 \nL 1478 4666 \nL 3547 763 \nL 3547 4666 \nL 4159 4666 \nL 4159 0 \nL 3309 0 \nL 1241 3903 \nL 1241 0 \nL 628 0 \nL 628 4666 \nz\n\" transform=\"scale(0.015625)\"/>\n       <path id=\"DejaVuSans-75\" d=\"M 544 1381 \nL 544 3500 \nL 1119 3500 \nL 1119 1403 \nQ 1119 906 1312 657 \nQ 1506 409 1894 409 \nQ 2359 409 2629 706 \nQ 2900 1003 2900 1516 \nL 2900 3500 \nL 3475 3500 \nL 3475 0 \nL 2900 0 \nL 2900 538 \nQ 2691 219 2414 64 \nQ 2138 -91 1772 -91 \nQ 1169 -91 856 284 \nQ 544 659 544 1381 \nz\nM 1991 3584 \nL 1991 3584 \nz\n\" transform=\"scale(0.015625)\"/>\n       <path id=\"DejaVuSans-6d\" d=\"M 3328 2828 \nQ 3544 3216 3844 3400 \nQ 4144 3584 4550 3584 \nQ 5097 3584 5394 3201 \nQ 5691 2819 5691 2113 \nL 5691 0 \nL 5113 0 \nL 5113 2094 \nQ 5113 2597 4934 2840 \nQ 4756 3084 4391 3084 \nQ 3944 3084 3684 2787 \nQ 3425 2491 3425 1978 \nL 3425 0 \nL 2847 0 \nL 2847 2094 \nQ 2847 2600 2669 2842 \nQ 2491 3084 2119 3084 \nQ 1678 3084 1418 2786 \nQ 1159 2488 1159 1978 \nL 1159 0 \nL 581 0 \nL 581 3500 \nL 1159 3500 \nL 1159 2956 \nQ 1356 3278 1631 3431 \nQ 1906 3584 2284 3584 \nQ 2666 3584 2933 3390 \nQ 3200 3197 3328 2828 \nz\n\" transform=\"scale(0.015625)\"/>\n       <path id=\"DejaVuSans-62\" d=\"M 3116 1747 \nQ 3116 2381 2855 2742 \nQ 2594 3103 2138 3103 \nQ 1681 3103 1420 2742 \nQ 1159 2381 1159 1747 \nQ 1159 1113 1420 752 \nQ 1681 391 2138 391 \nQ 2594 391 2855 752 \nQ 3116 1113 3116 1747 \nz\nM 1159 2969 \nQ 1341 3281 1617 3432 \nQ 1894 3584 2278 3584 \nQ 2916 3584 3314 3078 \nQ 3713 2572 3713 1747 \nQ 3713 922 3314 415 \nQ 2916 -91 2278 -91 \nQ 1894 -91 1617 61 \nQ 1341 213 1159 525 \nL 1159 0 \nL 581 0 \nL 581 4863 \nL 1159 4863 \nL 1159 2969 \nz\n\" transform=\"scale(0.015625)\"/>\n       <path id=\"DejaVuSans-65\" d=\"M 3597 1894 \nL 3597 1613 \nL 953 1613 \nQ 991 1019 1311 708 \nQ 1631 397 2203 397 \nQ 2534 397 2845 478 \nQ 3156 559 3463 722 \nL 3463 178 \nQ 3153 47 2828 -22 \nQ 2503 -91 2169 -91 \nQ 1331 -91 842 396 \nQ 353 884 353 1716 \nQ 353 2575 817 3079 \nQ 1281 3584 2069 3584 \nQ 2775 3584 3186 3129 \nQ 3597 2675 3597 1894 \nz\nM 3022 2063 \nQ 3016 2534 2758 2815 \nQ 2500 3097 2075 3097 \nQ 1594 3097 1305 2825 \nQ 1016 2553 972 2059 \nL 3022 2063 \nz\n\" transform=\"scale(0.015625)\"/>\n       <path id=\"DejaVuSans-72\" d=\"M 2631 2963 \nQ 2534 3019 2420 3045 \nQ 2306 3072 2169 3072 \nQ 1681 3072 1420 2755 \nQ 1159 2438 1159 1844 \nL 1159 0 \nL 581 0 \nL 581 3500 \nL 1159 3500 \nL 1159 2956 \nQ 1341 3275 1631 3429 \nQ 1922 3584 2338 3584 \nQ 2397 3584 2469 3576 \nQ 2541 3569 2628 3553 \nL 2631 2963 \nz\n\" transform=\"scale(0.015625)\"/>\n       <path id=\"DejaVuSans-20\" transform=\"scale(0.015625)\"/>\n       <path id=\"DejaVuSans-6f\" d=\"M 1959 3097 \nQ 1497 3097 1228 2736 \nQ 959 2375 959 1747 \nQ 959 1119 1226 758 \nQ 1494 397 1959 397 \nQ 2419 397 2687 759 \nQ 2956 1122 2956 1747 \nQ 2956 2369 2687 2733 \nQ 2419 3097 1959 3097 \nz\nM 1959 3584 \nQ 2709 3584 3137 3096 \nQ 3566 2609 3566 1747 \nQ 3566 888 3137 398 \nQ 2709 -91 1959 -91 \nQ 1206 -91 779 398 \nQ 353 888 353 1747 \nQ 353 2609 779 3096 \nQ 1206 3584 1959 3584 \nz\n\" transform=\"scale(0.015625)\"/>\n       <path id=\"DejaVuSans-66\" d=\"M 2375 4863 \nL 2375 4384 \nL 1825 4384 \nQ 1516 4384 1395 4259 \nQ 1275 4134 1275 3809 \nL 1275 3500 \nL 2222 3500 \nL 2222 3053 \nL 1275 3053 \nL 1275 0 \nL 697 0 \nL 697 3053 \nL 147 3053 \nL 147 3500 \nL 697 3500 \nL 697 3744 \nQ 697 4328 969 4595 \nQ 1241 4863 1831 4863 \nL 2375 4863 \nz\n\" transform=\"scale(0.015625)\"/>\n       <path id=\"DejaVuSans-51\" d=\"M 2522 4238 \nQ 1834 4238 1429 3725 \nQ 1025 3213 1025 2328 \nQ 1025 1447 1429 934 \nQ 1834 422 2522 422 \nQ 3209 422 3611 934 \nQ 4013 1447 4013 2328 \nQ 4013 3213 3611 3725 \nQ 3209 4238 2522 4238 \nz\nM 3406 84 \nL 4238 -825 \nL 3475 -825 \nL 2784 -78 \nQ 2681 -84 2626 -87 \nQ 2572 -91 2522 -91 \nQ 1538 -91 948 567 \nQ 359 1225 359 2328 \nQ 359 3434 948 4092 \nQ 1538 4750 2522 4750 \nQ 3503 4750 4090 4092 \nQ 4678 3434 4678 2328 \nQ 4678 1516 4351 937 \nQ 4025 359 3406 84 \nz\n\" transform=\"scale(0.015625)\"/>\n       <path id=\"DejaVuSans-69\" d=\"M 603 3500 \nL 1178 3500 \nL 1178 0 \nL 603 0 \nL 603 3500 \nz\nM 603 4863 \nL 1178 4863 \nL 1178 4134 \nL 603 4134 \nL 603 4863 \nz\n\" transform=\"scale(0.015625)\"/>\n       <path id=\"DejaVuSans-74\" d=\"M 1172 4494 \nL 1172 3500 \nL 2356 3500 \nL 2356 3053 \nL 1172 3053 \nL 1172 1153 \nQ 1172 725 1289 603 \nQ 1406 481 1766 481 \nL 2356 481 \nL 2356 0 \nL 1766 0 \nQ 1100 0 847 248 \nQ 594 497 594 1153 \nL 594 3053 \nL 172 3053 \nL 172 3500 \nL 594 3500 \nL 594 4494 \nL 1172 4494 \nz\n\" transform=\"scale(0.015625)\"/>\n       <path id=\"DejaVuSans-73\" d=\"M 2834 3397 \nL 2834 2853 \nQ 2591 2978 2328 3040 \nQ 2066 3103 1784 3103 \nQ 1356 3103 1142 2972 \nQ 928 2841 928 2578 \nQ 928 2378 1081 2264 \nQ 1234 2150 1697 2047 \nL 1894 2003 \nQ 2506 1872 2764 1633 \nQ 3022 1394 3022 966 \nQ 3022 478 2636 193 \nQ 2250 -91 1575 -91 \nQ 1294 -91 989 -36 \nQ 684 19 347 128 \nL 347 722 \nQ 666 556 975 473 \nQ 1284 391 1588 391 \nQ 1994 391 2212 530 \nQ 2431 669 2431 922 \nQ 2431 1156 2273 1281 \nQ 2116 1406 1581 1522 \nL 1381 1569 \nQ 847 1681 609 1914 \nQ 372 2147 372 2553 \nQ 372 3047 722 3315 \nQ 1072 3584 1716 3584 \nQ 2034 3584 2315 3537 \nQ 2597 3491 2834 3397 \nz\n\" transform=\"scale(0.015625)\"/>\n      </defs>\n      <use xlink:href=\"#DejaVuSans-4e\"/>\n      <use xlink:href=\"#DejaVuSans-75\" x=\"74.804688\"/>\n      <use xlink:href=\"#DejaVuSans-6d\" x=\"138.183594\"/>\n      <use xlink:href=\"#DejaVuSans-62\" x=\"235.595703\"/>\n      <use xlink:href=\"#DejaVuSans-65\" x=\"299.072266\"/>\n      <use xlink:href=\"#DejaVuSans-72\" x=\"360.595703\"/>\n      <use xlink:href=\"#DejaVuSans-20\" x=\"401.708984\"/>\n      <use xlink:href=\"#DejaVuSans-6f\" x=\"433.496094\"/>\n      <use xlink:href=\"#DejaVuSans-66\" x=\"494.677734\"/>\n      <use xlink:href=\"#DejaVuSans-20\" x=\"529.882812\"/>\n      <use xlink:href=\"#DejaVuSans-51\" x=\"561.669922\"/>\n      <use xlink:href=\"#DejaVuSans-75\" x=\"640.380859\"/>\n      <use xlink:href=\"#DejaVuSans-62\" x=\"703.759766\"/>\n      <use xlink:href=\"#DejaVuSans-69\" x=\"767.236328\"/>\n      <use xlink:href=\"#DejaVuSans-74\" x=\"795.019531\"/>\n      <use xlink:href=\"#DejaVuSans-73\" x=\"834.228516\"/>\n     </g>\n    </g>\n   </g>\n   <g id=\"matplotlib.axis_2\">\n    <g id=\"ytick_1\">\n     <g id=\"line2d_19\">\n      <path d=\"M 42.620313 342.145616 \nL 600.620312 342.145616 \n\" clip-path=\"url(#pf122c7a4c7)\" style=\"fill: none; stroke: #b0b0b0; stroke-width: 0.8; stroke-linecap: square\"/>\n     </g>\n     <g id=\"line2d_20\">\n      <defs>\n       <path id=\"mbdffcfe755\" d=\"M 0 0 \nL -3.5 0 \n\" style=\"stroke: #000000; stroke-width: 0.8\"/>\n      </defs>\n      <g>\n       <use xlink:href=\"#mbdffcfe755\" x=\"42.620313\" y=\"342.145616\" style=\"stroke: #000000; stroke-width: 0.8\"/>\n      </g>\n     </g>\n     <g id=\"text_11\">\n      <!-- −4 -->\n      <g transform=\"translate(20.878125 345.944834) scale(0.1 -0.1)\">\n       <defs>\n        <path id=\"DejaVuSans-2212\" d=\"M 678 2272 \nL 4684 2272 \nL 4684 1741 \nL 678 1741 \nL 678 2272 \nz\n\" transform=\"scale(0.015625)\"/>\n        <path id=\"DejaVuSans-34\" d=\"M 2419 4116 \nL 825 1625 \nL 2419 1625 \nL 2419 4116 \nz\nM 2253 4666 \nL 3047 4666 \nL 3047 1625 \nL 3713 1625 \nL 3713 1100 \nL 3047 1100 \nL 3047 0 \nL 2419 0 \nL 2419 1100 \nL 313 1100 \nL 313 1709 \nL 2253 4666 \nz\n\" transform=\"scale(0.015625)\"/>\n       </defs>\n       <use xlink:href=\"#DejaVuSans-2212\"/>\n       <use xlink:href=\"#DejaVuSans-34\" x=\"83.789062\"/>\n      </g>\n     </g>\n    </g>\n    <g id=\"ytick_2\">\n     <g id=\"line2d_21\">\n      <path d=\"M 42.620313 269.928631 \nL 600.620312 269.928631 \n\" clip-path=\"url(#pf122c7a4c7)\" style=\"fill: none; stroke: #b0b0b0; stroke-width: 0.8; stroke-linecap: square\"/>\n     </g>\n     <g id=\"line2d_22\">\n      <g>\n       <use xlink:href=\"#mbdffcfe755\" x=\"42.620313\" y=\"269.928631\" style=\"stroke: #000000; stroke-width: 0.8\"/>\n      </g>\n     </g>\n     <g id=\"text_12\">\n      <!-- −2 -->\n      <g transform=\"translate(20.878125 273.72785) scale(0.1 -0.1)\">\n       <defs>\n        <path id=\"DejaVuSans-32\" d=\"M 1228 531 \nL 3431 531 \nL 3431 0 \nL 469 0 \nL 469 531 \nQ 828 903 1448 1529 \nQ 2069 2156 2228 2338 \nQ 2531 2678 2651 2914 \nQ 2772 3150 2772 3378 \nQ 2772 3750 2511 3984 \nQ 2250 4219 1831 4219 \nQ 1534 4219 1204 4116 \nQ 875 4013 500 3803 \nL 500 4441 \nQ 881 4594 1212 4672 \nQ 1544 4750 1819 4750 \nQ 2544 4750 2975 4387 \nQ 3406 4025 3406 3419 \nQ 3406 3131 3298 2873 \nQ 3191 2616 2906 2266 \nQ 2828 2175 2409 1742 \nQ 1991 1309 1228 531 \nz\n\" transform=\"scale(0.015625)\"/>\n       </defs>\n       <use xlink:href=\"#DejaVuSans-2212\"/>\n       <use xlink:href=\"#DejaVuSans-32\" x=\"83.789062\"/>\n      </g>\n     </g>\n    </g>\n    <g id=\"ytick_3\">\n     <g id=\"line2d_23\">\n      <path d=\"M 42.620313 197.711647 \nL 600.620312 197.711647 \n\" clip-path=\"url(#pf122c7a4c7)\" style=\"fill: none; stroke: #b0b0b0; stroke-width: 0.8; stroke-linecap: square\"/>\n     </g>\n     <g id=\"line2d_24\">\n      <g>\n       <use xlink:href=\"#mbdffcfe755\" x=\"42.620313\" y=\"197.711647\" style=\"stroke: #000000; stroke-width: 0.8\"/>\n      </g>\n     </g>\n     <g id=\"text_13\">\n      <!-- 0 -->\n      <g transform=\"translate(29.257813 201.510866) scale(0.1 -0.1)\">\n       <use xlink:href=\"#DejaVuSans-30\"/>\n      </g>\n     </g>\n    </g>\n    <g id=\"ytick_4\">\n     <g id=\"line2d_25\">\n      <path d=\"M 42.620313 125.494662 \nL 600.620312 125.494662 \n\" clip-path=\"url(#pf122c7a4c7)\" style=\"fill: none; stroke: #b0b0b0; stroke-width: 0.8; stroke-linecap: square\"/>\n     </g>\n     <g id=\"line2d_26\">\n      <g>\n       <use xlink:href=\"#mbdffcfe755\" x=\"42.620313\" y=\"125.494662\" style=\"stroke: #000000; stroke-width: 0.8\"/>\n      </g>\n     </g>\n     <g id=\"text_14\">\n      <!-- 2 -->\n      <g transform=\"translate(29.257813 129.293881) scale(0.1 -0.1)\">\n       <use xlink:href=\"#DejaVuSans-32\"/>\n      </g>\n     </g>\n    </g>\n    <g id=\"ytick_5\">\n     <g id=\"line2d_27\">\n      <path d=\"M 42.620313 53.277678 \nL 600.620312 53.277678 \n\" clip-path=\"url(#pf122c7a4c7)\" style=\"fill: none; stroke: #b0b0b0; stroke-width: 0.8; stroke-linecap: square\"/>\n     </g>\n     <g id=\"line2d_28\">\n      <g>\n       <use xlink:href=\"#mbdffcfe755\" x=\"42.620313\" y=\"53.277678\" style=\"stroke: #000000; stroke-width: 0.8\"/>\n      </g>\n     </g>\n     <g id=\"text_15\">\n      <!-- 4 -->\n      <g transform=\"translate(29.257813 57.076897) scale(0.1 -0.1)\">\n       <use xlink:href=\"#DejaVuSans-34\"/>\n      </g>\n     </g>\n    </g>\n    <g id=\"text_16\">\n     <!-- Expectation Value -->\n     <g transform=\"translate(14.798438 233.67875) rotate(-90) scale(0.1 -0.1)\">\n      <defs>\n       <path id=\"DejaVuSans-45\" d=\"M 628 4666 \nL 3578 4666 \nL 3578 4134 \nL 1259 4134 \nL 1259 2753 \nL 3481 2753 \nL 3481 2222 \nL 1259 2222 \nL 1259 531 \nL 3634 531 \nL 3634 0 \nL 628 0 \nL 628 4666 \nz\n\" transform=\"scale(0.015625)\"/>\n       <path id=\"DejaVuSans-78\" d=\"M 3513 3500 \nL 2247 1797 \nL 3578 0 \nL 2900 0 \nL 1881 1375 \nL 863 0 \nL 184 0 \nL 1544 1831 \nL 300 3500 \nL 978 3500 \nL 1906 2253 \nL 2834 3500 \nL 3513 3500 \nz\n\" transform=\"scale(0.015625)\"/>\n       <path id=\"DejaVuSans-70\" d=\"M 1159 525 \nL 1159 -1331 \nL 581 -1331 \nL 581 3500 \nL 1159 3500 \nL 1159 2969 \nQ 1341 3281 1617 3432 \nQ 1894 3584 2278 3584 \nQ 2916 3584 3314 3078 \nQ 3713 2572 3713 1747 \nQ 3713 922 3314 415 \nQ 2916 -91 2278 -91 \nQ 1894 -91 1617 61 \nQ 1341 213 1159 525 \nz\nM 3116 1747 \nQ 3116 2381 2855 2742 \nQ 2594 3103 2138 3103 \nQ 1681 3103 1420 2742 \nQ 1159 2381 1159 1747 \nQ 1159 1113 1420 752 \nQ 1681 391 2138 391 \nQ 2594 391 2855 752 \nQ 3116 1113 3116 1747 \nz\n\" transform=\"scale(0.015625)\"/>\n       <path id=\"DejaVuSans-63\" d=\"M 3122 3366 \nL 3122 2828 \nQ 2878 2963 2633 3030 \nQ 2388 3097 2138 3097 \nQ 1578 3097 1268 2742 \nQ 959 2388 959 1747 \nQ 959 1106 1268 751 \nQ 1578 397 2138 397 \nQ 2388 397 2633 464 \nQ 2878 531 3122 666 \nL 3122 134 \nQ 2881 22 2623 -34 \nQ 2366 -91 2075 -91 \nQ 1284 -91 818 406 \nQ 353 903 353 1747 \nQ 353 2603 823 3093 \nQ 1294 3584 2113 3584 \nQ 2378 3584 2631 3529 \nQ 2884 3475 3122 3366 \nz\n\" transform=\"scale(0.015625)\"/>\n       <path id=\"DejaVuSans-61\" d=\"M 2194 1759 \nQ 1497 1759 1228 1600 \nQ 959 1441 959 1056 \nQ 959 750 1161 570 \nQ 1363 391 1709 391 \nQ 2188 391 2477 730 \nQ 2766 1069 2766 1631 \nL 2766 1759 \nL 2194 1759 \nz\nM 3341 1997 \nL 3341 0 \nL 2766 0 \nL 2766 531 \nQ 2569 213 2275 61 \nQ 1981 -91 1556 -91 \nQ 1019 -91 701 211 \nQ 384 513 384 1019 \nQ 384 1609 779 1909 \nQ 1175 2209 1959 2209 \nL 2766 2209 \nL 2766 2266 \nQ 2766 2663 2505 2880 \nQ 2244 3097 1772 3097 \nQ 1472 3097 1187 3025 \nQ 903 2953 641 2809 \nL 641 3341 \nQ 956 3463 1253 3523 \nQ 1550 3584 1831 3584 \nQ 2591 3584 2966 3190 \nQ 3341 2797 3341 1997 \nz\n\" transform=\"scale(0.015625)\"/>\n       <path id=\"DejaVuSans-6e\" d=\"M 3513 2113 \nL 3513 0 \nL 2938 0 \nL 2938 2094 \nQ 2938 2591 2744 2837 \nQ 2550 3084 2163 3084 \nQ 1697 3084 1428 2787 \nQ 1159 2491 1159 1978 \nL 1159 0 \nL 581 0 \nL 581 3500 \nL 1159 3500 \nL 1159 2956 \nQ 1366 3272 1645 3428 \nQ 1925 3584 2291 3584 \nQ 2894 3584 3203 3211 \nQ 3513 2838 3513 2113 \nz\n\" transform=\"scale(0.015625)\"/>\n       <path id=\"DejaVuSans-56\" d=\"M 1831 0 \nL 50 4666 \nL 709 4666 \nL 2188 738 \nL 3669 4666 \nL 4325 4666 \nL 2547 0 \nL 1831 0 \nz\n\" transform=\"scale(0.015625)\"/>\n       <path id=\"DejaVuSans-6c\" d=\"M 603 4863 \nL 1178 4863 \nL 1178 0 \nL 603 0 \nL 603 4863 \nz\n\" transform=\"scale(0.015625)\"/>\n      </defs>\n      <use xlink:href=\"#DejaVuSans-45\"/>\n      <use xlink:href=\"#DejaVuSans-78\" x=\"63.183594\"/>\n      <use xlink:href=\"#DejaVuSans-70\" x=\"122.363281\"/>\n      <use xlink:href=\"#DejaVuSans-65\" x=\"185.839844\"/>\n      <use xlink:href=\"#DejaVuSans-63\" x=\"247.363281\"/>\n      <use xlink:href=\"#DejaVuSans-74\" x=\"302.34375\"/>\n      <use xlink:href=\"#DejaVuSans-61\" x=\"341.552734\"/>\n      <use xlink:href=\"#DejaVuSans-74\" x=\"402.832031\"/>\n      <use xlink:href=\"#DejaVuSans-69\" x=\"442.041016\"/>\n      <use xlink:href=\"#DejaVuSans-6f\" x=\"469.824219\"/>\n      <use xlink:href=\"#DejaVuSans-6e\" x=\"531.005859\"/>\n      <use xlink:href=\"#DejaVuSans-20\" x=\"594.384766\"/>\n      <use xlink:href=\"#DejaVuSans-56\" x=\"626.171875\"/>\n      <use xlink:href=\"#DejaVuSans-61\" x=\"686.830078\"/>\n      <use xlink:href=\"#DejaVuSans-6c\" x=\"748.109375\"/>\n      <use xlink:href=\"#DejaVuSans-75\" x=\"775.892578\"/>\n      <use xlink:href=\"#DejaVuSans-65\" x=\"839.271484\"/>\n     </g>\n    </g>\n   </g>\n   <g id=\"line2d_29\">\n    <path d=\"M 67.983949 195.106563 \nL 321.620313 201.675905 \nL 575.256676 195.521866 \n\" clip-path=\"url(#pf122c7a4c7)\" style=\"fill: none; stroke: #1f77b4; stroke-width: 1.5; stroke-linecap: square\"/>\n    <defs>\n     <path id=\"mfddec402eb\" d=\"M 0 3 \nC 0.795609 3 1.55874 2.683901 2.12132 2.12132 \nC 2.683901 1.55874 3 0.795609 3 0 \nC 3 -0.795609 2.683901 -1.55874 2.12132 -2.12132 \nC 1.55874 -2.683901 0.795609 -3 0 -3 \nC -0.795609 -3 -1.55874 -2.683901 -2.12132 -2.12132 \nC -2.683901 -1.55874 -3 -0.795609 -3 0 \nC -3 0.795609 -2.683901 1.55874 -2.12132 2.12132 \nC -1.55874 2.683901 -0.795609 3 0 3 \nz\n\" style=\"stroke: #1f77b4\"/>\n    </defs>\n    <g clip-path=\"url(#pf122c7a4c7)\">\n     <use xlink:href=\"#mfddec402eb\" x=\"67.983949\" y=\"195.106563\" style=\"fill: #1f77b4; stroke: #1f77b4\"/>\n     <use xlink:href=\"#mfddec402eb\" x=\"321.620313\" y=\"201.675905\" style=\"fill: #1f77b4; stroke: #1f77b4\"/>\n     <use xlink:href=\"#mfddec402eb\" x=\"575.256676\" y=\"195.521866\" style=\"fill: #1f77b4; stroke: #1f77b4\"/>\n    </g>\n   </g>\n   <g id=\"line2d_30\">\n    <path d=\"M 67.983949 37.438125 \nL 321.620313 218.866631 \nL 575.256676 339.838125 \n\" clip-path=\"url(#pf122c7a4c7)\" style=\"fill: none; stroke: #ff7f0e; stroke-width: 1.5; stroke-linecap: square\"/>\n    <defs>\n     <path id=\"m32f0e51b73\" d=\"M -3 3 \nL 3 -3 \nM -3 -3 \nL 3 3 \n\" style=\"stroke: #ff7f0e\"/>\n    </defs>\n    <g clip-path=\"url(#pf122c7a4c7)\">\n     <use xlink:href=\"#m32f0e51b73\" x=\"67.983949\" y=\"37.438125\" style=\"fill: #ff7f0e; stroke: #ff7f0e\"/>\n     <use xlink:href=\"#m32f0e51b73\" x=\"321.620313\" y=\"218.866631\" style=\"fill: #ff7f0e; stroke: #ff7f0e\"/>\n     <use xlink:href=\"#m32f0e51b73\" x=\"575.256676\" y=\"339.838125\" style=\"fill: #ff7f0e; stroke: #ff7f0e\"/>\n    </g>\n   </g>\n   <g id=\"patch_3\">\n    <path d=\"M 42.620313 354.958125 \nL 42.620313 22.318125 \n\" style=\"fill: none; stroke: #000000; stroke-width: 0.8; stroke-linejoin: miter; stroke-linecap: square\"/>\n   </g>\n   <g id=\"patch_4\">\n    <path d=\"M 600.620312 354.958125 \nL 600.620312 22.318125 \n\" style=\"fill: none; stroke: #000000; stroke-width: 0.8; stroke-linejoin: miter; stroke-linecap: square\"/>\n   </g>\n   <g id=\"patch_5\">\n    <path d=\"M 42.620313 354.958125 \nL 600.620312 354.958125 \n\" style=\"fill: none; stroke: #000000; stroke-width: 0.8; stroke-linejoin: miter; stroke-linecap: square\"/>\n   </g>\n   <g id=\"patch_6\">\n    <path d=\"M 42.620313 22.318125 \nL 600.620312 22.318125 \n\" style=\"fill: none; stroke: #000000; stroke-width: 0.8; stroke-linejoin: miter; stroke-linecap: square\"/>\n   </g>\n   <g id=\"text_17\">\n    <!-- Comparison of Qiskit vs Quimb Expectation Values -->\n    <g transform=\"translate(169.672188 16.318125) scale(0.12 -0.12)\">\n     <defs>\n      <path id=\"DejaVuSans-43\" d=\"M 4122 4306 \nL 4122 3641 \nQ 3803 3938 3442 4084 \nQ 3081 4231 2675 4231 \nQ 1875 4231 1450 3742 \nQ 1025 3253 1025 2328 \nQ 1025 1406 1450 917 \nQ 1875 428 2675 428 \nQ 3081 428 3442 575 \nQ 3803 722 4122 1019 \nL 4122 359 \nQ 3791 134 3420 21 \nQ 3050 -91 2638 -91 \nQ 1578 -91 968 557 \nQ 359 1206 359 2328 \nQ 359 3453 968 4101 \nQ 1578 4750 2638 4750 \nQ 3056 4750 3426 4639 \nQ 3797 4528 4122 4306 \nz\n\" transform=\"scale(0.015625)\"/>\n      <path id=\"DejaVuSans-6b\" d=\"M 581 4863 \nL 1159 4863 \nL 1159 1991 \nL 2875 3500 \nL 3609 3500 \nL 1753 1863 \nL 3688 0 \nL 2938 0 \nL 1159 1709 \nL 1159 0 \nL 581 0 \nL 581 4863 \nz\n\" transform=\"scale(0.015625)\"/>\n      <path id=\"DejaVuSans-76\" d=\"M 191 3500 \nL 800 3500 \nL 1894 563 \nL 2988 3500 \nL 3597 3500 \nL 2284 0 \nL 1503 0 \nL 191 3500 \nz\n\" transform=\"scale(0.015625)\"/>\n     </defs>\n     <use xlink:href=\"#DejaVuSans-43\"/>\n     <use xlink:href=\"#DejaVuSans-6f\" x=\"69.824219\"/>\n     <use xlink:href=\"#DejaVuSans-6d\" x=\"131.005859\"/>\n     <use xlink:href=\"#DejaVuSans-70\" x=\"228.417969\"/>\n     <use xlink:href=\"#DejaVuSans-61\" x=\"291.894531\"/>\n     <use xlink:href=\"#DejaVuSans-72\" x=\"353.173828\"/>\n     <use xlink:href=\"#DejaVuSans-69\" x=\"394.287109\"/>\n     <use xlink:href=\"#DejaVuSans-73\" x=\"422.070312\"/>\n     <use xlink:href=\"#DejaVuSans-6f\" x=\"474.169922\"/>\n     <use xlink:href=\"#DejaVuSans-6e\" x=\"535.351562\"/>\n     <use xlink:href=\"#DejaVuSans-20\" x=\"598.730469\"/>\n     <use xlink:href=\"#DejaVuSans-6f\" x=\"630.517578\"/>\n     <use xlink:href=\"#DejaVuSans-66\" x=\"691.699219\"/>\n     <use xlink:href=\"#DejaVuSans-20\" x=\"726.904297\"/>\n     <use xlink:href=\"#DejaVuSans-51\" x=\"758.691406\"/>\n     <use xlink:href=\"#DejaVuSans-69\" x=\"837.402344\"/>\n     <use xlink:href=\"#DejaVuSans-73\" x=\"865.185547\"/>\n     <use xlink:href=\"#DejaVuSans-6b\" x=\"917.285156\"/>\n     <use xlink:href=\"#DejaVuSans-69\" x=\"975.195312\"/>\n     <use xlink:href=\"#DejaVuSans-74\" x=\"1002.978516\"/>\n     <use xlink:href=\"#DejaVuSans-20\" x=\"1042.1875\"/>\n     <use xlink:href=\"#DejaVuSans-76\" x=\"1073.974609\"/>\n     <use xlink:href=\"#DejaVuSans-73\" x=\"1133.154297\"/>\n     <use xlink:href=\"#DejaVuSans-20\" x=\"1185.253906\"/>\n     <use xlink:href=\"#DejaVuSans-51\" x=\"1217.041016\"/>\n     <use xlink:href=\"#DejaVuSans-75\" x=\"1295.751953\"/>\n     <use xlink:href=\"#DejaVuSans-69\" x=\"1359.130859\"/>\n     <use xlink:href=\"#DejaVuSans-6d\" x=\"1386.914062\"/>\n     <use xlink:href=\"#DejaVuSans-62\" x=\"1484.326172\"/>\n     <use xlink:href=\"#DejaVuSans-20\" x=\"1547.802734\"/>\n     <use xlink:href=\"#DejaVuSans-45\" x=\"1579.589844\"/>\n     <use xlink:href=\"#DejaVuSans-78\" x=\"1642.773438\"/>\n     <use xlink:href=\"#DejaVuSans-70\" x=\"1701.953125\"/>\n     <use xlink:href=\"#DejaVuSans-65\" x=\"1765.429688\"/>\n     <use xlink:href=\"#DejaVuSans-63\" x=\"1826.953125\"/>\n     <use xlink:href=\"#DejaVuSans-74\" x=\"1881.933594\"/>\n     <use xlink:href=\"#DejaVuSans-61\" x=\"1921.142578\"/>\n     <use xlink:href=\"#DejaVuSans-74\" x=\"1982.421875\"/>\n     <use xlink:href=\"#DejaVuSans-69\" x=\"2021.630859\"/>\n     <use xlink:href=\"#DejaVuSans-6f\" x=\"2049.414062\"/>\n     <use xlink:href=\"#DejaVuSans-6e\" x=\"2110.595703\"/>\n     <use xlink:href=\"#DejaVuSans-20\" x=\"2173.974609\"/>\n     <use xlink:href=\"#DejaVuSans-56\" x=\"2205.761719\"/>\n     <use xlink:href=\"#DejaVuSans-61\" x=\"2266.419922\"/>\n     <use xlink:href=\"#DejaVuSans-6c\" x=\"2327.699219\"/>\n     <use xlink:href=\"#DejaVuSans-75\" x=\"2355.482422\"/>\n     <use xlink:href=\"#DejaVuSans-65\" x=\"2418.861328\"/>\n     <use xlink:href=\"#DejaVuSans-73\" x=\"2480.384766\"/>\n    </g>\n   </g>\n   <g id=\"legend_1\">\n    <g id=\"patch_7\">\n     <path d=\"M 435.284375 59.674375 \nL 593.620312 59.674375 \nQ 595.620312 59.674375 595.620312 57.674375 \nL 595.620312 29.318125 \nQ 595.620312 27.318125 593.620312 27.318125 \nL 435.284375 27.318125 \nQ 433.284375 27.318125 433.284375 29.318125 \nL 433.284375 57.674375 \nQ 433.284375 59.674375 435.284375 59.674375 \nz\n\" style=\"fill: #ffffff; opacity: 0.8; stroke: #cccccc; stroke-linejoin: miter\"/>\n    </g>\n    <g id=\"line2d_31\">\n     <path d=\"M 437.284375 35.416562 \nL 447.284375 35.416562 \nL 457.284375 35.416562 \n\" style=\"fill: none; stroke: #1f77b4; stroke-width: 1.5; stroke-linecap: square\"/>\n     <g>\n      <use xlink:href=\"#mfddec402eb\" x=\"447.284375\" y=\"35.416562\" style=\"fill: #1f77b4; stroke: #1f77b4\"/>\n     </g>\n    </g>\n    <g id=\"text_18\">\n     <!-- Quimb Expectation Value -->\n     <g transform=\"translate(465.284375 38.916562) scale(0.1 -0.1)\">\n      <use xlink:href=\"#DejaVuSans-51\"/>\n      <use xlink:href=\"#DejaVuSans-75\" x=\"78.710938\"/>\n      <use xlink:href=\"#DejaVuSans-69\" x=\"142.089844\"/>\n      <use xlink:href=\"#DejaVuSans-6d\" x=\"169.873047\"/>\n      <use xlink:href=\"#DejaVuSans-62\" x=\"267.285156\"/>\n      <use xlink:href=\"#DejaVuSans-20\" x=\"330.761719\"/>\n      <use xlink:href=\"#DejaVuSans-45\" x=\"362.548828\"/>\n      <use xlink:href=\"#DejaVuSans-78\" x=\"425.732422\"/>\n      <use xlink:href=\"#DejaVuSans-70\" x=\"484.912109\"/>\n      <use xlink:href=\"#DejaVuSans-65\" x=\"548.388672\"/>\n      <use xlink:href=\"#DejaVuSans-63\" x=\"609.912109\"/>\n      <use xlink:href=\"#DejaVuSans-74\" x=\"664.892578\"/>\n      <use xlink:href=\"#DejaVuSans-61\" x=\"704.101562\"/>\n      <use xlink:href=\"#DejaVuSans-74\" x=\"765.380859\"/>\n      <use xlink:href=\"#DejaVuSans-69\" x=\"804.589844\"/>\n      <use xlink:href=\"#DejaVuSans-6f\" x=\"832.373047\"/>\n      <use xlink:href=\"#DejaVuSans-6e\" x=\"893.554688\"/>\n      <use xlink:href=\"#DejaVuSans-20\" x=\"956.933594\"/>\n      <use xlink:href=\"#DejaVuSans-56\" x=\"988.720703\"/>\n      <use xlink:href=\"#DejaVuSans-61\" x=\"1049.378906\"/>\n      <use xlink:href=\"#DejaVuSans-6c\" x=\"1110.658203\"/>\n      <use xlink:href=\"#DejaVuSans-75\" x=\"1138.441406\"/>\n      <use xlink:href=\"#DejaVuSans-65\" x=\"1201.820312\"/>\n     </g>\n    </g>\n    <g id=\"line2d_32\">\n     <path d=\"M 437.284375 50.094687 \nL 447.284375 50.094687 \nL 457.284375 50.094687 \n\" style=\"fill: none; stroke: #ff7f0e; stroke-width: 1.5; stroke-linecap: square\"/>\n     <g>\n      <use xlink:href=\"#m32f0e51b73\" x=\"447.284375\" y=\"50.094687\" style=\"fill: #ff7f0e; stroke: #ff7f0e\"/>\n     </g>\n    </g>\n    <g id=\"text_19\">\n     <!-- Qiskit Expectation Value -->\n     <g transform=\"translate(465.284375 53.594687) scale(0.1 -0.1)\">\n      <use xlink:href=\"#DejaVuSans-51\"/>\n      <use xlink:href=\"#DejaVuSans-69\" x=\"78.710938\"/>\n      <use xlink:href=\"#DejaVuSans-73\" x=\"106.494141\"/>\n      <use xlink:href=\"#DejaVuSans-6b\" x=\"158.59375\"/>\n      <use xlink:href=\"#DejaVuSans-69\" x=\"216.503906\"/>\n      <use xlink:href=\"#DejaVuSans-74\" x=\"244.287109\"/>\n      <use xlink:href=\"#DejaVuSans-20\" x=\"283.496094\"/>\n      <use xlink:href=\"#DejaVuSans-45\" x=\"315.283203\"/>\n      <use xlink:href=\"#DejaVuSans-78\" x=\"378.466797\"/>\n      <use xlink:href=\"#DejaVuSans-70\" x=\"437.646484\"/>\n      <use xlink:href=\"#DejaVuSans-65\" x=\"501.123047\"/>\n      <use xlink:href=\"#DejaVuSans-63\" x=\"562.646484\"/>\n      <use xlink:href=\"#DejaVuSans-74\" x=\"617.626953\"/>\n      <use xlink:href=\"#DejaVuSans-61\" x=\"656.835938\"/>\n      <use xlink:href=\"#DejaVuSans-74\" x=\"718.115234\"/>\n      <use xlink:href=\"#DejaVuSans-69\" x=\"757.324219\"/>\n      <use xlink:href=\"#DejaVuSans-6f\" x=\"785.107422\"/>\n      <use xlink:href=\"#DejaVuSans-6e\" x=\"846.289062\"/>\n      <use xlink:href=\"#DejaVuSans-20\" x=\"909.667969\"/>\n      <use xlink:href=\"#DejaVuSans-56\" x=\"941.455078\"/>\n      <use xlink:href=\"#DejaVuSans-61\" x=\"1002.113281\"/>\n      <use xlink:href=\"#DejaVuSans-6c\" x=\"1063.392578\"/>\n      <use xlink:href=\"#DejaVuSans-75\" x=\"1091.175781\"/>\n      <use xlink:href=\"#DejaVuSans-65\" x=\"1154.554688\"/>\n     </g>\n    </g>\n   </g>\n  </g>\n </g>\n <defs>\n  <clipPath id=\"pf122c7a4c7\">\n   <rect x=\"42.620313\" y=\"22.318125\" width=\"558\" height=\"332.64\"/>\n  </clipPath>\n </defs>\n</svg>\n"
          },
          "metadata": {}
        }
      ]
    },
    {
      "cell_type": "code",
      "source": [],
      "metadata": {
        "id": "7YouPphir_fj"
      },
      "execution_count": null,
      "outputs": []
    },
    {
      "cell_type": "markdown",
      "source": [
        "# Trying to use Circuit Implementation of the Gates itself and then doing a statevector analysis for the comparision"
      ],
      "metadata": {
        "id": "kFEp8n6LIOR3"
      }
    },
    {
      "cell_type": "code",
      "source": [
        "import matplotlib.pyplot as plt\n",
        "from qiskit import QuantumCircuit\n",
        "from qiskit.quantum_info import SparsePauliOp\n",
        "import numpy as np\n",
        "from math import pi\n",
        "\n",
        "qiskit_expectation_values = []\n",
        "quimb_expectation_values = []\n",
        "qubits_range = list(range(6, 12, 2))\n",
        "\n",
        "\n",
        "for num_qubits in range(6,12,2):\n",
        "    def generate_random_binary(length):\n",
        "      return ''.join(random.choice(['0', '1']) for _ in range(length))\n",
        "\n",
        "    state_length = num_qubits\n",
        "    random_state = generate_random_binary(state_length)\n",
        "    print(f\"The generated random state is: {random_state}\")\n",
        "    print()\n",
        "\n",
        "    def qft_rotations(circuit, n):\n",
        "        \"\"\"Performs qft on the first n qubits in circuit (without swaps)\"\"\"\n",
        "        if n == 0:\n",
        "            return circuit\n",
        "        n -= 1\n",
        "        circuit.h(n)\n",
        "        for qubit in range(n):\n",
        "            circuit.cp(pi/2**(n-qubit), qubit, n)\n",
        "        # At the end of our function, we call the same function again on\n",
        "        # the next qubits (we reduced n by one earlier in the function)\n",
        "        qft_rotations(circuit, n)\n",
        "\n",
        "\n",
        "    def swap_registers(circuit, n):\n",
        "        for qubit in range(n//2):\n",
        "            circuit.swap(qubit, n-qubit-1)\n",
        "        return circuit\n",
        "\n",
        "    def qft(circuit, n):\n",
        "        \"\"\"QFT on the first n qubits in circuit\"\"\"\n",
        "        qft_rotations(circuit, n)\n",
        "        swap_registers(circuit, n)\n",
        "        return circuit\n",
        "\n",
        "    def qft_rotations_reverse(circuit, n):\n",
        "        \"\"\"Performs qft on the first n qubits in reverse order (without swaps)\"\"\"\n",
        "        if n == 0:\n",
        "            return circuit\n",
        "        n -= 1\n",
        "        # Apply controlled phase gates first in reverse order\n",
        "        for qubit in range(n):\n",
        "            circuit.cp(pi/2**(n-qubit), qubit, n)\n",
        "        # Apply the Hadamard gate after the controlled phase gates\n",
        "        circuit.h(n)\n",
        "        # Call the function recursively on the next qubits\n",
        "        qft_rotations_reverse(circuit, n)\n",
        "\n",
        "    def swap_registers(circuit, n):\n",
        "        for qubit in range(n//2):\n",
        "            circuit.swap(qubit, n-qubit-1)\n",
        "        return circuit\n",
        "\n",
        "    def qft_reverse(circuit, n):\n",
        "        \"\"\"QFT on the first n qubits in reverse order\"\"\"\n",
        "        qft_rotations_reverse(circuit, n)\n",
        "        swap_registers(circuit, n)\n",
        "        return circuit\n",
        "\n",
        "\n",
        "\n",
        "    #Defining the oeprator in the matrix form\n",
        "    # matrix = np.array([[ 0.09478022+0.j,  0.        +0.j,  0.        +0.j,\n",
        "    #          0.        +0.j],\n",
        "    #        [ 0.        +0.j, 10.55072407+0.j,  0.        +0.j,\n",
        "    #          0.        +0.j],\n",
        "    #        [ 0.        +0.j,  0.        +0.j, 10.55072407+0.j,\n",
        "    #          0.        +0.j],\n",
        "    #        [ 0.        +0.j,  0.        +0.j,  0.        +0.j,\n",
        "    #          0.09478022+0.j]])\n",
        "    # op = SparsePauliOp.from_operator(matrix)\n",
        "    # print(op)\n",
        "    # Step 1: Define operator\n",
        "    op = SparsePauliOp.from_list(\n",
        "        [\n",
        "            (\"ZZ\"*int(num_qubits/2), -5.22797192+0.j),\n",
        "        ]\n",
        "    )\n",
        "\n",
        "    # Step 2: Define quantum state\n",
        "\n",
        "    from qiskit import QuantumCircuit, QuantumRegister, ClassicalRegister\n",
        "    # Number of qubits and the initial state\n",
        "    qubit_no = num_qubits  # This can be changed based on tensor network results\n",
        "    state = random_state\n",
        "\n",
        "    # Create the quantum circuit\n",
        "    qc = QuantumCircuit(qubit_no)\n",
        "\n",
        "    # Apply the X gate where the state has '1'\n",
        "    for i, number in enumerate(state):\n",
        "        if number == '1':\n",
        "            qc.x(i)\n",
        "    # print(qc.draw())\n",
        "\n",
        "\n",
        "    #APPLY QFT (TO CHECK AGAIN THIS PORTION)\n",
        "    qft(qc, qubit_no)\n",
        "\n",
        "\n",
        "    # Define a local backend\n",
        "    from qiskit_ibm_runtime.fake_provider import FakeOsaka\n",
        "    backend = FakeOsaka()\n",
        "\n",
        "    # Or define a real backend\n",
        "    # from qiskit_ibm_runtime import QiskitRuntimeService\n",
        "    # service = QiskitRuntimeService()\n",
        "    # backend = service.least_busy(operational=True, simulator=False)\n",
        "\n",
        "    # Circuits and parameters must obey the Instruction Set Architecture (ISA) of a particular backend.\n",
        "    from qiskit.transpiler.preset_passmanagers import generate_preset_pass_manager\n",
        "\n",
        "    pm = generate_preset_pass_manager(backend=backend, optimization_level=1)\n",
        "    isa_circuit = pm.run(qc)\n",
        "\n",
        "    isa_observable = op.apply_layout(isa_circuit.layout)\n",
        "\n",
        "    from qiskit_ibm_runtime import EstimatorV2 as Estimator\n",
        "\n",
        "    estimator = Estimator(backend, options={\"default_shots\": int(1e4)})\n",
        "    job = estimator.run([(isa_circuit, isa_observable)])\n",
        "\n",
        "\n",
        "\n",
        "    # Get results for the first (and only) PUB\n",
        "    pub_result = job.result()[0]\n",
        "\n",
        "    print(f\">>> Expectation value from qiskit: {pub_result.data.evs}\")\n",
        "    qiskit_expectation_values.append(pub_result.data.evs)\n",
        "\n"
      ],
      "metadata": {
        "colab": {
          "base_uri": "https://localhost:8080/"
        },
        "id": "MsAWZot6IuCn",
        "outputId": "3cbcf97a-6585-4ec8-86f2-d2d161787c14"
      },
      "execution_count": 11,
      "outputs": [
        {
          "output_type": "stream",
          "name": "stdout",
          "text": [
            "The generated random state is: 010000\n",
            "\n",
            ">>> Expectation value from qiskit: 0.019866293296\n",
            "The generated random state is: 11110000\n",
            "\n",
            ">>> Expectation value from qiskit: -0.021957482063999997\n",
            "The generated random state is: 0000010101\n",
            "\n",
            ">>> Expectation value from qiskit: -0.079465173184\n"
          ]
        }
      ]
    },
    {
      "cell_type": "markdown",
      "source": [
        "# A different approach for Qiskit\n",
        "\n",
        "1. Encoding states, 2. Applying the generated QFT Function, 3. Applying the RZZ(theta) gate, 4. Apply the QFT' (Normal QFT with just the order of the gates in reverse order), 5. Measure the Statevector final after the manipulation\n",
        "\n",
        "\n",
        "NEW IDEATION:\n",
        "1. Encode the states, 2. Apply the QFT Function, 3. Get the state vector, 4.Create another state vector which is a ket of suppose the state '10', apply np.dot product and get the expectation value\n",
        "\n",
        "SIMILAR FOR QUIMB:\n",
        "1. Encode the states, 2. Apply the QFT Function , 3. Get the state vector using to_dense, 4. Get another state '10' using encoding, 4. get the to_dense 5. Use np.dot product to get the expectation value"
      ],
      "metadata": {
        "id": "TpNFlVNr5c1L"
      }
    },
    {
      "cell_type": "markdown",
      "source": [
        "### Cheking for smaller qubit values. Qubit and Quimb"
      ],
      "metadata": {
        "id": "_oIrBXQtbXpZ"
      }
    },
    {
      "cell_type": "code",
      "source": [
        "!pip install qiskit_ibm_runtime --quiet\n",
        "\n",
        "#Qubits  = 2,  Encoded State = '10'"
      ],
      "metadata": {
        "id": "cZUlPudDEexG"
      },
      "execution_count": 16,
      "outputs": []
    },
    {
      "cell_type": "code",
      "source": [
        "# Delete the following\n",
        "from qiskit import QuantumRegister, ClassicalRegister, QuantumCircuit, transpile\n",
        "from qiskit_aer import Aer, statevector_simulator\n",
        "from qiskit.visualization import plot_histogram\n",
        "\n",
        "q = QuantumRegister(2, \"qreg\")\n",
        "c = ClassicalRegister(1, \"creg\")\n",
        "qc = QuantumCircuit(q,c)\n",
        "\n",
        "#Encode the state\n",
        "qc.x(q[1])\n",
        "#Apply Hadmard\n",
        "qc.h(q[0])\n",
        "\n",
        "#Apply the Phase Gate\n",
        "qc.cp(theta = np.pi/2, control_qubit = q[0], target_qubit = q[1])\n",
        "\n",
        "#Apply the Hadamard on the qubit - 1\n",
        "qc.h(q[1])\n",
        "\n",
        "#Apply the SWAP Gate\n",
        "qc.swap(q[1], q[0])\n",
        "\n",
        "#Apply the RZZ(theta = pi/2) gate\n",
        "# qc.rzz(np.pi/2, q[1], q[0])\n",
        "\n",
        "# #Apply again the SWAP Gate\n",
        "# qc.swap(q[1], q[0])\n",
        "\n",
        "# #Apply again Hadamard Gate to the qubit 1\n",
        "# qc.h(q[1])\n",
        "# #Apply again the controlled Phase gate\n",
        "# qc.cp(theta = np.pi/2, control_qubit = q[0], target_qubit = q[1])\n",
        "\n",
        "# #Apply Hadamard to the qubit 0\n",
        "# qc.h(q[0])\n",
        "\n",
        "\n",
        "# Measurements\n",
        "\n",
        "\n",
        "display(qc.draw())\n",
        "\n",
        "#Statevector simulator\n",
        "backend = Aer.get_backend('statevector_simulator')\n",
        "qc_ex = transpile(qc, backend)\n",
        "job = backend.run(qc_ex, shots = 1000)\n",
        "result = job.result()\n",
        "outputstate = result.get_statevector(qc_ex, decimals=3)\n",
        "counts = result.get_counts()\n",
        "\n",
        "print(counts)\n",
        "display(plot_histogram(counts))\n",
        "print(outputstate)\n",
        "\n"
      ],
      "metadata": {
        "colab": {
          "base_uri": "https://localhost:8080/",
          "height": 577
        },
        "id": "d9zE5QV46P6X",
        "outputId": "4951eca8-47c1-4b2d-b664-e5cfda810dcb"
      },
      "execution_count": 89,
      "outputs": [
        {
          "output_type": "display_data",
          "data": {
            "text/plain": [
              "        ┌───┐                 \n",
              "qreg_0: ┤ H ├─■─────────────X─\n",
              "        ├───┤ │P(π/2) ┌───┐ │ \n",
              "qreg_1: ┤ X ├─■───────┤ H ├─X─\n",
              "        └───┘         └───┘   \n",
              "creg: 1/══════════════════════\n",
              "                              "
            ],
            "text/html": [
              "<pre style=\"word-wrap: normal;white-space: pre;background: #fff0;line-height: 1.1;font-family: &quot;Courier New&quot;,Courier,monospace\">        ┌───┐                 \n",
              "qreg_0: ┤ H ├─■─────────────X─\n",
              "        ├───┤ │P(π/2) ┌───┐ │ \n",
              "qreg_1: ┤ X ├─■───────┤ H ├─X─\n",
              "        └───┘         └───┘   \n",
              "creg: 1/══════════════════════\n",
              "                              </pre>"
            ]
          },
          "metadata": {}
        },
        {
          "output_type": "stream",
          "name": "stdout",
          "text": [
            "{'0': 1000}\n"
          ]
        },
        {
          "output_type": "display_data",
          "data": {
            "text/plain": [
              "<Figure size 640x480 with 1 Axes>"
            ],
            "image/svg+xml": "<?xml version=\"1.0\" encoding=\"utf-8\" standalone=\"no\"?>\n<!DOCTYPE svg PUBLIC \"-//W3C//DTD SVG 1.1//EN\"\n  \"http://www.w3.org/Graphics/SVG/1.1/DTD/svg11.dtd\">\n<svg xmlns:xlink=\"http://www.w3.org/1999/xlink\" width=\"421.519375pt\" height=\"296.800908pt\" viewBox=\"0 0 421.519375 296.800908\" xmlns=\"http://www.w3.org/2000/svg\" version=\"1.1\">\n <metadata>\n  <rdf:RDF xmlns:dc=\"http://purl.org/dc/elements/1.1/\" xmlns:cc=\"http://creativecommons.org/ns#\" xmlns:rdf=\"http://www.w3.org/1999/02/22-rdf-syntax-ns#\">\n   <cc:Work>\n    <dc:type rdf:resource=\"http://purl.org/dc/dcmitype/StillImage\"/>\n    <dc:date>2024-09-05T12:33:33.294306</dc:date>\n    <dc:format>image/svg+xml</dc:format>\n    <dc:creator>\n     <cc:Agent>\n      <dc:title>Matplotlib v3.7.1, https://matplotlib.org/</dc:title>\n     </cc:Agent>\n    </dc:creator>\n   </cc:Work>\n  </rdf:RDF>\n </metadata>\n <defs>\n  <style type=\"text/css\">*{stroke-linejoin: round; stroke-linecap: butt}</style>\n </defs>\n <g id=\"figure_1\">\n  <g id=\"patch_1\">\n   <path d=\"M 0 296.800908 \nL 421.519375 296.800908 \nL 421.519375 0 \nL 0 0 \nz\n\" style=\"fill: #ffffff\"/>\n  </g>\n  <g id=\"axes_1\">\n   <g id=\"patch_2\">\n    <path d=\"M 57.199375 273.312 \nL 414.319375 273.312 \nL 414.319375 7.2 \nL 57.199375 7.2 \nz\n\" style=\"fill: #ffffff\"/>\n   </g>\n   <g id=\"matplotlib.axis_1\">\n    <g id=\"xtick_1\">\n     <g id=\"line2d_1\">\n      <defs>\n       <path id=\"m561137f8f9\" d=\"M 0 0 \nL 0 3.5 \n\" style=\"stroke: #000000; stroke-width: 0.8\"/>\n      </defs>\n      <g>\n       <use xlink:href=\"#m561137f8f9\" x=\"235.759375\" y=\"273.312\" style=\"stroke: #000000; stroke-width: 0.8\"/>\n      </g>\n     </g>\n     <g id=\"text_1\">\n      <!-- 0 -->\n      <g transform=\"translate(240.723467 288.889613) rotate(-70) scale(0.1 -0.1)\">\n       <defs>\n        <path id=\"DejaVuSans-30\" d=\"M 2034 4250 \nQ 1547 4250 1301 3770 \nQ 1056 3291 1056 2328 \nQ 1056 1369 1301 889 \nQ 1547 409 2034 409 \nQ 2525 409 2770 889 \nQ 3016 1369 3016 2328 \nQ 3016 3291 2770 3770 \nQ 2525 4250 2034 4250 \nz\nM 2034 4750 \nQ 2819 4750 3233 4129 \nQ 3647 3509 3647 2328 \nQ 3647 1150 3233 529 \nQ 2819 -91 2034 -91 \nQ 1250 -91 836 529 \nQ 422 1150 422 2328 \nQ 422 3509 836 4129 \nQ 1250 4750 2034 4750 \nz\n\" transform=\"scale(0.015625)\"/>\n       </defs>\n       <use xlink:href=\"#DejaVuSans-30\"/>\n      </g>\n     </g>\n    </g>\n   </g>\n   <g id=\"matplotlib.axis_2\">\n    <g id=\"ytick_1\">\n     <g id=\"line2d_2\">\n      <path d=\"M 57.199375 273.312 \nL 414.319375 273.312 \n\" clip-path=\"url(#pce94bad6e7)\" style=\"fill: none; stroke-dasharray: 2.96,1.28; stroke-dashoffset: 0; stroke: #b0b0b0; stroke-width: 0.8\"/>\n     </g>\n     <g id=\"line2d_3\">\n      <defs>\n       <path id=\"m9bcffadfea\" d=\"M 0 0 \nL -3.5 0 \n\" style=\"stroke: #000000; stroke-width: 0.8\"/>\n      </defs>\n      <g>\n       <use xlink:href=\"#m9bcffadfea\" x=\"57.199375\" y=\"273.312\" style=\"stroke: #000000; stroke-width: 0.8\"/>\n      </g>\n     </g>\n     <g id=\"text_2\">\n      <!-- 0 -->\n      <g transform=\"translate(43.836875 277.111219) scale(0.1 -0.1)\">\n       <use xlink:href=\"#DejaVuSans-30\"/>\n      </g>\n     </g>\n    </g>\n    <g id=\"ytick_2\">\n     <g id=\"line2d_4\">\n      <path d=\"M 57.199375 212.832 \nL 414.319375 212.832 \n\" clip-path=\"url(#pce94bad6e7)\" style=\"fill: none; stroke-dasharray: 2.96,1.28; stroke-dashoffset: 0; stroke: #b0b0b0; stroke-width: 0.8\"/>\n     </g>\n     <g id=\"line2d_5\">\n      <g>\n       <use xlink:href=\"#m9bcffadfea\" x=\"57.199375\" y=\"212.832\" style=\"stroke: #000000; stroke-width: 0.8\"/>\n      </g>\n     </g>\n     <g id=\"text_3\">\n      <!-- 250 -->\n      <g transform=\"translate(31.111875 216.631219) scale(0.1 -0.1)\">\n       <defs>\n        <path id=\"DejaVuSans-32\" d=\"M 1228 531 \nL 3431 531 \nL 3431 0 \nL 469 0 \nL 469 531 \nQ 828 903 1448 1529 \nQ 2069 2156 2228 2338 \nQ 2531 2678 2651 2914 \nQ 2772 3150 2772 3378 \nQ 2772 3750 2511 3984 \nQ 2250 4219 1831 4219 \nQ 1534 4219 1204 4116 \nQ 875 4013 500 3803 \nL 500 4441 \nQ 881 4594 1212 4672 \nQ 1544 4750 1819 4750 \nQ 2544 4750 2975 4387 \nQ 3406 4025 3406 3419 \nQ 3406 3131 3298 2873 \nQ 3191 2616 2906 2266 \nQ 2828 2175 2409 1742 \nQ 1991 1309 1228 531 \nz\n\" transform=\"scale(0.015625)\"/>\n        <path id=\"DejaVuSans-35\" d=\"M 691 4666 \nL 3169 4666 \nL 3169 4134 \nL 1269 4134 \nL 1269 2991 \nQ 1406 3038 1543 3061 \nQ 1681 3084 1819 3084 \nQ 2600 3084 3056 2656 \nQ 3513 2228 3513 1497 \nQ 3513 744 3044 326 \nQ 2575 -91 1722 -91 \nQ 1428 -91 1123 -41 \nQ 819 9 494 109 \nL 494 744 \nQ 775 591 1075 516 \nQ 1375 441 1709 441 \nQ 2250 441 2565 725 \nQ 2881 1009 2881 1497 \nQ 2881 1984 2565 2268 \nQ 2250 2553 1709 2553 \nQ 1456 2553 1204 2497 \nQ 953 2441 691 2322 \nL 691 4666 \nz\n\" transform=\"scale(0.015625)\"/>\n       </defs>\n       <use xlink:href=\"#DejaVuSans-32\"/>\n       <use xlink:href=\"#DejaVuSans-35\" x=\"63.623047\"/>\n       <use xlink:href=\"#DejaVuSans-30\" x=\"127.246094\"/>\n      </g>\n     </g>\n    </g>\n    <g id=\"ytick_3\">\n     <g id=\"line2d_6\">\n      <path d=\"M 57.199375 152.352 \nL 414.319375 152.352 \n\" clip-path=\"url(#pce94bad6e7)\" style=\"fill: none; stroke-dasharray: 2.96,1.28; stroke-dashoffset: 0; stroke: #b0b0b0; stroke-width: 0.8\"/>\n     </g>\n     <g id=\"line2d_7\">\n      <g>\n       <use xlink:href=\"#m9bcffadfea\" x=\"57.199375\" y=\"152.352\" style=\"stroke: #000000; stroke-width: 0.8\"/>\n      </g>\n     </g>\n     <g id=\"text_4\">\n      <!-- 500 -->\n      <g transform=\"translate(31.111875 156.151219) scale(0.1 -0.1)\">\n       <use xlink:href=\"#DejaVuSans-35\"/>\n       <use xlink:href=\"#DejaVuSans-30\" x=\"63.623047\"/>\n       <use xlink:href=\"#DejaVuSans-30\" x=\"127.246094\"/>\n      </g>\n     </g>\n    </g>\n    <g id=\"ytick_4\">\n     <g id=\"line2d_8\">\n      <path d=\"M 57.199375 91.872 \nL 414.319375 91.872 \n\" clip-path=\"url(#pce94bad6e7)\" style=\"fill: none; stroke-dasharray: 2.96,1.28; stroke-dashoffset: 0; stroke: #b0b0b0; stroke-width: 0.8\"/>\n     </g>\n     <g id=\"line2d_9\">\n      <g>\n       <use xlink:href=\"#m9bcffadfea\" x=\"57.199375\" y=\"91.872\" style=\"stroke: #000000; stroke-width: 0.8\"/>\n      </g>\n     </g>\n     <g id=\"text_5\">\n      <!-- 750 -->\n      <g transform=\"translate(31.111875 95.671219) scale(0.1 -0.1)\">\n       <defs>\n        <path id=\"DejaVuSans-37\" d=\"M 525 4666 \nL 3525 4666 \nL 3525 4397 \nL 1831 0 \nL 1172 0 \nL 2766 4134 \nL 525 4134 \nL 525 4666 \nz\n\" transform=\"scale(0.015625)\"/>\n       </defs>\n       <use xlink:href=\"#DejaVuSans-37\"/>\n       <use xlink:href=\"#DejaVuSans-35\" x=\"63.623047\"/>\n       <use xlink:href=\"#DejaVuSans-30\" x=\"127.246094\"/>\n      </g>\n     </g>\n    </g>\n    <g id=\"ytick_5\">\n     <g id=\"line2d_10\">\n      <path d=\"M 57.199375 31.392 \nL 414.319375 31.392 \n\" clip-path=\"url(#pce94bad6e7)\" style=\"fill: none; stroke-dasharray: 2.96,1.28; stroke-dashoffset: 0; stroke: #b0b0b0; stroke-width: 0.8\"/>\n     </g>\n     <g id=\"line2d_11\">\n      <g>\n       <use xlink:href=\"#m9bcffadfea\" x=\"57.199375\" y=\"31.392\" style=\"stroke: #000000; stroke-width: 0.8\"/>\n      </g>\n     </g>\n     <g id=\"text_6\">\n      <!-- 1000 -->\n      <g transform=\"translate(24.749375 35.191219) scale(0.1 -0.1)\">\n       <defs>\n        <path id=\"DejaVuSans-31\" d=\"M 794 531 \nL 1825 531 \nL 1825 4091 \nL 703 3866 \nL 703 4441 \nL 1819 4666 \nL 2450 4666 \nL 2450 531 \nL 3481 531 \nL 3481 0 \nL 794 0 \nL 794 531 \nz\n\" transform=\"scale(0.015625)\"/>\n       </defs>\n       <use xlink:href=\"#DejaVuSans-31\"/>\n       <use xlink:href=\"#DejaVuSans-30\" x=\"63.623047\"/>\n       <use xlink:href=\"#DejaVuSans-30\" x=\"127.246094\"/>\n       <use xlink:href=\"#DejaVuSans-30\" x=\"190.869141\"/>\n      </g>\n     </g>\n    </g>\n    <g id=\"text_7\">\n     <!-- Count -->\n     <g transform=\"translate(17.837812 161.043812) rotate(-90) scale(0.14 -0.14)\">\n      <defs>\n       <path id=\"DejaVuSans-43\" d=\"M 4122 4306 \nL 4122 3641 \nQ 3803 3938 3442 4084 \nQ 3081 4231 2675 4231 \nQ 1875 4231 1450 3742 \nQ 1025 3253 1025 2328 \nQ 1025 1406 1450 917 \nQ 1875 428 2675 428 \nQ 3081 428 3442 575 \nQ 3803 722 4122 1019 \nL 4122 359 \nQ 3791 134 3420 21 \nQ 3050 -91 2638 -91 \nQ 1578 -91 968 557 \nQ 359 1206 359 2328 \nQ 359 3453 968 4101 \nQ 1578 4750 2638 4750 \nQ 3056 4750 3426 4639 \nQ 3797 4528 4122 4306 \nz\n\" transform=\"scale(0.015625)\"/>\n       <path id=\"DejaVuSans-6f\" d=\"M 1959 3097 \nQ 1497 3097 1228 2736 \nQ 959 2375 959 1747 \nQ 959 1119 1226 758 \nQ 1494 397 1959 397 \nQ 2419 397 2687 759 \nQ 2956 1122 2956 1747 \nQ 2956 2369 2687 2733 \nQ 2419 3097 1959 3097 \nz\nM 1959 3584 \nQ 2709 3584 3137 3096 \nQ 3566 2609 3566 1747 \nQ 3566 888 3137 398 \nQ 2709 -91 1959 -91 \nQ 1206 -91 779 398 \nQ 353 888 353 1747 \nQ 353 2609 779 3096 \nQ 1206 3584 1959 3584 \nz\n\" transform=\"scale(0.015625)\"/>\n       <path id=\"DejaVuSans-75\" d=\"M 544 1381 \nL 544 3500 \nL 1119 3500 \nL 1119 1403 \nQ 1119 906 1312 657 \nQ 1506 409 1894 409 \nQ 2359 409 2629 706 \nQ 2900 1003 2900 1516 \nL 2900 3500 \nL 3475 3500 \nL 3475 0 \nL 2900 0 \nL 2900 538 \nQ 2691 219 2414 64 \nQ 2138 -91 1772 -91 \nQ 1169 -91 856 284 \nQ 544 659 544 1381 \nz\nM 1991 3584 \nL 1991 3584 \nz\n\" transform=\"scale(0.015625)\"/>\n       <path id=\"DejaVuSans-6e\" d=\"M 3513 2113 \nL 3513 0 \nL 2938 0 \nL 2938 2094 \nQ 2938 2591 2744 2837 \nQ 2550 3084 2163 3084 \nQ 1697 3084 1428 2787 \nQ 1159 2491 1159 1978 \nL 1159 0 \nL 581 0 \nL 581 3500 \nL 1159 3500 \nL 1159 2956 \nQ 1366 3272 1645 3428 \nQ 1925 3584 2291 3584 \nQ 2894 3584 3203 3211 \nQ 3513 2838 3513 2113 \nz\n\" transform=\"scale(0.015625)\"/>\n       <path id=\"DejaVuSans-74\" d=\"M 1172 4494 \nL 1172 3500 \nL 2356 3500 \nL 2356 3053 \nL 1172 3053 \nL 1172 1153 \nQ 1172 725 1289 603 \nQ 1406 481 1766 481 \nL 2356 481 \nL 2356 0 \nL 1766 0 \nQ 1100 0 847 248 \nQ 594 497 594 1153 \nL 594 3053 \nL 172 3053 \nL 172 3500 \nL 594 3500 \nL 594 4494 \nL 1172 4494 \nz\n\" transform=\"scale(0.015625)\"/>\n      </defs>\n      <use xlink:href=\"#DejaVuSans-43\"/>\n      <use xlink:href=\"#DejaVuSans-6f\" x=\"69.824219\"/>\n      <use xlink:href=\"#DejaVuSans-75\" x=\"131.005859\"/>\n      <use xlink:href=\"#DejaVuSans-6e\" x=\"194.384766\"/>\n      <use xlink:href=\"#DejaVuSans-74\" x=\"257.763672\"/>\n     </g>\n    </g>\n   </g>\n   <g id=\"patch_3\">\n    <path d=\"M 73.432102 273.312 \nL 398.086648 273.312 \nL 398.086648 31.392 \nL 73.432102 31.392 \nz\n\" clip-path=\"url(#pce94bad6e7)\" style=\"fill: #1f77b4\"/>\n   </g>\n   <g id=\"patch_4\">\n    <path d=\"M 57.199375 273.312 \nL 57.199375 7.2 \n\" style=\"fill: none; stroke: #000000; stroke-width: 0.8; stroke-linejoin: miter; stroke-linecap: square\"/>\n   </g>\n   <g id=\"patch_5\">\n    <path d=\"M 414.319375 273.312 \nL 414.319375 7.2 \n\" style=\"fill: none; stroke: #000000; stroke-width: 0.8; stroke-linejoin: miter; stroke-linecap: square\"/>\n   </g>\n   <g id=\"patch_6\">\n    <path d=\"M 57.199375 273.312 \nL 414.319375 273.312 \n\" style=\"fill: none; stroke: #000000; stroke-width: 0.8; stroke-linejoin: miter; stroke-linecap: square\"/>\n   </g>\n   <g id=\"patch_7\">\n    <path d=\"M 57.199375 7.2 \nL 414.319375 7.2 \n\" style=\"fill: none; stroke: #000000; stroke-width: 0.8; stroke-linejoin: miter; stroke-linecap: square\"/>\n   </g>\n   <g id=\"text_8\">\n    <!-- 1000 -->\n    <g transform=\"translate(223.034375 17.216312) scale(0.1 -0.1)\">\n     <use xlink:href=\"#DejaVuSans-31\"/>\n     <use xlink:href=\"#DejaVuSans-30\" x=\"63.623047\"/>\n     <use xlink:href=\"#DejaVuSans-30\" x=\"127.246094\"/>\n     <use xlink:href=\"#DejaVuSans-30\" x=\"190.869141\"/>\n    </g>\n   </g>\n  </g>\n </g>\n <defs>\n  <clipPath id=\"pce94bad6e7\">\n   <rect x=\"57.199375\" y=\"7.2\" width=\"357.12\" height=\"266.112\"/>\n  </clipPath>\n </defs>\n</svg>\n"
          },
          "metadata": {}
        },
        {
          "output_type": "stream",
          "name": "stdout",
          "text": [
            "Statevector([ 0.5-0.j , -0.5+0.j ,  0. +0.5j, -0. -0.5j],\n",
            "            dims=(2, 2))\n"
          ]
        }
      ]
    },
    {
      "cell_type": "code",
      "source": [
        "#Encoding the state for '10'\n",
        "\n",
        "from qiskit import QuantumRegister, ClassicalRegister, QuantumCircuit, transpile\n",
        "from qiskit_aer import Aer, statevector_simulator\n",
        "from qiskit.visualization import plot_histogram\n",
        "\n",
        "q = QuantumRegister(2, \"qreg\")\n",
        "c = ClassicalRegister(1, \"creg\")\n",
        "qc2 = QuantumCircuit(q,c)\n",
        "\n",
        "#Encode the state\n",
        "qc2.x(q[1])\n",
        "\n",
        "qc2.measure_all()\n",
        "\n",
        "display(qc2.draw())\n",
        "\n",
        "backend = Aer.get_backend('statevector_simulator')\n",
        "qc_ex2 = transpile(qc2, backend)\n",
        "job = backend.run(qc_ex2, shots = 1000)\n",
        "result = job.result()\n",
        "outputstate = result.get_statevector(qc_ex2, decimals=3)\n",
        "counts = result.get_counts()\n",
        "\n",
        "print(counts)\n",
        "# display(plot_histogram(counts))\n",
        "print(outputstate)"
      ],
      "metadata": {
        "colab": {
          "base_uri": "https://localhost:8080/",
          "height": 208
        },
        "id": "IvGOwAsO8aXl",
        "outputId": "ca4c4695-8b25-4913-d052-5b9d49f6b766"
      },
      "execution_count": 48,
      "outputs": [
        {
          "output_type": "display_data",
          "data": {
            "text/plain": [
              "              ░ ┌─┐   \n",
              "qreg_0: ──────░─┤M├───\n",
              "        ┌───┐ ░ └╥┘┌─┐\n",
              "qreg_1: ┤ X ├─░──╫─┤M├\n",
              "        └───┘ ░  ║ └╥┘\n",
              "creg: 1/═════════╬══╬═\n",
              "                 ║  ║ \n",
              "meas: 2/═════════╩══╩═\n",
              "                 0  1 "
            ],
            "text/html": [
              "<pre style=\"word-wrap: normal;white-space: pre;background: #fff0;line-height: 1.1;font-family: &quot;Courier New&quot;,Courier,monospace\">              ░ ┌─┐   \n",
              "qreg_0: ──────░─┤M├───\n",
              "        ┌───┐ ░ └╥┘┌─┐\n",
              "qreg_1: ┤ X ├─░──╫─┤M├\n",
              "        └───┘ ░  ║ └╥┘\n",
              "creg: 1/═════════╬══╬═\n",
              "                 ║  ║ \n",
              "meas: 2/═════════╩══╩═\n",
              "                 0  1 </pre>"
            ]
          },
          "metadata": {}
        },
        {
          "output_type": "stream",
          "name": "stdout",
          "text": [
            "{'10 0': 1000}\n",
            "Statevector([0.+0.j, 0.+0.j, 1.+0.j, 0.+0.j],\n",
            "            dims=(2, 2))\n"
          ]
        }
      ]
    },
    {
      "cell_type": "code",
      "source": [
        "# Suppose we are directly doing the QFT (INBUILT METHOD)\n",
        "\n",
        "from qiskit import QuantumRegister, ClassicalRegister, QuantumCircuit, transpile\n",
        "from qiskit_aer import Aer, statevector_simulator\n",
        "from qiskit.visualization import plot_histogram\n",
        "from qiskit.circuit.library import QFT\n",
        "\n",
        "# Encoding\n",
        "q = QuantumRegister(2, \"qreg\")\n",
        "c = ClassicalRegister(1, \"creg\")\n",
        "qc3 = QuantumCircuit(q, c)\n",
        "\n",
        "qc3.x(q[1])\n",
        "#Apply QFT##\n",
        "qft = QFT(num_qubits=2).to_gate()\n",
        "qc3.append(qft, qargs=[0, 1])\n",
        "\n",
        "#Apply RZZ gate\n",
        "qc3.rzz(np.pi/2, q[1], q[0])\n",
        "\n",
        "\n",
        "#qc3.measure_all()\n",
        "\n",
        "display(qc3.draw())\n",
        "\n",
        "backend = Aer.get_backend('statevector_simulator')\n",
        "qc_ex3 = transpile(qc3, backend)\n",
        "job = backend.run(qc_ex3, shots=1000)\n",
        "result = job.result()\n",
        "outputstate1= result.get_statevector(qc_ex3, decimals=3)\n",
        "counts = result.get_counts()\n",
        "\n",
        "print(counts)\n",
        "# display(plot_histogram(counts))\n",
        "print(np.transpose(outputstate1))\n"
      ],
      "metadata": {
        "colab": {
          "base_uri": "https://localhost:8080/",
          "height": 160
        },
        "id": "dXSPf1-i-miy",
        "outputId": "9f37c09e-9c08-4de7-86c4-3b7e680801d8"
      },
      "execution_count": 82,
      "outputs": [
        {
          "output_type": "display_data",
          "data": {
            "text/plain": [
              "             ┌──────┐          \n",
              "qreg_0: ─────┤0     ├─■────────\n",
              "        ┌───┐│  QFT │ │ZZ(π/2) \n",
              "qreg_1: ┤ X ├┤1     ├─■────────\n",
              "        └───┘└──────┘          \n",
              "creg: 1/═══════════════════════\n",
              "                               "
            ],
            "text/html": [
              "<pre style=\"word-wrap: normal;white-space: pre;background: #fff0;line-height: 1.1;font-family: &quot;Courier New&quot;,Courier,monospace\">             ┌──────┐          \n",
              "qreg_0: ─────┤0     ├─■────────\n",
              "        ┌───┐│  QFT │ │ZZ(π/2) \n",
              "qreg_1: ┤ X ├┤1     ├─■────────\n",
              "        └───┘└──────┘          \n",
              "creg: 1/═══════════════════════\n",
              "                               </pre>"
            ]
          },
          "metadata": {}
        },
        {
          "output_type": "stream",
          "name": "stdout",
          "text": [
            "{'0': 1000}\n",
            "[ 0.354-0.354j -0.354-0.354j  0.354+0.354j -0.354+0.354j]\n"
          ]
        }
      ]
    },
    {
      "cell_type": "code",
      "source": [
        "#Encoding the state for '10'\n",
        "\n",
        "from qiskit import QuantumRegister, ClassicalRegister, QuantumCircuit, transpile\n",
        "from qiskit_aer import Aer, statevector_simulator\n",
        "from qiskit.visualization import plot_histogram\n",
        "\n",
        "q = QuantumRegister(2, \"qreg\")\n",
        "c = ClassicalRegister(1, \"creg\")\n",
        "qc2 = QuantumCircuit(q,c)\n",
        "\n",
        "#Encode the state\n",
        "qc2.x(q[1])\n",
        "\n",
        "#qc2.measure_all()\n",
        "\n",
        "display(qc2.draw())\n",
        "\n",
        "backend = Aer.get_backend('statevector_simulator')\n",
        "qc_ex2 = transpile(qc2, backend)\n",
        "job = backend.run(qc_ex2, shots = 1000)\n",
        "result = job.result()#\n",
        "outputstate = result.get_statevector(qc_ex2, decimals=3)\n",
        "counts = result.get_counts()\n",
        "\n",
        "print(counts)\n",
        "# display(plot_histogram(counts))\n",
        "print(outputstate)"
      ],
      "metadata": {
        "colab": {
          "base_uri": "https://localhost:8080/",
          "height": 177
        },
        "id": "uT3JeXfpD90H",
        "outputId": "2f7e8f6f-0d58-48a0-e5a0-2d78d39ccf75"
      },
      "execution_count": 75,
      "outputs": [
        {
          "output_type": "display_data",
          "data": {
            "text/plain": [
              "             \n",
              "qreg_0: ─────\n",
              "        ┌───┐\n",
              "qreg_1: ┤ X ├\n",
              "        └───┘\n",
              "creg: 1/═════\n",
              "             "
            ],
            "text/html": [
              "<pre style=\"word-wrap: normal;white-space: pre;background: #fff0;line-height: 1.1;font-family: &quot;Courier New&quot;,Courier,monospace\">             \n",
              "qreg_0: ─────\n",
              "        ┌───┐\n",
              "qreg_1: ┤ X ├\n",
              "        └───┘\n",
              "creg: 1/═════\n",
              "             </pre>"
            ]
          },
          "metadata": {}
        },
        {
          "output_type": "stream",
          "name": "stdout",
          "text": [
            "{'0': 1000}\n",
            "Statevector([0.+0.j, 0.+0.j, 1.+0.j, 0.+0.j],\n",
            "            dims=(2, 2))\n"
          ]
        }
      ]
    },
    {
      "cell_type": "code",
      "source": [
        "exp_val_qiskit = np.dot(np.transpose(outputstate), outputstate1)\n",
        "print(exp_val_qiskit)"
      ],
      "metadata": {
        "colab": {
          "base_uri": "https://localhost:8080/"
        },
        "id": "8PnCk1BqJS76",
        "outputId": "146531ba-d787-4375-cb6c-1272f4d00282"
      },
      "execution_count": 81,
      "outputs": [
        {
          "output_type": "stream",
          "name": "stdout",
          "text": [
            "0j\n"
          ]
        }
      ]
    },
    {
      "cell_type": "code",
      "source": [
        "#Getting the product\n",
        "\n",
        "array = np.array([\n",
        "    [0.+0.j, 0.+0.j, 1.+0.j, 0.+0.j]\n",
        "\n",
        "])\n",
        "array1 = np.transpose(array)\n",
        "array2 = np.array([\n",
        "    [ 0.   +0.j   , -0.707-0.707j,  0.   +0.j   , -0.   +0.j   ]\n",
        "\n",
        "])\n",
        "\n",
        "product_value = np.dot(array1, array2)\n",
        "\n",
        "print(product_value)"
      ],
      "metadata": {
        "colab": {
          "base_uri": "https://localhost:8080/"
        },
        "id": "Mhnxs0qX9MS9",
        "outputId": "8bec7224-76a6-43e3-f510-516588f0e219"
      },
      "execution_count": 61,
      "outputs": [
        {
          "output_type": "stream",
          "name": "stdout",
          "text": [
            "[[ 0.   +0.j     0.   +0.j     0.   +0.j     0.   +0.j   ]\n",
            " [ 0.   +0.j     0.   +0.j     0.   +0.j     0.   +0.j   ]\n",
            " [ 0.   +0.j    -0.707-0.707j  0.   +0.j     0.   +0.j   ]\n",
            " [ 0.   +0.j     0.   +0.j     0.   +0.j     0.   +0.j   ]]\n"
          ]
        }
      ]
    },
    {
      "cell_type": "markdown",
      "source": [
        "Using QUIMB"
      ],
      "metadata": {
        "id": "nDELPOwvcH5O"
      }
    },
    {
      "cell_type": "code",
      "source": [
        "# def qft_rotations(circuit, qubits):\n",
        "#     for i in range(len(qubits)):\n",
        "#         circuit.apply_gate('H', qubits[i], 'contract', False)\n",
        "#         for j in range(i+1, len(qubits)):\n",
        "#             lamda = np.pi / 2**(j - i)\n",
        "#             circuit.apply_gate('CPHASE', lamda, qubits[i], qubits[j])\n",
        "\n",
        "from quimb.tensor.circuit import Circuit\n",
        "num_qubits = 2\n",
        "random_state = '10'\n",
        "#Encoding the states\n",
        "\n",
        "# #First let us create the circuit so that we can store the states in their particular order\n",
        "# qc = qtn.Circuit(num_qubits)\n",
        "# #Getting the registers\n",
        "# regs = list(range(num_qubits))\n",
        "# #Encoding the values\n",
        "# for i, number in enumerate(random_state):\n",
        "#   if number =='1':\n",
        "#     qc.apply_gate('X', regs[i])\n",
        "# # print(regs)\n",
        "\n",
        "# qc.psi.draw()\n",
        "# # Drawing the circuit\n",
        "# # qc.psi.to_dense()\n",
        "# depth = 1\n",
        "\n",
        "\n",
        "\n",
        "\n",
        "def circ_qft(num_qubits, random_state, depth,\n",
        "    **circuit_opts,\n",
        "):\n",
        "\n",
        "    circuit_opts.setdefault('gate_opts', {})\n",
        "    circuit_opts['gate_opts'].setdefault('contract', False)\n",
        "\n",
        "    n = num_qubits\n",
        "    gates = []\n",
        "    qubits=np.arange(n)\n",
        "    for i, number in enumerate(random_state):\n",
        "      if number == '1':\n",
        "            gates.append(('X', qubits[i]))\n",
        "\n",
        "    #QFT\n",
        "    for d in range(depth):\n",
        "        for i in range(num_qubits):\n",
        "            gates.append((d, 'h', i)) #H gate\n",
        "            for j in range(i+1, num_qubits):\n",
        "                lamda = np.pi / 2\n",
        "                gates.append((d, 'CPHASE', lamda, qubits[i], qubits[j]))#Cphase\n",
        "\n",
        "        for k in range(num_qubits//2):\n",
        "            gates.append((d, 'SWAP', qubits[k], qubits[len(qubits)-k-1]))\n",
        "\n",
        "\n",
        "\n",
        "\n",
        "\n",
        "\n",
        "    circ = Circuit(n, **circuit_opts)\n",
        "    circ.apply_gates(gates)\n",
        "\n",
        "\n",
        "    return circ\n",
        "\n",
        "# def circ_qft_reverse(num_qubits, random_state, depth,\n",
        "#     **circuit_opts,\n",
        "# ):\n",
        "\n",
        "#     circuit_opts.setdefault('gate_opts', {})\n",
        "#     circuit_opts['gate_opts'].setdefault('contract', False)\n",
        "\n",
        "#     n = num_qubits\n",
        "#     gates = []\n",
        "#     qubits=np.arange(n)\n",
        "#     for i, number in enumerate(random_state):\n",
        "#             gates.append(('X', qubits[i]))\n",
        "\n",
        "#     #QFT\n",
        "#     for d in range(depth):\n",
        "#         for i in range(num_qubits):\n",
        "#             for i in range(num_qubits//2):\n",
        "#                 gates.append((d, 'CNOT', qubits[i], qubits[len(qubits)-i-1]))\n",
        "#                 gates.append((d, 'CNOT', qubits[len(qubits)-i-1], qubits[i]))\n",
        "#                 gates.append((d, 'CNOT', qubits[i], qubits[len(qubits)-i-1]))\n",
        "\n",
        "#             for j in range(i+1, num_qubits):\n",
        "#                 lamda = np.pi / 2\n",
        "#                 gates.append((d, 'CPHASE', lamda, qubits[i], qubits[j]))#Cphase\n",
        "\n",
        "\n",
        "#             gates.append((d, 'h', i)) #H gate\n",
        "\n",
        "\n",
        "\n",
        "\n",
        "\n",
        "\n",
        "\n",
        "\n",
        "#     circ = Circuit(n, **circuit_opts)\n",
        "#     circ.apply_gates(gates)\n",
        "\n",
        "\n",
        "    # return circ\n",
        "\n",
        "qubits=np.arange(num_qubits)\n",
        "# for i in range(num_qubits//2):\n",
        "#    print(i, len(qubits)-i-1)\n",
        "\n",
        "#Applying the QFT\n",
        "n = num_qubits\n",
        "qubits = np.arange(n)\n",
        "qc= circ_qft(num_qubits, random_state, depth)\n",
        "\n",
        "\n",
        "# qc.psi.draw()\n",
        "\n",
        "#Applying the RZZ (theta = pi/2)\n",
        "\n",
        "# qc.apply_gate('RZZ', np.pi/2, qubits[0], qubits[1])\n",
        "\n",
        "qc.psi.draw()\n",
        "# #Applying the reverse QFT\n",
        "# qc = circ_qft_reverse(num_qubits, random_state, depth)\n",
        "\n",
        "#Get the statevector\n",
        "\n",
        "qc.psi.to_dense()\n",
        "\n",
        "\n",
        "\n"
      ],
      "metadata": {
        "colab": {
          "base_uri": "https://localhost:8080/",
          "height": 270
        },
        "id": "ooVxiKTmASSP",
        "outputId": "f9340a8f-ae92-46e4-b3d8-1667cbc72fcd"
      },
      "execution_count": 93,
      "outputs": [
        {
          "output_type": "display_data",
          "data": {
            "text/plain": [
              "<Figure size 600x600 with 1 Axes>"
            ],
            "image/svg+xml": "<?xml version=\"1.0\" encoding=\"utf-8\" standalone=\"no\"?>\n<!DOCTYPE svg PUBLIC \"-//W3C//DTD SVG 1.1//EN\"\n  \"http://www.w3.org/Graphics/SVG/1.1/DTD/svg11.dtd\">\n<svg xmlns:xlink=\"http://www.w3.org/1999/xlink\" width=\"361.487211pt\" height=\"134.601545pt\" viewBox=\"0 0 361.487211 134.601545\" xmlns=\"http://www.w3.org/2000/svg\" version=\"1.1\">\n <metadata>\n  <rdf:RDF xmlns:dc=\"http://purl.org/dc/elements/1.1/\" xmlns:cc=\"http://creativecommons.org/ns#\" xmlns:rdf=\"http://www.w3.org/1999/02/22-rdf-syntax-ns#\">\n   <cc:Work>\n    <dc:type rdf:resource=\"http://purl.org/dc/dcmitype/StillImage\"/>\n    <dc:date>2024-09-05T12:38:12.420630</dc:date>\n    <dc:format>image/svg+xml</dc:format>\n    <dc:creator>\n     <cc:Agent>\n      <dc:title>Matplotlib v3.7.1, https://matplotlib.org/</dc:title>\n     </cc:Agent>\n    </dc:creator>\n   </cc:Work>\n  </rdf:RDF>\n </metadata>\n <defs>\n  <style type=\"text/css\">*{stroke-linejoin: round; stroke-linecap: butt}</style>\n </defs>\n <g id=\"figure_1\">\n  <g id=\"patch_1\">\n   <path d=\"M 0 134.601545 \nL 361.487211 134.601545 \nL 361.487211 -0 \nL 0 -0 \nL 0 134.601545 \nz\n\" style=\"fill: none; opacity: 0\"/>\n  </g>\n  <g id=\"axes_1\">\n   <g id=\"line2d_1\">\n    <path d=\"M 63.944455 103.489109 \nL 71.528065 106.065923 \nL 66.232694 112.075096 \n\" clip-path=\"url(#pf58f403fa1)\" style=\"fill: none; stroke: #737880; stroke-opacity: 0.5; stroke-linecap: round\"/>\n   </g>\n   <g id=\"line2d_2\">\n    <path d=\"M 31.28125 116.792042 \nL 84.94367 102.49055 \n\" clip-path=\"url(#pf58f403fa1)\" style=\"fill: none; stroke: #737880; stroke-opacity: 0.5; stroke-linecap: round\"/>\n   </g>\n   <g id=\"line2d_3\">\n    <path d=\"M 125.033332 86.163 \nL 134.341187 89.325691 \nL 127.841836 96.701137 \n\" clip-path=\"url(#pf58f403fa1)\" style=\"fill: none; stroke: #737880; stroke-opacity: 0.5; stroke-linecap: round\"/>\n   </g>\n   <g id=\"line2d_4\">\n    <path d=\"M 84.94367 102.49055 \nL 150.807026 84.937405 \n\" clip-path=\"url(#pf58f403fa1)\" style=\"fill: none; stroke: #737880; stroke-opacity: 0.5; stroke-linecap: round\"/>\n   </g>\n   <g id=\"line2d_5\">\n    <path d=\"M 195.760317 66.629016 \nL 206.197389 70.175401 \nL 198.909545 78.445627 \n\" clip-path=\"url(#pf58f403fa1)\" style=\"fill: none; stroke: #737880; stroke-opacity: 0.5; stroke-linecap: round\"/>\n   </g>\n   <g id=\"line2d_6\">\n    <path d=\"M 150.807026 84.937405 \nL 224.660843 65.254733 \n\" clip-path=\"url(#pf58f403fa1)\" style=\"fill: none; stroke: #737880; stroke-opacity: 0.5; stroke-linecap: round\"/>\n   </g>\n   <g id=\"line2d_7\">\n    <path d=\"M 227.926212 85.924721 \nL 229.65349 78.14145 \nL 236.173711 82.729427 \n\" clip-path=\"url(#pf58f403fa1)\" style=\"fill: none; stroke: #737880; stroke-opacity: 0.5; stroke-linecap: round\"/>\n   </g>\n   <g id=\"line2d_8\">\n    <path d=\"M 244.631432 116.801601 \nL 224.660843 65.254733 \n\" clip-path=\"url(#pf58f403fa1)\" style=\"fill: none; stroke: #737880; stroke-opacity: 0.5; stroke-linecap: round\"/>\n   </g>\n   <g id=\"line2d_9\">\n    <path d=\"M 267.220542 47.921196 \nL 277.10188 51.27875 \nL 270.202085 59.108617 \n\" clip-path=\"url(#pf58f403fa1)\" style=\"fill: none; stroke: #737880; stroke-opacity: 0.5; stroke-linecap: round\"/>\n   </g>\n   <g id=\"line2d_10\">\n    <path d=\"M 224.660843 65.254733 \nL 294.582225 46.620089 \n\" clip-path=\"url(#pf58f403fa1)\" style=\"fill: none; stroke: #737880; stroke-opacity: 0.5; stroke-linecap: round\"/>\n   </g>\n   <g id=\"line2d_11\">\n    <path d=\"M 224.660843 65.254733 \nL 216.329382 10.605938 \n\" clip-path=\"url(#pf58f403fa1)\" style=\"fill: none; stroke: #737880; stroke-opacity: 0.5; stroke-linecap: round\"/>\n   </g>\n   <g id=\"line2d_12\">\n    <path d=\"M 294.582225 46.620089 \nL 350.072992 31.831326 \n\" clip-path=\"url(#pf58f403fa1)\" style=\"fill: none; stroke: #737880; stroke-opacity: 0.5; stroke-linecap: round\"/>\n   </g>\n   <g id=\"patch_2\">\n    <path d=\"M 216.329382 10.605938 \nC 216.329382 10.605938 216.329382 10.605938 216.329382 10.605938 \nC 216.329382 10.605938 216.329382 10.605938 216.329382 10.605938 \nC 216.329382 10.605938 216.329382 10.605938 216.329382 10.605938 \nC 216.329382 10.605938 216.329382 10.605938 216.329382 10.605938 \nC 216.329382 10.605938 216.329382 10.605938 216.329382 10.605938 \nC 216.329382 10.605938 216.329382 10.605938 216.329382 10.605938 \nC 216.329382 10.605938 216.329382 10.605938 216.329382 10.605938 \nC 216.329382 10.605938 216.329382 10.605938 216.329382 10.605938 \nz\n\" clip-path=\"url(#pf58f403fa1)\" style=\"fill: #ffffff\"/>\n   </g>\n   <g id=\"patch_3\">\n    <path d=\"M 350.072992 31.831326 \nC 350.072992 31.831326 350.072992 31.831326 350.072992 31.831326 \nC 350.072992 31.831326 350.072992 31.831326 350.072992 31.831326 \nC 350.072992 31.831326 350.072992 31.831326 350.072992 31.831326 \nC 350.072992 31.831326 350.072992 31.831326 350.072992 31.831326 \nC 350.072992 31.831326 350.072992 31.831326 350.072992 31.831326 \nC 350.072992 31.831326 350.072992 31.831326 350.072992 31.831326 \nC 350.072992 31.831326 350.072992 31.831326 350.072992 31.831326 \nC 350.072992 31.831326 350.072992 31.831326 350.072992 31.831326 \nz\n\" clip-path=\"url(#pf58f403fa1)\" style=\"fill: #ffffff\"/>\n   </g>\n   <g id=\"patch_4\">\n    <path d=\"M 31.28125 125.37709 \nC 33.558031 125.37709 35.741868 124.472515 37.351795 122.862587 \nC 38.961722 121.25266 39.866297 119.068824 39.866297 116.792042 \nC 39.866297 114.515261 38.961722 112.331425 37.351795 110.721497 \nC 35.741868 109.11157 33.558031 108.206995 31.28125 108.206995 \nC 29.004469 108.206995 26.820632 109.11157 25.210705 110.721497 \nC 23.600778 112.331425 22.696203 114.515261 22.696203 116.792042 \nC 22.696203 119.068824 23.600778 121.25266 25.210705 122.862587 \nC 26.820632 124.472515 29.004469 125.37709 31.28125 125.37709 \nz\n\" clip-path=\"url(#pf58f403fa1)\" style=\"fill: #737880; stroke: #5d6167; stroke-width: 1.542753; stroke-linejoin: miter\"/>\n   </g>\n   <g id=\"patch_5\">\n    <path d=\"M 244.631432 125.386649 \nC 246.908213 125.386649 249.092049 124.482074 250.701977 122.872146 \nC 252.311904 121.262219 253.216479 119.078383 253.216479 116.801601 \nC 253.216479 114.52482 252.311904 112.340984 250.701977 110.731056 \nC 249.092049 109.121129 246.908213 108.216554 244.631432 108.216554 \nC 242.35465 108.216554 240.170814 109.121129 238.560887 110.731056 \nC 236.950959 112.340984 236.046384 114.52482 236.046384 116.801601 \nC 236.046384 119.078383 236.950959 121.262219 238.560887 122.872146 \nC 240.170814 124.482074 242.35465 125.386649 244.631432 125.386649 \nz\n\" clip-path=\"url(#pf58f403fa1)\" style=\"fill: #737880; stroke: #5d6167; stroke-width: 1.542753; stroke-linejoin: miter\"/>\n   </g>\n   <g id=\"patch_6\">\n    <path d=\"M 84.94367 111.075597 \nC 87.220451 111.075597 89.404288 110.171023 91.014215 108.561095 \nC 92.624142 106.951168 93.528717 104.767331 93.528717 102.49055 \nC 93.528717 100.213769 92.624142 98.029932 91.014215 96.420005 \nC 89.404288 94.810078 87.220451 93.905503 84.94367 93.905503 \nC 82.666889 93.905503 80.483052 94.810078 78.873125 96.420005 \nC 77.263198 98.029932 76.358623 100.213769 76.358623 102.49055 \nC 76.358623 104.767331 77.263198 106.951168 78.873125 108.561095 \nC 80.483052 110.171023 82.666889 111.075597 84.94367 111.075597 \nz\n\" clip-path=\"url(#pf58f403fa1)\" style=\"fill: #737880; stroke: #5d6167; stroke-width: 1.542753; stroke-linejoin: miter\"/>\n   </g>\n   <g id=\"patch_7\">\n    <path d=\"M 150.807026 93.522452 \nC 153.083807 93.522452 155.267643 92.617877 156.877571 91.00795 \nC 158.487498 89.398022 159.392073 87.214186 159.392073 84.937405 \nC 159.392073 82.660623 158.487498 80.476787 156.877571 78.866859 \nC 155.267643 77.256932 153.083807 76.352357 150.807026 76.352357 \nC 148.530245 76.352357 146.346408 77.256932 144.736481 78.866859 \nC 143.126553 80.476787 142.221979 82.660623 142.221979 84.937405 \nC 142.221979 87.214186 143.126553 89.398022 144.736481 91.00795 \nC 146.346408 92.617877 148.530245 93.522452 150.807026 93.522452 \nz\n\" clip-path=\"url(#pf58f403fa1)\" style=\"fill: #737880; stroke: #5d6167; stroke-width: 1.542753; stroke-linejoin: miter\"/>\n   </g>\n   <g id=\"patch_8\">\n    <path d=\"M 224.660843 73.83978 \nC 226.937625 73.83978 229.121461 72.935205 230.731388 71.325278 \nC 232.341316 69.71535 233.245891 67.531514 233.245891 65.254733 \nC 233.245891 62.977952 232.341316 60.794115 230.731388 59.184188 \nC 229.121461 57.57426 226.937625 56.669686 224.660843 56.669686 \nC 222.384062 56.669686 220.200226 57.57426 218.590298 59.184188 \nC 216.980371 60.794115 216.075796 62.977952 216.075796 65.254733 \nC 216.075796 67.531514 216.980371 69.71535 218.590298 71.325278 \nC 220.200226 72.935205 222.384062 73.83978 224.660843 73.83978 \nz\n\" clip-path=\"url(#pf58f403fa1)\" style=\"fill: #737880; stroke: #5d6167; stroke-width: 1.542753; stroke-linejoin: miter\"/>\n   </g>\n   <g id=\"patch_9\">\n    <path d=\"M 294.582225 55.205136 \nC 296.859006 55.205136 299.042843 54.300561 300.65277 52.690634 \nC 302.262698 51.080706 303.167272 48.89687 303.167272 46.620089 \nC 303.167272 44.343307 302.262698 42.159471 300.65277 40.549544 \nC 299.042843 38.939616 296.859006 38.035041 294.582225 38.035041 \nC 292.305444 38.035041 290.121607 38.939616 288.51168 40.549544 \nC 286.901753 42.159471 285.997178 44.343307 285.997178 46.620089 \nC 285.997178 48.89687 286.901753 51.080706 288.51168 52.690634 \nC 290.121607 54.300561 292.305444 55.205136 294.582225 55.205136 \nz\n\" clip-path=\"url(#pf58f403fa1)\" style=\"fill: #737880; stroke: #5d6167; stroke-width: 1.542753; stroke-linejoin: miter\"/>\n   </g>\n   <g id=\"text_1\">\n    <!-- k1 -->\n    <g style=\"fill: #545759\" transform=\"translate(212.115163 12.556094) scale(0.07 -0.07)\">\n     <defs>\n      <path id=\"DejaVuSansMono-6b\" d=\"M 738 4863 \nL 1331 4863 \nL 1331 2047 \nL 2841 3500 \nL 3541 3500 \nL 2163 2181 \nL 3756 0 \nL 3053 0 \nL 1759 1806 \nL 1331 1403 \nL 1331 0 \nL 738 0 \nL 738 4863 \nz\n\" transform=\"scale(0.015625)\"/>\n      <path id=\"DejaVuSansMono-31\" d=\"M 844 531 \nL 1825 531 \nL 1825 4097 \nL 769 3859 \nL 769 4434 \nL 1819 4666 \nL 2450 4666 \nL 2450 531 \nL 3419 531 \nL 3419 0 \nL 844 0 \nL 844 531 \nz\n\" transform=\"scale(0.015625)\"/>\n     </defs>\n     <use xlink:href=\"#DejaVuSansMono-6b\"/>\n     <use xlink:href=\"#DejaVuSansMono-31\" x=\"60.205078\"/>\n    </g>\n   </g>\n   <g id=\"text_2\">\n    <!-- k0 -->\n    <g style=\"fill: #545759\" transform=\"translate(345.858774 33.781482) scale(0.07 -0.07)\">\n     <defs>\n      <path id=\"DejaVuSansMono-30\" d=\"M 1509 2344 \nQ 1509 2516 1629 2641 \nQ 1750 2766 1919 2766 \nQ 2094 2766 2219 2641 \nQ 2344 2516 2344 2344 \nQ 2344 2169 2220 2047 \nQ 2097 1925 1919 1925 \nQ 1744 1925 1626 2044 \nQ 1509 2163 1509 2344 \nz\nM 1925 4250 \nQ 1484 4250 1267 3775 \nQ 1050 3300 1050 2328 \nQ 1050 1359 1267 884 \nQ 1484 409 1925 409 \nQ 2369 409 2586 884 \nQ 2803 1359 2803 2328 \nQ 2803 3300 2586 3775 \nQ 2369 4250 1925 4250 \nz\nM 1925 4750 \nQ 2672 4750 3055 4137 \nQ 3438 3525 3438 2328 \nQ 3438 1134 3055 521 \nQ 2672 -91 1925 -91 \nQ 1178 -91 797 521 \nQ 416 1134 416 2328 \nQ 416 3525 797 4137 \nQ 1178 4750 1925 4750 \nz\n\" transform=\"scale(0.015625)\"/>\n     </defs>\n     <use xlink:href=\"#DejaVuSansMono-6b\"/>\n     <use xlink:href=\"#DejaVuSansMono-30\" x=\"60.205078\"/>\n    </g>\n   </g>\n   <g id=\"text_3\">\n    <!-- I0, PSI0 -->\n    <g style=\"fill: #545759\" transform=\"translate(7.2 119.57798) scale(0.1 -0.1)\">\n     <defs>\n      <path id=\"DejaVuSansMono-49\" d=\"M 628 4666 \nL 3219 4666 \nL 3219 4134 \nL 2241 4134 \nL 2241 531 \nL 3219 531 \nL 3219 0 \nL 628 0 \nL 628 531 \nL 1606 531 \nL 1606 4134 \nL 628 4134 \nL 628 4666 \nz\n\" transform=\"scale(0.015625)\"/>\n      <path id=\"DejaVuSansMono-2c\" d=\"M 1569 947 \nL 2356 947 \nL 2356 300 \nL 1741 -897 \nL 1259 -897 \nL 1569 300 \nL 1569 947 \nz\n\" transform=\"scale(0.015625)\"/>\n      <path id=\"DejaVuSansMono-20\" transform=\"scale(0.015625)\"/>\n      <path id=\"DejaVuSansMono-50\" d=\"M 1247 4147 \nL 1247 2394 \nL 1978 2394 \nQ 2416 2394 2661 2625 \nQ 2906 2856 2906 3272 \nQ 2906 3688 2662 3917 \nQ 2419 4147 1978 4147 \nL 1247 4147 \nz\nM 616 4666 \nL 1978 4666 \nQ 2759 4666 3162 4311 \nQ 3566 3956 3566 3272 \nQ 3566 2581 3164 2228 \nQ 2763 1875 1978 1875 \nL 1247 1875 \nL 1247 0 \nL 616 0 \nL 616 4666 \nz\n\" transform=\"scale(0.015625)\"/>\n      <path id=\"DejaVuSansMono-53\" d=\"M 3163 4506 \nL 3163 3866 \nQ 2875 4050 2586 4144 \nQ 2297 4238 2003 4238 \nQ 1556 4238 1297 4030 \nQ 1038 3822 1038 3469 \nQ 1038 3159 1208 2996 \nQ 1378 2834 1844 2725 \nL 2175 2650 \nQ 2831 2497 3131 2169 \nQ 3431 1841 3431 1275 \nQ 3431 609 3018 259 \nQ 2606 -91 1819 -91 \nQ 1491 -91 1159 -20 \nQ 828 50 494 191 \nL 494 863 \nQ 853 634 1173 528 \nQ 1494 422 1819 422 \nQ 2297 422 2562 636 \nQ 2828 850 2828 1234 \nQ 2828 1584 2645 1768 \nQ 2463 1953 2009 2053 \nL 1672 2131 \nQ 1022 2278 728 2575 \nQ 434 2872 434 3372 \nQ 434 3997 854 4373 \nQ 1275 4750 1972 4750 \nQ 2241 4750 2537 4689 \nQ 2834 4628 3163 4506 \nz\n\" transform=\"scale(0.015625)\"/>\n     </defs>\n     <use xlink:href=\"#DejaVuSansMono-49\"/>\n     <use xlink:href=\"#DejaVuSansMono-30\" x=\"60.205078\"/>\n     <use xlink:href=\"#DejaVuSansMono-2c\" x=\"120.410156\"/>\n     <use xlink:href=\"#DejaVuSansMono-20\" x=\"180.615234\"/>\n     <use xlink:href=\"#DejaVuSansMono-50\" x=\"240.820312\"/>\n     <use xlink:href=\"#DejaVuSansMono-53\" x=\"301.025391\"/>\n     <use xlink:href=\"#DejaVuSansMono-49\" x=\"361.230469\"/>\n     <use xlink:href=\"#DejaVuSansMono-30\" x=\"421.435547\"/>\n    </g>\n   </g>\n   <g id=\"text_4\">\n    <!-- I1, PSI0 -->\n    <g style=\"fill: #545759\" transform=\"translate(220.550182 119.587539) scale(0.1 -0.1)\">\n     <use xlink:href=\"#DejaVuSansMono-49\"/>\n     <use xlink:href=\"#DejaVuSansMono-31\" x=\"60.205078\"/>\n     <use xlink:href=\"#DejaVuSansMono-2c\" x=\"120.410156\"/>\n     <use xlink:href=\"#DejaVuSansMono-20\" x=\"180.615234\"/>\n     <use xlink:href=\"#DejaVuSansMono-50\" x=\"240.820312\"/>\n     <use xlink:href=\"#DejaVuSansMono-53\" x=\"301.025391\"/>\n     <use xlink:href=\"#DejaVuSansMono-49\" x=\"361.230469\"/>\n     <use xlink:href=\"#DejaVuSansMono-30\" x=\"421.435547\"/>\n    </g>\n   </g>\n   <g id=\"text_5\">\n    <!-- GATE_0, X, I0 -->\n    <g style=\"fill: #545759\" transform=\"translate(45.811639 105.022581) scale(0.1 -0.1)\">\n     <defs>\n      <path id=\"DejaVuSansMono-47\" d=\"M 3450 384 \nQ 3197 150 2880 29 \nQ 2563 -91 2194 -91 \nQ 1306 -91 812 545 \nQ 319 1181 319 2328 \nQ 319 3472 819 4111 \nQ 1319 4750 2209 4750 \nQ 2503 4750 2772 4667 \nQ 3041 4584 3291 4416 \nL 3291 3769 \nQ 3038 4009 2772 4123 \nQ 2506 4238 2209 4238 \nQ 1594 4238 1286 3761 \nQ 978 3284 978 2328 \nQ 978 1356 1276 889 \nQ 1575 422 2194 422 \nQ 2403 422 2561 470 \nQ 2719 519 2847 622 \nL 2847 1875 \nL 2169 1875 \nL 2169 2394 \nL 3450 2394 \nL 3450 384 \nz\n\" transform=\"scale(0.015625)\"/>\n      <path id=\"DejaVuSansMono-41\" d=\"M 1925 4109 \nL 1259 1722 \nL 2591 1722 \nL 1925 4109 \nz\nM 1544 4666 \nL 2309 4666 \nL 3738 0 \nL 3084 0 \nL 2741 1216 \nL 1106 1216 \nL 769 0 \nL 116 0 \nL 1544 4666 \nz\n\" transform=\"scale(0.015625)\"/>\n      <path id=\"DejaVuSansMono-54\" d=\"M 147 4666 \nL 3706 4666 \nL 3706 4134 \nL 2247 4134 \nL 2247 0 \nL 1613 0 \nL 1613 4134 \nL 147 4134 \nL 147 4666 \nz\n\" transform=\"scale(0.015625)\"/>\n      <path id=\"DejaVuSansMono-45\" d=\"M 616 4666 \nL 3384 4666 \nL 3384 4134 \nL 1247 4134 \nL 1247 2753 \nL 3291 2753 \nL 3291 2222 \nL 1247 2222 \nL 1247 531 \nL 3444 531 \nL 3444 0 \nL 616 0 \nL 616 4666 \nz\n\" transform=\"scale(0.015625)\"/>\n      <path id=\"DejaVuSansMono-5f\" d=\"M 3853 -1259 \nL 3853 -1509 \nL 0 -1509 \nL 0 -1259 \nL 3853 -1259 \nz\n\" transform=\"scale(0.015625)\"/>\n      <path id=\"DejaVuSansMono-58\" d=\"M 269 4666 \nL 947 4666 \nL 1972 2906 \nL 3016 4666 \nL 3694 4666 \nL 2297 2472 \nL 3794 0 \nL 3116 0 \nL 1972 2009 \nL 738 0 \nL 56 0 \nL 1619 2472 \nL 269 4666 \nz\n\" transform=\"scale(0.015625)\"/>\n     </defs>\n     <use xlink:href=\"#DejaVuSansMono-47\"/>\n     <use xlink:href=\"#DejaVuSansMono-41\" x=\"60.205078\"/>\n     <use xlink:href=\"#DejaVuSansMono-54\" x=\"120.410156\"/>\n     <use xlink:href=\"#DejaVuSansMono-45\" x=\"180.615234\"/>\n     <use xlink:href=\"#DejaVuSansMono-5f\" x=\"240.820312\"/>\n     <use xlink:href=\"#DejaVuSansMono-30\" x=\"301.025391\"/>\n     <use xlink:href=\"#DejaVuSansMono-2c\" x=\"361.230469\"/>\n     <use xlink:href=\"#DejaVuSansMono-20\" x=\"421.435547\"/>\n     <use xlink:href=\"#DejaVuSansMono-58\" x=\"481.640625\"/>\n     <use xlink:href=\"#DejaVuSansMono-2c\" x=\"541.845703\"/>\n     <use xlink:href=\"#DejaVuSansMono-20\" x=\"602.050781\"/>\n     <use xlink:href=\"#DejaVuSansMono-49\" x=\"662.255859\"/>\n     <use xlink:href=\"#DejaVuSansMono-30\" x=\"722.460938\"/>\n    </g>\n   </g>\n   <g id=\"text_6\">\n    <!-- GATE_1, ROUND_0, -->\n    <g style=\"fill: #545759\" transform=\"translate(102.644526 81.838655) scale(0.1 -0.1)\">\n     <defs>\n      <path id=\"DejaVuSansMono-52\" d=\"M 2375 2203 \nQ 2619 2141 2791 1967 \nQ 2963 1794 3219 1275 \nL 3853 0 \nL 3175 0 \nL 2619 1178 \nQ 2378 1681 2186 1826 \nQ 1994 1972 1684 1972 \nL 1081 1972 \nL 1081 0 \nL 447 0 \nL 447 4666 \nL 1747 4666 \nQ 2516 4666 2925 4319 \nQ 3334 3972 3334 3316 \nQ 3334 2853 3082 2561 \nQ 2831 2269 2375 2203 \nz\nM 1081 4147 \nL 1081 2491 \nL 1772 2491 \nQ 2225 2491 2447 2694 \nQ 2669 2897 2669 3316 \nQ 2669 3719 2433 3933 \nQ 2197 4147 1747 4147 \nL 1081 4147 \nz\n\" transform=\"scale(0.015625)\"/>\n      <path id=\"DejaVuSansMono-4f\" d=\"M 2828 2328 \nQ 2828 3356 2617 3797 \nQ 2406 4238 1925 4238 \nQ 1447 4238 1236 3797 \nQ 1025 3356 1025 2328 \nQ 1025 1303 1236 862 \nQ 1447 422 1925 422 \nQ 2406 422 2617 861 \nQ 2828 1300 2828 2328 \nz\nM 3488 2328 \nQ 3488 1109 3102 509 \nQ 2716 -91 1925 -91 \nQ 1134 -91 750 506 \nQ 366 1103 366 2328 \nQ 366 3550 752 4150 \nQ 1138 4750 1925 4750 \nQ 2716 4750 3102 4150 \nQ 3488 3550 3488 2328 \nz\n\" transform=\"scale(0.015625)\"/>\n      <path id=\"DejaVuSansMono-55\" d=\"M 459 1791 \nL 459 4666 \nL 1094 4666 \nL 1094 1503 \nQ 1094 1163 1112 1017 \nQ 1131 872 1178 794 \nQ 1278 609 1467 515 \nQ 1656 422 1925 422 \nQ 2197 422 2384 515 \nQ 2572 609 2675 794 \nQ 2722 872 2740 1015 \nQ 2759 1159 2759 1497 \nL 2759 4666 \nL 3391 4666 \nL 3391 1791 \nQ 3391 1075 3302 773 \nQ 3213 472 2994 275 \nQ 2788 91 2522 0 \nQ 2256 -91 1925 -91 \nQ 1597 -91 1331 0 \nQ 1066 91 856 275 \nQ 641 469 550 776 \nQ 459 1084 459 1791 \nz\n\" transform=\"scale(0.015625)\"/>\n      <path id=\"DejaVuSansMono-4e\" d=\"M 434 4666 \nL 1234 4666 \nL 2809 825 \nL 2809 4666 \nL 3419 4666 \nL 3419 0 \nL 2619 0 \nL 1044 3841 \nL 1044 0 \nL 434 0 \nL 434 4666 \nz\n\" transform=\"scale(0.015625)\"/>\n      <path id=\"DejaVuSansMono-44\" d=\"M 1363 519 \nQ 2159 519 2475 911 \nQ 2791 1303 2791 2328 \nQ 2791 3363 2477 3755 \nQ 2163 4147 1363 4147 \nL 1063 4147 \nL 1063 519 \nL 1363 519 \nz\nM 1375 4666 \nQ 2444 4666 2950 4097 \nQ 3456 3528 3456 2328 \nQ 3456 1134 2950 567 \nQ 2444 0 1375 0 \nL 428 0 \nL 428 4666 \nL 1375 4666 \nz\n\" transform=\"scale(0.015625)\"/>\n     </defs>\n     <use xlink:href=\"#DejaVuSansMono-47\"/>\n     <use xlink:href=\"#DejaVuSansMono-41\" x=\"60.205078\"/>\n     <use xlink:href=\"#DejaVuSansMono-54\" x=\"120.410156\"/>\n     <use xlink:href=\"#DejaVuSansMono-45\" x=\"180.615234\"/>\n     <use xlink:href=\"#DejaVuSansMono-5f\" x=\"240.820312\"/>\n     <use xlink:href=\"#DejaVuSansMono-31\" x=\"301.025391\"/>\n     <use xlink:href=\"#DejaVuSansMono-2c\" x=\"361.230469\"/>\n     <use xlink:href=\"#DejaVuSansMono-20\" x=\"421.435547\"/>\n     <use xlink:href=\"#DejaVuSansMono-52\" x=\"481.640625\"/>\n     <use xlink:href=\"#DejaVuSansMono-4f\" x=\"541.845703\"/>\n     <use xlink:href=\"#DejaVuSansMono-55\" x=\"602.050781\"/>\n     <use xlink:href=\"#DejaVuSansMono-4e\" x=\"662.255859\"/>\n     <use xlink:href=\"#DejaVuSansMono-44\" x=\"722.460938\"/>\n     <use xlink:href=\"#DejaVuSansMono-5f\" x=\"782.666016\"/>\n     <use xlink:href=\"#DejaVuSansMono-30\" x=\"842.871094\"/>\n     <use xlink:href=\"#DejaVuSansMono-2c\" x=\"903.076172\"/>\n    </g>\n    <!-- H, I0 -->\n    <g style=\"fill: #545759\" transform=\"translate(135.756244 93.378342) scale(0.1 -0.1)\">\n     <defs>\n      <path id=\"DejaVuSansMono-48\" d=\"M 428 4666 \nL 1063 4666 \nL 1063 2753 \nL 2791 2753 \nL 2791 4666 \nL 3425 4666 \nL 3425 0 \nL 2791 0 \nL 2791 2222 \nL 1063 2222 \nL 1063 0 \nL 428 0 \nL 428 4666 \nz\n\" transform=\"scale(0.015625)\"/>\n     </defs>\n     <use xlink:href=\"#DejaVuSansMono-48\"/>\n     <use xlink:href=\"#DejaVuSansMono-2c\" x=\"60.205078\"/>\n     <use xlink:href=\"#DejaVuSansMono-20\" x=\"120.410156\"/>\n     <use xlink:href=\"#DejaVuSansMono-49\" x=\"180.615234\"/>\n     <use xlink:href=\"#DejaVuSansMono-30\" x=\"240.820312\"/>\n    </g>\n   </g>\n   <g id=\"text_7\">\n    <!-- GATE_2, ROUND_0, -->\n    <g style=\"fill: #545759\" transform=\"translate(176.498343 62.155983) scale(0.1 -0.1)\">\n     <defs>\n      <path id=\"DejaVuSansMono-32\" d=\"M 1166 531 \nL 3309 531 \nL 3309 0 \nL 475 0 \nL 475 531 \nQ 1059 1147 1496 1619 \nQ 1934 2091 2100 2284 \nQ 2413 2666 2522 2902 \nQ 2631 3138 2631 3384 \nQ 2631 3775 2401 3997 \nQ 2172 4219 1772 4219 \nQ 1488 4219 1175 4116 \nQ 863 4013 513 3803 \nL 513 4441 \nQ 834 4594 1145 4672 \nQ 1456 4750 1759 4750 \nQ 2444 4750 2861 4386 \nQ 3278 4022 3278 3431 \nQ 3278 3131 3139 2831 \nQ 3000 2531 2688 2169 \nQ 2513 1966 2180 1606 \nQ 1847 1247 1166 531 \nz\n\" transform=\"scale(0.015625)\"/>\n     </defs>\n     <use xlink:href=\"#DejaVuSansMono-47\"/>\n     <use xlink:href=\"#DejaVuSansMono-41\" x=\"60.205078\"/>\n     <use xlink:href=\"#DejaVuSansMono-54\" x=\"120.410156\"/>\n     <use xlink:href=\"#DejaVuSansMono-45\" x=\"180.615234\"/>\n     <use xlink:href=\"#DejaVuSansMono-5f\" x=\"240.820312\"/>\n     <use xlink:href=\"#DejaVuSansMono-32\" x=\"301.025391\"/>\n     <use xlink:href=\"#DejaVuSansMono-2c\" x=\"361.230469\"/>\n     <use xlink:href=\"#DejaVuSansMono-20\" x=\"421.435547\"/>\n     <use xlink:href=\"#DejaVuSansMono-52\" x=\"481.640625\"/>\n     <use xlink:href=\"#DejaVuSansMono-4f\" x=\"541.845703\"/>\n     <use xlink:href=\"#DejaVuSansMono-55\" x=\"602.050781\"/>\n     <use xlink:href=\"#DejaVuSansMono-4e\" x=\"662.255859\"/>\n     <use xlink:href=\"#DejaVuSansMono-44\" x=\"722.460938\"/>\n     <use xlink:href=\"#DejaVuSansMono-5f\" x=\"782.666016\"/>\n     <use xlink:href=\"#DejaVuSansMono-30\" x=\"842.871094\"/>\n     <use xlink:href=\"#DejaVuSansMono-2c\" x=\"903.076172\"/>\n    </g>\n    <!-- CPHASE, I0, I1 -->\n    <g style=\"fill: #545759\" transform=\"translate(182.518656 73.69567) scale(0.1 -0.1)\">\n     <defs>\n      <path id=\"DejaVuSansMono-43\" d=\"M 3353 166 \nQ 3113 38 2859 -26 \nQ 2606 -91 2322 -91 \nQ 1425 -91 929 543 \nQ 434 1178 434 2328 \nQ 434 3472 932 4111 \nQ 1431 4750 2322 4750 \nQ 2606 4750 2859 4686 \nQ 3113 4622 3353 4494 \nL 3353 3847 \nQ 3122 4038 2856 4138 \nQ 2591 4238 2322 4238 \nQ 1706 4238 1400 3763 \nQ 1094 3288 1094 2328 \nQ 1094 1372 1400 897 \nQ 1706 422 2322 422 \nQ 2597 422 2861 522 \nQ 3125 622 3353 813 \nL 3353 166 \nz\n\" transform=\"scale(0.015625)\"/>\n     </defs>\n     <use xlink:href=\"#DejaVuSansMono-43\"/>\n     <use xlink:href=\"#DejaVuSansMono-50\" x=\"60.205078\"/>\n     <use xlink:href=\"#DejaVuSansMono-48\" x=\"120.410156\"/>\n     <use xlink:href=\"#DejaVuSansMono-41\" x=\"180.615234\"/>\n     <use xlink:href=\"#DejaVuSansMono-53\" x=\"240.820312\"/>\n     <use xlink:href=\"#DejaVuSansMono-45\" x=\"301.025391\"/>\n     <use xlink:href=\"#DejaVuSansMono-2c\" x=\"361.230469\"/>\n     <use xlink:href=\"#DejaVuSansMono-20\" x=\"421.435547\"/>\n     <use xlink:href=\"#DejaVuSansMono-49\" x=\"481.640625\"/>\n     <use xlink:href=\"#DejaVuSansMono-30\" x=\"541.845703\"/>\n     <use xlink:href=\"#DejaVuSansMono-2c\" x=\"602.050781\"/>\n     <use xlink:href=\"#DejaVuSansMono-20\" x=\"662.255859\"/>\n     <use xlink:href=\"#DejaVuSansMono-49\" x=\"722.460938\"/>\n     <use xlink:href=\"#DejaVuSansMono-31\" x=\"782.666016\"/>\n    </g>\n   </g>\n   <g id=\"text_8\">\n    <!-- GATE_3, ROUND_0, -->\n    <g style=\"fill: #545759\" transform=\"translate(246.419725 43.521339) scale(0.1 -0.1)\">\n     <defs>\n      <path id=\"DejaVuSansMono-33\" d=\"M 2425 2497 \nQ 2884 2375 3128 2064 \nQ 3372 1753 3372 1288 \nQ 3372 644 2939 276 \nQ 2506 -91 1741 -91 \nQ 1419 -91 1084 -31 \nQ 750 28 428 141 \nL 428 769 \nQ 747 603 1056 522 \nQ 1366 441 1672 441 \nQ 2191 441 2469 675 \nQ 2747 909 2747 1350 \nQ 2747 1756 2469 1995 \nQ 2191 2234 1716 2234 \nL 1234 2234 \nL 1234 2753 \nL 1716 2753 \nQ 2150 2753 2394 2943 \nQ 2638 3134 2638 3475 \nQ 2638 3834 2411 4026 \nQ 2184 4219 1766 4219 \nQ 1488 4219 1191 4156 \nQ 894 4094 569 3969 \nL 569 4550 \nQ 947 4650 1242 4700 \nQ 1538 4750 1766 4750 \nQ 2447 4750 2855 4408 \nQ 3263 4066 3263 3500 \nQ 3263 3116 3048 2859 \nQ 2834 2603 2425 2497 \nz\n\" transform=\"scale(0.015625)\"/>\n     </defs>\n     <use xlink:href=\"#DejaVuSansMono-47\"/>\n     <use xlink:href=\"#DejaVuSansMono-41\" x=\"60.205078\"/>\n     <use xlink:href=\"#DejaVuSansMono-54\" x=\"120.410156\"/>\n     <use xlink:href=\"#DejaVuSansMono-45\" x=\"180.615234\"/>\n     <use xlink:href=\"#DejaVuSansMono-5f\" x=\"240.820312\"/>\n     <use xlink:href=\"#DejaVuSansMono-33\" x=\"301.025391\"/>\n     <use xlink:href=\"#DejaVuSansMono-2c\" x=\"361.230469\"/>\n     <use xlink:href=\"#DejaVuSansMono-20\" x=\"421.435547\"/>\n     <use xlink:href=\"#DejaVuSansMono-52\" x=\"481.640625\"/>\n     <use xlink:href=\"#DejaVuSansMono-4f\" x=\"541.845703\"/>\n     <use xlink:href=\"#DejaVuSansMono-55\" x=\"602.050781\"/>\n     <use xlink:href=\"#DejaVuSansMono-4e\" x=\"662.255859\"/>\n     <use xlink:href=\"#DejaVuSansMono-44\" x=\"722.460938\"/>\n     <use xlink:href=\"#DejaVuSansMono-5f\" x=\"782.666016\"/>\n     <use xlink:href=\"#DejaVuSansMono-30\" x=\"842.871094\"/>\n     <use xlink:href=\"#DejaVuSansMono-2c\" x=\"903.076172\"/>\n    </g>\n    <!-- H, I1 -->\n    <g style=\"fill: #545759\" transform=\"translate(279.531444 55.061026) scale(0.1 -0.1)\">\n     <use xlink:href=\"#DejaVuSansMono-48\"/>\n     <use xlink:href=\"#DejaVuSansMono-2c\" x=\"60.205078\"/>\n     <use xlink:href=\"#DejaVuSansMono-20\" x=\"120.410156\"/>\n     <use xlink:href=\"#DejaVuSansMono-49\" x=\"180.615234\"/>\n     <use xlink:href=\"#DejaVuSansMono-31\" x=\"240.820312\"/>\n    </g>\n   </g>\n  </g>\n </g>\n <defs>\n  <clipPath id=\"pf58f403fa1\">\n   <rect x=\"18.555345\" y=\"9.449545\" width=\"334.8\" height=\"117.952\"/>\n  </clipPath>\n </defs>\n</svg>\n"
          },
          "metadata": {
            "needs_background": "light"
          }
        },
        {
          "output_type": "execute_result",
          "data": {
            "text/plain": [
              "array([[ 0.5+0.j],\n",
              "       [-0.5+0.j],\n",
              "       [ 0.5+0.j],\n",
              "       [-0.5+0.j]])"
            ]
          },
          "metadata": {},
          "execution_count": 93
        }
      ]
    },
    {
      "cell_type": "code",
      "source": [
        "#Encode the basis state '10' and get the state vector\n",
        "num_qubits = 2\n",
        "random_state = '10'\n",
        "qc_new = qtn.Circuit(num_qubits)\n",
        "#Getting the registers\n",
        "regs = list(range(num_qubits))\n",
        "#Encoding the values\n",
        "for i, number in enumerate(random_state):\n",
        "  if number =='1':\n",
        "    qc_new.apply_gate('X', regs[i])\n",
        "# print(regs)\n",
        "\n",
        "qc_new.psi.draw()\n",
        "# Drawing the circuit\n",
        "qc_new.psi.to_dense()"
      ],
      "metadata": {
        "colab": {
          "base_uri": "https://localhost:8080/",
          "height": 159
        },
        "id": "0x50QKZUhEOv",
        "outputId": "38cf026b-6fc8-4f6a-a8b7-d02a5b31299c"
      },
      "execution_count": 70,
      "outputs": [
        {
          "output_type": "display_data",
          "data": {
            "text/plain": [
              "<Figure size 600x600 with 1 Axes>"
            ],
            "image/svg+xml": "<?xml version=\"1.0\" encoding=\"utf-8\" standalone=\"no\"?>\n<!DOCTYPE svg PUBLIC \"-//W3C//DTD SVG 1.1//EN\"\n  \"http://www.w3.org/Graphics/SVG/1.1/DTD/svg11.dtd\">\n<svg xmlns:xlink=\"http://www.w3.org/1999/xlink\" width=\"376.862268pt\" height=\"51.054503pt\" viewBox=\"0 0 376.862268 51.054503\" xmlns=\"http://www.w3.org/2000/svg\" version=\"1.1\">\n <metadata>\n  <rdf:RDF xmlns:dc=\"http://purl.org/dc/elements/1.1/\" xmlns:cc=\"http://creativecommons.org/ns#\" xmlns:rdf=\"http://www.w3.org/1999/02/22-rdf-syntax-ns#\">\n   <cc:Work>\n    <dc:type rdf:resource=\"http://purl.org/dc/dcmitype/StillImage\"/>\n    <dc:date>2024-09-05T12:20:18.880926</dc:date>\n    <dc:format>image/svg+xml</dc:format>\n    <dc:creator>\n     <cc:Agent>\n      <dc:title>Matplotlib v3.7.1, https://matplotlib.org/</dc:title>\n     </cc:Agent>\n    </dc:creator>\n   </cc:Work>\n  </rdf:RDF>\n </metadata>\n <defs>\n  <style type=\"text/css\">*{stroke-linejoin: round; stroke-linecap: butt}</style>\n </defs>\n <g id=\"figure_1\">\n  <g id=\"patch_1\">\n   <path d=\"M 0 51.054503 \nL 376.862268 51.054503 \nL 376.862268 0 \nL 0 0 \nL 0 51.054503 \nz\n\" style=\"fill: none; opacity: 0\"/>\n  </g>\n  <g id=\"axes_1\">\n   <g id=\"line2d_1\">\n    <path d=\"M 31.28125 21.812752 \nL 31.435591 27.852509 \n\" clip-path=\"url(#pc9deb413dc)\" style=\"fill: none; stroke: #737880; stroke-opacity: 0.5; stroke-linecap: round\"/>\n   </g>\n   <g id=\"line2d_2\">\n    <path d=\"M 330.155593 24.932596 \nL 330.650116 24.066136 \nL 331.259724 24.855873 \n\" clip-path=\"url(#pc9deb413dc)\" style=\"fill: none; stroke: #737880; stroke-opacity: 0.5; stroke-linecap: round\"/>\n   </g>\n   <g id=\"line2d_3\">\n    <path d=\"M 331.009756 29.241751 \nL 330.530236 22.340931 \n\" clip-path=\"url(#pc9deb413dc)\" style=\"fill: none; stroke: #737880; stroke-opacity: 0.5; stroke-linecap: round\"/>\n   </g>\n   <g id=\"line2d_4\">\n    <path d=\"M 330.530236 22.340931 \nL 330.372149 15.426796 \n\" clip-path=\"url(#pc9deb413dc)\" style=\"fill: none; stroke: #737880; stroke-opacity: 0.5; stroke-linecap: round\"/>\n   </g>\n   <g id=\"patch_2\">\n    <path d=\"M 31.435591 27.852509 \nC 31.435591 27.852509 31.435591 27.852509 31.435591 27.852509 \nC 31.435591 27.852509 31.435591 27.852509 31.435591 27.852509 \nC 31.435591 27.852509 31.435591 27.852509 31.435591 27.852509 \nC 31.435591 27.852509 31.435591 27.852509 31.435591 27.852509 \nC 31.435591 27.852509 31.435591 27.852509 31.435591 27.852509 \nC 31.435591 27.852509 31.435591 27.852509 31.435591 27.852509 \nC 31.435591 27.852509 31.435591 27.852509 31.435591 27.852509 \nC 31.435591 27.852509 31.435591 27.852509 31.435591 27.852509 \nz\n\" clip-path=\"url(#pc9deb413dc)\" style=\"fill: #ffffff\"/>\n   </g>\n   <g id=\"patch_3\">\n    <path d=\"M 330.372149 15.426796 \nC 330.372149 15.426796 330.372149 15.426796 330.372149 15.426796 \nC 330.372149 15.426796 330.372149 15.426796 330.372149 15.426796 \nC 330.372149 15.426796 330.372149 15.426796 330.372149 15.426796 \nC 330.372149 15.426796 330.372149 15.426796 330.372149 15.426796 \nC 330.372149 15.426796 330.372149 15.426796 330.372149 15.426796 \nC 330.372149 15.426796 330.372149 15.426796 330.372149 15.426796 \nC 330.372149 15.426796 330.372149 15.426796 330.372149 15.426796 \nC 330.372149 15.426796 330.372149 15.426796 330.372149 15.426796 \nz\n\" clip-path=\"url(#pc9deb413dc)\" style=\"fill: #ffffff\"/>\n   </g>\n   <g id=\"patch_4\">\n    <path d=\"M 331.009756 42.199382 \nC 334.44616 42.199382 337.742281 40.834084 340.172185 38.40418 \nC 342.602089 35.974275 343.967387 32.678155 343.967387 29.241751 \nC 343.967387 25.805347 342.602089 22.509227 340.172185 20.079323 \nC 337.742281 17.649418 334.44616 16.284121 331.009756 16.284121 \nC 327.573353 16.284121 324.277232 17.649418 321.847328 20.079323 \nC 319.417423 22.509227 318.052126 25.805347 318.052126 29.241751 \nC 318.052126 32.678155 319.417423 35.974275 321.847328 38.40418 \nC 324.277232 40.834084 327.573353 42.199382 331.009756 42.199382 \nz\n\" clip-path=\"url(#pc9deb413dc)\" style=\"fill: #737880; stroke: #5d6167; stroke-width: 1.944064; stroke-linejoin: miter\"/>\n   </g>\n   <g id=\"patch_5\">\n    <path d=\"M 31.28125 34.770383 \nC 34.717654 34.770383 38.013774 33.405085 40.443679 30.97518 \nC 42.873583 28.545276 44.238881 25.249156 44.238881 21.812752 \nC 44.238881 18.376348 42.873583 15.080228 40.443679 12.650323 \nC 38.013774 10.220419 34.717654 8.855121 31.28125 8.855121 \nC 27.844846 8.855121 24.548726 10.220419 22.118821 12.650323 \nC 19.688917 15.080228 18.323619 18.376348 18.323619 21.812752 \nC 18.323619 25.249156 19.688917 28.545276 22.118821 30.97518 \nC 24.548726 33.405085 27.844846 34.770383 31.28125 34.770383 \nz\n\" clip-path=\"url(#pc9deb413dc)\" style=\"fill: #737880; stroke: #5d6167; stroke-width: 1.944064; stroke-linejoin: miter\"/>\n   </g>\n   <g id=\"patch_6\">\n    <path d=\"M 330.530236 35.298562 \nC 333.96664 35.298562 337.262761 33.933264 339.692665 31.503359 \nC 342.12257 29.073455 343.487867 25.777335 343.487867 22.340931 \nC 343.487867 18.904527 342.12257 15.608407 339.692665 13.178502 \nC 337.262761 10.748598 333.96664 9.3833 330.530236 9.3833 \nC 327.093833 9.3833 323.797712 10.748598 321.367808 13.178502 \nC 318.937903 15.608407 317.572606 18.904527 317.572606 22.340931 \nC 317.572606 25.777335 318.937903 29.073455 321.367808 31.503359 \nC 323.797712 33.933264 327.093833 35.298562 330.530236 35.298562 \nz\n\" clip-path=\"url(#pc9deb413dc)\" style=\"fill: #737880; stroke: #5d6167; stroke-width: 1.944064; stroke-linejoin: miter\"/>\n   </g>\n   <g id=\"text_1\">\n    <!-- k1 -->\n    <g style=\"fill: #545759\" transform=\"translate(27.221372 29.802665) scale(0.07 -0.07)\">\n     <defs>\n      <path id=\"DejaVuSansMono-6b\" d=\"M 738 4863 \nL 1331 4863 \nL 1331 2047 \nL 2841 3500 \nL 3541 3500 \nL 2163 2181 \nL 3756 0 \nL 3053 0 \nL 1759 1806 \nL 1331 1403 \nL 1331 0 \nL 738 0 \nL 738 4863 \nz\n\" transform=\"scale(0.015625)\"/>\n      <path id=\"DejaVuSansMono-31\" d=\"M 844 531 \nL 1825 531 \nL 1825 4097 \nL 769 3859 \nL 769 4434 \nL 1819 4666 \nL 2450 4666 \nL 2450 531 \nL 3419 531 \nL 3419 0 \nL 844 0 \nL 844 531 \nz\n\" transform=\"scale(0.015625)\"/>\n     </defs>\n     <use xlink:href=\"#DejaVuSansMono-6b\"/>\n     <use xlink:href=\"#DejaVuSansMono-31\" x=\"60.205078\"/>\n    </g>\n   </g>\n   <g id=\"text_2\">\n    <!-- k0 -->\n    <g style=\"fill: #545759\" transform=\"translate(326.15793 17.376952) scale(0.07 -0.07)\">\n     <defs>\n      <path id=\"DejaVuSansMono-30\" d=\"M 1509 2344 \nQ 1509 2516 1629 2641 \nQ 1750 2766 1919 2766 \nQ 2094 2766 2219 2641 \nQ 2344 2516 2344 2344 \nQ 2344 2169 2220 2047 \nQ 2097 1925 1919 1925 \nQ 1744 1925 1626 2044 \nQ 1509 2163 1509 2344 \nz\nM 1925 4250 \nQ 1484 4250 1267 3775 \nQ 1050 3300 1050 2328 \nQ 1050 1359 1267 884 \nQ 1484 409 1925 409 \nQ 2369 409 2586 884 \nQ 2803 1359 2803 2328 \nQ 2803 3300 2586 3775 \nQ 2369 4250 1925 4250 \nz\nM 1925 4750 \nQ 2672 4750 3055 4137 \nQ 3438 3525 3438 2328 \nQ 3438 1134 3055 521 \nQ 2672 -91 1925 -91 \nQ 1178 -91 797 521 \nQ 416 1134 416 2328 \nQ 416 3525 797 4137 \nQ 1178 4750 1925 4750 \nz\n\" transform=\"scale(0.015625)\"/>\n     </defs>\n     <use xlink:href=\"#DejaVuSansMono-6b\"/>\n     <use xlink:href=\"#DejaVuSansMono-30\" x=\"60.205078\"/>\n    </g>\n   </g>\n   <g id=\"text_3\">\n    <!-- I0, PSI0 -->\n    <g style=\"fill: #545759\" transform=\"translate(306.928506 32.027689) scale(0.1 -0.1)\">\n     <defs>\n      <path id=\"DejaVuSansMono-49\" d=\"M 628 4666 \nL 3219 4666 \nL 3219 4134 \nL 2241 4134 \nL 2241 531 \nL 3219 531 \nL 3219 0 \nL 628 0 \nL 628 531 \nL 1606 531 \nL 1606 4134 \nL 628 4134 \nL 628 4666 \nz\n\" transform=\"scale(0.015625)\"/>\n      <path id=\"DejaVuSansMono-2c\" d=\"M 1569 947 \nL 2356 947 \nL 2356 300 \nL 1741 -897 \nL 1259 -897 \nL 1569 300 \nL 1569 947 \nz\n\" transform=\"scale(0.015625)\"/>\n      <path id=\"DejaVuSansMono-20\" transform=\"scale(0.015625)\"/>\n      <path id=\"DejaVuSansMono-50\" d=\"M 1247 4147 \nL 1247 2394 \nL 1978 2394 \nQ 2416 2394 2661 2625 \nQ 2906 2856 2906 3272 \nQ 2906 3688 2662 3917 \nQ 2419 4147 1978 4147 \nL 1247 4147 \nz\nM 616 4666 \nL 1978 4666 \nQ 2759 4666 3162 4311 \nQ 3566 3956 3566 3272 \nQ 3566 2581 3164 2228 \nQ 2763 1875 1978 1875 \nL 1247 1875 \nL 1247 0 \nL 616 0 \nL 616 4666 \nz\n\" transform=\"scale(0.015625)\"/>\n      <path id=\"DejaVuSansMono-53\" d=\"M 3163 4506 \nL 3163 3866 \nQ 2875 4050 2586 4144 \nQ 2297 4238 2003 4238 \nQ 1556 4238 1297 4030 \nQ 1038 3822 1038 3469 \nQ 1038 3159 1208 2996 \nQ 1378 2834 1844 2725 \nL 2175 2650 \nQ 2831 2497 3131 2169 \nQ 3431 1841 3431 1275 \nQ 3431 609 3018 259 \nQ 2606 -91 1819 -91 \nQ 1491 -91 1159 -20 \nQ 828 50 494 191 \nL 494 863 \nQ 853 634 1173 528 \nQ 1494 422 1819 422 \nQ 2297 422 2562 636 \nQ 2828 850 2828 1234 \nQ 2828 1584 2645 1768 \nQ 2463 1953 2009 2053 \nL 1672 2131 \nQ 1022 2278 728 2575 \nQ 434 2872 434 3372 \nQ 434 3997 854 4373 \nQ 1275 4750 1972 4750 \nQ 2241 4750 2537 4689 \nQ 2834 4628 3163 4506 \nz\n\" transform=\"scale(0.015625)\"/>\n     </defs>\n     <use xlink:href=\"#DejaVuSansMono-49\"/>\n     <use xlink:href=\"#DejaVuSansMono-30\" x=\"60.205078\"/>\n     <use xlink:href=\"#DejaVuSansMono-2c\" x=\"120.410156\"/>\n     <use xlink:href=\"#DejaVuSansMono-20\" x=\"180.615234\"/>\n     <use xlink:href=\"#DejaVuSansMono-50\" x=\"240.820312\"/>\n     <use xlink:href=\"#DejaVuSansMono-53\" x=\"301.025391\"/>\n     <use xlink:href=\"#DejaVuSansMono-49\" x=\"361.230469\"/>\n     <use xlink:href=\"#DejaVuSansMono-30\" x=\"421.435547\"/>\n    </g>\n   </g>\n   <g id=\"text_4\">\n    <!-- I1, PSI0 -->\n    <g style=\"fill: #545759\" transform=\"translate(7.2 24.598689) scale(0.1 -0.1)\">\n     <use xlink:href=\"#DejaVuSansMono-49\"/>\n     <use xlink:href=\"#DejaVuSansMono-31\" x=\"60.205078\"/>\n     <use xlink:href=\"#DejaVuSansMono-2c\" x=\"120.410156\"/>\n     <use xlink:href=\"#DejaVuSansMono-20\" x=\"180.615234\"/>\n     <use xlink:href=\"#DejaVuSansMono-50\" x=\"240.820312\"/>\n     <use xlink:href=\"#DejaVuSansMono-53\" x=\"301.025391\"/>\n     <use xlink:href=\"#DejaVuSansMono-49\" x=\"361.230469\"/>\n     <use xlink:href=\"#DejaVuSansMono-30\" x=\"421.435547\"/>\n    </g>\n   </g>\n   <g id=\"text_5\">\n    <!-- GATE_0, X, I0 -->\n    <g style=\"fill: #545759\" transform=\"translate(291.398205 24.872962) scale(0.1 -0.1)\">\n     <defs>\n      <path id=\"DejaVuSansMono-47\" d=\"M 3450 384 \nQ 3197 150 2880 29 \nQ 2563 -91 2194 -91 \nQ 1306 -91 812 545 \nQ 319 1181 319 2328 \nQ 319 3472 819 4111 \nQ 1319 4750 2209 4750 \nQ 2503 4750 2772 4667 \nQ 3041 4584 3291 4416 \nL 3291 3769 \nQ 3038 4009 2772 4123 \nQ 2506 4238 2209 4238 \nQ 1594 4238 1286 3761 \nQ 978 3284 978 2328 \nQ 978 1356 1276 889 \nQ 1575 422 2194 422 \nQ 2403 422 2561 470 \nQ 2719 519 2847 622 \nL 2847 1875 \nL 2169 1875 \nL 2169 2394 \nL 3450 2394 \nL 3450 384 \nz\n\" transform=\"scale(0.015625)\"/>\n      <path id=\"DejaVuSansMono-41\" d=\"M 1925 4109 \nL 1259 1722 \nL 2591 1722 \nL 1925 4109 \nz\nM 1544 4666 \nL 2309 4666 \nL 3738 0 \nL 3084 0 \nL 2741 1216 \nL 1106 1216 \nL 769 0 \nL 116 0 \nL 1544 4666 \nz\n\" transform=\"scale(0.015625)\"/>\n      <path id=\"DejaVuSansMono-54\" d=\"M 147 4666 \nL 3706 4666 \nL 3706 4134 \nL 2247 4134 \nL 2247 0 \nL 1613 0 \nL 1613 4134 \nL 147 4134 \nL 147 4666 \nz\n\" transform=\"scale(0.015625)\"/>\n      <path id=\"DejaVuSansMono-45\" d=\"M 616 4666 \nL 3384 4666 \nL 3384 4134 \nL 1247 4134 \nL 1247 2753 \nL 3291 2753 \nL 3291 2222 \nL 1247 2222 \nL 1247 531 \nL 3444 531 \nL 3444 0 \nL 616 0 \nL 616 4666 \nz\n\" transform=\"scale(0.015625)\"/>\n      <path id=\"DejaVuSansMono-5f\" d=\"M 3853 -1259 \nL 3853 -1509 \nL 0 -1509 \nL 0 -1259 \nL 3853 -1259 \nz\n\" transform=\"scale(0.015625)\"/>\n      <path id=\"DejaVuSansMono-58\" d=\"M 269 4666 \nL 947 4666 \nL 1972 2906 \nL 3016 4666 \nL 3694 4666 \nL 2297 2472 \nL 3794 0 \nL 3116 0 \nL 1972 2009 \nL 738 0 \nL 56 0 \nL 1619 2472 \nL 269 4666 \nz\n\" transform=\"scale(0.015625)\"/>\n     </defs>\n     <use xlink:href=\"#DejaVuSansMono-47\"/>\n     <use xlink:href=\"#DejaVuSansMono-41\" x=\"60.205078\"/>\n     <use xlink:href=\"#DejaVuSansMono-54\" x=\"120.410156\"/>\n     <use xlink:href=\"#DejaVuSansMono-45\" x=\"180.615234\"/>\n     <use xlink:href=\"#DejaVuSansMono-5f\" x=\"240.820312\"/>\n     <use xlink:href=\"#DejaVuSansMono-30\" x=\"301.025391\"/>\n     <use xlink:href=\"#DejaVuSansMono-2c\" x=\"361.230469\"/>\n     <use xlink:href=\"#DejaVuSansMono-20\" x=\"421.435547\"/>\n     <use xlink:href=\"#DejaVuSansMono-58\" x=\"481.640625\"/>\n     <use xlink:href=\"#DejaVuSansMono-2c\" x=\"541.845703\"/>\n     <use xlink:href=\"#DejaVuSansMono-20\" x=\"602.050781\"/>\n     <use xlink:href=\"#DejaVuSansMono-49\" x=\"662.255859\"/>\n     <use xlink:href=\"#DejaVuSansMono-30\" x=\"722.460938\"/>\n    </g>\n   </g>\n  </g>\n </g>\n <defs>\n  <clipPath id=\"pc9deb413dc\">\n   <rect x=\"13.745503\" y=\"7.2\" width=\"334.8\" height=\"36.654503\"/>\n  </clipPath>\n </defs>\n</svg>\n"
          },
          "metadata": {
            "needs_background": "light"
          }
        },
        {
          "output_type": "execute_result",
          "data": {
            "text/plain": [
              "array([[0.+0.j],\n",
              "       [0.+0.j],\n",
              "       [1.+0.j],\n",
              "       [0.+0.j]])"
            ]
          },
          "metadata": {},
          "execution_count": 70
        }
      ]
    },
    {
      "cell_type": "code",
      "source": [
        "#Dot product to get the expectation value\n",
        "\n",
        "array = np.array([\n",
        "    [0.+0.j, 0.+0.j, 1.+0.j, 0.+0.j]\n",
        "\n",
        "])\n",
        "array1 = np.transpose(array1)\n",
        "array2 = np.array([[0.        -2.29934717e-17j],\n",
        "       [0.        +0.00000000e+00j],\n",
        "       [0.70710678+7.07106781e-01j],\n",
        "       [0.        +0.00000000e+00j]])\n",
        "\n",
        "product_value = np.dot(array1, array2)\n",
        "\n",
        "print(product_value)"
      ],
      "metadata": {
        "colab": {
          "base_uri": "https://localhost:8080/"
        },
        "id": "UT4EfxRqH63A",
        "outputId": "5c6a0290-a894-4a25-e3a5-38efc4fe0e34"
      },
      "execution_count": 71,
      "outputs": [
        {
          "output_type": "stream",
          "name": "stdout",
          "text": [
            "[[0.70710678+0.70710678j]]\n"
          ]
        }
      ]
    },
    {
      "cell_type": "code",
      "source": [],
      "metadata": {
        "id": "vEpugPoEIi3Y"
      },
      "execution_count": null,
      "outputs": []
    }
  ]
}