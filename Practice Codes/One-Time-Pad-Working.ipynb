{
 "cells": [
  {
   "cell_type": "code",
   "execution_count": null,
   "metadata": {},
   "outputs": [],
   "source": [
    "#To demonstrate about the Shanon Theory of perfect sercrecy we have the option to implement the One Time Pad\n",
    "#Or the OTP Symmetric Encryption Technique"
   ]
  },
  {
   "cell_type": "markdown",
   "metadata": {},
   "source": [
    "The theorem says that suppose we have three parameters <br/>\n",
    "$|K|$, $|M|$, $|C|$ which are sequentially possible number of Keys, Messages and Cipher Texts\n",
    "In this regard, suppose $|K| = |M| = |C|$ then we would be having a perfect secrecy if and only if:<br/> \n",
    "\n",
    "\n",
    "- we have each key distributed with a equal probability $\\frac{1}{K}$\n",
    "- For every text message $M$ and Cipher Text $C$, there exists an unique K such that $E_{K}(M) = C $\n",
    "\n"
   ]
  },
  {
   "cell_type": "markdown",
   "metadata": {},
   "source": [
    "We will be using the XOR operator as the operation to generate the cipher text from the message and the cipher text. Why is so? Because it works as the modulo operator which can be encoded in this way and moreover the XOR operator wraps the Key to the Text message."
   ]
  },
  {
   "cell_type": "markdown",
   "metadata": {},
   "source": [
    "As in our case we are considering the Binary strings for all the general purpose so considering suppose we have 2 bit string texts in that case we have 4 possibilities {$00,01,10,11$}. Hence for a message M for n bit string length we will have $\\frac{1}{2^n}$ possibilities for the key K, which is truly random"
   ]
  },
  {
   "cell_type": "code",
   "execution_count": 2,
   "metadata": {},
   "outputs": [
    {
     "name": "stdout",
     "output_type": "stream",
     "text": [
      "The original string is: Jyotiraj Nath\n",
      "The words after binary conversion: ['0100101001111001011011110111010001101001011100100110000101101010', '01001110011000010111010001101000']\n"
     ]
    }
   ],
   "source": [
    "#Let's define a function which changes the characters to Binary digits which we can then encrypt\n",
    "\n",
    "def text_to_binary_list(input_text):\n",
    "\n",
    "    # Split the input text into words\n",
    "    words = input_text.split()\n",
    "    \n",
    "    # Convert each word to binary\n",
    "    binary_words = []\n",
    "    for word in words:\n",
    "        binary_word = ''.join(format(ord(char), '08b') for char in word)\n",
    "        binary_words.append(binary_word)\n",
    "    \n",
    "    return binary_words\n",
    "\n",
    "# Example usage:\n",
    "test_str = input(\"Enter the text you want to change to binary text: \")\n",
    "result = text_to_binary_list(test_str)\n",
    "print(\"The original string is:\", test_str)\n",
    "print(\"The words after binary conversion:\", result)"
   ]
  },
  {
   "cell_type": "markdown",
   "metadata": {},
   "source": [
    "Thus we made a function which has the ability to change the normal text message to binary message"
   ]
  },
  {
   "cell_type": "code",
   "execution_count": 7,
   "metadata": {},
   "outputs": [
    {
     "name": "stdout",
     "output_type": "stream",
     "text": [
      "The original string is: Jyotiraj Nath is the best\n",
      "Word 1:\n",
      "Binary Text: 0100101001111001011011110111010001101001011100100110000101101010\n",
      "Key: 0001101000111100001010010000011010101110111100011001110001110111\n",
      "Ciphertext: 0101000001000101010001100111001011000111100000111111110100011101\n",
      "\n",
      "Word 2:\n",
      "Binary Text: 01001110011000010111010001101000\n",
      "Key: 00001011110100111100100101100000\n",
      "Ciphertext: 01000101101100101011110100001000\n",
      "\n",
      "Word 3:\n",
      "Binary Text: 0110100101110011\n",
      "Key: 0001000010100000\n",
      "Ciphertext: 0111100111010011\n",
      "\n",
      "Word 4:\n",
      "Binary Text: 011101000110100001100101\n",
      "Key: 110110010000111100001011\n",
      "Ciphertext: 101011010110011101101110\n",
      "\n",
      "Word 5:\n",
      "Binary Text: 01100010011001010111001101110100\n",
      "Key: 01110100001101010010110001001011\n",
      "Ciphertext: 00010110010100000101111100111111\n",
      "\n",
      "Decrypted message: Jyotiraj Nath is the best\n"
     ]
    }
   ],
   "source": [
    "#Now the next step for our encryption is that we have to generate key for each message such that the length of the binary message\n",
    "#matches with the generated key\n",
    "import random\n",
    "\n",
    "def generate_random_key(length):\n",
    "    return ''.join(str(random.randint(0, 1)) for _ in range(length))\n",
    "\n",
    "def binary_to_int(binary_str):\n",
    "    return int(binary_str, 2)\n",
    "\n",
    "def int_to_binary(integer, length):\n",
    "    return bin(integer)[2:].zfill(length)\n",
    "\n",
    "def binary_to_text(binary_str):\n",
    "    chars = [chr(int(binary_str[i:i+8], 2)) for i in range(0, len(binary_str), 8)]\n",
    "    return ''.join(chars)\n",
    "\n",
    "def encrypt_binary_text(binary_text):\n",
    "    binary_length = len(binary_text)\n",
    "    key = generate_random_key(binary_length)\n",
    "    binary_int = binary_to_int(binary_text)\n",
    "    key_int = binary_to_int(key)\n",
    "    ciphertext_int = binary_int ^ key_int\n",
    "    ciphertext = int_to_binary(ciphertext_int, binary_length)\n",
    "    return key, ciphertext\n",
    "\n",
    "def decrypt_binary_text(ciphertext, key):\n",
    "    ciphertext_int = binary_to_int(ciphertext)\n",
    "    key_int = binary_to_int(key)\n",
    "    decrypted_int = ciphertext_int ^ key_int\n",
    "    decrypted_text = int_to_binary(decrypted_int, len(ciphertext))\n",
    "    return decrypted_text\n",
    "\n",
    "def main():\n",
    "    test_str = input(\"Enter the text you want to change to binary text: \")\n",
    "    binary_list = text_to_binary_list(test_str)\n",
    "    \n",
    "    encrypted_list = []\n",
    "    keys = []\n",
    "    \n",
    "    print(\"The original string is:\", test_str)\n",
    "    \n",
    "    for idx, binary_text in enumerate(binary_list):\n",
    "        key, ciphertext = encrypt_binary_text(binary_text)\n",
    "        encrypted_list.append(ciphertext)\n",
    "        keys.append(key)\n",
    "        print(f\"Word {idx + 1}:\")\n",
    "        print(f\"Binary Text: {binary_text}\")\n",
    "        print(f\"Key: {key}\")\n",
    "        print(f\"Ciphertext: {ciphertext}\")\n",
    "        print()\n",
    "    \n",
    "    decrypted_list = [binary_to_text(decrypt_binary_text(ciphertext, key)) for ciphertext, key in zip(encrypted_list, keys)]\n",
    "    decrypted_message = ' '.join(decrypted_list)\n",
    "    \n",
    "    print(\"Decrypted message:\", decrypted_message)\n",
    "\n",
    "if __name__ == \"__main__\":\n",
    "    main()\n",
    "\n"
   ]
  }
 ],
 "metadata": {
  "kernelspec": {
   "display_name": "Python 3",
   "language": "python",
   "name": "python3"
  },
  "language_info": {
   "codemirror_mode": {
    "name": "ipython",
    "version": 3
   },
   "file_extension": ".py",
   "mimetype": "text/x-python",
   "name": "python",
   "nbconvert_exporter": "python",
   "pygments_lexer": "ipython3",
   "version": "3.11.1"
  }
 },
 "nbformat": 4,
 "nbformat_minor": 2
}
