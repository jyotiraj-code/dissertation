{
 "cells": [
  {
   "cell_type": "code",
   "execution_count": 9,
   "metadata": {},
   "outputs": [
    {
     "name": "stdout",
     "output_type": "stream",
     "text": [
      "The number a is:  11  at the counter:  1\n",
      "L:  5\n",
      "t:  18\n",
      "e:  0.1\n"
     ]
    }
   ],
   "source": [
    "#To implement the Shor's algoithm only using the optimized parameter values as given in the paper\n",
    "\n",
    "#Import\n",
    "from qiskit import QuantumCircuit, QuantumRegister, ClassicalRegister, transpile\n",
    "from qiskit.circuit.library import QFT\n",
    "from qiskit.visualization import plot_histogram\n",
    "from qiskit_aer import Aer\n",
    "import numpy as np\n",
    "import math\n",
    "from random import randrange\n",
    "\n",
    "N = 21 #Any desired composite number consiting of two prime numbers to be factorized\n",
    "\n",
    "#Choosing a random value for a\n",
    "\n",
    "counter = 0\n",
    "\n",
    "while True:\n",
    "    a = randrange(2,N)\n",
    "    counter += 1\n",
    "    if np.gcd(a,N) == 1:\n",
    "        break\n",
    "print(\"The number a is: \", a, \" at the counter: \", counter)\n",
    "\n",
    "\n",
    "#Choosing the best parameter values for the circuit\n",
    "\n",
    "from math import log2, ceil, pi\n",
    "e = 0.1\n",
    "\n",
    "L = ceil(log2(N))\n",
    "t = ceil(2*L + 1 + (2+ 1/(2*e)))\n",
    "\n",
    "print(\"L: \", L)\n",
    "print(\"t: \", t)\n",
    "print(\"e: \", e)\n",
    "\n",
    "#Following code block is taken as an inspiration\n",
    "#Binray representation \n",
    "# def toBinary(val):\n",
    "#     binary = ''\n",
    "#     loop = val\n",
    "\n",
    "#     while loop> 0:\n",
    "#         temp = loop % 2\n",
    "#         loop = loop // 2\n",
    "#         binary += str(temp)\n",
    "\n",
    "#     binary = binary[::-1]\n",
    "#     return binary\n",
    "\n",
    "#Integer representation\n",
    "# def toInteger(val: str): \n",
    "\n",
    "#     num = 0\n",
    "#     val = val[::-1]\n",
    "\n",
    "#     for i in range(len(val)):\n",
    "#         if val[i] == '0':\n",
    "#             continue\n",
    "\n",
    "#         else:\n",
    "#             num += 2**i\n",
    "#     return num\n",
    "\n",
    "#Unitary Gate opUx\n",
    "\n",
    "def opUx(a,power,N):\n",
    "    qreg1 = QuantumRegister(t,\"qreg1\")\n",
    "    qreg2 = QuantumRegister(range(t,t+L),\"qreg2\")\n",
    "\n",
    "\n",
    "    for j in range(power):\n",
    "        for j in range(n-1, 0, -1):\n",
    "            \n",
    "\n",
    "\n"
   ]
  },
  {
   "cell_type": "code",
   "execution_count": 10,
   "metadata": {},
   "outputs": [
    {
     "ename": "CircuitError",
     "evalue": "\"Register size must be an integer. (range 'range(18, 23)' was provided)\"",
     "output_type": "error",
     "traceback": [
      "\u001b[1;31m---------------------------------------------------------------------------\u001b[0m",
      "\u001b[1;31mCircuitError\u001b[0m                              Traceback (most recent call last)",
      "Cell \u001b[1;32mIn[10], line 2\u001b[0m\n\u001b[0;32m      1\u001b[0m qreg1 \u001b[38;5;241m=\u001b[39m QuantumRegister(t,\u001b[38;5;124m\"\u001b[39m\u001b[38;5;124mqreg1\u001b[39m\u001b[38;5;124m\"\u001b[39m)\n\u001b[1;32m----> 2\u001b[0m qreg2 \u001b[38;5;241m=\u001b[39m \u001b[43mQuantumRegister\u001b[49m\u001b[43m(\u001b[49m\u001b[38;5;28;43mrange\u001b[39;49m\u001b[43m(\u001b[49m\u001b[43mt\u001b[49m\u001b[43m,\u001b[49m\u001b[43mt\u001b[49m\u001b[38;5;241;43m+\u001b[39;49m\u001b[43mL\u001b[49m\u001b[43m)\u001b[49m\u001b[43m,\u001b[49m\u001b[38;5;124;43m\"\u001b[39;49m\u001b[38;5;124;43mqreg2\u001b[39;49m\u001b[38;5;124;43m\"\u001b[39;49m\u001b[43m)\u001b[49m\n\u001b[0;32m      4\u001b[0m creg \u001b[38;5;241m=\u001b[39m ClassicalRegister(\u001b[38;5;241m2\u001b[39m\u001b[38;5;241m*\u001b[39mL \u001b[38;5;241m+\u001b[39m \u001b[38;5;241m1\u001b[39m, \u001b[38;5;124m\"\u001b[39m\u001b[38;5;124mcreg\u001b[39m\u001b[38;5;124m\"\u001b[39m)\n\u001b[0;32m      6\u001b[0m qc \u001b[38;5;241m=\u001b[39m QuantumCircuit(qreg1, qreg2, creg)\n",
      "File \u001b[1;32mc:\\Users\\jrnat\\AppData\\Local\\Programs\\Python\\Python311\\Lib\\site-packages\\qiskit\\circuit\\register.py:83\u001b[0m, in \u001b[0;36mRegister.__init__\u001b[1;34m(self, size, name, bits)\u001b[0m\n\u001b[0;32m     80\u001b[0m     valid_size \u001b[38;5;241m=\u001b[39m \u001b[38;5;28;01mFalse\u001b[39;00m\n\u001b[0;32m     82\u001b[0m \u001b[38;5;28;01mif\u001b[39;00m \u001b[38;5;129;01mnot\u001b[39;00m valid_size:\n\u001b[1;32m---> 83\u001b[0m     \u001b[38;5;28;01mraise\u001b[39;00m CircuitError(\n\u001b[0;32m     84\u001b[0m         \u001b[38;5;124m\"\u001b[39m\u001b[38;5;124mRegister size must be an integer. (\u001b[39m\u001b[38;5;132;01m%s\u001b[39;00m\u001b[38;5;124m \u001b[39m\u001b[38;5;124m'\u001b[39m\u001b[38;5;132;01m%s\u001b[39;00m\u001b[38;5;124m'\u001b[39m\u001b[38;5;124m was provided)\u001b[39m\u001b[38;5;124m\"\u001b[39m\n\u001b[0;32m     85\u001b[0m         \u001b[38;5;241m%\u001b[39m (\u001b[38;5;28mtype\u001b[39m(size)\u001b[38;5;241m.\u001b[39m\u001b[38;5;18m__name__\u001b[39m, size)\n\u001b[0;32m     86\u001b[0m     )\n\u001b[0;32m     87\u001b[0m size \u001b[38;5;241m=\u001b[39m \u001b[38;5;28mint\u001b[39m(size)  \u001b[38;5;66;03m# cast to int\u001b[39;00m\n\u001b[0;32m     89\u001b[0m \u001b[38;5;28;01mif\u001b[39;00m size \u001b[38;5;241m<\u001b[39m \u001b[38;5;241m0\u001b[39m:\n",
      "\u001b[1;31mCircuitError\u001b[0m: \"Register size must be an integer. (range 'range(18, 23)' was provided)\""
     ]
    }
   ],
   "source": [
    "qreg1 = QuantumRegister(t,\"qreg1\")\n",
    "qreg2 = QuantumRegister(range(t,t+L),\"qreg2\")\n",
    "\n",
    "creg = ClassicalRegister(2*L + 1, \"creg\")\n",
    "\n",
    "qc = QuantumCircuit(qreg1, qreg2, creg)\n",
    "\n",
    "qc.draw(output='mpl')"
   ]
  },
  {
   "cell_type": "code",
   "execution_count": null,
   "metadata": {},
   "outputs": [],
   "source": []
  }
 ],
 "metadata": {
  "kernelspec": {
   "display_name": "Python 3",
   "language": "python",
   "name": "python3"
  },
  "language_info": {
   "codemirror_mode": {
    "name": "ipython",
    "version": 3
   },
   "file_extension": ".py",
   "mimetype": "text/x-python",
   "name": "python",
   "nbconvert_exporter": "python",
   "pygments_lexer": "ipython3",
   "version": "3.11.1"
  }
 },
 "nbformat": 4,
 "nbformat_minor": 2
}
