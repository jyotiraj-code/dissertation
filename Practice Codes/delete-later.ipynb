{
 "cells": [
  {
   "cell_type": "code",
   "execution_count": 1,
   "metadata": {},
   "outputs": [
    {
     "data": {
      "text/plain": [
       "'1.1.0'"
      ]
     },
     "execution_count": 1,
     "metadata": {},
     "output_type": "execute_result"
    }
   ],
   "source": [
    "import qiskit\n",
    "\n",
    "qiskit.__version__"
   ]
  },
  {
   "cell_type": "code",
   "execution_count": 17,
   "metadata": {},
   "outputs": [
    {
     "name": "stdout",
     "output_type": "stream",
     "text": [
      "Statevector([0.70710678+0.j, 0.5       +0.j, 0.5       +0.j,\n",
      "             0.        +0.j],\n",
      "            dims=(2, 2))\n"
     ]
    }
   ],
   "source": [
    "from qiskit import QuantumCircuit\n",
    "\n",
    "\n",
    "def solve() -> QuantumCircuit:\n",
    "    qc = QuantumCircuit(2)\n",
    "    # Define the coefficient\n",
    "    qc.h(0)\n",
    "    qc.ch(0, 1)\n",
    "    qc.cx(1, 0)\n",
    "\n",
    "    qc.remove_final_measurements()  # no measurements allowed\n",
    "    from qiskit.quantum_info import Statevector\n",
    "    statevector = Statevector(qc)\n",
    "\n",
    "\n",
    "    return statevector\n",
    "\n",
    "print(solve())\n",
    "\n"
   ]
  },
  {
   "cell_type": "code",
   "execution_count": 18,
   "metadata": {},
   "outputs": [
    {
     "name": "stdout",
     "output_type": "stream",
     "text": [
      "Statevector([0.57735027+0.j, 0.57735027+0.j, 0.57735027+0.j,\n",
      "             0.        +0.j],\n",
      "            dims=(2, 2))\n"
     ]
    }
   ],
   "source": [
    "#To solve the 1/sqrt(3) (|0> + |1> + |2>) state\n",
    "\n",
    "\"\"\"\n",
    "This time we need to make use of the rotation opreators\n",
    "\"\"\"\n",
    "\n",
    "from qiskit import QuantumCircuit\n",
    "from math import atan, sqrt\n",
    "\n",
    "def solve() -> QuantumCircuit:\n",
    "    qc = QuantumCircuit(2)\n",
    "\n",
    "    theta = 2*atan(sqrt(2))\n",
    "\n",
    "    qc.ry(theta, 0)\n",
    "    qc.ch(0,1)\n",
    "    qc.cx(1,0)\n",
    "    qc.remove_final_measurements()  # no measurements allowed\n",
    "    from qiskit.quantum_info import Statevector\n",
    "    statevector = Statevector(qc)\n",
    "\n",
    "\n",
    "\n",
    "    return statevector\n",
    "\n",
    "\n",
    "print(solve())\n",
    "\n"
   ]
  },
  {
   "cell_type": "code",
   "execution_count": 21,
   "metadata": {},
   "outputs": [
    {
     "name": "stdout",
     "output_type": "stream",
     "text": [
      "Statevector([1.+0.j, 0.+0.j, 0.+0.j, 0.+0.j],\n",
      "            dims=(2, 2))\n"
     ]
    }
   ],
   "source": [
    "#Problem is to generate the state 1/sqrt(3) (|0> + |1> + |2>)\n",
    "\n",
    "\"\"\"\n",
    "If we look at the implementation of the problem oracle\n",
    "it is basically a XOR operator which is working\n",
    "as a the oracle function and looking the table of it\n",
    "we can guess that it will be a basic implementation of the\n",
    "CNOT operator in qiskit\n",
    "\n",
    "\"\"\"\n",
    "\n",
    "from qiskit import QuantumCircuit, QuantumRegister\n",
    " \n",
    " \n",
    "def solve() -> QuantumCircuit:\n",
    "    x, y = QuantumRegister(1), QuantumRegister(1)\n",
    "    qc = QuantumCircuit(x, y)\n",
    "    # Write your code here:\n",
    "    qc.cx(x,y)\n",
    " \n",
    "    qc.remove_final_measurements()  # no measurements allowed\n",
    "    from qiskit.quantum_info import Statevector\n",
    "    statevector = Statevector(qc)\n",
    "\n",
    "\n",
    "\n",
    "    return statevector\n",
    "\n",
    "\n",
    "print(solve())"
   ]
  },
  {
   "cell_type": "code",
   "execution_count": 23,
   "metadata": {},
   "outputs": [
    {
     "name": "stdout",
     "output_type": "stream",
     "text": [
      "Statevector([1.+0.j, 0.+0.j, 0.+0.j, 0.+0.j, 0.+0.j, 0.+0.j, 0.+0.j,\n",
      "             0.+0.j, 0.+0.j, 0.+0.j, 0.+0.j, 0.+0.j, 0.+0.j, 0.+0.j,\n",
      "             0.+0.j, 0.+0.j, 0.+0.j, 0.+0.j, 0.+0.j, 0.+0.j, 0.+0.j,\n",
      "             0.+0.j, 0.+0.j, 0.+0.j, 0.+0.j, 0.+0.j, 0.+0.j, 0.+0.j,\n",
      "             0.+0.j, 0.+0.j, 0.+0.j, 0.+0.j, 0.+0.j, 0.+0.j, 0.+0.j,\n",
      "             0.+0.j, 0.+0.j, 0.+0.j, 0.+0.j, 0.+0.j, 0.+0.j, 0.+0.j,\n",
      "             0.+0.j, 0.+0.j, 0.+0.j, 0.+0.j, 0.+0.j, 0.+0.j, 0.+0.j,\n",
      "             0.+0.j, 0.+0.j, 0.+0.j, 0.+0.j, 0.+0.j, 0.+0.j, 0.+0.j,\n",
      "             0.+0.j, 0.+0.j, 0.+0.j, 0.+0.j, 0.+0.j, 0.+0.j, 0.+0.j,\n",
      "             0.+0.j],\n",
      "            dims=(2, 2, 2, 2, 2, 2))\n"
     ]
    }
   ],
   "source": [
    "from qiskit import QuantumCircuit, QuantumRegister\n",
    " \n",
    " \n",
    "def solve(n: int) -> QuantumCircuit:\n",
    "    x, y = QuantumRegister(n), QuantumRegister(1)\n",
    "    qc = QuantumCircuit(x, y)\n",
    "    # Write your code here:\n",
    "    for i in range(n):\n",
    "        qc.cx(i,y)\n",
    " \n",
    "    qc.remove_final_measurements()  # no measurements allowed\n",
    "    from qiskit.quantum_info import Statevector\n",
    "    statevector = Statevector(qc)\n",
    "\n",
    "\n",
    "\n",
    "    return statevector\n",
    "\n",
    "\n",
    "print(solve(5))"
   ]
  },
  {
   "cell_type": "code",
   "execution_count": null,
   "metadata": {},
   "outputs": [],
   "source": []
  }
 ],
 "metadata": {
  "kernelspec": {
   "display_name": "Python 3",
   "language": "python",
   "name": "python3"
  },
  "language_info": {
   "codemirror_mode": {
    "name": "ipython",
    "version": 3
   },
   "file_extension": ".py",
   "mimetype": "text/x-python",
   "name": "python",
   "nbconvert_exporter": "python",
   "pygments_lexer": "ipython3",
   "version": "3.11.1"
  }
 },
 "nbformat": 4,
 "nbformat_minor": 2
}
